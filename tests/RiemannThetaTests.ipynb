{
 "cells": [
  {
   "cell_type": "code",
   "execution_count": 1,
   "metadata": {},
   "outputs": [],
   "source": [
    "from rtbm.riemann_theta.riemann_theta import RiemannTheta\n",
    "\n",
    "import numpy as np\n",
    "import time"
   ]
  },
  {
   "cell_type": "markdown",
   "metadata": {},
   "source": [
    "# Phase I (mode 1)"
   ]
  },
  {
   "cell_type": "markdown",
   "metadata": {},
   "source": [
    "## RT @ g=1"
   ]
  },
  {
   "cell_type": "code",
   "execution_count": 12,
   "metadata": {},
   "outputs": [
    {
     "name": "stdout",
     "output_type": "stream",
     "text": [
      "0.00169\n",
      "0.001914\n",
      "Check:\n"
     ]
    },
    {
     "data": {
      "text/plain": [
       "0.0"
      ]
     },
     "execution_count": 12,
     "metadata": {},
     "output_type": "execute_result"
    }
   ],
   "source": [
    "# RT\n",
    "Q=np.zeros((1,1), dtype=complex)\n",
    "Q[0,0]=5j\n",
    "\n",
    "X = 1j*np.random.uniform(-10,10,(100,1))\n",
    "\n",
    "tic = time.clock()\n",
    "t1=RiemannTheta.log_eval(X,Q, mode=0)\n",
    "toc = time.clock()\n",
    "#print(t1)\n",
    "print(toc-tic)\n",
    "\n",
    "tic = time.clock()\n",
    "t2=RiemannTheta.log_eval(X,Q, mode=1)\n",
    "toc = time.clock()\n",
    "#print(t2)\n",
    "\n",
    "print(toc-tic)\n",
    "\n",
    "print(\"Check:\")\n",
    "x=t1-t2\n",
    "max(abs(x))"
   ]
  },
  {
   "cell_type": "markdown",
   "metadata": {},
   "source": [
    "## RT @ g=2"
   ]
  },
  {
   "cell_type": "code",
   "execution_count": null,
   "metadata": {},
   "outputs": [],
   "source": [
    "# RT\n",
    "# g = 2\n",
    "Q=np.zeros((2,2), dtype=complex)\n",
    "Q[0,0]=3j\n",
    "Q[1,1]=2j\n",
    "\n",
    "X1 = 1j*np.random.uniform(-999,500,(10000))\n",
    "X2 = 1j*np.random.uniform(-999,500,(10000))\n",
    "X = np.stack((X1,X2)).T\n",
    "\n",
    "tic = time.clock()\n",
    "t1=RiemannTheta.log_eval(X,Q, mode=0)\n",
    "toc = time.clock()\n",
    "print(t1)\n",
    "print(toc-tic)\n",
    "\n",
    "tic = time.clock()\n",
    "t2=RiemannTheta.log_eval(X,Q, mode=1)\n",
    "toc = time.clock()\n",
    "print(t2)\n",
    "\n",
    "print(toc-tic)\n",
    "\n",
    "x=t1-t2\n",
    "\n",
    "print(\"Check:\")\n",
    "print(x)\n",
    "print(max(abs(x)))\n"
   ]
  },
  {
   "cell_type": "markdown",
   "metadata": {},
   "source": [
    "## RT @ g=1, single derivative"
   ]
  },
  {
   "cell_type": "code",
   "execution_count": null,
   "metadata": {},
   "outputs": [],
   "source": [
    "# Derivatives\n",
    "tic = time.clock()\n",
    "t1=RiemannTheta.log_eval(X,Q, mode=0, derivs=[[1]])\n",
    "toc = time.clock()\n",
    "#print(t1)\n",
    "print(toc-tic)\n",
    "\n",
    "tic = time.clock()\n",
    "t2=RiemannTheta.log_eval(X,Q, mode=1, derivs=[[1]])\n",
    "toc = time.clock()\n",
    "#print(t2)\n",
    "\n",
    "print(toc-tic)\n",
    "\n",
    "x=t1-t2\n",
    "\n",
    "print(\"Check:\")\n",
    "max(abs(x))"
   ]
  },
  {
   "cell_type": "markdown",
   "metadata": {},
   "source": [
    "## RT @ g=1, single derivative, normalized"
   ]
  },
  {
   "cell_type": "code",
   "execution_count": null,
   "metadata": {},
   "outputs": [],
   "source": [
    "# Ratio \n",
    "# Derivatives\n",
    "tic = time.clock()\n",
    "t1=RiemannTheta.normalized_eval(X,Q, mode=0, derivs=[[1,1]])\n",
    "toc = time.clock()\n",
    "print(t1)\n",
    "print(toc-tic)\n",
    "\n",
    "tic = time.clock()\n",
    "t2=RiemannTheta.normalized_eval(X,Q, mode=1, derivs=[[1,1]])\n",
    "toc = time.clock()\n",
    "print(t2)\n",
    "\n",
    "print(toc-tic)\n",
    "\n",
    "x=t1-t2\n",
    "\n",
    "print(\"Check:\")\n",
    "\n",
    "max(abs(x))"
   ]
  },
  {
   "cell_type": "markdown",
   "metadata": {},
   "source": [
    "## RT @ g=1, multi-derivative, normalized"
   ]
  },
  {
   "cell_type": "code",
   "execution_count": null,
   "metadata": {},
   "outputs": [],
   "source": [
    "# Ratio\n",
    "# Multi-derivatives\n",
    "\n",
    "tic = time.clock()\n",
    "t1=RiemannTheta.normalized_eval(X,Q, mode=0, derivs=np.array( [ [1], [1,1], [1,1,1] ]  )   )\n",
    "toc = time.clock()\n",
    "print(t1)\n",
    "print(toc-tic)\n",
    "\n",
    "\n",
    "tic = time.clock()\n",
    "t2=RiemannTheta.normalized_eval(X,Q, mode=1, derivs=np.array( [ [1], [1,1], [1,1,1] ]  )   )\n",
    "toc = time.clock()\n",
    "print(t2)\n",
    "\n",
    "print(toc-tic)\n",
    "\n",
    "print(\"Check:\")\n",
    "\n",
    "x=t1-t2\n",
    "max(abs(x).flatten())"
   ]
  },
  {
   "cell_type": "markdown",
   "metadata": {},
   "source": [
    "## RT @ g=1, ratio"
   ]
  },
  {
   "cell_type": "code",
   "execution_count": 14,
   "metadata": {},
   "outputs": [
    {
     "name": "stdout",
     "output_type": "stream",
     "text": [
      "Check:\n",
      "[-1.58227671e-048+0.j -4.12274762e-060+0.j  5.18938856e-109+0.j\n",
      "  1.81375105e-039+0.j -1.23541382e-082+0.j -1.51461294e-027+0.j\n",
      "  0.00000000e+000+0.j  1.00395459e-076+0.j -3.78349796e-010+0.j\n",
      "  1.90734863e-006+0.j  6.50521303e-019+0.j -2.34187669e-017+0.j\n",
      " -4.72290468e-078+0.j  2.98704733e-059+0.j -4.43182974e-126+0.j\n",
      " -5.80000000e+001+0.j  2.83313059e-049+0.j -1.11022302e-016+0.j\n",
      " -1.30506089e-054+0.j -1.25055521e-012+0.j -5.85209544e-098+0.j\n",
      "  8.67361738e-019+0.j -1.62334719e-108+0.j  2.19250230e-052+0.j\n",
      "  4.65661287e-010+0.j -1.23403948e-040+0.j -3.31422824e-049+0.j\n",
      " -2.24307341e-055+0.j -1.37158487e-099+0.j -4.32059218e-112+0.j\n",
      "  7.85454954e-090+0.j -4.33680869e-019+0.j -2.77457096e-043+0.j\n",
      " -4.66981298e-114+0.j  1.98523347e-023+0.j  1.77635684e-014+0.j\n",
      " -3.48488856e-059+0.j  2.55590933e-028+0.j -7.48753198e-057+0.j\n",
      " -1.58818678e-022+0.j  1.54760141e-074+0.j  2.23517418e-008+0.j\n",
      " -6.76559202e-065+0.j -2.60208521e-018+0.j  1.96363739e-088+0.j\n",
      "  3.41060513e-013+0.j -2.03726813e-010+0.j -1.49077799e-019+0.j\n",
      "  2.92481718e-059+0.j  6.90320180e-113+0.j  8.38354458e-125+0.j\n",
      " -4.63221143e-023+0.j  2.49656543e-083+0.j -5.52202634e-030+0.j\n",
      "  2.03726813e-010+0.j  4.15816391e-112+0.j  1.21972744e-019+0.j\n",
      " -1.05097385e-044+0.j -9.30578189e-025+0.j  1.56945428e-043+0.j\n",
      " -2.37544099e-135+0.j -2.75506488e-040+0.j  5.46875000e-002+0.j\n",
      " -3.94605648e-042+0.j -1.72723371e-077+0.j -7.08007812e-003+0.j\n",
      " -8.98323365e-069+0.j  5.05095229e-039+0.j -1.17187500e-002+0.j\n",
      "  1.17549435e-038+0.j -2.14748365e+009+0.j  1.05421979e-081+0.j\n",
      "  4.37195399e-053+0.j -3.85185989e-034+0.j  1.00974196e-027+0.j\n",
      " -1.13248825e-006+0.j  5.22959454e-012+0.j  1.66326556e-111+0.j\n",
      " -2.42036995e-122+0.j  6.94197597e-029+0.j  2.37169225e-020+0.j\n",
      " -1.55727311e-063+0.j -2.78914916e-069+0.j -3.94430453e-030+0.j\n",
      "  6.10351562e-005+0.j -9.24775653e-109+0.j -6.04048610e-092+0.j\n",
      "  2.06795153e-024+0.j -1.25000000e-001+0.j -2.77967530e-049+0.j\n",
      "  2.14748365e+009+0.j -3.45126646e-031+0.j -6.03971631e-031+0.j\n",
      "  7.52316385e-037+0.j  4.21297175e-034+0.j  1.61778115e-032+0.j\n",
      "  5.93472984e-067+0.j  4.63156390e-131+0.j  6.95476153e-069+0.j\n",
      " -3.69098752e+008+0.j]\n",
      "2147483648.0\n"
     ]
    }
   ],
   "source": [
    "Q2=np.zeros((1,1), dtype=complex)\n",
    "Q2[0,0]=1.1j\n",
    "\n",
    "X2 = 1j*np.random.uniform(-10,10,(100,1))\n",
    "\n",
    "\n",
    "R1=RiemannTheta.log_eval(X, Q, mode=0)\n",
    "R2=RiemannTheta.log_eval(X2, Q2, mode=0)\n",
    "\n",
    "t1 = np.exp(R1-R2)\n",
    "#print(t1)\n",
    "\n",
    "t2 = RiemannTheta.ratio_eval(X,X2,Q,Q2,mode=0)\n",
    "#print(t2)\n",
    "\n",
    "print(\"Check:\")\n",
    "\n",
    "x=t1-t2\n",
    "print(x)\n",
    "print(max(abs(x)))\n"
   ]
  },
  {
   "cell_type": "markdown",
   "metadata": {},
   "source": [
    "# Phase II (mode 2)"
   ]
  },
  {
   "cell_type": "code",
   "execution_count": null,
   "metadata": {},
   "outputs": [],
   "source": [
    "# RT\n",
    "# g = 1\n",
    "Q=np.zeros((1,1), dtype=complex)\n",
    "Q[0,0]=3j\n",
    "\n",
    "X = np.random.uniform(-999,500,(10000,1))\n",
    "\n",
    "tic = time.clock()\n",
    "t1=RiemannTheta.log_eval(X,Q, mode=0)\n",
    "toc = time.clock()\n",
    "print(t1)\n",
    "print(toc-tic)\n",
    "\n",
    "tic = time.clock()\n",
    "t2=RiemannTheta.log_eval(X,Q, mode=2)\n",
    "toc = time.clock()\n",
    "print(t2)\n",
    "\n",
    "print(toc-tic)\n",
    "\n",
    "x=t1-t2\n",
    "\n",
    "print(\"Check:\")\n",
    "\n",
    "print(x)\n",
    "print(max(abs(x)))\n"
   ]
  },
  {
   "cell_type": "code",
   "execution_count": null,
   "metadata": {},
   "outputs": [],
   "source": [
    "# RT\n",
    "# g = 2\n",
    "Q=np.zeros((2,2), dtype=complex)\n",
    "Q[0,0]=3j\n",
    "Q[1,1]=3j\n",
    "\n",
    "X1 = np.random.uniform(-999,500,(10000))\n",
    "X2 = np.random.uniform(-999,500,(10000))\n",
    "X = np.stack((X1,X2)).T\n",
    "\n",
    "tic = time.clock()\n",
    "t1=RiemannTheta.log_eval(X,Q, mode=0)\n",
    "toc = time.clock()\n",
    "print(t1)\n",
    "print(toc-tic)\n",
    "\n",
    "tic = time.clock()\n",
    "t2=RiemannTheta.log_eval(X,Q, mode=2)\n",
    "toc = time.clock()\n",
    "print(t2)\n",
    "\n",
    "print(toc-tic)\n",
    "\n",
    "x=t1-t2\n",
    "\n",
    "print(\"Check:\")\n",
    "\n",
    "print(x)\n",
    "\n",
    "print(max(abs(x)))\n"
   ]
  },
  {
   "cell_type": "code",
   "execution_count": null,
   "metadata": {},
   "outputs": [],
   "source": [
    "tic = time.clock()\n",
    "t1=RiemannTheta.log_eval(X,Q, mode=0, derivs=[[1]])\n",
    "toc = time.clock()\n",
    "print(t1)\n",
    "print(toc-tic)\n",
    "\n",
    "tic = time.clock()\n",
    "t2=RiemannTheta.log_eval(X,Q, mode=2, derivs=[[1]])\n",
    "toc = time.clock()\n",
    "print(t2)\n",
    "\n",
    "print(toc-tic)\n",
    "\n",
    "print(\"Check:\")\n",
    "\n",
    "x=t1-t2\n",
    "max(abs(x))"
   ]
  },
  {
   "cell_type": "code",
   "execution_count": null,
   "metadata": {},
   "outputs": [],
   "source": [
    "# Ratio \n",
    "# Derivatives\n",
    "tic = time.clock()\n",
    "t1=RiemannTheta.normalized_eval(X,Q, mode=0, derivs=[[1]])\n",
    "toc = time.clock()\n",
    "print(t1)\n",
    "print(toc-tic)\n",
    "\n",
    "tic = time.clock()\n",
    "t2=RiemannTheta.normalized_eval(X,Q, mode=2, derivs=[[1]])\n",
    "toc = time.clock()\n",
    "print(t2)\n",
    "\n",
    "print(toc-tic)\n",
    "\n",
    "print(\"Check:\")\n",
    "\n",
    "x=t1-t2\n",
    "max(abs(x))"
   ]
  },
  {
   "cell_type": "code",
   "execution_count": null,
   "metadata": {},
   "outputs": [],
   "source": [
    "# Ratio\n",
    "# Multi-derivatives\n",
    "\n",
    "tic = time.clock()\n",
    "t1=RiemannTheta.normalized_eval(X,Q, mode=0, derivs=np.array( [ [1], [1,1], [1,1,1] ]  )   )\n",
    "toc = time.clock()\n",
    "print(t1)\n",
    "print(toc-tic)\n",
    "\n",
    "\n",
    "tic = time.clock()\n",
    "t2=RiemannTheta.normalized_eval(X,Q, mode=2, derivs=np.array( [ [1], [1,1], [1,1,1] ]  )   )\n",
    "toc = time.clock()\n",
    "print(t2)\n",
    "\n",
    "print(toc-tic)\n",
    "\n",
    "print(\"Check:\")\n",
    "\n",
    "x=t1-t2\n",
    "max(abs(x).flatten())"
   ]
  },
  {
   "cell_type": "code",
   "execution_count": null,
   "metadata": {},
   "outputs": [],
   "source": []
  }
 ],
 "metadata": {
  "kernelspec": {
   "display_name": "Python 2",
   "language": "python",
   "name": "python2"
  },
  "language_info": {
   "codemirror_mode": {
    "name": "ipython",
    "version": 2
   },
   "file_extension": ".py",
   "mimetype": "text/x-python",
   "name": "python",
   "nbconvert_exporter": "python",
   "pygments_lexer": "ipython2",
   "version": "2.7.6"
  }
 },
 "nbformat": 4,
 "nbformat_minor": 2
}
