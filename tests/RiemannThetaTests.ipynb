{
 "cells": [
  {
   "cell_type": "code",
   "execution_count": 56,
   "metadata": {},
   "outputs": [],
   "source": [
    "from rtbm.riemann_theta.riemann_theta import RiemannTheta\n",
    "\n",
    "import numpy as np\n",
    "import time"
   ]
  },
  {
   "cell_type": "markdown",
   "metadata": {},
   "source": [
    "# Phase I (mode 1)"
   ]
  },
  {
   "cell_type": "code",
   "execution_count": 88,
   "metadata": {},
   "outputs": [
    {
     "name": "stdout",
     "output_type": "stream",
     "text": [
      "0.061233\n",
      "0.053685\n",
      "Check:\n"
     ]
    },
    {
     "data": {
      "text/plain": [
       "0.0"
      ]
     },
     "execution_count": 88,
     "metadata": {},
     "output_type": "execute_result"
    }
   ],
   "source": [
    "# RT\n",
    "Q=np.zeros((1,1), dtype=complex)\n",
    "Q[0,0]=0.1j\n",
    "\n",
    "X = 1j*np.random.uniform(-100,100,(15000,1))\n",
    "\n",
    "tic = time.clock()\n",
    "t1=RiemannTheta.log_eval(X,Q, mode=0)\n",
    "toc = time.clock()\n",
    "#print(t1)\n",
    "print(toc-tic)\n",
    "\n",
    "tic = time.clock()\n",
    "t2=RiemannTheta.log_eval(X,Q, mode=1)\n",
    "toc = time.clock()\n",
    "#print(t2)\n",
    "\n",
    "print(toc-tic)\n",
    "\n",
    "print(\"Check:\")\n",
    "x=t1-t2\n",
    "max(abs(x))"
   ]
  },
  {
   "cell_type": "code",
   "execution_count": 75,
   "metadata": {},
   "outputs": [
    {
     "name": "stdout",
     "output_type": "stream",
     "text": [
      "[ 412646.42583191+0.j  104908.2688054 +0.j  564214.35221772+0.j ...\n",
      "  220170.88224332+0.j 1210633.02509591+0.j  570331.91194185+0.j]\n",
      "0.047917\n",
      "[ 412646.42583191+0.j  104908.2688054 +0.j  564214.35221772+0.j ...\n",
      "  220170.88224332+0.j 1210633.02509591+0.j  570331.91194185+0.j]\n",
      "0.044003\n",
      "Check:\n",
      "[0.+0.j 0.+0.j 0.+0.j ... 0.+0.j 0.+0.j 0.+0.j]\n",
      "0.0\n"
     ]
    }
   ],
   "source": [
    "# RT\n",
    "# g = 2\n",
    "Q=np.zeros((2,2), dtype=complex)\n",
    "Q[0,0]=3j\n",
    "Q[1,1]=2j\n",
    "\n",
    "X1 = 1j*np.random.uniform(-999,500,(10000))\n",
    "X2 = 1j*np.random.uniform(-999,500,(10000))\n",
    "X = np.stack((X1,X2)).T\n",
    "\n",
    "tic = time.clock()\n",
    "t1=RiemannTheta.log_eval(X,Q, mode=0)\n",
    "toc = time.clock()\n",
    "print(t1)\n",
    "print(toc-tic)\n",
    "\n",
    "tic = time.clock()\n",
    "t2=RiemannTheta.log_eval(X,Q, mode=1)\n",
    "toc = time.clock()\n",
    "print(t2)\n",
    "\n",
    "print(toc-tic)\n",
    "\n",
    "x=t1-t2\n",
    "\n",
    "print(\"Check:\")\n",
    "print(x)\n",
    "print(max(abs(x)))\n"
   ]
  },
  {
   "cell_type": "code",
   "execution_count": 70,
   "metadata": {},
   "outputs": [
    {
     "name": "stdout",
     "output_type": "stream",
     "text": [
      "0.056212\n",
      "0.045605\n",
      "Check:\n"
     ]
    },
    {
     "data": {
      "text/plain": [
       "0.0006454443789699841"
      ]
     },
     "execution_count": 70,
     "metadata": {},
     "output_type": "execute_result"
    }
   ],
   "source": [
    "# Derivatives\n",
    "tic = time.clock()\n",
    "t1=RiemannTheta.log_eval(X,Q, mode=0, derivs=[[1]])\n",
    "toc = time.clock()\n",
    "#print(t1)\n",
    "print(toc-tic)\n",
    "\n",
    "tic = time.clock()\n",
    "t2=RiemannTheta.log_eval(X,Q, mode=1, derivs=[[1]])\n",
    "toc = time.clock()\n",
    "#print(t2)\n",
    "\n",
    "print(toc-tic)\n",
    "\n",
    "x=t1-t2\n",
    "\n",
    "print(\"Check:\")\n",
    "max(abs(x))"
   ]
  },
  {
   "cell_type": "code",
   "execution_count": 76,
   "metadata": {},
   "outputs": [
    {
     "name": "stdout",
     "output_type": "stream",
     "text": [
      "[0.+1797.98921197j 0. -722.19435223j 0.+1782.33622447j ...\n",
      " 0.+1470.14816329j 0.+1890.94545038j 0.+1080.15855451j]\n",
      "0.021872\n",
      "[0.+1797.98921197j 0. -722.19435223j 0.+1782.33622447j ...\n",
      " 0.+1470.14816329j 0.+1890.94545038j 0.+1080.15855451j]\n",
      "0.00923900000001\n",
      "Check:\n"
     ]
    },
    {
     "data": {
      "text/plain": [
       "0.0000000000009094947017729282"
      ]
     },
     "execution_count": 76,
     "metadata": {},
     "output_type": "execute_result"
    }
   ],
   "source": [
    "# Ratio \n",
    "# Derivatives\n",
    "tic = time.clock()\n",
    "t1=RiemannTheta.normalized_eval(X,Q, mode=0, derivs=[[1,1]])\n",
    "toc = time.clock()\n",
    "print(t1)\n",
    "print(toc-tic)\n",
    "\n",
    "tic = time.clock()\n",
    "t2=RiemannTheta.normalized_eval(X,Q, mode=1, derivs=[[1,1]])\n",
    "toc = time.clock()\n",
    "print(t2)\n",
    "\n",
    "print(toc-tic)\n",
    "\n",
    "x=t1-t2\n",
    "\n",
    "print(\"Check:\")\n",
    "\n",
    "max(abs(x))"
   ]
  },
  {
   "cell_type": "code",
   "execution_count": 78,
   "metadata": {},
   "outputs": [
    {
     "name": "stdout",
     "output_type": "stream",
     "text": [
      "[[1.   +0.        j 1.   +0.        j 1.   +0.        j ...\n",
      "  1.   +0.        j 1.   +0.        j 1.   +0.        j]\n",
      " [0.+1797.98921197j 0. -722.19435223j 0.+1782.33622447j ...\n",
      "  0.+1470.14816329j 0.+1890.94545038j 0.+1080.15855451j]\n",
      " [0.+1797.98921197j 0. -722.19435223j 0.+1782.33622439j ...\n",
      "  0.+1470.14816329j 0.+1890.94545038j 0.+1080.15855451j]]\n",
      "0.065084\n",
      "[[1.   +0.        j 1.   +0.        j 1.   +0.        j ...\n",
      "  1.   +0.        j 1.   +0.        j 1.   +0.        j]\n",
      " [0.+1797.98921197j 0. -722.19435223j 0.+1782.33622439j ...\n",
      "  0.+1470.14816329j 0.+1890.94545038j 0.+1080.15855451j]\n",
      " [0.+1797.98921197j 0. -722.19435223j 0.+1782.33622439j ...\n",
      "  0.+1470.14816329j 0.+1890.94545038j 0.+1080.15855451j]]\n",
      "0.025121\n",
      "Check:\n"
     ]
    },
    {
     "data": {
      "text/plain": [
       "0.000009990516446123365"
      ]
     },
     "execution_count": 78,
     "metadata": {},
     "output_type": "execute_result"
    }
   ],
   "source": [
    "# Ratio\n",
    "# Multi-derivatives\n",
    "\n",
    "tic = time.clock()\n",
    "t1=RiemannTheta.normalized_eval(X,Q, mode=0, derivs=np.array( [ [1], [1,1], [1,1,1] ]  )   )\n",
    "toc = time.clock()\n",
    "print(t1)\n",
    "print(toc-tic)\n",
    "\n",
    "\n",
    "tic = time.clock()\n",
    "t2=RiemannTheta.normalized_eval(X,Q, mode=1, derivs=np.array( [ [1], [1,1], [1,1,1] ]  )   )\n",
    "toc = time.clock()\n",
    "print(t2)\n",
    "\n",
    "print(toc-tic)\n",
    "\n",
    "print(\"Check:\")\n",
    "\n",
    "x=t1-t2\n",
    "max(abs(x).flatten())"
   ]
  },
  {
   "cell_type": "markdown",
   "metadata": {},
   "source": [
    "# Phase II (mode 2)"
   ]
  },
  {
   "cell_type": "code",
   "execution_count": 83,
   "metadata": {},
   "outputs": [
    {
     "name": "stdout",
     "output_type": "stream",
     "text": [
      "[ 6.77271548e-05+0.j -1.60307971e-04+0.j -1.50436750e-04+0.j ...\n",
      " -9.11863062e-05+0.j -1.56261393e-04+0.j  1.04167209e-04+0.j]\n",
      "0.034378\n",
      "[ 6.77271548e-05+0.j -1.60307971e-04+0.j -1.50436750e-04+0.j ...\n",
      " -9.11863062e-05+0.j -1.56261393e-04+0.j  1.04167209e-04+0.j]\n",
      "0.00393100000001\n",
      "Check:\n",
      "[0.+0.j 0.+0.j 0.+0.j ... 0.+0.j 0.+0.j 0.+0.j]\n",
      "0.0\n"
     ]
    }
   ],
   "source": [
    "# RT\n",
    "# g = 1\n",
    "Q=np.zeros((1,1), dtype=complex)\n",
    "Q[0,0]=3j\n",
    "\n",
    "X = np.random.uniform(-999,500,(10000,1))\n",
    "\n",
    "tic = time.clock()\n",
    "t1=RiemannTheta.log_eval(X,Q, mode=0)\n",
    "toc = time.clock()\n",
    "print(t1)\n",
    "print(toc-tic)\n",
    "\n",
    "tic = time.clock()\n",
    "t2=RiemannTheta.log_eval(X,Q, mode=2)\n",
    "toc = time.clock()\n",
    "print(t2)\n",
    "\n",
    "print(toc-tic)\n",
    "\n",
    "x=t1-t2\n",
    "\n",
    "print(\"Check:\")\n",
    "\n",
    "print(x)\n",
    "print(max(abs(x)))\n"
   ]
  },
  {
   "cell_type": "code",
   "execution_count": 84,
   "metadata": {},
   "outputs": [
    {
     "name": "stdout",
     "output_type": "stream",
     "text": [
      "[ 2.26956151e-04-5.35705326e-21j -1.04711986e-04-5.20599270e-21j\n",
      " -8.88895441e-05-5.82345554e-21j ... -7.73374521e-05+9.65932142e-21j\n",
      "  3.22613716e-05-1.81973864e-23j  1.55311520e-04-5.02847708e-21j]\n",
      "0.051114\n",
      "[ 0.9221393 -1.58475256e-17j -0.21549392+6.27323492e-17j\n",
      " -0.07218023-2.66428984e-17j ... -0.12337728-1.29863101e-17j\n",
      "  1.09810642-6.44070770e-19j  0.92927204+4.24341741e-18j]\n",
      "0.00952099999999\n",
      "Check:\n",
      "[-0.92191234+1.58421685e-17j  0.2153892 -6.27375552e-17j\n",
      "  0.07209134+2.66370750e-17j ...  0.12329994+1.29959694e-17j\n",
      " -1.09807416+6.44052572e-19j -0.92911673-4.24844589e-18j]\n",
      "8.084460399006812\n"
     ]
    }
   ],
   "source": [
    "# RT\n",
    "# g = 2\n",
    "Q=np.zeros((2,2), dtype=complex)\n",
    "Q[0,0]=3j\n",
    "Q[1,1]=3j\n",
    "\n",
    "X1 = np.random.uniform(-999,500,(10000))\n",
    "X2 = np.random.uniform(-999,500,(10000))\n",
    "X = np.stack((X1,X2)).T\n",
    "\n",
    "tic = time.clock()\n",
    "t1=RiemannTheta.log_eval(X,Q, mode=0)\n",
    "toc = time.clock()\n",
    "print(t1)\n",
    "print(toc-tic)\n",
    "\n",
    "tic = time.clock()\n",
    "t2=RiemannTheta.log_eval(X,Q, mode=2)\n",
    "toc = time.clock()\n",
    "print(t2)\n",
    "\n",
    "print(toc-tic)\n",
    "\n",
    "x=t1-t2\n",
    "\n",
    "print(\"Check:\")\n",
    "\n",
    "print(x)\n",
    "\n",
    "print(max(abs(x)))\n"
   ]
  },
  {
   "cell_type": "code",
   "execution_count": 85,
   "metadata": {},
   "outputs": [
    {
     "name": "stdout",
     "output_type": "stream",
     "text": [
      "[ 2.26956151e-04-5.35705326e-21j -1.04711986e-04-5.20599270e-21j\n",
      " -8.88895441e-05-5.82345554e-21j ... -7.73374521e-05+9.65932142e-21j\n",
      "  3.22613716e-05-1.81973864e-23j  1.55311520e-04-5.02847708e-21j]\n",
      "0.054217\n",
      "[ 0.9221393 -1.58475256e-17j -0.21549392+6.27323492e-17j\n",
      " -0.07218023-2.66428984e-17j ... -0.12337728-1.29863101e-17j\n",
      "  1.09810642-6.44070770e-19j  0.92927204+4.24341741e-18j]\n",
      "0.010466\n",
      "Check:\n"
     ]
    },
    {
     "data": {
      "text/plain": [
       "8.084460399006812"
      ]
     },
     "execution_count": 85,
     "metadata": {},
     "output_type": "execute_result"
    }
   ],
   "source": [
    "tic = time.clock()\n",
    "t1=RiemannTheta.log_eval(X,Q, mode=0, derivs=[[1]])\n",
    "toc = time.clock()\n",
    "print(t1)\n",
    "print(toc-tic)\n",
    "\n",
    "tic = time.clock()\n",
    "t2=RiemannTheta.log_eval(X,Q, mode=2, derivs=[[1]])\n",
    "toc = time.clock()\n",
    "print(t2)\n",
    "\n",
    "print(toc-tic)\n",
    "\n",
    "print(\"Check:\")\n",
    "\n",
    "x=t1-t2\n",
    "max(abs(x))"
   ]
  },
  {
   "cell_type": "code",
   "execution_count": 86,
   "metadata": {},
   "outputs": [
    {
     "name": "stdout",
     "output_type": "stream",
     "text": [
      "[1.+0.j 1.+0.j 1.+0.j ... 1.+0.j 1.+0.j 1.+0.j]\n",
      "0.031766\n",
      "[1.+0.j 1.+0.j 1.+0.j ... 1.+0.j 1.+0.j 1.+0.j]\n",
      "0.009788\n",
      "Check:\n"
     ]
    },
    {
     "data": {
      "text/plain": [
       "0.00000000000000011102230246251565"
      ]
     },
     "execution_count": 86,
     "metadata": {},
     "output_type": "execute_result"
    }
   ],
   "source": [
    "# Ratio \n",
    "# Derivatives\n",
    "tic = time.clock()\n",
    "t1=RiemannTheta.normalized_eval(X,Q, mode=0, derivs=[[1]])\n",
    "toc = time.clock()\n",
    "print(t1)\n",
    "print(toc-tic)\n",
    "\n",
    "tic = time.clock()\n",
    "t2=RiemannTheta.normalized_eval(X,Q, mode=2, derivs=[[1]])\n",
    "toc = time.clock()\n",
    "print(t2)\n",
    "\n",
    "print(toc-tic)\n",
    "\n",
    "print(\"Check:\")\n",
    "\n",
    "x=t1-t2\n",
    "max(abs(x))"
   ]
  },
  {
   "cell_type": "code",
   "execution_count": 87,
   "metadata": {},
   "outputs": [
    {
     "name": "stdout",
     "output_type": "stream",
     "text": [
      "[[ 1.00000000e+00+0.00000000e+00j  1.00000000e+00+0.00000000e+00j\n",
      "   1.00000000e+00+0.00000000e+00j ...  1.00000000e+00+0.00000000e+00j\n",
      "   1.00000000e+00+0.00000000e+00j  1.00000000e+00+0.00000000e+00j]\n",
      " [ 1.43369425e-03+7.68037645e-24j -1.63573140e-04-8.51560571e-25j\n",
      "  -1.88226606e-03-1.09612927e-23j ...  9.25598218e-05-8.94065069e-25j\n",
      "   6.43409609e-04-5.42083481e-20j -1.64586133e-03-8.27617600e-24j]\n",
      " [ 1.43369425e-03+7.27382191e-21j -1.63573140e-04-5.67530356e-21j\n",
      "  -1.88226606e-03-1.09605308e-20j ...  9.25598218e-05+8.86926573e-21j\n",
      "   6.43409609e-04+2.39352151e-20j -1.64586133e-03-2.30813328e-20j]]\n",
      "0.095943\n",
      "[[  1.57705613+0.00000000e+00j   0.26740788+0.00000000e+00j\n",
      "    0.22675908+0.00000000e+00j ...   0.24315047+0.00000000e+00j\n",
      "    4.98793316+0.00000000e+00j   1.66058617+0.00000000e+00j]\n",
      " [ 18.57358355+4.19965479e-16j   1.770999  +1.07799482e-16j\n",
      "    2.30238603-1.08483899e-16j ...  -2.12424996-1.11095782e-16j\n",
      "    2.11099346-3.68444099e+01j -18.91640827-6.71962764e-16j]\n",
      " [ 18.57265921-3.99947031e+02j   1.770999  +1.07799482e-16j\n",
      "    2.30238603-4.52873535e+01j ...  -2.12424996-1.11095782e-16j\n",
      "    2.11035083-8.95665721e+02j -18.91640827-6.71962764e-16j]]\n",
      "0.022246\n",
      "Check:\n"
     ]
    },
    {
     "data": {
      "text/plain": [
       "993.4921576111774"
      ]
     },
     "execution_count": 87,
     "metadata": {},
     "output_type": "execute_result"
    }
   ],
   "source": [
    "# Ratio\n",
    "# Multi-derivatives\n",
    "\n",
    "tic = time.clock()\n",
    "t1=RiemannTheta.normalized_eval(X,Q, mode=0, derivs=np.array( [ [1], [1,1], [1,1,1] ]  )   )\n",
    "toc = time.clock()\n",
    "print(t1)\n",
    "print(toc-tic)\n",
    "\n",
    "\n",
    "tic = time.clock()\n",
    "t2=RiemannTheta.normalized_eval(X,Q, mode=2, derivs=np.array( [ [1], [1,1], [1,1,1] ]  )   )\n",
    "toc = time.clock()\n",
    "print(t2)\n",
    "\n",
    "print(toc-tic)\n",
    "\n",
    "print(\"Check:\")\n",
    "\n",
    "x=t1-t2\n",
    "max(abs(x).flatten())"
   ]
  },
  {
   "cell_type": "code",
   "execution_count": null,
   "metadata": {},
   "outputs": [],
   "source": []
  }
 ],
 "metadata": {
  "kernelspec": {
   "display_name": "Python 2",
   "language": "python",
   "name": "python2"
  },
  "language_info": {
   "codemirror_mode": {
    "name": "ipython",
    "version": 2
   },
   "file_extension": ".py",
   "mimetype": "text/x-python",
   "name": "python",
   "nbconvert_exporter": "python",
   "pygments_lexer": "ipython2",
   "version": "2.7.6"
  }
 },
 "nbformat": 4,
 "nbformat_minor": 2
}
