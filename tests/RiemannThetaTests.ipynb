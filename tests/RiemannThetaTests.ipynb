{
 "cells": [
  {
   "cell_type": "code",
   "execution_count": 1,
   "metadata": {},
   "outputs": [],
   "source": [
    "from rtbm.riemann_theta.riemann_theta import RiemannTheta\n",
    "\n",
    "import numpy as np\n",
    "import time"
   ]
  },
  {
   "cell_type": "markdown",
   "metadata": {},
   "source": [
    "# Phase I (mode 1)"
   ]
  },
  {
   "cell_type": "code",
   "execution_count": 26,
   "metadata": {},
   "outputs": [
    {
     "name": "stdout",
     "output_type": "stream",
     "text": [
      "0.059368\n",
      "0.053331\n"
     ]
    },
    {
     "data": {
      "text/plain": [
       "0.0"
      ]
     },
     "execution_count": 26,
     "metadata": {},
     "output_type": "execute_result"
    }
   ],
   "source": [
    "# RT\n",
    "Q=np.zeros((1,1), dtype=complex)\n",
    "Q[0,0]=0.1j\n",
    "\n",
    "X = 1j*np.random.uniform(-100,100,(15000,1))\n",
    "\n",
    "tic = time.clock()\n",
    "t1=RiemannTheta.log_eval(X,Q, mode=0)\n",
    "toc = time.clock()\n",
    "#print(t1)\n",
    "print(toc-tic)\n",
    "\n",
    "tic = time.clock()\n",
    "t2=RiemannTheta.log_eval(X,Q, mode=1)\n",
    "toc = time.clock()\n",
    "#print(t2)\n",
    "\n",
    "print(toc-tic)\n",
    "\n",
    "x=t1-t2\n",
    "max(abs(x))"
   ]
  },
  {
   "cell_type": "code",
   "execution_count": 55,
   "metadata": {},
   "outputs": [
    {
     "name": "stdout",
     "output_type": "stream",
     "text": [
      "[1031538.49208768+0.j  189698.99210839+0.j   40812.82782979+0.j ...\n",
      " 1109521.39250655+0.j  133810.8239851 +0.j  173368.3682363 +0.j]\n",
      "0.045643\n",
      "[1031538.49208768+0.j  189698.99210839+0.j   40812.82782979+0.j ...\n",
      " 1109521.39250655+0.j  133810.8239851 +0.j  173368.3682363 +0.j]\n",
      "0.043237\n",
      "[0.+0.j 0.+0.j 0.+0.j ... 0.+0.j 0.+0.j 0.+0.j]\n",
      "0.0\n"
     ]
    }
   ],
   "source": [
    "# RT\n",
    "# g = 2\n",
    "Q=np.zeros((2,2), dtype=complex)\n",
    "Q[0,0]=3j\n",
    "Q[1,1]=3j\n",
    "\n",
    "X1 = 1j*np.random.uniform(-999,500,(10000))\n",
    "X2 = 1j*np.random.uniform(-999,500,(10000))\n",
    "X = np.stack((X1,X2)).T\n",
    "\n",
    "tic = time.clock()\n",
    "t1=RiemannTheta.log_eval(X,Q, mode=0)\n",
    "toc = time.clock()\n",
    "print(t1)\n",
    "print(toc-tic)\n",
    "\n",
    "tic = time.clock()\n",
    "t2=RiemannTheta.log_eval(X,Q, mode=1)\n",
    "toc = time.clock()\n",
    "print(t2)\n",
    "\n",
    "print(toc-tic)\n",
    "\n",
    "x=t1-t2\n",
    "\n",
    "print(x)\n",
    "print(max(abs(x)))\n"
   ]
  },
  {
   "cell_type": "code",
   "execution_count": 27,
   "metadata": {},
   "outputs": [
    {
     "name": "stdout",
     "output_type": "stream",
     "text": [
      "0.068193\n",
      "0.061904\n"
     ]
    },
    {
     "data": {
      "text/plain": [
       "0.0"
      ]
     },
     "execution_count": 27,
     "metadata": {},
     "output_type": "execute_result"
    }
   ],
   "source": [
    "# Derivatives\n",
    "tic = time.clock()\n",
    "t1=RiemannTheta.log_eval(X,Q, mode=0, derivs=[[1]])\n",
    "toc = time.clock()\n",
    "#print(t1)\n",
    "print(toc-tic)\n",
    "\n",
    "tic = time.clock()\n",
    "t2=RiemannTheta.log_eval(X,Q, mode=1, derivs=[[1]])\n",
    "toc = time.clock()\n",
    "#print(t2)\n",
    "\n",
    "print(toc-tic)\n",
    "\n",
    "x=t1-t2\n",
    "max(abs(x))"
   ]
  },
  {
   "cell_type": "code",
   "execution_count": 28,
   "metadata": {},
   "outputs": [
    {
     "name": "stdout",
     "output_type": "stream",
     "text": [
      "[-18922861.40511538+0.j -22727640.2370387 +0.j    -36858.80899792+0.j ...\n",
      "  -9743119.03596969+0.j -30264603.58039575+0.j  -1369777.85348038+0.j]\n",
      "0.041086\n",
      "[-18922861.40511538+0.j -22727640.2370387 +0.j    -36858.80899792+0.j ...\n",
      "  -9743119.03596969+0.j -30264603.58039575+0.j  -1369777.85348038+0.j]\n",
      "0.017643\n"
     ]
    },
    {
     "data": {
      "text/plain": [
       "0.000000007450580596923828"
      ]
     },
     "execution_count": 28,
     "metadata": {},
     "output_type": "execute_result"
    }
   ],
   "source": [
    "# Ratio \n",
    "# Derivatives\n",
    "tic = time.clock()\n",
    "t1=RiemannTheta.normalized_eval(X,Q, mode=0, derivs=[[1,1]])\n",
    "toc = time.clock()\n",
    "print(t1)\n",
    "print(toc-tic)\n",
    "\n",
    "tic = time.clock()\n",
    "t2=RiemannTheta.normalized_eval(X,Q, mode=1, derivs=[[1,1]])\n",
    "toc = time.clock()\n",
    "print(t2)\n",
    "\n",
    "print(toc-tic)\n",
    "\n",
    "x=t1-t2\n",
    "max(abs(x))"
   ]
  },
  {
   "cell_type": "code",
   "execution_count": 29,
   "metadata": {},
   "outputs": [
    {
     "name": "stdout",
     "output_type": "stream",
     "text": [
      "[[        0.        +4.35003432e+03j         0.        +4.76734490e+03j\n",
      "          0.        -1.91822775e+02j ...         0.        -3.12138690e+03j\n",
      "          0.        +5.50132173e+03j         0.        +1.17034825e+03j]\n",
      " [-18922861.40511541+0.00000000e+00j -22727640.23703869+0.00000000e+00j\n",
      "     -36858.80899792+0.00000000e+00j ...  -9743119.03596968+0.00000000e+00j\n",
      "  -30264603.58039569+0.00000000e+00j  -1369777.85348038+0.00000000e+00j]\n",
      " [        0.        -8.23156432e+10j         0.        -1.08351099e+11j\n",
      "          0.        +7.09446420e+06j ...         0.        +3.04124364e+10j\n",
      "          0.        -1.66496013e+11j         0.        -1.60326418e+09j]]\n",
      "0.147012\n",
      "[[        0.        +4.35003432e+03j         0.        +4.76734490e+03j\n",
      "          0.        -1.91822775e+02j ...         0.        -3.12138690e+03j\n",
      "          0.        +5.50132173e+03j         0.        +1.17034825e+03j]\n",
      " [-18922861.40511541+0.00000000e+00j -22727640.23703869+0.00000000e+00j\n",
      "     -36858.80899792+0.00000000e+00j ...  -9743119.03596968+0.00000000e+00j\n",
      "  -30264603.58039569+0.00000000e+00j  -1369777.85348038+0.00000000e+00j]\n",
      " [        0.        -8.23156432e+10j         0.        -1.08351099e+11j\n",
      "          0.        +7.09446420e+06j ...         0.        +3.04124364e+10j\n",
      "          0.        -1.66496013e+11j         0.        -1.60326418e+09j]]\n",
      "0.059412\n"
     ]
    },
    {
     "data": {
      "text/plain": [
       "0.000030517578125"
      ]
     },
     "execution_count": 29,
     "metadata": {},
     "output_type": "execute_result"
    }
   ],
   "source": [
    "# Ratio\n",
    "# Multi-derivatives\n",
    "\n",
    "tic = time.clock()\n",
    "t1=RiemannTheta.normalized_eval(X,Q, mode=0, derivs=np.array( [ [1], [1,1], [1,1,1] ]  )   )\n",
    "toc = time.clock()\n",
    "print(t1)\n",
    "print(toc-tic)\n",
    "\n",
    "\n",
    "tic = time.clock()\n",
    "t2=RiemannTheta.normalized_eval(X,Q, mode=1, derivs=np.array( [ [1], [1,1], [1,1,1] ]  )   )\n",
    "toc = time.clock()\n",
    "print(t2)\n",
    "\n",
    "print(toc-tic)\n",
    "\n",
    "x=t1-t2\n",
    "max(abs(x).flatten())"
   ]
  },
  {
   "cell_type": "markdown",
   "metadata": {},
   "source": [
    "# Phase II (mode 2)"
   ]
  },
  {
   "cell_type": "code",
   "execution_count": 46,
   "metadata": {},
   "outputs": [
    {
     "name": "stdout",
     "output_type": "stream",
     "text": [
      "[ 1.59068403e-04+0.j  1.36537987e-04+0.j -4.05756366e-05+0.j ...\n",
      " -5.90256582e-05+0.j -1.25738000e-04+0.j -1.58606901e-04+0.j]\n",
      "0.036026\n",
      "[ 1.59068403e-04+0.j  1.36537987e-04+0.j -4.05756366e-05+0.j ...\n",
      " -5.90256582e-05+0.j -1.25738000e-04+0.j -1.58606901e-04+0.j]\n",
      "0.003663\n",
      "[0.+0.j 0.+0.j 0.+0.j ... 0.+0.j 0.+0.j 0.+0.j]\n",
      "0.0\n",
      "0j\n"
     ]
    }
   ],
   "source": [
    "# RT\n",
    "# g = 1\n",
    "Q=np.zeros((1,1), dtype=complex)\n",
    "Q[0,0]=3j\n",
    "\n",
    "X = np.random.uniform(-999,500,(10000,1))\n",
    "\n",
    "tic = time.clock()\n",
    "t1=RiemannTheta.log_eval(X,Q, mode=0)\n",
    "toc = time.clock()\n",
    "print(t1)\n",
    "print(toc-tic)\n",
    "\n",
    "tic = time.clock()\n",
    "t2=RiemannTheta.log_eval(X,Q, mode=2)\n",
    "toc = time.clock()\n",
    "print(t2)\n",
    "\n",
    "print(toc-tic)\n",
    "\n",
    "x=t1-t2\n",
    "\n",
    "print(x)\n",
    "print(max(abs(x)))\n",
    "print(max(x))\n"
   ]
  },
  {
   "cell_type": "code",
   "execution_count": 54,
   "metadata": {},
   "outputs": [
    {
     "name": "stdout",
     "output_type": "stream",
     "text": [
      "[-3.01238517e-05+1.52453979e-21j -4.94990957e-05+1.87526991e-20j\n",
      " -2.09646323e-05+1.85437101e-21j ... -1.59574420e-04+1.65462524e-22j\n",
      "  2.15320674e-04-4.88758491e-21j -4.06750038e-06-5.87507420e-22j]\n",
      "0.052393\n",
      "[ 9.31192156e-01+1.26577647e-18j -1.98036868e+00-2.83976084e-16j\n",
      " -4.87393151e-01-3.14159265e+00j ... -4.50052828e-01+3.14159265e+00j\n",
      "  1.08650390e+00-2.17195712e-18j -2.71986775e-04+3.14159265e+00j]\n",
      "0.00951599999999\n",
      "[-9.31222280e-01-1.26425193e-18j  1.98031918e+00+2.83994837e-16j\n",
      "  4.87372187e-01+3.14159265e+00j ...  4.49893253e-01-3.14159265e+00j\n",
      " -1.08628858e+00+2.16706954e-18j  2.67919275e-04-3.14159265e+00j]\n",
      "7.432286463018347\n"
     ]
    }
   ],
   "source": [
    "# RT\n",
    "# g = 2\n",
    "Q=np.zeros((2,2), dtype=complex)\n",
    "Q[0,0]=3j\n",
    "Q[1,1]=3j\n",
    "\n",
    "X1 = np.random.uniform(-999,500,(10000))\n",
    "X2 = np.random.uniform(-999,500,(10000))\n",
    "X = np.stack((X1,X2)).T\n",
    "\n",
    "tic = time.clock()\n",
    "t1=RiemannTheta.log_eval(X,Q, mode=0)\n",
    "toc = time.clock()\n",
    "print(t1)\n",
    "print(toc-tic)\n",
    "\n",
    "tic = time.clock()\n",
    "t2=RiemannTheta.log_eval(X,Q, mode=2)\n",
    "toc = time.clock()\n",
    "print(t2)\n",
    "\n",
    "print(toc-tic)\n",
    "\n",
    "x=t1-t2\n",
    "\n",
    "print(x)\n",
    "print(max(abs(x)))\n"
   ]
  },
  {
   "cell_type": "code",
   "execution_count": 35,
   "metadata": {},
   "outputs": [
    {
     "name": "stdout",
     "output_type": "stream",
     "text": [
      "[-22.60196564+3.14158919e+00j   4.15929894-7.01292116e-17j\n",
      " -23.21686717+3.14158978e+00j ... -22.78218431-1.42507725e-08j\n",
      " -24.73135346+4.66075761e-06j -25.79684135-3.14156403e+00j]\n",
      "1.149319\n",
      "[-22.60196564+3.14158919e+00j   4.15929894-7.01292116e-17j\n",
      " -23.21686717+3.14158978e+00j ... -22.78218431-1.42507725e-08j\n",
      " -24.73135346+4.66075761e-06j -25.79684135-3.14156403e+00j]\n",
      "0.499775\n"
     ]
    },
    {
     "data": {
      "text/plain": [
       "0.0"
      ]
     },
     "execution_count": 35,
     "metadata": {},
     "output_type": "execute_result"
    }
   ],
   "source": [
    "tic = time.clock()\n",
    "t1=RiemannTheta.log_eval(X,Q, mode=0, derivs=[[1]])\n",
    "toc = time.clock()\n",
    "print(t1)\n",
    "print(toc-tic)\n",
    "\n",
    "tic = time.clock()\n",
    "t2=RiemannTheta.log_eval(X,Q, mode=2, derivs=[[1]])\n",
    "toc = time.clock()\n",
    "print(t2)\n",
    "\n",
    "print(toc-tic)\n",
    "\n",
    "x=t1-t2\n",
    "max(abs(x))"
   ]
  },
  {
   "cell_type": "code",
   "execution_count": 34,
   "metadata": {},
   "outputs": [
    {
     "name": "stdout",
     "output_type": "stream",
     "text": [
      "[611.10800921+7.00244335e-02j  51.08600297-2.95312486e-15j\n",
      "  76.37854621+1.07254915e-03j ...  85.76123615+7.82568303e-04j\n",
      " -23.60439317-1.37051271e-03j  -3.05178293-9.70547497e-05j]\n",
      "1.523483\n",
      "[611.10800921+7.00244335e-02j  51.08600297-2.95312486e-15j\n",
      "  76.37854621+1.07254915e-03j ...  85.76123615+7.82568303e-04j\n",
      " -23.60439317-1.37051271e-03j  -3.05178293-9.70547497e-05j]\n",
      "0.486483\n"
     ]
    },
    {
     "data": {
      "text/plain": [
       "0.00000000023283064365386963"
      ]
     },
     "execution_count": 34,
     "metadata": {},
     "output_type": "execute_result"
    }
   ],
   "source": [
    "# Ratio \n",
    "# Derivatives\n",
    "tic = time.clock()\n",
    "t1=RiemannTheta.normalized_eval(X,Q, mode=0, derivs=[[1]])\n",
    "toc = time.clock()\n",
    "print(t1)\n",
    "print(toc-tic)\n",
    "\n",
    "tic = time.clock()\n",
    "t2=RiemannTheta.normalized_eval(X,Q, mode=2, derivs=[[1]])\n",
    "toc = time.clock()\n",
    "print(t2)\n",
    "\n",
    "print(toc-tic)\n",
    "\n",
    "x=t1-t2\n",
    "max(abs(x))"
   ]
  },
  {
   "cell_type": "code",
   "execution_count": 36,
   "metadata": {},
   "outputs": [
    {
     "name": "stdout",
     "output_type": "stream",
     "text": [
      "[[ 6.11108009e+02+7.00244335e-02j  5.10860030e+01-2.95312486e-15j\n",
      "   7.63785462e+01+1.07254915e-03j ...  8.57612362e+01+7.82568303e-04j\n",
      "  -2.36043932e+01-1.37051271e-03j -3.05178293e+00-9.70547497e-05j]\n",
      " [-2.22163397e+03-1.21547014e-01j  1.98146117e+03+1.07276847e-13j\n",
      "   3.52044118e+03-4.89237605e-01j ... -1.44533440e+03+3.34800269e-02j\n",
      "   2.24646627e+03+8.27696050e-01j -8.59779824e+02-2.04429646e-02j]\n",
      " [ 1.00227794e+05+9.24996066e-01j  3.70283665e+04+1.64250059e-11j\n",
      "   1.74479926e+05-2.89341180e+00j ... -4.26790713e+04-5.19208627e+00j\n",
      "   7.88949030e+05+5.77723231e+01j -1.50878853e+05-1.10161254e+00j]]\n",
      "5.695383\n",
      "[[-2.97133135e-24+2.60117356e-29j  1.13483894e+01+2.81926243e-15j\n",
      "  -2.05663766e-25+1.10074593e-29j ...  2.35441444e-24+1.12855011e-28j\n",
      "  -6.27796643e-25-3.22291773e-29j  3.98944950e-23+1.43481748e-28j]\n",
      " [-7.25967441e-23+2.00742098e-27j  4.40167397e+02+1.03828452e-13j\n",
      "   4.04368997e-23-1.46353506e-27j ... -1.00283215e-22-7.46738889e-27j\n",
      "   9.85113547e-24+1.62563147e-27j -3.77099842e-22-1.18739491e-27j]\n",
      " [ 3.31528877e-21+3.05965935e-26j  8.22558623e+03+3.64869734e-12j\n",
      "   1.99010475e-21-3.30020348e-26j ... -2.95245234e-21-3.59178088e-25j\n",
      "   3.43266107e-21+2.51363265e-25j -6.66398986e-20-4.86558229e-25j]]\n",
      "0.763628\n"
     ]
    },
    {
     "data": {
      "text/plain": [
       "39587134686.123"
      ]
     },
     "execution_count": 36,
     "metadata": {},
     "output_type": "execute_result"
    }
   ],
   "source": [
    "# Ratio\n",
    "# Multi-derivatives\n",
    "\n",
    "tic = time.clock()\n",
    "t1=RiemannTheta.normalized_eval(X,Q, mode=0, derivs=np.array( [ [1], [1,1], [1,1,1] ]  )   )\n",
    "toc = time.clock()\n",
    "print(t1)\n",
    "print(toc-tic)\n",
    "\n",
    "\n",
    "tic = time.clock()\n",
    "t2=RiemannTheta.normalized_eval(X,Q, mode=2, derivs=np.array( [ [1], [1,1], [1,1,1] ]  )   )\n",
    "toc = time.clock()\n",
    "print(t2)\n",
    "\n",
    "print(toc-tic)\n",
    "\n",
    "x=t1-t2\n",
    "max(abs(x).flatten())"
   ]
  },
  {
   "cell_type": "code",
   "execution_count": null,
   "metadata": {},
   "outputs": [],
   "source": []
  }
 ],
 "metadata": {
  "kernelspec": {
   "display_name": "Python 2",
   "language": "python",
   "name": "python2"
  },
  "language_info": {
   "codemirror_mode": {
    "name": "ipython",
    "version": 2
   },
   "file_extension": ".py",
   "mimetype": "text/x-python",
   "name": "python",
   "nbconvert_exporter": "python",
   "pygments_lexer": "ipython2",
   "version": "2.7.6"
  }
 },
 "nbformat": 4,
 "nbformat_minor": 2
}
