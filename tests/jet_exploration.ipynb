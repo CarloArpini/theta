{
 "cells": [
  {
   "cell_type": "code",
   "execution_count": 158,
   "metadata": {
    "collapsed": true
   },
   "outputs": [],
   "source": [
    "import numpy as np\n",
    "import pandas as pd\n",
    "from matplotlib import pyplot as plt\n",
    "%matplotlib inline\n",
    "\n",
    "from sklearn import linear_model\n",
    "from sklearn.metrics import confusion_matrix, classification_report\n",
    "\n",
    "from theta import rtbm, minimizer\n",
    "\n",
    "import theta.layers as layers\n",
    "import theta.model as mdl\n",
    "\n",
    "import warnings\n",
    "warnings.filterwarnings('ignore')\n",
    "\n",
    "from theta.costfunctions import mse, crossentropy\n",
    "import h5py\n",
    "from sklearn import metrics"
   ]
  },
  {
   "cell_type": "code",
   "execution_count": 149,
   "metadata": {},
   "outputs": [],
   "source": [
    "# Load jet dataset\n",
    "jet_train = h5py.File('~/data/train_no_pile_10000000.h5', 'r')\n",
    "jet_test = h5py.File('~/data/test_no_pile_5000000.h5', 'r')\n",
    "\n",
    "# Prepare data (normalized onto [0,1])\n",
    "n = 10000\n",
    "m = 32\n",
    "Y_train = np.array(jet_train['targets'][0:n,0], dtype=np.int32)\n",
    "norm = np.max(jet_train['features'][0:n,0])\n",
    "X_train = jet_train['features'][0:n,0].reshape(n,m*m) / norm\n",
    "\n",
    "Y_test = np.array(jet_test['targets'][0:n/2,0], dtype=np.int32)\n",
    "X_test = jet_test['features'][:n/2,0].reshape(n/2,m*m) / norm"
   ]
  },
  {
   "cell_type": "code",
   "execution_count": 150,
   "metadata": {},
   "outputs": [
    {
     "name": "stdout",
     "output_type": "stream",
     "text": [
      "1\n"
     ]
    },
    {
     "data": {
      "image/png": "[encoded data removed]",
      "text/plain": [
       "<matplotlib.figure.Figure at 0x7f2c7655bc10>"
      ]
     },
     "metadata": {},
     "output_type": "display_data"
    }
   ],
   "source": [
    "# Visualize individual pics\n",
    "i=0\n",
    "print(Y_train[i])\n",
    "I=np.reshape(X_train[i], (m,m))\n",
    "plt.imshow(I, interpolation='nearest',  cmap='gray_r')\n",
    "plt.show()"
   ]
  },
  {
   "cell_type": "markdown",
   "metadata": {},
   "source": [
    "# Logistic regression baseline"
   ]
  },
  {
   "cell_type": "code",
   "execution_count": 159,
   "metadata": {},
   "outputs": [
    {
     "data": {
      "text/plain": [
       "LogisticRegression(C=1.0, class_weight=None, dual=False, fit_intercept=True,\n",
       "          intercept_scaling=1, max_iter=100, multi_class='multinomial',\n",
       "          n_jobs=1, penalty='l2', random_state=None, solver='lbfgs',\n",
       "          tol=0.0001, verbose=0, warm_start=False)"
      ]
     },
     "execution_count": 159,
     "metadata": {},
     "output_type": "execute_result"
    }
   ],
   "source": [
    "# Logistic regression baseline\n",
    "logreg = linear_model.LogisticRegression(multi_class='multinomial',solver='lbfgs')\n",
    "\n",
    "logreg.fit(X_train,Y_train)\n"
   ]
  },
  {
   "cell_type": "code",
   "execution_count": 202,
   "metadata": {},
   "outputs": [
    {
     "name": "stdout",
     "output_type": "stream",
     "text": [
      "             precision    recall  f1-score   support\n",
      "\n",
      "          0       0.78      0.83      0.81      5000\n",
      "          1       0.82      0.77      0.79      5000\n",
      "\n",
      "avg / total       0.80      0.80      0.80     10000\n",
      "\n",
      "[[4139  861]\n",
      " [1142 3858]]\n",
      "AUC: 0.799700\n"
     ]
    }
   ],
   "source": [
    "# On train set\n",
    "\n",
    "P=logreg.predict(X_train)\n",
    "\n",
    "print(classification_report(Y_train,P))\n",
    "print(confusion_matrix(Y_train, P))\n",
    "\n",
    "print('AUC: %f' % metrics.roc_auc_score(Y_train, P))"
   ]
  },
  {
   "cell_type": "code",
   "execution_count": 203,
   "metadata": {},
   "outputs": [
    {
     "name": "stdout",
     "output_type": "stream",
     "text": [
      "             precision    recall  f1-score   support\n",
      "\n",
      "          0       0.80      0.83      0.81      2564\n",
      "          1       0.82      0.77      0.79      2436\n",
      "\n",
      "avg / total       0.81      0.80      0.80      5000\n",
      "\n",
      "[[2136  428]\n",
      " [ 549 1887]]\n",
      "AUC: 0.803852\n"
     ]
    }
   ],
   "source": [
    "# On test set\n",
    "P=logreg.predict(X_test)\n",
    "\n",
    "print(classification_report(Y_test,P))\n",
    "print(confusion_matrix(Y_test, P))\n",
    "print('AUC: %f' % metrics.roc_auc_score(Y_test, P))"
   ]
  },
  {
   "cell_type": "markdown",
   "metadata": {},
   "source": [
    "# Linear regression base line"
   ]
  },
  {
   "cell_type": "code",
   "execution_count": 169,
   "metadata": {},
   "outputs": [
    {
     "data": {
      "text/plain": [
       "LinearRegression(copy_X=True, fit_intercept=True, n_jobs=1, normalize=False)"
      ]
     },
     "execution_count": 169,
     "metadata": {},
     "output_type": "execute_result"
    }
   ],
   "source": [
    "linreg = linear_model.LinearRegression()\n",
    "\n",
    "linreg.fit(X_train,Y_train)\n"
   ]
  },
  {
   "cell_type": "code",
   "execution_count": 204,
   "metadata": {},
   "outputs": [
    {
     "name": "stdout",
     "output_type": "stream",
     "text": [
      "             precision    recall  f1-score   support\n",
      "\n",
      "       -2.0       0.00      0.00      0.00         0\n",
      "       -1.0       0.00      0.00      0.00         0\n",
      "        0.0       0.85      0.85      0.85      5000\n",
      "        1.0       0.85      0.85      0.85      5000\n",
      "\n",
      "avg / total       0.85      0.85      0.85     10000\n",
      "\n",
      "[[   0    0    0    0]\n",
      " [   0    0    0    0]\n",
      " [   1    4 4238  757]\n",
      " [   0    0  769 4231]]\n",
      "AUC: 0.847477\n"
     ]
    }
   ],
   "source": [
    "# On train set\n",
    "\n",
    "P=np.round(linreg.predict(X_train))\n",
    "\n",
    "print(classification_report(Y_train,P))\n",
    "print(confusion_matrix(Y_train, P))\n",
    "print('AUC: %f' % metrics.roc_auc_score(Y_train, P))"
   ]
  },
  {
   "cell_type": "code",
   "execution_count": 205,
   "metadata": {
    "scrolled": true
   },
   "outputs": [
    {
     "ename": "ValueError",
     "evalue": "Mix type of y not allowed, got types set(['binary', 'continuous'])",
     "output_type": "error",
     "traceback": [
      "\u001b[0;31m---------------------------------------------------------------------------\u001b[0m",
      "\u001b[0;31mValueError\u001b[0m                                Traceback (most recent call last)",
      "\u001b[0;32m<ipython-input-205-d553cc610d0a>\u001b[0m in \u001b[0;36m<module>\u001b[0;34m()\u001b[0m\n\u001b[1;32m      2\u001b[0m \u001b[0mP\u001b[0m\u001b[0;34m=\u001b[0m\u001b[0mlinreg\u001b[0m\u001b[0;34m.\u001b[0m\u001b[0mpredict\u001b[0m\u001b[0;34m(\u001b[0m\u001b[0mX_test\u001b[0m\u001b[0;34m)\u001b[0m\u001b[0;34m\u001b[0m\u001b[0m\n\u001b[1;32m      3\u001b[0m \u001b[0;34m\u001b[0m\u001b[0m\n\u001b[0;32m----> 4\u001b[0;31m \u001b[0;32mprint\u001b[0m\u001b[0;34m(\u001b[0m\u001b[0mclassification_report\u001b[0m\u001b[0;34m(\u001b[0m\u001b[0mY_test\u001b[0m\u001b[0;34m,\u001b[0m\u001b[0mP\u001b[0m\u001b[0;34m)\u001b[0m\u001b[0;34m)\u001b[0m\u001b[0;34m\u001b[0m\u001b[0m\n\u001b[0m\u001b[1;32m      5\u001b[0m \u001b[0;32mprint\u001b[0m\u001b[0;34m(\u001b[0m\u001b[0mconfusion_matrix\u001b[0m\u001b[0;34m(\u001b[0m\u001b[0mY_test\u001b[0m\u001b[0;34m,\u001b[0m \u001b[0mP\u001b[0m\u001b[0;34m)\u001b[0m\u001b[0;34m)\u001b[0m\u001b[0;34m\u001b[0m\u001b[0m\n\u001b[1;32m      6\u001b[0m \u001b[0;32mprint\u001b[0m\u001b[0;34m(\u001b[0m\u001b[0;34m'AUC: %f'\u001b[0m \u001b[0;34m%\u001b[0m \u001b[0mmetrics\u001b[0m\u001b[0;34m.\u001b[0m\u001b[0mroc_auc_score\u001b[0m\u001b[0;34m(\u001b[0m\u001b[0mY_test\u001b[0m\u001b[0;34m,\u001b[0m \u001b[0mP\u001b[0m\u001b[0;34m)\u001b[0m\u001b[0;34m)\u001b[0m\u001b[0;34m\u001b[0m\u001b[0m\n",
      "\u001b[0;32m/home/carrazza/anaconda2/lib/python2.7/site-packages/sklearn/metrics/classification.pyc\u001b[0m in \u001b[0;36mclassification_report\u001b[0;34m(y_true, y_pred, labels, target_names, sample_weight, digits)\u001b[0m\n\u001b[1;32m   1419\u001b[0m \u001b[0;34m\u001b[0m\u001b[0m\n\u001b[1;32m   1420\u001b[0m     \u001b[0;32mif\u001b[0m \u001b[0mlabels\u001b[0m \u001b[0;32mis\u001b[0m \u001b[0mNone\u001b[0m\u001b[0;34m:\u001b[0m\u001b[0;34m\u001b[0m\u001b[0m\n\u001b[0;32m-> 1421\u001b[0;31m         \u001b[0mlabels\u001b[0m \u001b[0;34m=\u001b[0m \u001b[0munique_labels\u001b[0m\u001b[0;34m(\u001b[0m\u001b[0my_true\u001b[0m\u001b[0;34m,\u001b[0m \u001b[0my_pred\u001b[0m\u001b[0;34m)\u001b[0m\u001b[0;34m\u001b[0m\u001b[0m\n\u001b[0m\u001b[1;32m   1422\u001b[0m     \u001b[0;32melse\u001b[0m\u001b[0;34m:\u001b[0m\u001b[0;34m\u001b[0m\u001b[0m\n\u001b[1;32m   1423\u001b[0m         \u001b[0mlabels\u001b[0m \u001b[0;34m=\u001b[0m \u001b[0mnp\u001b[0m\u001b[0;34m.\u001b[0m\u001b[0masarray\u001b[0m\u001b[0;34m(\u001b[0m\u001b[0mlabels\u001b[0m\u001b[0;34m)\u001b[0m\u001b[0;34m\u001b[0m\u001b[0m\n",
      "\u001b[0;32m/home/carrazza/anaconda2/lib/python2.7/site-packages/sklearn/utils/multiclass.pyc\u001b[0m in \u001b[0;36munique_labels\u001b[0;34m(*ys)\u001b[0m\n\u001b[1;32m     81\u001b[0m \u001b[0;34m\u001b[0m\u001b[0m\n\u001b[1;32m     82\u001b[0m     \u001b[0;32mif\u001b[0m \u001b[0mlen\u001b[0m\u001b[0;34m(\u001b[0m\u001b[0mys_types\u001b[0m\u001b[0;34m)\u001b[0m \u001b[0;34m>\u001b[0m \u001b[0;36m1\u001b[0m\u001b[0;34m:\u001b[0m\u001b[0;34m\u001b[0m\u001b[0m\n\u001b[0;32m---> 83\u001b[0;31m         \u001b[0;32mraise\u001b[0m \u001b[0mValueError\u001b[0m\u001b[0;34m(\u001b[0m\u001b[0;34m\"Mix type of y not allowed, got types %s\"\u001b[0m \u001b[0;34m%\u001b[0m \u001b[0mys_types\u001b[0m\u001b[0;34m)\u001b[0m\u001b[0;34m\u001b[0m\u001b[0m\n\u001b[0m\u001b[1;32m     84\u001b[0m \u001b[0;34m\u001b[0m\u001b[0m\n\u001b[1;32m     85\u001b[0m     \u001b[0mlabel_type\u001b[0m \u001b[0;34m=\u001b[0m \u001b[0mys_types\u001b[0m\u001b[0;34m.\u001b[0m\u001b[0mpop\u001b[0m\u001b[0;34m(\u001b[0m\u001b[0;34m)\u001b[0m\u001b[0;34m\u001b[0m\u001b[0m\n",
      "\u001b[0;31mValueError\u001b[0m: Mix type of y not allowed, got types set(['binary', 'continuous'])"
     ]
    }
   ],
   "source": [
    "# On test set\n",
    "P=linreg.predict(X_test)\n",
    "\n",
    "print(classification_report(Y_test,P))\n",
    "print(confusion_matrix(Y_test, P))\n",
    "print('AUC: %f' % metrics.roc_auc_score(Y_test, P))"
   ]
  },
  {
   "cell_type": "markdown",
   "metadata": {},
   "source": [
    "# Linear regression via CMA"
   ]
  },
  {
   "cell_type": "code",
   "execution_count": 123,
   "metadata": {
    "scrolled": true
   },
   "outputs": [
    {
     "name": "stdout",
     "output_type": "stream",
     "text": [
      "CMA on 1 cpu(s) enabled\n",
      "(12_w,24)-aCMA-ES (mu_w=7.0,w_1=24%) in dimension 1025 (seed=788804, Thu Dec  7 10:46:07 2017)\n",
      "Iterat #Fevals   function value  axis ratio  sigma  min&max std  t[m:s]\n",
      "    1     24 2.570257675157519e-01 1.0e+00 9.93e-01  1e+00  1e+00 0:00.0\n",
      "    2     48 2.896666284201821e-01 1.0e+00 9.86e-01  1e+00  1e+00 0:00.5\n",
      "    3     72 2.695416186667523e-01 1.0e+00 9.79e-01  1e+00  1e+00 0:00.9\n",
      "   10    240 3.089261601986672e-01 1.0e+00 9.40e-01  9e-01  9e-01 0:03.9\n",
      "   20    480 3.932493940452424e-01 1.0e+00 8.98e-01  9e-01  9e-01 0:08.1\n",
      "   31    744 4.333357706183462e-01 1.0e+00 8.64e-01  9e-01  9e-01 0:13.2\n",
      "   46   1104 4.983083471678758e-01 1.0e+00 8.28e-01  8e-01  8e-01 0:19.6\n",
      "   63   1512 4.472394351818508e-01 1.0e+00 7.98e-01  8e-01  8e-01 0:26.8\n",
      "   82   1968 3.974324872581882e-01 1.0e+00 7.72e-01  8e-01  8e-01 0:35.3\n",
      "  100   2400 3.676499756380006e-01 1.0e+00 7.56e-01  8e-01  8e-01 0:42.9\n",
      "  123   2952 3.436848524698505e-01 1.0e+00 7.42e-01  7e-01  7e-01 0:53.0\n",
      "  149   3576 3.971700930656878e-01 1.0e+00 7.33e-01  7e-01  7e-01 1:04.2\n",
      "  178   4272 4.002883582911366e-01 1.1e+00 7.33e-01  7e-01  7e-01 1:16.4\n",
      "  200   4800 4.191794741661399e-01 1.1e+00 7.35e-01  7e-01  7e-01 1:26.4\n"
     ]
    },
    {
     "ename": "KeyboardInterrupt",
     "evalue": "",
     "output_type": "error",
     "traceback": [
      "\u001b[0;31m---------------------------------------------------------------------------\u001b[0m",
      "\u001b[0;31mKeyboardInterrupt\u001b[0m                         Traceback (most recent call last)",
      "\u001b[0;32m<ipython-input-123-cf0556729b0f>\u001b[0m in \u001b[0;36m<module>\u001b[0;34m()\u001b[0m\n\u001b[1;32m      3\u001b[0m \u001b[0;34m\u001b[0m\u001b[0m\n\u001b[1;32m      4\u001b[0m \u001b[0mminim\u001b[0m \u001b[0;34m=\u001b[0m \u001b[0mminimizer\u001b[0m\u001b[0;34m.\u001b[0m\u001b[0mCMA\u001b[0m\u001b[0;34m(\u001b[0m\u001b[0mFalse\u001b[0m\u001b[0;34m)\u001b[0m\u001b[0;34m\u001b[0m\u001b[0m\n\u001b[0;32m----> 5\u001b[0;31m \u001b[0msol\u001b[0m\u001b[0;34m=\u001b[0m\u001b[0mminim\u001b[0m\u001b[0;34m.\u001b[0m\u001b[0mtrain\u001b[0m\u001b[0;34m(\u001b[0m\u001b[0mmse\u001b[0m\u001b[0;34m,\u001b[0m \u001b[0mM\u001b[0m\u001b[0;34m,\u001b[0m \u001b[0mnp\u001b[0m\u001b[0;34m.\u001b[0m\u001b[0mtranspose\u001b[0m\u001b[0;34m(\u001b[0m\u001b[0mX_train\u001b[0m\u001b[0;34m)\u001b[0m\u001b[0;34m,\u001b[0m \u001b[0mnp\u001b[0m\u001b[0;34m.\u001b[0m\u001b[0mtranspose\u001b[0m\u001b[0;34m(\u001b[0m\u001b[0mY_train\u001b[0m\u001b[0;34m)\u001b[0m\u001b[0;34m,\u001b[0m \u001b[0mmaxiter\u001b[0m\u001b[0;34m=\u001b[0m\u001b[0;36m1000\u001b[0m\u001b[0;34m)\u001b[0m\u001b[0;34m\u001b[0m\u001b[0m\n\u001b[0m",
      "\u001b[0;32m/home/carrazza/repo/riemannai/theta/theta/minimizer.pyc\u001b[0m in \u001b[0;36mtrain\u001b[0;34m(self, cost, model, x_data, y_data, tolfun, popsize, maxiter, use_grad)\u001b[0m\n\u001b[1;32m     96\u001b[0m                     \u001b[0;32mwhile\u001b[0m \u001b[0mnp\u001b[0m\u001b[0;34m.\u001b[0m\u001b[0misnan\u001b[0m\u001b[0;34m(\u001b[0m\u001b[0mcurr_fit\u001b[0m\u001b[0;34m)\u001b[0m\u001b[0;34m:\u001b[0m\u001b[0;34m\u001b[0m\u001b[0m\n\u001b[1;32m     97\u001b[0m                         \u001b[0mx\u001b[0m \u001b[0;34m=\u001b[0m \u001b[0mes\u001b[0m\u001b[0;34m.\u001b[0m\u001b[0mask\u001b[0m\u001b[0;34m(\u001b[0m\u001b[0;36m1\u001b[0m\u001b[0;34m,\u001b[0m \u001b[0mgradf\u001b[0m\u001b[0;34m=\u001b[0m\u001b[0mgrad\u001b[0m\u001b[0;34m)\u001b[0m\u001b[0;34m[\u001b[0m\u001b[0;36m0\u001b[0m\u001b[0;34m]\u001b[0m\u001b[0;34m\u001b[0m\u001b[0m\n\u001b[0;32m---> 98\u001b[0;31m                         \u001b[0mcurr_fit\u001b[0m \u001b[0;34m=\u001b[0m \u001b[0mworker_compute\u001b[0m\u001b[0;34m(\u001b[0m\u001b[0mx\u001b[0m\u001b[0;34m)\u001b[0m\u001b[0;34m\u001b[0m\u001b[0m\n\u001b[0m\u001b[1;32m     99\u001b[0m                     \u001b[0msolutions\u001b[0m\u001b[0;34m.\u001b[0m\u001b[0mappend\u001b[0m\u001b[0;34m(\u001b[0m\u001b[0mx\u001b[0m\u001b[0;34m)\u001b[0m\u001b[0;34m\u001b[0m\u001b[0m\n\u001b[1;32m    100\u001b[0m                     \u001b[0mf_values\u001b[0m\u001b[0;34m.\u001b[0m\u001b[0mappend\u001b[0m\u001b[0;34m(\u001b[0m\u001b[0mcurr_fit\u001b[0m\u001b[0;34m)\u001b[0m\u001b[0;34m\u001b[0m\u001b[0m\n",
      "\u001b[0;32m/home/carrazza/repo/riemannai/theta/theta/minimizer.pyc\u001b[0m in \u001b[0;36mworker_compute\u001b[0;34m(params)\u001b[0m\n\u001b[1;32m     29\u001b[0m     \u001b[0;32mif\u001b[0m \u001b[0;32mnot\u001b[0m \u001b[0mresource\u001b[0m\u001b[0;34m.\u001b[0m\u001b[0mmodel\u001b[0m\u001b[0;34m.\u001b[0m\u001b[0mset_parameters\u001b[0m\u001b[0;34m(\u001b[0m\u001b[0mparams\u001b[0m\u001b[0;34m)\u001b[0m\u001b[0;34m:\u001b[0m\u001b[0;34m\u001b[0m\u001b[0m\n\u001b[1;32m     30\u001b[0m         \u001b[0;32mreturn\u001b[0m \u001b[0mnp\u001b[0m\u001b[0;34m.\u001b[0m\u001b[0mNaN\u001b[0m\u001b[0;34m\u001b[0m\u001b[0m\n\u001b[0;32m---> 31\u001b[0;31m     \u001b[0mres\u001b[0m \u001b[0;34m=\u001b[0m \u001b[0mresource\u001b[0m\u001b[0;34m.\u001b[0m\u001b[0mcost_function\u001b[0m\u001b[0;34m.\u001b[0m\u001b[0mcost\u001b[0m\u001b[0;34m(\u001b[0m\u001b[0mnp\u001b[0m\u001b[0;34m.\u001b[0m\u001b[0mreal\u001b[0m\u001b[0;34m(\u001b[0m\u001b[0mresource\u001b[0m\u001b[0;34m.\u001b[0m\u001b[0mmodel\u001b[0m\u001b[0;34m(\u001b[0m\u001b[0mresource\u001b[0m\u001b[0;34m.\u001b[0m\u001b[0mx_data\u001b[0m\u001b[0;34m)\u001b[0m\u001b[0;34m)\u001b[0m\u001b[0;34m,\u001b[0m \u001b[0mresource\u001b[0m\u001b[0;34m.\u001b[0m\u001b[0my_data\u001b[0m\u001b[0;34m)\u001b[0m\u001b[0;34m\u001b[0m\u001b[0m\n\u001b[0m\u001b[1;32m     32\u001b[0m     \u001b[0;32mreturn\u001b[0m \u001b[0mres\u001b[0m\u001b[0;34m\u001b[0m\u001b[0m\n\u001b[1;32m     33\u001b[0m \u001b[0;34m\u001b[0m\u001b[0m\n",
      "\u001b[0;32m/home/carrazza/repo/riemannai/theta/theta/model.pyc\u001b[0m in \u001b[0;36m__call__\u001b[0;34m(self, data)\u001b[0m\n\u001b[1;32m     45\u001b[0m     \u001b[0;32mdef\u001b[0m \u001b[0m__call__\u001b[0m\u001b[0;34m(\u001b[0m\u001b[0mself\u001b[0m\u001b[0;34m,\u001b[0m \u001b[0mdata\u001b[0m\u001b[0;34m)\u001b[0m\u001b[0;34m:\u001b[0m\u001b[0;34m\u001b[0m\u001b[0m\n\u001b[1;32m     46\u001b[0m         \u001b[0;34m\"\"\" Evaluates the model for a given data array \"\"\"\u001b[0m\u001b[0;34m\u001b[0m\u001b[0m\n\u001b[0;32m---> 47\u001b[0;31m         \u001b[0;32mreturn\u001b[0m \u001b[0mself\u001b[0m\u001b[0;34m.\u001b[0m\u001b[0mfeed_through\u001b[0m\u001b[0;34m(\u001b[0m\u001b[0mdata\u001b[0m\u001b[0;34m)\u001b[0m\u001b[0;34m\u001b[0m\u001b[0m\n\u001b[0m\u001b[1;32m     48\u001b[0m \u001b[0;34m\u001b[0m\u001b[0m\n\u001b[1;32m     49\u001b[0m     \u001b[0;32mdef\u001b[0m \u001b[0msize\u001b[0m\u001b[0;34m(\u001b[0m\u001b[0mself\u001b[0m\u001b[0;34m)\u001b[0m\u001b[0;34m:\u001b[0m\u001b[0;34m\u001b[0m\u001b[0m\n",
      "\u001b[0;32m/home/carrazza/repo/riemannai/theta/theta/model.pyc\u001b[0m in \u001b[0;36mfeed_through\u001b[0;34m(self, X, grad_calc)\u001b[0m\n\u001b[1;32m     31\u001b[0m         \u001b[0mx\u001b[0m \u001b[0;34m=\u001b[0m \u001b[0mX\u001b[0m\u001b[0;34m\u001b[0m\u001b[0m\n\u001b[1;32m     32\u001b[0m         \u001b[0;32mfor\u001b[0m \u001b[0mL\u001b[0m \u001b[0;32min\u001b[0m \u001b[0mself\u001b[0m\u001b[0;34m.\u001b[0m\u001b[0m_layers\u001b[0m\u001b[0;34m:\u001b[0m\u001b[0;34m\u001b[0m\u001b[0m\n\u001b[0;32m---> 33\u001b[0;31m             \u001b[0mx\u001b[0m \u001b[0;34m=\u001b[0m \u001b[0mL\u001b[0m\u001b[0;34m.\u001b[0m\u001b[0mfeedin\u001b[0m\u001b[0;34m(\u001b[0m\u001b[0mx\u001b[0m\u001b[0;34m,\u001b[0m \u001b[0mgrad_calc\u001b[0m\u001b[0;34m)\u001b[0m\u001b[0;34m\u001b[0m\u001b[0m\n\u001b[0m\u001b[1;32m     34\u001b[0m         \u001b[0;32mreturn\u001b[0m \u001b[0mx\u001b[0m\u001b[0;34m\u001b[0m\u001b[0m\n\u001b[1;32m     35\u001b[0m \u001b[0;34m\u001b[0m\u001b[0m\n",
      "\u001b[0;32m/home/carrazza/repo/riemannai/theta/theta/layers.pyc\u001b[0m in \u001b[0;36mfeedin\u001b[0;34m(self, X, grad_calc)\u001b[0m\n\u001b[1;32m    168\u001b[0m             \u001b[0mself\u001b[0m\u001b[0;34m.\u001b[0m\u001b[0m_X\u001b[0m \u001b[0;34m=\u001b[0m \u001b[0mX\u001b[0m\u001b[0;34m\u001b[0m\u001b[0m\n\u001b[1;32m    169\u001b[0m \u001b[0;34m\u001b[0m\u001b[0m\n\u001b[0;32m--> 170\u001b[0;31m         \u001b[0;32mreturn\u001b[0m \u001b[0mself\u001b[0m\u001b[0;34m.\u001b[0m\u001b[0m_w\u001b[0m\u001b[0;34m.\u001b[0m\u001b[0mdot\u001b[0m\u001b[0;34m(\u001b[0m\u001b[0mX\u001b[0m\u001b[0;34m)\u001b[0m\u001b[0;34m+\u001b[0m\u001b[0mself\u001b[0m\u001b[0;34m.\u001b[0m\u001b[0m_b\u001b[0m\u001b[0;34m\u001b[0m\u001b[0m\n\u001b[0m\u001b[1;32m    171\u001b[0m \u001b[0;34m\u001b[0m\u001b[0m\n\u001b[1;32m    172\u001b[0m     \u001b[0;32mdef\u001b[0m \u001b[0mbackprop\u001b[0m\u001b[0;34m(\u001b[0m\u001b[0mself\u001b[0m\u001b[0;34m,\u001b[0m \u001b[0mE\u001b[0m\u001b[0;34m)\u001b[0m\u001b[0;34m:\u001b[0m\u001b[0;34m\u001b[0m\u001b[0m\n",
      "\u001b[0;31mKeyboardInterrupt\u001b[0m: "
     ]
    }
   ],
   "source": [
    "M = mdl.Model()\n",
    "M.add(layers.Linear(m*m,1))\n",
    "\n",
    "minim = minimizer.CMA(False)\n",
    "sol=minim.train(mse, M, np.transpose(X_train), np.transpose(Y_train), maxiter=1000)"
   ]
  },
  {
   "cell_type": "code",
   "execution_count": 206,
   "metadata": {},
   "outputs": [
    {
     "name": "stdout",
     "output_type": "stream",
     "text": [
      "             precision    recall  f1-score   support\n",
      "\n",
      "          0       0.79      0.75      0.77      5000\n",
      "          1       0.76      0.80      0.78      5000\n",
      "\n",
      "avg / total       0.78      0.78      0.78     10000\n",
      "\n",
      "[[3742 1258]\n",
      " [ 980 4020]]\n",
      "AUC: 0.776200\n"
     ]
    }
   ],
   "source": [
    "# On train set\n",
    "P=np.abs(np.round(np.real(M.predict(np.transpose(X_train)))))\n",
    "\n",
    "\n",
    "print(classification_report(Y_train,P.T))\n",
    "print(confusion_matrix(Y_train, P.T))\n",
    "print('AUC: %f' % metrics.roc_auc_score(Y_train, P.T))"
   ]
  },
  {
   "cell_type": "code",
   "execution_count": 207,
   "metadata": {},
   "outputs": [
    {
     "name": "stdout",
     "output_type": "stream",
     "text": [
      "             precision    recall  f1-score   support\n",
      "\n",
      "          0       0.81      0.76      0.78      2564\n",
      "          1       0.76      0.81      0.78      2436\n",
      "\n",
      "avg / total       0.78      0.78      0.78      5000\n",
      "\n",
      "[[1938  626]\n",
      " [ 469 1967]]\n",
      "AUC: 0.781661\n"
     ]
    }
   ],
   "source": [
    "# On test set\n",
    "P=np.abs(np.round(np.real(M.predict(np.transpose(X_test)))))\n",
    "\n",
    "print(classification_report(Y_test,P.T))\n",
    "print(confusion_matrix(Y_test, P.T))\n",
    "print('AUC: %f' % metrics.roc_auc_score(Y_test, P.T))"
   ]
  },
  {
   "cell_type": "markdown",
   "metadata": {},
   "source": [
    "# Linear regression via SGD"
   ]
  },
  {
   "cell_type": "code",
   "execution_count": 126,
   "metadata": {},
   "outputs": [
    {
     "name": "stdout",
     "output_type": "stream",
     "text": [
      "Progress: |████████████████████| 100.0% | iteration 1000 in 137.26(s) | cost = 0.136394 | val = 0.000000\n"
     ]
    },
    {
     "data": {
      "image/png": "[encoded data removed]",
      "text/plain": [
       "<matplotlib.figure.Figure at 0x7f2c766fe110>"
      ]
     },
     "metadata": {},
     "output_type": "display_data"
    }
   ],
   "source": [
    "M = mdl.Model()\n",
    "M.add(layers.Linear(m*m,100))\n",
    "M.add(layers.Linear(100,1))\n",
    "\n",
    "#M.add(layers.NonLinear(784,3))\n",
    "#M.add(layers.NonLinear(3,3))\n",
    "#M.add(layers.Linear(10,1))\n",
    "\n",
    "minim = minimizer.SGD()\n",
    "sol=minim.train(mse, M, np.transpose(X_train), Y_train.reshape(1,len(Y_train)), lr=0.1, maxiter=1000, batch_size=1000)\n",
    "\n",
    "#minim = minimizer.BFGS()\n",
    "#sol=minim.train(mse(), M, np.transpose(X_train), Y_train.reshape(1,len(Y_train)), maxiter=1000)"
   ]
  },
  {
   "cell_type": "code",
   "execution_count": 208,
   "metadata": {},
   "outputs": [
    {
     "name": "stdout",
     "output_type": "stream",
     "text": [
      "             precision    recall  f1-score   support\n",
      "\n",
      "          0       0.79      0.75      0.77      5000\n",
      "          1       0.76      0.80      0.78      5000\n",
      "\n",
      "avg / total       0.78      0.78      0.78     10000\n",
      "\n",
      "[[3742 1258]\n",
      " [ 980 4020]]\n",
      "AUC: 0.776200\n"
     ]
    }
   ],
   "source": [
    "# On train set\n",
    "P=np.abs(np.round(np.real(M.predict(np.transpose(X_train)))))\n",
    "\n",
    "print(classification_report(Y_train,P.T))\n",
    "print(confusion_matrix(Y_train, P.T))\n",
    "print('AUC: %f' % metrics.roc_auc_score(Y_train, P.T))"
   ]
  },
  {
   "cell_type": "code",
   "execution_count": 209,
   "metadata": {},
   "outputs": [
    {
     "name": "stdout",
     "output_type": "stream",
     "text": [
      "             precision    recall  f1-score   support\n",
      "\n",
      "          0       0.81      0.76      0.78      2564\n",
      "          1       0.76      0.81      0.78      2436\n",
      "\n",
      "avg / total       0.78      0.78      0.78      5000\n",
      "\n",
      "[[1938  626]\n",
      " [ 469 1967]]\n",
      "AUC: 0.781661\n"
     ]
    }
   ],
   "source": [
    "# On test set\n",
    "P=np.abs(np.round(np.real(M.predict(np.transpose(X_test)))))\n",
    "\n",
    "print(classification_report(Y_test,P.T))\n",
    "print(confusion_matrix(Y_test, P.T))\n",
    "print('AUC: %f' % metrics.roc_auc_score(Y_test, P.T))"
   ]
  },
  {
   "cell_type": "markdown",
   "metadata": {},
   "source": [
    "# E(h|v) via SGD"
   ]
  },
  {
   "cell_type": "code",
   "execution_count": 139,
   "metadata": {},
   "outputs": [
    {
     "name": "stdout",
     "output_type": "stream",
     "text": [
      "Progress: |████████████████████| 100.0% | iteration 1000 in 164.40(s) | cost = 0.131634 | val = 0.000000\n"
     ]
    },
    {
     "data": {
      "image/png": "[encoded data removed]",
      "text/plain": [
       "<matplotlib.figure.Figure at 0x7f2c7419ac10>"
      ]
     },
     "metadata": {},
     "output_type": "display_data"
    }
   ],
   "source": [
    "M = mdl.Model()\n",
    "M.add(layers.DiagExpectationUnitLayer(m*m,1))\n",
    "#M.add(layers.DiagExpectationUnitLayer(10,1))\n",
    "\n",
    "minim = minimizer.SGD()\n",
    "sol=minim.train(mse, M, np.transpose(X_train), Y_train.reshape(1,Y_train.shape[0]),lr=10,momentum=0.1, nesterov=True, maxiter=1000, batch_size=1000)"
   ]
  },
  {
   "cell_type": "code",
   "execution_count": 210,
   "metadata": {},
   "outputs": [
    {
     "name": "stdout",
     "output_type": "stream",
     "text": [
      "             precision    recall  f1-score   support\n",
      "\n",
      "          0       0.79      0.75      0.77      5000\n",
      "          1       0.76      0.80      0.78      5000\n",
      "\n",
      "avg / total       0.78      0.78      0.78     10000\n",
      "\n",
      "[[3742 1258]\n",
      " [ 980 4020]]\n",
      "AUC: 0.776200\n"
     ]
    }
   ],
   "source": [
    "# On train set\n",
    "P=np.abs(np.round(np.real(M.predict(np.transpose(X_train)))))\n",
    "\n",
    "\n",
    "print(classification_report(Y_train,P.T))\n",
    "print(confusion_matrix(Y_train, P.T))\n",
    "print('AUC: %f' % metrics.roc_auc_score(Y_train, P.T))"
   ]
  },
  {
   "cell_type": "code",
   "execution_count": 211,
   "metadata": {},
   "outputs": [
    {
     "name": "stdout",
     "output_type": "stream",
     "text": [
      "             precision    recall  f1-score   support\n",
      "\n",
      "          0       0.81      0.76      0.78      2564\n",
      "          1       0.76      0.81      0.78      2436\n",
      "\n",
      "avg / total       0.78      0.78      0.78      5000\n",
      "\n",
      "[[1938  626]\n",
      " [ 469 1967]]\n",
      "AUC: 0.781661\n"
     ]
    }
   ],
   "source": [
    "# On test set\n",
    "P=np.abs(np.round(np.real(M.predict(np.transpose(X_test)))))\n",
    "\n",
    "print(classification_report(Y_test,P.T))\n",
    "print(confusion_matrix(Y_test, P.T))\n",
    "print('AUC: %f' % metrics.roc_auc_score(Y_test, P.T))"
   ]
  },
  {
   "cell_type": "markdown",
   "metadata": {},
   "source": [
    "# E(h|v) via CMA"
   ]
  },
  {
   "cell_type": "code",
   "execution_count": 144,
   "metadata": {},
   "outputs": [
    {
     "name": "stdout",
     "output_type": "stream",
     "text": [
      "CMA on 1 cpu(s) enabled\n",
      "(14_w,28)-aCMA-ES (mu_w=8.1,w_1=21%) in dimension 3083 (seed=670192, Thu Dec  7 10:55:21 2017)\n",
      "Iterat #Fevals   function value  axis ratio  sigma  min&max std  t[m:s]\n",
      "    1     28 4.405045714096039e-01 1.0e+00 1.60e+00  2e+00  2e+00 0:00.2\n",
      "    2     56 3.720052531398204e-01 1.0e+00 1.59e+00  2e+00  2e+00 0:01.7\n",
      "    3     84 2.842611871472150e-01 1.0e+00 1.59e+00  2e+00  2e+00 0:03.2\n",
      "    6    168 2.568303215719469e-01 1.0e+00 1.57e+00  2e+00  2e+00 0:07.6\n",
      "    9    252 2.011688507546809e-01 1.0e+00 1.56e+00  2e+00  2e+00 0:11.9\n",
      "   13    364 1.973097080840297e-01 1.0e+00 1.55e+00  2e+00  2e+00 0:17.8\n",
      "   18    504 1.871702979851027e-01 1.0e+00 1.53e+00  2e+00  2e+00 0:25.2\n",
      "   22    616 1.915920605903696e-01 1.0e+00 1.52e+00  2e+00  2e+00 0:35.7\n",
      "   28    784 2.027028517201159e-01 1.0e+00 1.50e+00  1e+00  1e+00 0:44.7\n",
      "   35    980 1.871250111552502e-01 1.0e+00 1.48e+00  1e+00  1e+00 0:55.1\n",
      "   42   1176 1.895502301288206e-01 1.0e+00 1.46e+00  1e+00  1e+00 1:05.6\n",
      "   47   1316 1.802575143134985e-01 1.0e+00 1.45e+00  1e+00  1e+00 1:16.9\n",
      "   56   1568 1.831607237248052e-01 1.0e+00 1.43e+00  1e+00  1e+00 1:30.3\n",
      "   64   1792 1.882489777656153e-01 1.0e+00 1.41e+00  1e+00  1e+00 1:46.0\n",
      "   74   2072 1.818134348650936e-01 1.0e+00 1.40e+00  1e+00  1e+00 2:00.5\n",
      "   85   2380 1.907925393026674e-01 1.0e+00 1.38e+00  1e+00  1e+00 2:20.4\n",
      "   96   2688 1.941688253306279e-01 1.0e+00 1.36e+00  1e+00  1e+00 2:36.5\n",
      "  100   2800 1.900821630333093e-01 1.0e+00 1.36e+00  1e+00  1e+00 2:42.3\n",
      "  110   3080 1.874898757844303e-01 1.0e+00 1.34e+00  1e+00  1e+00 3:01.4\n",
      "  123   3444 1.767349221158881e-01 1.0e+00 1.33e+00  1e+00  1e+00 3:21.0\n",
      "  134   3752 1.864184971476503e-01 1.0e+00 1.31e+00  1e+00  1e+00 3:41.1\n",
      "  148   4144 1.814928576184398e-01 1.0e+00 1.30e+00  1e+00  1e+00 4:05.4\n",
      "  164   4592 1.870608575920285e-01 1.0e+00 1.29e+00  1e+00  1e+00 4:28.7\n",
      "  178   4984 1.875629075470419e-01 1.0e+00 1.28e+00  1e+00  1e+00 4:53.2\n",
      "  191   5348 1.848994741250099e-01 1.0e+00 1.27e+00  1e+00  1e+00 5:17.6\n",
      "  200   5600 1.859025926226411e-01 1.0e+00 1.26e+00  1e+00  1e+00 5:30.5\n",
      "  216   6048 1.742197112676461e-01 1.0e+00 1.25e+00  1e+00  1e+00 5:57.7\n",
      "  233   6524 1.736781460467075e-01 1.0e+00 1.24e+00  1e+00  1e+00 6:26.1\n",
      "  253   7084 1.731322983438920e-01 1.0e+00 1.23e+00  1e+00  1e+00 6:58.5\n",
      "  274   7672 1.776885903568924e-01 1.0e+00 1.22e+00  1e+00  1e+00 7:32.8\n",
      "  295   8260 1.763702779560426e-01 1.0e+00 1.22e+00  1e+00  1e+00 8:07.0\n",
      "  300   8400 1.702207654830711e-01 1.0e+00 1.21e+00  1e+00  1e+00 8:14.1\n",
      "  320   8960 1.808914525630118e-01 1.0e+00 1.21e+00  1e+00  1e+00 8:46.7\n",
      "  341   9548 1.725412261028711e-01 1.0e+00 1.20e+00  1e+00  1e+00 9:20.3\n",
      "  363  10164 1.737368522358169e-01 1.0e+00 1.20e+00  1e+00  1e+00 9:55.3\n",
      "  385  10780 1.742792079917585e-01 1.0e+00 1.20e+00  1e+00  1e+00 10:30.6\n",
      "  400  11200 1.747741434480267e-01 1.0e+00 1.20e+00  1e+00  1e+00 10:55.9\n",
      "  423  11844 1.721872117838925e-01 1.0e+00 1.19e+00  1e+00  1e+00 11:33.1\n",
      "  447  12516 1.663256467683545e-01 1.0e+00 1.19e+00  1e+00  1e+00 12:11.6\n",
      "  472  13216 1.698957690463972e-01 1.0e+00 1.19e+00  1e+00  1e+00 12:51.9\n",
      "  497  13916 1.681642525555901e-01 1.0e+00 1.19e+00  1e+00  1e+00 13:32.3\n",
      "  500  14000 1.675540771360619e-01 1.0e+00 1.19e+00  1e+00  1e+00 13:36.7\n",
      "  526  14728 1.677585169075180e-01 1.1e+00 1.19e+00  1e+00  1e+00 14:22.3\n",
      "  554  15512 1.719010590839858e-01 1.1e+00 1.19e+00  1e+00  1e+00 15:06.4\n",
      "  582  16296 1.686745840795563e-01 1.1e+00 1.19e+00  1e+00  1e+00 15:50.4\n",
      "  600  16800 1.651552785841506e-01 1.1e+00 1.19e+00  1e+00  1e+00 16:20.4\n",
      "  630  17640 1.679814216447160e-01 1.1e+00 1.18e+00  1e+00  1e+00 17:06.9\n",
      "  658  18424 1.679058690266010e-01 1.1e+00 1.18e+00  1e+00  1e+00 17:54.8\n",
      "  689  19292 1.624982150365508e-01 1.1e+00 1.18e+00  1e+00  1e+00 18:43.3\n",
      "  700  19600 1.644038664351714e-01 1.1e+00 1.18e+00  1e+00  1e+00 19:03.2\n",
      "  732  20496 1.636113586015939e-01 1.1e+00 1.17e+00  1e+00  1e+00 19:53.3\n",
      "  762  21336 1.641777164047068e-01 1.1e+00 1.17e+00  1e+00  1e+00 20:45.7\n",
      "  795  22260 1.600669156720663e-01 1.1e+00 1.17e+00  1e+00  1e+00 21:38.6\n",
      "  800  22400 1.600092744383493e-01 1.1e+00 1.17e+00  1e+00  1e+00 21:50.0\n",
      "  835  23380 1.647893972239352e-01 1.1e+00 1.17e+00  1e+00  1e+00 22:45.2\n",
      "  867  24276 1.650070245865529e-01 1.1e+00 1.16e+00  1e+00  1e+00 23:40.7\n",
      "  900  25200 1.726433015500360e-01 1.1e+00 1.16e+00  1e+00  1e+00 24:33.2\n",
      "  934  26152 1.626242479616456e-01 1.1e+00 1.16e+00  1e+00  1e+00 25:31.3\n",
      "  969  27132 1.684596972633688e-01 1.1e+00 1.16e+00  1e+00  1e+00 26:30.1\n",
      " 1000  28000 1.644595983631071e-01 1.1e+00 1.15e+00  1e+00  1e+00 27:18.2\n",
      "CMAEvolutionStrategyResult(xbest=array([  3.16348279,   0.1810914 ,   7.0870304 , ...,   1.57582012,\n",
      "         1.87464956,  13.39589523]), fbest=0.15769095971733788, evals_best=22780, evaluations=28000, iterations=1000, xfavorite=array([ -0.21308513,  -2.62059358,   4.43900335, ...,   0.9637734 ,\n",
      "         0.28457614,  18.16014058]), stds=array([ 1.15453302,  1.15478895,  1.154731  , ...,  1.15453534,\n",
      "        1.15473633,  1.15469556]))\n"
     ]
    }
   ],
   "source": [
    "M = mdl.Model()\n",
    "M.add(layers.DiagExpectationUnitLayer(m*m,3, phase=1))\n",
    "M.add(layers.DiagExpectationUnitLayer(3,1, phase=1))\n",
    "\n",
    "minim = minimizer.CMA(False)\n",
    "sol=minim.train(mse, M, np.transpose(X_train), np.transpose(Y_train), maxiter=1000)"
   ]
  },
  {
   "cell_type": "code",
   "execution_count": 213,
   "metadata": {},
   "outputs": [
    {
     "name": "stdout",
     "output_type": "stream",
     "text": [
      "             precision    recall  f1-score   support\n",
      "\n",
      "          0       0.79      0.75      0.77      5000\n",
      "          1       0.76      0.80      0.78      5000\n",
      "\n",
      "avg / total       0.78      0.78      0.78     10000\n",
      "\n",
      "[[3742 1258]\n",
      " [ 980 4020]]\n",
      "AUC: 0.776200\n"
     ]
    }
   ],
   "source": [
    "# On train set\n",
    "P=np.abs(np.round(np.real(M.predict(np.transpose(X_train)))))\n",
    "\n",
    "\n",
    "print(classification_report(Y_train,P.T))\n",
    "print(confusion_matrix(Y_train, P.T))\n",
    "print('AUC: %f' % metrics.roc_auc_score(Y_train, P.T))"
   ]
  },
  {
   "cell_type": "code",
   "execution_count": 214,
   "metadata": {},
   "outputs": [
    {
     "name": "stdout",
     "output_type": "stream",
     "text": [
      "             precision    recall  f1-score   support\n",
      "\n",
      "          0       0.81      0.76      0.78      2564\n",
      "          1       0.76      0.81      0.78      2436\n",
      "\n",
      "avg / total       0.78      0.78      0.78      5000\n",
      "\n",
      "[[1938  626]\n",
      " [ 469 1967]]\n",
      "AUC: 0.781661\n"
     ]
    }
   ],
   "source": [
    "# On test set\n",
    "P=np.abs(np.round(np.real(M.predict(np.transpose(X_test)))))\n",
    "\n",
    "print(classification_report(Y_test,P.T))\n",
    "print(confusion_matrix(Y_test, P.T))\n",
    "print('AUC: %f' % metrics.roc_auc_score(Y_test, P.T))"
   ]
  },
  {
   "cell_type": "code",
   "execution_count": null,
   "metadata": {
    "collapsed": true
   },
   "outputs": [],
   "source": []
  }
 ],
 "metadata": {
  "kernelspec": {
   "display_name": "Python 2",
   "language": "python",
   "name": "python2"
  },
  "language_info": {
   "codemirror_mode": {
    "name": "ipython",
    "version": 2
   },
   "file_extension": ".py",
   "mimetype": "text/x-python",
   "name": "python",
   "nbconvert_exporter": "python",
   "pygments_lexer": "ipython2",
   "version": "2.7.13"
  }
 },
 "nbformat": 4,
 "nbformat_minor": 1
}
