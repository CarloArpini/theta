{
 "cells": [
  {
   "cell_type": "code",
   "execution_count": null,
   "metadata": {},
   "outputs": [],
   "source": [
    "import numpy as np\n",
    "import matplotlib.pyplot as plt\n",
    "%matplotlib inline\n",
    "\n",
    "import rtbm.layers as layers\n",
    "import rtbm.model as mdl\n",
    "\n",
    "import warnings\n",
    "warnings.filterwarnings('ignore')\n",
    "\n",
    "from rtbm.costfunctions import mse\n",
    "from rtbm import minimizer\n",
    "\n",
    "from rtbm.mathtools import rtbm_probability\n",
    "\n",
    "import scipy"
   ]
  },
  {
   "cell_type": "markdown",
   "metadata": {},
   "source": [
    "# P(v) plots"
   ]
  },
  {
   "cell_type": "markdown",
   "metadata": {},
   "source": [
    "# Phase I"
   ]
  },
  {
   "cell_type": "code",
   "execution_count": null,
   "metadata": {},
   "outputs": [],
   "source": [
    "# Setup and plot expectation\n",
    "Q = np.diag([5.1])\n",
    "T = np.diag([0.9])\n",
    "\n",
    "Bv = np.zeros((1,1))\n",
    "Bv[0,0] = -0.2\n",
    "\n",
    "Bh = np.zeros((1,1))\n",
    "Bh[0,0] = 0.5\n",
    "\n",
    "W = np.zeros((1,1))\n",
    "W[0,0] = 2.05\n",
    "\n",
    "X = np.linspace(-10,20, 101)\n",
    "X = X.reshape((1,X.shape[0]))\n",
    "\n",
    "P=rtbm_probability(X, Bv, Bh, T, W, Q)\n",
    "\n",
    "plt.plot(X.flatten(), P[0],\"b-\", linewidth='5')"
   ]
  },
  {
   "cell_type": "code",
   "execution_count": null,
   "metadata": {},
   "outputs": [],
   "source": [
    "scipy.integrate.quad(lambda x: np.real(rtbm_probability(np.array([[x]]), Bv, Bh, T, W, Q)[0][0]), -40, 40)"
   ]
  },
  {
   "cell_type": "code",
   "execution_count": null,
   "metadata": {},
   "outputs": [],
   "source": [
    "Q = np.diag([8,2.2])\n",
    "T = np.diag([1.1])\n",
    "\n",
    "Bv = np.zeros((1,1))\n",
    "Bv[0,0] = -0.2\n",
    "\n",
    "Bh = np.zeros((2,1))\n",
    "Bh[0,0] = 0.5\n",
    "Bh[1,0] = -0.5\n",
    "\n",
    "W = np.zeros((1,2))\n",
    "W[0,0] = 1.25\n",
    "W[0,1] = 1.4\n",
    "\n",
    "X = np.linspace(-40,40, 101)\n",
    "X = X.reshape((1,X.shape[0]))\n",
    "\n",
    "P=rtbm_probability(X, Bv, Bh, T, W, Q)\n",
    "\n",
    "plt.plot(X.flatten(), P[0],\"b-\", linewidth='5')"
   ]
  },
  {
   "cell_type": "code",
   "execution_count": null,
   "metadata": {},
   "outputs": [],
   "source": [
    "scipy.integrate.quad(lambda x: np.real(rtbm_probability(np.array([[x]]), Bv, Bh, T, W, Q)[0][0]), -40, 40)"
   ]
  },
  {
   "cell_type": "code",
   "execution_count": null,
   "metadata": {},
   "outputs": [],
   "source": [
    "Q = np.diag([8,2.8])\n",
    "T = np.diag([1.1])\n",
    "\n",
    "Bv = np.zeros((1,1))\n",
    "Bv[0,0] = -0.2\n",
    "\n",
    "Bh = np.zeros((2,1))\n",
    "Bh[0,0] = 0.5\n",
    "Bh[1,0] = -0.5\n",
    "\n",
    "W = np.zeros((1,2))\n",
    "W[0,0] = 1.6\n",
    "W[0,1] = -1.3\n",
    "\n",
    "X = np.linspace(-10,20, 101)\n",
    "X = X.reshape((1,X.shape[0]))\n",
    "\n",
    "P=rtbm_probability(X, Bv, Bh, T, W, Q)\n",
    "\n",
    "plt.plot(X.flatten(), P[0],\"b-\", linewidth='5')"
   ]
  },
  {
   "cell_type": "code",
   "execution_count": null,
   "metadata": {},
   "outputs": [],
   "source": [
    "scipy.integrate.quad(lambda x: np.real(rtbm_probability(np.array([[x]]), Bv, Bh, T, W, Q)[0][0]), -20, 20)"
   ]
  },
  {
   "cell_type": "markdown",
   "metadata": {},
   "source": [
    "# Phase II"
   ]
  },
  {
   "cell_type": "code",
   "execution_count": null,
   "metadata": {},
   "outputs": [],
   "source": [
    "# WHERE IS A PROBLEM WITH THE NORMALIATION !\n",
    "\n",
    "Q = np.diag([4.1])\n",
    "T = np.diag([0.4])\n",
    "\n",
    "Bv = np.zeros((1,1))\n",
    "Bv[0,0] = 0.4\n",
    "\n",
    "Bh = np.zeros((1,1), dtype=complex)\n",
    "Bh[0,0] = 4j\n",
    "\n",
    "W = np.zeros((1,1), dtype=complex)\n",
    "W[0,0] = 6j\n",
    "\n",
    "X = np.linspace(-8,6, 101)\n",
    "X = X.reshape((1,X.shape[0]))\n",
    "\n",
    "P=rtbm_probability(X, Bv, Bh, T, W, Q)\n",
    "\n",
    "plt.plot(X.flatten(), np.real(P[0]),\"b-\", linewidth='5')"
   ]
  },
  {
   "cell_type": "code",
   "execution_count": null,
   "metadata": {},
   "outputs": [],
   "source": [
    "scipy.integrate.quad(lambda x: np.real(rtbm_probability(np.array([[x]]), Bv, Bh, T, W, Q)[0][0]), -8, 8)"
   ]
  },
  {
   "cell_type": "code",
   "execution_count": null,
   "metadata": {},
   "outputs": [],
   "source": [
    "Q = np.diag([5,4.8])\n",
    "T = np.diag([3.8])\n",
    "\n",
    "Bv = np.zeros((1,1))\n",
    "Bv[0,0] = -0.2\n",
    "\n",
    "Bh = np.zeros((2,1), dtype=complex)\n",
    "Bh[0,0] = 0.5j\n",
    "Bh[1,0] = -0.7j\n",
    "\n",
    "W = np.zeros((1,2), dtype=complex)\n",
    "W[0,0] = 15.6j\n",
    "W[0,1] = 4.3j\n",
    "\n",
    "X = np.linspace(-2,2, 101)\n",
    "X = X.reshape((1,X.shape[0]))\n",
    "\n",
    "P=rtbm_probability(X, Bv, Bh, T, W, Q)\n",
    "\n",
    "plt.plot(X.flatten(), np.real(P[0]),\"b-\", linewidth='5')"
   ]
  },
  {
   "cell_type": "code",
   "execution_count": null,
   "metadata": {},
   "outputs": [],
   "source": [
    "scipy.integrate.quad(lambda x: np.real(rtbm_probability(np.array([[x]]), Bv, Bh, T, W, Q)[0][0]), -2, 2)"
   ]
  },
  {
   "cell_type": "code",
   "execution_count": null,
   "metadata": {
    "collapsed": true
   },
   "outputs": [],
   "source": []
  }
 ],
 "metadata": {
  "kernelspec": {
   "display_name": "Python 2",
   "language": "python",
   "name": "python2"
  },
  "language_info": {
   "codemirror_mode": {
    "name": "ipython",
    "version": 2
   },
   "file_extension": ".py",
   "mimetype": "text/x-python",
   "name": "python",
   "nbconvert_exporter": "python",
   "pygments_lexer": "ipython2",
   "version": "2.7.13"
  }
 },
 "nbformat": 4,
 "nbformat_minor": 2
}
