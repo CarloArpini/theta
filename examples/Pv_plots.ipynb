{
 "cells": [
  {
   "cell_type": "code",
   "execution_count": 5,
   "metadata": {},
   "outputs": [],
   "source": [
    "import numpy as np\n",
    "import matplotlib.pyplot as plt\n",
    "%matplotlib inline\n",
    "\n",
    "import rtbm.layers as layers\n",
    "import rtbm.model as mdl\n",
    "\n",
    "import warnings\n",
    "warnings.filterwarnings('ignore')\n",
    "\n",
    "from rtbm.costfunctions import mse\n",
    "from rtbm import minimizer\n",
    "\n",
    "from rtbm.mathtools import rtbm_probability\n",
    "\n",
    "import scipy\n",
    "\n",
    "from rtbm.rtbm import RiemannTheta"
   ]
  },
  {
   "cell_type": "markdown",
   "metadata": {},
   "source": [
    "# P(v) plots"
   ]
  },
  {
   "cell_type": "markdown",
   "metadata": {},
   "source": [
    "# Phase I"
   ]
  },
  {
   "cell_type": "code",
   "execution_count": 166,
   "metadata": {},
   "outputs": [
    {
     "data": {
      "image/png": "[encoded data removed]",
      "text/plain": [
       "<matplotlib.figure.Figure at 0x7f84c1dde0d0>"
      ]
     },
     "metadata": {},
     "output_type": "display_data"
    }
   ],
   "source": [
    "# Setup and plot expectation\n",
    "Q = np.diag([5.1])\n",
    "T = np.diag([0.9])\n",
    "\n",
    "Bv = np.zeros((1,1))\n",
    "Bv[0,0] = -0.2\n",
    "\n",
    "Bh = np.zeros((1,1))\n",
    "Bh[0,0] = 0.5\n",
    "\n",
    "W = np.zeros((1,1))\n",
    "W[0,0] = 2.05\n",
    "\n",
    "X = np.linspace(-10,20, 101)\n",
    "X = X.reshape((1,X.shape[0]))\n",
    "\n",
    "P=rtbm_probability(X, Bv, Bh, T, W, Q)\n",
    "\n",
    "plt.xlabel(\"$v$\")\n",
    "plt.ylabel('$P$', rotation=0, labelpad=10)\n",
    "\n",
    "plt.plot(X.flatten(), P[0],\"b-\", linewidth='1')\n",
    "plt.axvline(5.05519713,0, 0.94, color=\"gray\", linestyle=\"--\", linewidth=0.75)\n",
    "#plt.savefig(\"PvPhaseI-1.eps\", format=\"eps\")"
   ]
  },
  {
   "cell_type": "code",
   "execution_count": 7,
   "metadata": {},
   "outputs": [
    {
     "data": {
      "text/plain": [
       "(0.9780228578437888, 5.494503054597475e-09)"
      ]
     },
     "execution_count": 7,
     "metadata": {},
     "output_type": "execute_result"
    }
   ],
   "source": [
    "# Normalization test\n",
    "scipy.integrate.quad(lambda x: np.real(rtbm_probability(np.array([[x]]), Bv, Bh, T, W, Q)[0][0]), -40, 40)"
   ]
  },
  {
   "cell_type": "code",
   "execution_count": 8,
   "metadata": {},
   "outputs": [
    {
     "name": "stdout",
     "output_type": "stream",
     "text": [
      "[[5.05519713+0.j]]\n"
     ]
    }
   ],
   "source": [
    "# Mean test\n",
    "invT = np.linalg.inv(T)\n",
    "BvT = Bv.T\n",
    "BhT = Bh.T\n",
    "BiTB = np.dot(np.dot(BvT, invT), Bv)\n",
    "BtiTW = np.dot(np.dot(BvT, invT), W)\n",
    "WtiTW = np.dot(np.dot(W.T, invT), W)\n",
    "  \n",
    "print(1.0/(2j*np.pi)*invT*W*RiemannTheta.normalized_eval((BhT - BtiTW) / (2.0j * np.pi) , (-Q + WtiTW)/ (2.0j * np.pi), mode=1, derivs=np.array( [ [1] ]  )  ) )"
   ]
  },
  {
   "cell_type": "code",
   "execution_count": 9,
   "metadata": {},
   "outputs": [
    {
     "data": {
      "text/plain": [
       "(5.1614367505620855, 1.9121983125707652e-08)"
      ]
     },
     "execution_count": 9,
     "metadata": {},
     "output_type": "execute_result"
    }
   ],
   "source": [
    "scipy.integrate.quad(lambda x: np.real(x*rtbm_probability(np.array([[x]]), Bv, Bh, T, W, Q)[0][0]), -41, 41)"
   ]
  },
  {
   "cell_type": "code",
   "execution_count": 167,
   "metadata": {},
   "outputs": [
    {
     "data": {
      "image/png": "[encoded data removed]",
      "text/plain": [
       "<matplotlib.figure.Figure at 0x7f84c1d0bed0>"
      ]
     },
     "metadata": {},
     "output_type": "display_data"
    }
   ],
   "source": [
    "Q = np.diag([8,2.2])\n",
    "T = np.diag([1.1])\n",
    "\n",
    "Bv = np.zeros((1,1))\n",
    "Bv[0,0] = -0.2\n",
    "\n",
    "Bh = np.zeros((2,1))\n",
    "Bh[0,0] = 0.5\n",
    "Bh[1,0] = -0.5\n",
    "\n",
    "W = np.zeros((1,2))\n",
    "W[0,0] = 1.25\n",
    "W[0,1] = 1.4\n",
    "\n",
    "X = np.linspace(-30,25, 101)\n",
    "X = X.reshape((1,X.shape[0]))\n",
    "\n",
    "P=rtbm_probability(X, Bv, Bh, T, W, Q)\n",
    "\n",
    "plt.xlabel(\"$v$\")\n",
    "plt.ylabel('$P$', rotation=0, labelpad=10)\n",
    "\n",
    "plt.plot(X.flatten(), P[0],\"b-\", linewidth='1')\n",
    "\n",
    "plt.axvline(-3.09158138,0, 0.75, color=\"gray\", linestyle=\"--\", linewidth=0.75)\n",
    "\n",
    "#plt.savefig(\"PvPhaseI-2.eps\", format=\"eps\")"
   ]
  },
  {
   "cell_type": "code",
   "execution_count": 40,
   "metadata": {},
   "outputs": [
    {
     "data": {
      "text/plain": [
       "(0.9811818619250368, 2.290686546817157e-09)"
      ]
     },
     "execution_count": 40,
     "metadata": {},
     "output_type": "execute_result"
    }
   ],
   "source": [
    "scipy.integrate.quad(lambda x: np.real(rtbm_probability(np.array([[x]]), Bv, Bh, T, W, Q)[0][0]), -30, 30)"
   ]
  },
  {
   "cell_type": "code",
   "execution_count": 12,
   "metadata": {},
   "outputs": [
    {
     "name": "stdout",
     "output_type": "stream",
     "text": [
      "[[0. -2.02947803j]\n",
      " [0.-13.45044934j]]\n",
      "[[-3.09158138-0.j]]\n"
     ]
    }
   ],
   "source": [
    "# Mean test\n",
    "invT = np.linalg.inv(T)\n",
    "BvT = Bv.T\n",
    "BhT = Bh.T\n",
    "BiTB = np.dot(np.dot(BvT, invT), Bv)\n",
    "BtiTW = np.dot(np.dot(BvT, invT), W)\n",
    "WtiTW = np.dot(np.dot(W.T, invT), W)\n",
    "  \n",
    "R = RiemannTheta.normalized_eval((BhT - BtiTW) / (2.0j * np.pi) , (-Q + WtiTW)/ (2.0j * np.pi), mode=1, derivs=np.array( [ [1,0],[0,1] ]  )  ) \n",
    "print(R)    \n",
    "print(1.0/(2j*np.pi)*invT.dot(W).dot( R ) )"
   ]
  },
  {
   "cell_type": "code",
   "execution_count": 168,
   "metadata": {},
   "outputs": [
    {
     "data": {
      "image/png": "[encoded data removed]",
      "text/plain": [
       "<matplotlib.figure.Figure at 0x7f84c1a643d0>"
      ]
     },
     "metadata": {},
     "output_type": "display_data"
    }
   ],
   "source": [
    "Q = np.diag([8,2.8])\n",
    "T = np.diag([1.1])\n",
    "\n",
    "Bv = np.zeros((1,1))\n",
    "Bv[0,0] = -0.2\n",
    "\n",
    "Bh = np.zeros((2,1))\n",
    "Bh[0,0] = 0.5\n",
    "Bh[1,0] = -0.5\n",
    "\n",
    "W = np.zeros((1,2))\n",
    "W[0,0] = 1.6\n",
    "W[0,1] = -1.3\n",
    "\n",
    "X = np.linspace(-5,10, 101)\n",
    "X = X.reshape((1,X.shape[0]))\n",
    "\n",
    "P=rtbm_probability(X, Bv, Bh, T, W, Q)\n",
    "\n",
    "plt.xlabel(\"$v$\")\n",
    "plt.ylabel('$P$', rotation=0, labelpad=10)\n",
    "\n",
    "plt.plot(X.flatten(), P[0],\"b-\", linewidth='1')\n",
    "\n",
    "plt.axvline(2.91729102,0, 0.85, color=\"gray\", linestyle=\"--\", linewidth=0.75)\n",
    "\n",
    "#plt.savefig(\"PvPhaseI-3.eps\", format=\"eps\")"
   ]
  },
  {
   "cell_type": "code",
   "execution_count": 14,
   "metadata": {},
   "outputs": [
    {
     "data": {
      "text/plain": [
       "(0.981982472765519, 8.357101014129921e-09)"
      ]
     },
     "execution_count": 14,
     "metadata": {},
     "output_type": "execute_result"
    }
   ],
   "source": [
    "scipy.integrate.quad(lambda x: np.real(rtbm_probability(np.array([[x]]), Bv, Bh, T, W, Q)[0][0]), -20, 20)"
   ]
  },
  {
   "cell_type": "code",
   "execution_count": 15,
   "metadata": {},
   "outputs": [
    {
     "data": {
      "text/plain": [
       "(2.973520552934752, 1.3345858771810234e-08)"
      ]
     },
     "execution_count": 15,
     "metadata": {},
     "output_type": "execute_result"
    }
   ],
   "source": [
    "scipy.integrate.quad(lambda x: np.real(x*rtbm_probability(np.array([[x]]), Bv, Bh, T, W, Q)[0][0]), -20, 20)"
   ]
  },
  {
   "cell_type": "code",
   "execution_count": 16,
   "metadata": {},
   "outputs": [
    {
     "name": "stdout",
     "output_type": "stream",
     "text": [
      "[[0. +4.35806251j]\n",
      " [0.-10.1461293 j]]\n",
      "[[2.91729102+0.j]]\n"
     ]
    }
   ],
   "source": [
    "# Mean test\n",
    "invT = np.linalg.inv(T)\n",
    "BvT = Bv.T\n",
    "BhT = Bh.T\n",
    "BiTB = np.dot(np.dot(BvT, invT), Bv)\n",
    "BtiTW = np.dot(np.dot(BvT, invT), W)\n",
    "WtiTW = np.dot(np.dot(W.T, invT), W)\n",
    "  \n",
    "R = RiemannTheta.normalized_eval((BhT - BtiTW) / (2.0j * np.pi) , (-Q + WtiTW)/ (2.0j * np.pi), mode=1, derivs=np.array( [ [1,0],[0,1] ]  )  ) \n",
    "print(R)    \n",
    "print(1.0/(2j*np.pi)*invT.dot(W).dot( R ) )"
   ]
  },
  {
   "cell_type": "markdown",
   "metadata": {},
   "source": [
    "# Phase II"
   ]
  },
  {
   "cell_type": "code",
   "execution_count": 169,
   "metadata": {},
   "outputs": [
    {
     "data": {
      "image/png": "[encoded data removed]",
      "text/plain": [
       "<matplotlib.figure.Figure at 0x7f84c22c8550>"
      ]
     },
     "metadata": {},
     "output_type": "display_data"
    }
   ],
   "source": [
    "Q = np.diag([1.7])\n",
    "T = np.diag([4.4])\n",
    "\n",
    "Bv = np.zeros((1,1))\n",
    "Bv[0,0] = 0.4\n",
    "\n",
    "Bh = np.zeros((1,1), dtype=complex)\n",
    "Bh[0,0] = 3j\n",
    "\n",
    "W = np.zeros((1,1), dtype=complex)\n",
    "W[0,0] = 4j\n",
    "\n",
    "X = np.linspace(-2,2, 101)\n",
    "X = X.reshape((1,X.shape[0]))\n",
    "\n",
    "P=rtbm_probability(X, Bv, Bh, T, W, Q, 2)\n",
    "\n",
    "plt.xlabel(\"$v$\")\n",
    "plt.ylabel('$P$', rotation=0, labelpad=10)\n",
    "\n",
    "plt.plot(X.flatten(), P[0],\"b-\", linewidth='1')\n",
    "plt.axvline(0,0, 0.25, color=\"gray\", linestyle=\"--\", linewidth=0.75)\n",
    "#plt.savefig(\"PvPhaseII-1.eps\", format=\"eps\")"
   ]
  },
  {
   "cell_type": "code",
   "execution_count": 134,
   "metadata": {},
   "outputs": [
    {
     "data": {
      "text/plain": [
       "(0.9819824738536422, 8.817400325503155e-11)"
      ]
     },
     "execution_count": 134,
     "metadata": {},
     "output_type": "execute_result"
    }
   ],
   "source": [
    "scipy.integrate.quad(lambda x: np.real(rtbm_probability(np.array([[x]]), Bv, Bh, T, W, Q, mode=2)[0][0]), -20, 20)"
   ]
  },
  {
   "cell_type": "code",
   "execution_count": 135,
   "metadata": {},
   "outputs": [
    {
     "data": {
      "text/plain": [
       "(-0.15742896836605372, 1.8602243198519858e-09)"
      ]
     },
     "execution_count": 135,
     "metadata": {},
     "output_type": "execute_result"
    }
   ],
   "source": [
    "scipy.integrate.quad(lambda x: np.real(x*rtbm_probability(np.array([[x]]), Bv, Bh, T, W, Q,mode=2)[0][0]), -20, 20)"
   ]
  },
  {
   "cell_type": "code",
   "execution_count": 137,
   "metadata": {},
   "outputs": [
    {
     "name": "stdout",
     "output_type": "stream",
     "text": [
      "[[0.+2.19241196e-18j]]\n"
     ]
    }
   ],
   "source": [
    "# Mean test\n",
    "invT = np.linalg.inv(T)\n",
    "BvT = Bv.T\n",
    "BhT = Bh.T\n",
    "BiTB = np.dot(np.dot(BvT, invT), Bv)\n",
    "BtiTW = np.dot(np.dot(BvT, invT), W)\n",
    "WtiTW = np.dot(np.dot(W.T, invT), W)\n",
    "  \n",
    "print(1.0/(2j*np.pi)*invT*W*RiemannTheta.normalized_eval((BhT - BtiTW) / (2.0j * np.pi) , (-Q + WtiTW)/ (2.0j * np.pi), mode=1, derivs=np.array( [ [1] ]  )  ) )"
   ]
  },
  {
   "cell_type": "code",
   "execution_count": 170,
   "metadata": {},
   "outputs": [
    {
     "data": {
      "image/png": "[encoded data removed]",
      "text/plain": [
       "<matplotlib.figure.Figure at 0x7f84c21d5150>"
      ]
     },
     "metadata": {},
     "output_type": "display_data"
    }
   ],
   "source": [
    "Q = np.diag([5,4.8])\n",
    "T = np.diag([3.8])\n",
    "\n",
    "Bv = np.zeros((1,1))\n",
    "Bv[0,0] = -0.2\n",
    "\n",
    "Bh = np.zeros((2,1), dtype=complex)\n",
    "Bh[0,0] = 0.5j\n",
    "Bh[1,0] = -0.7j\n",
    "\n",
    "W = np.zeros((1,2), dtype=complex)\n",
    "W[0,0] = 15.6j\n",
    "W[0,1] = 4.3j\n",
    "\n",
    "X = np.linspace(-2,2, 101)\n",
    "X = X.reshape((1,X.shape[0]))\n",
    "\n",
    "P=rtbm_probability(X, Bv, Bh, T, W, Q, 2)\n",
    "\n",
    "plt.xlabel(\"$v$\")\n",
    "plt.ylabel('$P$', rotation=0, labelpad=10)\n",
    "\n",
    "plt.plot(X.flatten(), P[0],\"b-\", linewidth='1')\n",
    "plt.axvline(0.01,0, 0.94, color=\"gray\", linestyle=\"--\", linewidth=0.75)\n",
    "#plt.savefig(\"PvPhaseII-2.eps\", format=\"eps\")"
   ]
  },
  {
   "cell_type": "code",
   "execution_count": 20,
   "metadata": {},
   "outputs": [
    {
     "data": {
      "text/plain": [
       "(0.9946554657848238, 1.5321677070429786e-12)"
      ]
     },
     "execution_count": 20,
     "metadata": {},
     "output_type": "execute_result"
    }
   ],
   "source": [
    "scipy.integrate.quad(lambda x: np.real(rtbm_probability(np.array([[x]]), Bv, Bh, T, W, Q,mode=2)[0][0]), -2, 2)"
   ]
  },
  {
   "cell_type": "code",
   "execution_count": 143,
   "metadata": {},
   "outputs": [
    {
     "data": {
      "text/plain": [
       "(0.06033634536537651, 5.905300831407282e-13)"
      ]
     },
     "execution_count": 143,
     "metadata": {},
     "output_type": "execute_result"
    }
   ],
   "source": [
    "scipy.integrate.quad(lambda x: np.real(x*rtbm_probability(np.array([[x]]), Bv, Bh, T, W, Q,mode=2)[0][0]), -2, 2)"
   ]
  },
  {
   "cell_type": "code",
   "execution_count": 144,
   "metadata": {},
   "outputs": [
    {
     "name": "stdout",
     "output_type": "stream",
     "text": [
      "[[0.        +0.j]\n",
      " [0.04501145+0.j]]\n",
      "[[0.0081064+0.j]]\n"
     ]
    }
   ],
   "source": [
    "# Mean test\n",
    "invT = np.linalg.inv(T)\n",
    "BvT = Bv.T\n",
    "BhT = Bh.T\n",
    "BiTB = np.dot(np.dot(BvT, invT), Bv)\n",
    "BtiTW = np.dot(np.dot(BvT, invT), W)\n",
    "WtiTW = np.dot(np.dot(W.T, invT), W)\n",
    "  \n",
    "R = RiemannTheta.normalized_eval((BhT - BtiTW) / (2.0j * np.pi) , (-Q + WtiTW)/ (2.0j * np.pi), mode=2, derivs=np.array( [ [1,0],[0,1] ]  )  ) \n",
    "print(R)    \n",
    "print(1.0/(2j*np.pi)*invT.dot(W).dot( R ) )"
   ]
  },
  {
   "cell_type": "code",
   "execution_count": 171,
   "metadata": {},
   "outputs": [
    {
     "data": {
      "image/png": "[encoded data removed]",
      "text/plain": [
       "<matplotlib.figure.Figure at 0x7f84c1ff9310>"
      ]
     },
     "metadata": {},
     "output_type": "display_data"
    }
   ],
   "source": [
    "Q = np.diag([1,4.8])\n",
    "T = np.diag([3.8])\n",
    "\n",
    "Bv = np.zeros((1,1))\n",
    "Bv[0,0] = -0.2\n",
    "\n",
    "Bh = np.zeros((2,1), dtype=complex)\n",
    "Bh[0,0] = 0.5j\n",
    "Bh[1,0] = -0.7j\n",
    "\n",
    "W = np.zeros((1,2), dtype=complex)\n",
    "W[0,0] = 9.6j\n",
    "W[0,1] = 4.3j\n",
    "\n",
    "X = np.linspace(-2,2, 101)\n",
    "X = X.reshape((1,X.shape[0]))\n",
    "\n",
    "P=rtbm_probability(X, Bv, Bh, T, W, Q, 2)\n",
    "\n",
    "plt.xlabel(\"$v$\")\n",
    "plt.ylabel('$P$', rotation=0, labelpad=10)\n",
    "\n",
    "plt.plot(X.flatten(), P[0],\"b-\", linewidth='1')\n",
    "plt.axvline(0.01,0, 0.8, color=\"gray\", linestyle=\"--\", linewidth=0.75)\n",
    "\n",
    "#plt.savefig(\"PvPhaseII-3.eps\", format=\"eps\")"
   ]
  },
  {
   "cell_type": "code",
   "execution_count": 22,
   "metadata": {},
   "outputs": [
    {
     "data": {
      "text/plain": [
       "(0.9946553740469184, 1.3587739478492997e-09)"
      ]
     },
     "execution_count": 22,
     "metadata": {},
     "output_type": "execute_result"
    }
   ],
   "source": [
    "scipy.integrate.quad(lambda x: np.real(rtbm_probability(np.array([[x]]), Bv, Bh, T, W, Q,mode=2)[0][0]), -2, 2)"
   ]
  },
  {
   "cell_type": "code",
   "execution_count": 153,
   "metadata": {},
   "outputs": [
    {
     "data": {
      "text/plain": [
       "(0.06033634536537651, 5.905300831407282e-13)"
      ]
     },
     "execution_count": 153,
     "metadata": {},
     "output_type": "execute_result"
    }
   ],
   "source": [
    "scipy.integrate.quad(lambda x: np.real(x*rtbm_probability(np.array([[x]]), Bv, Bh, T, W, Q,mode=2)[0][0]), -2, 2)"
   ]
  },
  {
   "cell_type": "code",
   "execution_count": 154,
   "metadata": {},
   "outputs": [
    {
     "name": "stdout",
     "output_type": "stream",
     "text": [
      "[[0.        +0.j]\n",
      " [0.04501145+0.j]]\n",
      "[[0.0081064+0.j]]\n"
     ]
    }
   ],
   "source": [
    "# Mean test\n",
    "invT = np.linalg.inv(T)\n",
    "BvT = Bv.T\n",
    "BhT = Bh.T\n",
    "BiTB = np.dot(np.dot(BvT, invT), Bv)\n",
    "BtiTW = np.dot(np.dot(BvT, invT), W)\n",
    "WtiTW = np.dot(np.dot(W.T, invT), W)\n",
    "  \n",
    "R = RiemannTheta.normalized_eval((BhT - BtiTW) / (2.0j * np.pi) , (-Q + WtiTW)/ (2.0j * np.pi), mode=2, derivs=np.array( [ [1,0],[0,1] ]  )  ) \n",
    "print(R)    \n",
    "print(1.0/(2j*np.pi)*invT.dot(W).dot( R ) )"
   ]
  },
  {
   "cell_type": "code",
   "execution_count": null,
   "metadata": {},
   "outputs": [],
   "source": []
  }
 ],
 "metadata": {
  "kernelspec": {
   "display_name": "Python 2",
   "language": "python",
   "name": "python2"
  },
  "language_info": {
   "codemirror_mode": {
    "name": "ipython",
    "version": 2
   },
   "file_extension": ".py",
   "mimetype": "text/x-python",
   "name": "python",
   "nbconvert_exporter": "python",
   "pygments_lexer": "ipython2",
   "version": "2.7.6"
  }
 },
 "nbformat": 4,
 "nbformat_minor": 2
}
