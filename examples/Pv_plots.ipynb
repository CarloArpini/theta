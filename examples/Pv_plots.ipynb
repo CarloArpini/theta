{
 "cells": [
  {
   "cell_type": "code",
   "execution_count": 1,
   "metadata": {
    "collapsed": false,
    "deletable": true,
    "editable": true
   },
   "outputs": [
    {
     "name": "stderr",
     "output_type": "stream",
     "text": [
      "/usr/lib/sagemath/local/lib/python2.7/site-packages/traitlets/traitlets.py:770: DeprecationWarning: A parent of InlineBackend._config_changed has adopted the new @observe(change) API\n",
      "  clsname, change_or_name), DeprecationWarning)\n"
     ]
    }
   ],
   "source": [
    "import sys\n",
    "sys.path.append('../')\n",
    "\n",
    "import numpy as np\n",
    "import matplotlib.pyplot as plt\n",
    "%matplotlib inline\n",
    "\n",
    "from abelfunctions import RiemannTheta\n",
    "\n",
    "import layers as layers\n",
    "import model as mdl\n",
    "\n",
    "import warnings\n",
    "warnings.filterwarnings('ignore')\n",
    "\n",
    "from costfunctions import mse\n",
    "import minimizer\n",
    "\n",
    "from mathtools import rtbm_probability\n",
    "\n",
    "import scipy"
   ]
  },
  {
   "cell_type": "code",
   "execution_count": 2,
   "metadata": {
    "collapsed": false,
    "deletable": true,
    "editable": true
   },
   "outputs": [],
   "source": [
    "# Generate input grid\n",
    "X = np.linspace(-10,10, 101)\n",
    "X = X.reshape((1,X.shape[0]))"
   ]
  },
  {
   "cell_type": "markdown",
   "metadata": {},
   "source": [
    "# P(v) plots"
   ]
  },
  {
   "cell_type": "markdown",
   "metadata": {},
   "source": [
    "# Phase I"
   ]
  },
  {
   "cell_type": "code",
   "execution_count": 51,
   "metadata": {
    "collapsed": false
   },
   "outputs": [
    {
     "data": {
      "text/plain": [
       "[<matplotlib.lines.Line2D object at 0x7f201c786210>]"
      ]
     },
     "execution_count": 51,
     "metadata": {},
     "output_type": "execute_result"
    },
    {
     "data": {
      "image/png": "[encoded data removed]",
      "text/plain": [
       "<matplotlib.figure.Figure object at 0x7f2283370290>"
      ]
     },
     "metadata": {},
     "output_type": "display_data"
    }
   ],
   "source": [
    "# Setup and plot expectation\n",
    "Q = np.diag([5.1])\n",
    "T = np.diag([0.9])\n",
    "\n",
    "Bv = np.zeros((1,1))\n",
    "Bv[0,0] = -0.2\n",
    "\n",
    "Bh = np.zeros((1,1))\n",
    "Bh[0,0] = 0.5\n",
    "\n",
    "W = np.zeros((1,1))\n",
    "W[0,0] = 2.05\n",
    "\n",
    "X = np.linspace(-10,20, 101)\n",
    "X = X.reshape((1,X.shape[0]))\n",
    "\n",
    "P=rtbm_probability(X, Bv, Bh, T, W, Q)\n",
    "\n",
    "plt.plot(X.flatten(), P[0],\"b-\", linewidth='5')"
   ]
  },
  {
   "cell_type": "code",
   "execution_count": 53,
   "metadata": {
    "collapsed": false
   },
   "outputs": [
    {
     "data": {
      "text/plain": [
       "(0.9780228578437893, 5.494502905126653e-09)"
      ]
     },
     "execution_count": 53,
     "metadata": {},
     "output_type": "execute_result"
    }
   ],
   "source": [
    "scipy.integrate.quad(lambda x: np.real(rtbm_probability(np.array([[x]]), Bv, Bh, T, W, Q)[0][0]), -40, 40)"
   ]
  },
  {
   "cell_type": "code",
   "execution_count": 54,
   "metadata": {
    "collapsed": false
   },
   "outputs": [
    {
     "data": {
      "text/plain": [
       "[<matplotlib.lines.Line2D object at 0x7f201c6fd710>]"
      ]
     },
     "execution_count": 54,
     "metadata": {},
     "output_type": "execute_result"
    },
    {
     "data": {
      "image/png": "[encoded data removed]",
      "text/plain": [
       "<matplotlib.figure.Figure object at 0x7f201c7d9d50>"
      ]
     },
     "metadata": {},
     "output_type": "display_data"
    }
   ],
   "source": [
    "Q = np.diag([8,2.2])\n",
    "T = np.diag([1.1])\n",
    "\n",
    "Bv = np.zeros((1,1))\n",
    "Bv[0,0] = -0.2\n",
    "\n",
    "Bh = np.zeros((2,1))\n",
    "Bh[0,0] = 0.5\n",
    "Bh[1,0] = -0.5\n",
    "\n",
    "W = np.zeros((1,2))\n",
    "W[0,0] = 1.25\n",
    "W[0,1] = 1.4\n",
    "\n",
    "X = np.linspace(-40,40, 101)\n",
    "X = X.reshape((1,X.shape[0]))\n",
    "\n",
    "P=rtbm_probability(X, Bv, Bh, T, W, Q)\n",
    "\n",
    "plt.plot(X.flatten(), P[0],\"b-\", linewidth='5')"
   ]
  },
  {
   "cell_type": "code",
   "execution_count": 55,
   "metadata": {
    "collapsed": false
   },
   "outputs": [
    {
     "data": {
      "text/plain": [
       "(nan, nan)"
      ]
     },
     "execution_count": 55,
     "metadata": {},
     "output_type": "execute_result"
    }
   ],
   "source": [
    "scipy.integrate.quad(lambda x: np.real(rtbm_probability(np.array([[x]]), Bv, Bh, T, W, Q)[0][0]), -40, 40)"
   ]
  },
  {
   "cell_type": "code",
   "execution_count": 56,
   "metadata": {
    "collapsed": false
   },
   "outputs": [
    {
     "data": {
      "text/plain": [
       "[<matplotlib.lines.Line2D object at 0x7f201c67a650>]"
      ]
     },
     "execution_count": 56,
     "metadata": {},
     "output_type": "execute_result"
    },
    {
     "data": {
      "image/png": "[encoded data removed]",
      "text/plain": [
       "<matplotlib.figure.Figure object at 0x7f201c70d310>"
      ]
     },
     "metadata": {},
     "output_type": "display_data"
    }
   ],
   "source": [
    "Q = np.diag([8,2.8])\n",
    "T = np.diag([1.1])\n",
    "\n",
    "Bv = np.zeros((1,1))\n",
    "Bv[0,0] = -0.2\n",
    "\n",
    "Bh = np.zeros((2,1))\n",
    "Bh[0,0] = 0.5\n",
    "Bh[1,0] = -0.5\n",
    "\n",
    "W = np.zeros((1,2))\n",
    "W[0,0] = 1.6\n",
    "W[0,1] = -1.3\n",
    "\n",
    "X = np.linspace(-10,20, 101)\n",
    "X = X.reshape((1,X.shape[0]))\n",
    "\n",
    "P=rtbm_probability(X, Bv, Bh, T, W, Q)\n",
    "\n",
    "plt.plot(X.flatten(), P[0],\"b-\", linewidth='5')"
   ]
  },
  {
   "cell_type": "code",
   "execution_count": 57,
   "metadata": {
    "collapsed": false
   },
   "outputs": [
    {
     "data": {
      "text/plain": [
       "(0.9819824727655193, 8.357100803876227e-09)"
      ]
     },
     "execution_count": 57,
     "metadata": {},
     "output_type": "execute_result"
    }
   ],
   "source": [
    "scipy.integrate.quad(lambda x: np.real(rtbm_probability(np.array([[x]]), Bv, Bh, T, W, Q)[0][0]), -20, 20)"
   ]
  },
  {
   "cell_type": "markdown",
   "metadata": {},
   "source": [
    "# Phase II"
   ]
  },
  {
   "cell_type": "code",
   "execution_count": 58,
   "metadata": {
    "collapsed": false
   },
   "outputs": [
    {
     "data": {
      "text/plain": [
       "[<matplotlib.lines.Line2D object at 0x7f201c5f4d50>]"
      ]
     },
     "execution_count": 58,
     "metadata": {},
     "output_type": "execute_result"
    },
    {
     "data": {
      "image/png": "[encoded data removed]",
      "text/plain": [
       "<matplotlib.figure.Figure object at 0x7f201c830ed0>"
      ]
     },
     "metadata": {},
     "output_type": "display_data"
    }
   ],
   "source": [
    "# WHERE IS A PROBLEM WITH THE NORMALIATION !\n",
    "\n",
    "Q = np.diag([4.1])\n",
    "T = np.diag([0.4])\n",
    "\n",
    "Bv = np.zeros((1,1))\n",
    "Bv[0,0] = 0.4\n",
    "\n",
    "Bh = np.zeros((1,1), dtype=complex)\n",
    "Bh[0,0] = 4j\n",
    "\n",
    "W = np.zeros((1,1), dtype=complex)\n",
    "W[0,0] = 6j\n",
    "\n",
    "X = np.linspace(-8,6, 101)\n",
    "X = X.reshape((1,X.shape[0]))\n",
    "\n",
    "P=rtbm_probability(X, Bv, Bh, T, W, Q)\n",
    "\n",
    "plt.plot(X.flatten(), np.real(P[0]),\"b-\", linewidth='5')"
   ]
  },
  {
   "cell_type": "code",
   "execution_count": 59,
   "metadata": {
    "collapsed": false
   },
   "outputs": [
    {
     "data": {
      "text/plain": [
       "(0.818726655121251, 1.3059525751713282e-08)"
      ]
     },
     "execution_count": 59,
     "metadata": {},
     "output_type": "execute_result"
    }
   ],
   "source": [
    "scipy.integrate.quad(lambda x: np.real(rtbm_probability(np.array([[x]]), Bv, Bh, T, W, Q)[0][0]), -8, 8)"
   ]
  },
  {
   "cell_type": "code",
   "execution_count": 60,
   "metadata": {
    "collapsed": false
   },
   "outputs": [
    {
     "data": {
      "text/plain": [
       "[<matplotlib.lines.Line2D object at 0x7f201c576650>]"
      ]
     },
     "execution_count": 60,
     "metadata": {},
     "output_type": "execute_result"
    },
    {
     "data": {
      "image/png": "[encoded data removed]",
      "text/plain": [
       "<matplotlib.figure.Figure object at 0x7f201c79c610>"
      ]
     },
     "metadata": {},
     "output_type": "display_data"
    }
   ],
   "source": [
    "Q = np.diag([5,4.8])\n",
    "T = np.diag([3.8])\n",
    "\n",
    "Bv = np.zeros((1,1))\n",
    "Bv[0,0] = -0.2\n",
    "\n",
    "Bh = np.zeros((2,1), dtype=complex)\n",
    "Bh[0,0] = 0.5j\n",
    "Bh[1,0] = -0.7j\n",
    "\n",
    "W = np.zeros((1,2), dtype=complex)\n",
    "W[0,0] = 15.6j\n",
    "W[0,1] = 4.3j\n",
    "\n",
    "X = np.linspace(-2,2, 101)\n",
    "X = X.reshape((1,X.shape[0]))\n",
    "\n",
    "P=rtbm_probability(X, Bv, Bh, T, W, Q)\n",
    "\n",
    "plt.plot(X.flatten(), np.real(P[0]),\"b-\", linewidth='5')"
   ]
  },
  {
   "cell_type": "code",
   "execution_count": 61,
   "metadata": {
    "collapsed": false
   },
   "outputs": [
    {
     "data": {
      "text/plain": [
       "(0.9946554657848238, 1.5321677070429786e-12)"
      ]
     },
     "execution_count": 61,
     "metadata": {},
     "output_type": "execute_result"
    }
   ],
   "source": [
    "scipy.integrate.quad(lambda x: np.real(rtbm_probability(np.array([[x]]), Bv, Bh, T, W, Q)[0][0]), -2, 2)"
   ]
  },
  {
   "cell_type": "code",
   "execution_count": null,
   "metadata": {
    "collapsed": true
   },
   "outputs": [],
   "source": []
  }
 ],
 "metadata": {
  "kernelspec": {
   "display_name": "SageMath 7.5.1",
   "language": "",
   "name": "sagemath"
  },
  "language_info": {
   "codemirror_mode": {
    "name": "ipython",
    "version": 2
   },
   "file_extension": ".py",
   "mimetype": "text/x-python",
   "name": "python",
   "nbconvert_exporter": "python",
   "pygments_lexer": "ipython2",
   "version": "2.7.13"
  }
 },
 "nbformat": 4,
 "nbformat_minor": 2
}
