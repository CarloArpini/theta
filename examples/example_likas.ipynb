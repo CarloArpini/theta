{
 "cells": [
  {
   "cell_type": "code",
   "execution_count": 1,
   "metadata": {
    "collapsed": true
   },
   "outputs": [],
   "source": [
    "import numpy as np\n",
    "import matplotlib.pyplot as plt\n",
    "%matplotlib inline\n",
    "\n",
    "from rtbm import RTBM, minimizer\n",
    "from rtbm.costfunctions import logarithmic"
   ]
  },
  {
   "cell_type": "markdown",
   "metadata": {},
   "source": [
    "## Generate data"
   ]
  },
  {
   "cell_type": "code",
   "execution_count": 2,
   "metadata": {},
   "outputs": [
    {
     "data": {
      "image/png": "[encoded data removed]",
      "text/plain": [
       "<matplotlib.figure.Figure at 0x7fa8a41dffd0>"
      ]
     },
     "metadata": {},
     "output_type": "display_data"
    }
   ],
   "source": [
    "# likas 1d example\n",
    "n = 5000\n",
    "\n",
    "data = np.zeros(n)\n",
    "u = np.random.random_sample(n)\n",
    "for i in range(n):\n",
    "    if u[i] < 0.25:\n",
    "        data[i] = np.random.normal(-7, 0.5)\n",
    "    elif u[i] < 0.50:\n",
    "        data[i] = np.random.uniform(-3,-1)\n",
    "    elif u[i] < 0.75:\n",
    "        data[i] = np.random.uniform(1,3)\n",
    "    else:\n",
    "        data[i] = np.random.normal(7, 0.5)\n",
    "data = data.reshape(1,n)\n",
    "plt.hist(data.T, normed=True, bins=50);"
   ]
  },
  {
   "cell_type": "markdown",
   "metadata": {},
   "source": [
    "## Training"
   ]
  },
  {
   "cell_type": "code",
   "execution_count": 3,
   "metadata": {
    "collapsed": true
   },
   "outputs": [],
   "source": [
    "a = RTBM(1,2, init_max_param_bound=20)"
   ]
  },
  {
   "cell_type": "code",
   "execution_count": null,
   "metadata": {},
   "outputs": [
    {
     "name": "stdout",
     "output_type": "stream",
     "text": [
      "CMA on 1 cpu(s) enabled\n",
      "(5_w,10)-aCMA-ES (mu_w=3.2,w_1=45%) in dimension 9 (seed=348613, Fri Nov 10 11:44:31 2017)\n",
      "Iterat #Fevals   function value  axis ratio  sigma  min&max std  t[m:s]\n",
      "    1     10 8.238082839189190e+04 1.0e+00 1.95e+00  2e+00  2e+00 0:00.2\n",
      "    2     20 2.846152318180709e+04 1.2e+00 1.89e+00  2e+00  2e+00 0:01.6\n",
      "    3     30 8.986151054944264e+04 1.3e+00 1.85e+00  2e+00  2e+00 0:03.0\n",
      "    5     50 3.843360466484808e+04 1.4e+00 1.75e+00  2e+00  2e+00 0:06.1\n",
      "    8     80 1.899205771708383e+04 1.7e+00 1.48e+00  1e+00  2e+00 0:10.6\n",
      "   12    120 1.951557768449195e+04 2.0e+00 1.08e+00  8e-01  1e+00 0:16.0\n",
      "   16    160 2.087365451007384e+04 2.3e+00 9.79e-01  7e-01  1e+00 0:23.2\n",
      "   21    210 3.130906024959082e+04 2.7e+00 9.29e-01  6e-01  1e+00 0:32.1\n",
      "   26    260 2.202118120633845e+04 3.2e+00 8.07e-01  4e-01  8e-01 0:40.5\n",
      "   32    320 2.711970754367107e+04 3.4e+00 8.60e-01  4e-01  1e+00 0:50.2\n",
      "   39    390 1.656315259988134e+04 5.0e+00 5.47e-01  2e-01  6e-01 1:01.5\n",
      "   45    450 1.545177241777197e+04 5.1e+00 3.64e-01  2e-01  4e-01 1:13.0\n"
     ]
    }
   ],
   "source": [
    "minim = minimizer.CMA(False)\n",
    "solution = minim.train(logarithmic(), a, data, tolfun=1e-5)"
   ]
  },
  {
   "cell_type": "markdown",
   "metadata": {},
   "source": [
    "## Testing output"
   ]
  },
  {
   "cell_type": "code",
   "execution_count": null,
   "metadata": {},
   "outputs": [],
   "source": [
    "test_data = (np.linspace(-10,10, 100)).reshape(1, 100)\n",
    "plt.hist(data.T, bins=50, normed=True);\n",
    "plt.plot(test_data.flatten(), a(test_data).flatten(), 'o-')"
   ]
  },
  {
   "cell_type": "code",
   "execution_count": null,
   "metadata": {
    "collapsed": true
   },
   "outputs": [],
   "source": []
  }
 ],
 "metadata": {
  "kernelspec": {
   "display_name": "Python 2",
   "language": "python",
   "name": "python2"
  },
  "language_info": {
   "codemirror_mode": {
    "name": "ipython",
    "version": 2
   },
   "file_extension": ".py",
   "mimetype": "text/x-python",
   "name": "python",
   "nbconvert_exporter": "python",
   "pygments_lexer": "ipython2",
   "version": "2.7.13"
  }
 },
 "nbformat": 4,
 "nbformat_minor": 2
}
