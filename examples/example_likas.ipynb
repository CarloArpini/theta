{
 "cells": [
  {
   "cell_type": "code",
   "execution_count": 1,
   "metadata": {
    "collapsed": true
   },
   "outputs": [],
   "source": [
    "import numpy as np\n",
    "from numpy import vectorize\n",
    "\n",
    "import matplotlib.pyplot as plt\n",
    "%matplotlib inline\n",
    "\n",
    "from theta import rtbm, minimizer\n",
    "from theta.costfunctions import logarithmic"
   ]
  },
  {
   "cell_type": "markdown",
   "metadata": {},
   "source": [
    "## Generate data"
   ]
  },
  {
   "cell_type": "code",
   "execution_count": 2,
   "metadata": {},
   "outputs": [
    {
     "data": {
      "image/png": "[encoded data removed]",
      "text/plain": [
       "<matplotlib.figure.Figure at 0x7f9fa4c88dd0>"
      ]
     },
     "metadata": {},
     "output_type": "display_data"
    }
   ],
   "source": [
    "# likas 1d example uniform\n",
    "n = 5000\n",
    "\n",
    "data = np.random.uniform(-5,5,n)\n",
    "data = data.reshape(1,n)\n",
    "plt.hist(data.T, normed=True, bins=50);"
   ]
  },
  {
   "cell_type": "code",
   "execution_count": null,
   "metadata": {
    "collapsed": true
   },
   "outputs": [],
   "source": [
    "# likas 1d example\n",
    "n = 5000\n",
    "\n",
    "data = np.zeros(n)\n",
    "u = np.random.random_sample(n)\n",
    "for i in range(n):\n",
    "    if u[i] < 0.25:\n",
    "        data[i] = np.random.normal(-7, 0.5)\n",
    "    elif u[i] < 0.50:\n",
    "        data[i] = np.random.uniform(-3,-1)\n",
    "    elif u[i] < 0.75:\n",
    "        data[i] = np.random.uniform(1,3)\n",
    "    else:\n",
    "        data[i] = np.random.normal(7, 0.5)\n",
    "data = data.reshape(1,n)\n",
    "plt.hist(data.T, normed=True, bins=50);"
   ]
  },
  {
   "cell_type": "code",
   "execution_count": null,
   "metadata": {
    "collapsed": true
   },
   "outputs": [],
   "source": [
    "# likas 1d example 2\n",
    "def p(x):\n",
    "    a = 1/6.5523\n",
    "    if x < 0 and x >= 3 + 2**0.5:\n",
    "        return 0\n",
    "    elif 0 <= x < 2:\n",
    "        return a*(2-x/2)\n",
    "    else:\n",
    "        return a*(2-(x-3)**2)\n",
    "\n",
    "def rejection_sampler(p,xbounds,pmax):\n",
    "    while True:\n",
    "        x = np.random.rand(1)*(xbounds[1]-xbounds[0])+xbounds[0]\n",
    "        y = np.random.rand(1)*pmax\n",
    "        if y <= p(x):\n",
    "            return x\n",
    "\n",
    "n = 5000\n",
    "data = np.zeros(n)\n",
    "for i in range(n):\n",
    "    data[i] = rejection_sampler(p,[0,3+2**0.5],0.3)\n",
    "data = data.reshape(1,n)\n",
    "plt.hist(data.T, normed=True, bins=50);"
   ]
  },
  {
   "cell_type": "code",
   "execution_count": null,
   "metadata": {
    "collapsed": true
   },
   "outputs": [],
   "source": [
    "# likas example 3, 2d uniform [0,0.2]\n",
    "n = 5000\n",
    "data = np.random.uniform(0,0.2,(2,n/2))\n",
    "plt.figure(figsize=(5,5))\n",
    "plt.hist2d(data[0,:], data[1,:], bins=50, normed=True);"
   ]
  },
  {
   "cell_type": "markdown",
   "metadata": {},
   "source": [
    "## Training"
   ]
  },
  {
   "cell_type": "code",
   "execution_count": null,
   "metadata": {
    "collapsed": true
   },
   "outputs": [],
   "source": [
    "a = rtbm.RTBM(1,2, init_max_param_bound=20)"
   ]
  },
  {
   "cell_type": "code",
   "execution_count": null,
   "metadata": {
    "collapsed": true
   },
   "outputs": [],
   "source": [
    "minim = minimizer.CMA(False)\n",
    "solution = minim.train(logarithmic(), a, data, tolfun=1e-5)"
   ]
  },
  {
   "cell_type": "markdown",
   "metadata": {},
   "source": [
    "## Testing output"
   ]
  },
  {
   "cell_type": "code",
   "execution_count": null,
   "metadata": {
    "collapsed": true
   },
   "outputs": [],
   "source": [
    "test_data = (np.linspace(-10,10, 100)).reshape(1, 100)\n",
    "plt.hist(data.T, bins=50, normed=True);\n",
    "plt.plot(test_data.flatten(), a(test_data).flatten(), 'o-')"
   ]
  },
  {
   "cell_type": "markdown",
   "metadata": {
    "collapsed": true
   },
   "source": [
    "# Testing model"
   ]
  },
  {
   "cell_type": "code",
   "execution_count": 32,
   "metadata": {
    "collapsed": true
   },
   "outputs": [],
   "source": [
    "mdl = Model()\n",
    "mdl.add(ThetaUnitLayer(1,2,Nhidden=1, init_max_param_bound=20))\n",
    "mdl.add(NormAddLayer(2,1))"
   ]
  },
  {
   "cell_type": "code",
   "execution_count": 33,
   "metadata": {
    "scrolled": false
   },
   "outputs": [
    {
     "name": "stdout",
     "output_type": "stream",
     "text": [
      "CMA on 1 cpu(s) enabled\n",
      "(5_w,11)-aCMA-ES (mu_w=3.4,w_1=42%) in dimension 12 (seed=231979, Fri Dec  1 07:44:48 2017)\n",
      "Iterat #Fevals   function value  axis ratio  sigma  min&max std  t[m:s]\n",
      "    1     11 2.722408485005778e+04 1.0e+00 1.91e+00  2e+00  2e+00 0:00.1\n",
      "    2     22 4.045596485119459e+04 1.2e+00 1.83e+00  2e+00  2e+00 0:01.7\n",
      "    3     33 3.107167935551463e+04 1.2e+00 1.76e+00  2e+00  2e+00 0:03.3\n",
      "    5     55 3.623893155844053e+04 1.3e+00 1.59e+00  1e+00  2e+00 0:06.5\n",
      "    8     88 4.526887957560168e+04 1.4e+00 1.36e+00  1e+00  1e+00 0:11.2\n",
      "   12    132 3.302683735920493e+04 1.6e+00 1.29e+00  1e+00  1e+00 0:17.5\n",
      "   16    176 3.905656808517052e+04 1.7e+00 9.58e-01  8e-01  1e+00 0:23.8\n",
      "   21    231 1.956430958571550e+04 1.8e+00 7.69e-01  6e-01  8e-01 0:31.6\n",
      "   27    297 2.606149990304835e+04 2.1e+00 7.18e-01  6e-01  8e-01 0:41.1\n",
      "   33    363 3.044697087150353e+04 2.6e+00 7.75e-01  6e-01  9e-01 0:50.5\n",
      "   40    440 2.603044893453329e+04 3.2e+00 8.45e-01  6e-01  9e-01 1:01.5\n",
      "   48    528 3.071920984264543e+04 3.5e+00 7.07e-01  5e-01  8e-01 1:14.0\n",
      "   56    616 2.227907608828891e+04 4.0e+00 5.19e-01  4e-01  6e-01 1:26.6\n",
      "   65    715 2.286038460714758e+04 4.5e+00 3.80e-01  2e-01  4e-01 1:40.7\n",
      "   74    814 1.872364249627081e+04 4.8e+00 2.43e-01  1e-01  3e-01 1:54.8\n",
      "   84    924 1.596534889644575e+04 5.9e+00 1.71e-01  8e-02  2e-01 2:10.5\n",
      "   95   1045 1.552863145180425e+04 6.6e+00 1.01e-01  4e-02  1e-01 2:27.7\n",
      "  100   1100 1.580765588049973e+04 7.2e+00 8.54e-02  3e-02  9e-02 2:35.6\n",
      "  112   1232 1.566593260316776e+04 9.5e+00 7.15e-02  2e-02  9e-02 2:54.4\n",
      "  125   1375 1.553488711702980e+04 1.2e+01 5.61e-02  9e-03  7e-02 3:14.8\n",
      "  138   1518 1.545803705986840e+04 1.9e+01 4.87e-02  6e-03  6e-02 3:35.1\n",
      "  152   1672 1.537916878940057e+04 3.2e+01 5.96e-02  5e-03  1e-01 3:57.0\n",
      "  167   1837 1.536239211494617e+04 5.6e+01 4.37e-02  2e-03  8e-02 4:20.5\n",
      "  182   2002 1.535533091715976e+04 8.2e+01 2.89e-02  1e-03  6e-02 4:43.9\n",
      "  198   2178 1.535037584892163e+04 1.4e+02 3.35e-02  9e-04  8e-02 5:09.0\n",
      "  200   2200 1.534879381882254e+04 1.5e+02 3.63e-02  9e-04  9e-02 5:12.2\n",
      "  217   2387 1.534520338029431e+04 2.2e+02 5.46e-02  1e-03  1e-01 5:38.7\n",
      "  235   2585 1.534356414333791e+04 3.5e+02 3.91e-02  5e-04  1e-01 6:06.9\n",
      "  253   2783 1.534213270635209e+04 4.3e+02 5.41e-02  5e-04  1e-01 6:35.0\n",
      "  272   2992 1.521338832887235e+04 5.8e+02 2.60e-01  2e-03  8e-01 7:04.8\n",
      "  292   3212 1.466744563827667e+04 4.0e+02 2.01e-01  2e-03  4e-01 7:36.2\n",
      "  300   3300 1.460808427591894e+04 3.6e+02 1.65e-01  1e-03  3e-01 7:48.8\n",
      "  321   3531 1.442079648355195e+04 3.6e+02 1.29e-01  1e-03  2e-01 8:21.8\n",
      "  342   3762 1.433700425990549e+04 3.1e+02 1.52e-01  1e-03  2e-01 8:54.9\n",
      "  364   4004 1.421548561805977e+04 3.0e+02 2.22e-01  2e-03  3e-01 9:29.4\n",
      "  387   4257 1.409540972416376e+04 2.6e+02 1.65e-01  2e-03  2e-01 10:05.6\n",
      "  400   4400 1.407015162816395e+04 2.6e+02 1.35e-01  2e-03  2e-01 10:26.1\n",
      "  424   4664 1.399490952710727e+04 4.1e+02 1.87e-01  2e-03  4e-01 11:03.8\n",
      "  449   4939 1.396483726293140e+04 4.2e+02 1.54e-01  2e-03  3e-01 11:43.1\n",
      "  474   5214 1.393605099166043e+04 5.6e+02 1.23e-01  1e-03  3e-01 12:22.5\n",
      "  500   5500 1.391227301764215e+04 6.6e+02 1.88e-01  2e-03  5e-01 13:03.5\n",
      "CMAEvolutionStrategyResult(xbest=array([-2.59056106e-04,  1.72053499e+00,  4.17522985e-01,  9.97458401e-02,\n",
      "        5.05587313e+00,  1.06729734e-01, -1.91661405e+01,  1.25705162e+00,\n",
      "        5.99972979e+00,  8.40084884e-01, -5.06144965e+00, -6.27239199e+00]), fbest=13899.363198377483, evals_best=5455, evaluations=5500, iterations=500, xfavorite=array([-1.31954328e-03,  1.63344321e+00,  3.99581011e-01,  1.01480102e-01,\n",
      "        4.59513437e+00,  1.29982113e-01, -2.23314457e+01,  1.57859192e+00,\n",
      "        6.29418214e+00,  1.09994817e+00, -4.73736684e+00, -5.94609474e+00]), stds=array([0.00384182, 0.11194292, 0.01531363, 0.00178111, 0.26739092,\n",
      "       0.09155093, 0.45911667, 0.15730917, 0.11312154, 0.14612688,\n",
      "       0.17433783, 0.17097716]))\n"
     ]
    }
   ],
   "source": [
    "from theta.layers import ThetaUnitLayer, NormAddLayer\n",
    "from theta.model import Model"
   ]
  },
  {
   "cell_type": "code",
   "execution_count": 34,
   "metadata": {},
   "outputs": [
    {
     "name": "stderr",
     "output_type": "stream",
     "text": [
      "/usr/local/lib/python2.7/dist-packages/RTBM-0.0.1-py2.7-linux-x86_64.egg/rtbm/mathtools.py:57: RuntimeWarning: invalid value encountered in multiply\n",
      "  return np.sqrt(detT / (2.0 * np.pi) ** (v.shape[0])) * ExpF * vR1 / vR2 * np.exp(uR1-uR2)\n"
     ]
    },
    {
     "data": {
      "text/plain": [
       "[<matplotlib.lines.Line2D at 0x7f9f6488b110>]"
      ]
     },
     "execution_count": 34,
     "metadata": {},
     "output_type": "execute_result"
    },
    {
     "data": {
      "image/png": "[encoded data removed]",
      "text/plain": [
       "<matplotlib.figure.Figure at 0x7f9f6488b290>"
      ]
     },
     "metadata": {},
     "output_type": "display_data"
    }
   ],
   "source": [
    "test_data = (np.linspace(-20,20, 100)).reshape(1, 100)\n",
    "plt.hist(data.T, bins=50, normed=True);\n",
    "plt.plot(test_data.flatten(), mdl(test_data).flatten(), 'o-')"
   ]
  },
  {
   "cell_type": "markdown",
   "metadata": {
    "collapsed": true
   },
   "source": [
    "## Via grad descent"
   ]
  },
  {
   "cell_type": "code",
   "execution_count": 24,
   "metadata": {
    "collapsed": true
   },
   "outputs": [],
   "source": [
    "mdl = Model()\n",
    "mdl.add(ThetaUnitLayer(1,2,1, init_max_param_bound=20, diagonal_T=True, check_positivity=True))\n",
    "mdl.add(NormAddLayer(2,1))"
   ]
  },
  {
   "cell_type": "code",
   "execution_count": 27,
   "metadata": {},
   "outputs": [
    {
     "name": "stdout",
     "output_type": "stream",
     "text": [
      "Progress: |████████████████████| 100.0% | iteration 1000 in 257.21(s) | cost = 15880.084901 | val = 0.000000\n"
     ]
    },
    {
     "data": {
      "image/png": "[encoded data removed]",
      "text/plain": [
       "<matplotlib.figure.Figure at 0x7f9f64cc4650>"
      ]
     },
     "metadata": {},
     "output_type": "display_data"
    }
   ],
   "source": [
    "minim = minimizer.SGD()\n",
    "solution = minim.train(logarithmic(), mdl, data, scheme=adam(), lr=0.001, maxiter=1000)"
   ]
  },
  {
   "cell_type": "code",
   "execution_count": 29,
   "metadata": {},
   "outputs": [
    {
     "data": {
      "text/plain": [
       "[<matplotlib.lines.Line2D at 0x7f9f64973a90>]"
      ]
     },
     "execution_count": 29,
     "metadata": {},
     "output_type": "execute_result"
    },
    {
     "data": {
      "image/png": "[encoded data removed]",
      "text/plain": [
       "<matplotlib.figure.Figure at 0x7f9f64973a10>"
      ]
     },
     "metadata": {},
     "output_type": "display_data"
    }
   ],
   "source": [
    "test_data = (np.linspace(-10,10, 100)).reshape(1, 100)\n",
    "plt.hist(data.T, bins=50, normed=True);\n",
    "plt.plot(test_data.flatten(), mdl(test_data).flatten(), 'o-')"
   ]
  },
  {
   "cell_type": "code",
   "execution_count": 31,
   "metadata": {},
   "outputs": [
    {
     "data": {
      "text/plain": [
       "array([[2.98142719, 0.33540983]])"
      ]
     },
     "execution_count": 31,
     "metadata": {},
     "output_type": "execute_result"
    }
   ],
   "source": [
    "np.exp(mdl.get_layer(2)._w)"
   ]
  },
  {
   "cell_type": "code",
   "execution_count": null,
   "metadata": {
    "collapsed": true,
    "scrolled": false
   },
   "outputs": [],
   "source": [
    "#print(mdl.get_layer(2)._w)\n",
    "\n",
    "print(\"Bv:\",mdl.get_layer(1).get_unit(1)._bv)\n",
    "print(\"Bh:\",mdl.get_layer(1).get_unit(1)._bh)\n",
    "print(\"W:\",mdl.get_layer(1).get_unit(1)._w)\n",
    "print(\"T:\",mdl.get_layer(1).get_unit(1)._t)\n",
    "print(\"Q:\",mdl.get_layer(1).get_unit(1)._q)\n",
    "mdl.get_parameters()"
   ]
  },
  {
   "cell_type": "code",
   "execution_count": null,
   "metadata": {
    "collapsed": true
   },
   "outputs": [],
   "source": [
    "mdl.gradient_check(0,test_data,0.000001)"
   ]
  },
  {
   "cell_type": "code",
   "execution_count": null,
   "metadata": {
    "collapsed": true
   },
   "outputs": [],
   "source": []
  },
  {
   "cell_type": "code",
   "execution_count": null,
   "metadata": {
    "collapsed": true
   },
   "outputs": [],
   "source": []
  }
 ],
 "metadata": {
  "kernelspec": {
   "display_name": "Python 2",
   "language": "python",
   "name": "python2"
  },
  "language_info": {
   "codemirror_mode": {
    "name": "ipython",
    "version": 2
   },
   "file_extension": ".py",
   "mimetype": "text/x-python",
   "name": "python",
   "nbconvert_exporter": "python",
   "pygments_lexer": "ipython2",
   "version": "2.7.13"
  }
 },
 "nbformat": 4,
 "nbformat_minor": 2
}
