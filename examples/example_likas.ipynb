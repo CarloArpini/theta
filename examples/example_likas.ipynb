{
 "cells": [
  {
   "cell_type": "code",
   "execution_count": null,
   "metadata": {
    "collapsed": true
   },
   "outputs": [],
   "source": [
    "import numpy as np\n",
    "from numpy import vectorize\n",
    "\n",
    "import matplotlib.pyplot as plt\n",
    "%matplotlib inline\n",
    "\n",
    "from rtbm import RTBM, minimizer\n",
    "from rtbm.costfunctions import logarithmic"
   ]
  },
  {
   "cell_type": "markdown",
   "metadata": {},
   "source": [
    "## Generate data"
   ]
  },
  {
   "cell_type": "code",
   "execution_count": null,
   "metadata": {},
   "outputs": [],
   "source": [
    "# likas 1d example uniform\n",
    "n = 5000\n",
    "\n",
    "data = np.random.uniform(-5,5,n)\n",
    "data = data.reshape(1,n)\n",
    "plt.hist(data.T, normed=True, bins=50);"
   ]
  },
  {
   "cell_type": "code",
   "execution_count": null,
   "metadata": {},
   "outputs": [],
   "source": [
    "# likas 1d example\n",
    "n = 5000\n",
    "\n",
    "data = np.zeros(n)\n",
    "u = np.random.random_sample(n)\n",
    "for i in range(n):\n",
    "    if u[i] < 0.25:\n",
    "        data[i] = np.random.normal(-7, 0.5)\n",
    "    elif u[i] < 0.50:\n",
    "        data[i] = np.random.uniform(-3,-1)\n",
    "    elif u[i] < 0.75:\n",
    "        data[i] = np.random.uniform(1,3)\n",
    "    else:\n",
    "        data[i] = np.random.normal(7, 0.5)\n",
    "data = data.reshape(1,n)\n",
    "plt.hist(data.T, normed=True, bins=50);"
   ]
  },
  {
   "cell_type": "code",
   "execution_count": null,
   "metadata": {},
   "outputs": [],
   "source": [
    "# likas 1d example 2\n",
    "def p(x):\n",
    "    a = 1/6.5523\n",
    "    if x < 0 and x >= 3 + 2**0.5:\n",
    "        return 0\n",
    "    elif 0 <= x < 2:\n",
    "        return a*(2-x/2)\n",
    "    else:\n",
    "        return a*(2-(x-3)**2)\n",
    "\n",
    "def rejection_sampler(p,xbounds,pmax):\n",
    "    while True:\n",
    "        x = np.random.rand(1)*(xbounds[1]-xbounds[0])+xbounds[0]\n",
    "        y = np.random.rand(1)*pmax\n",
    "        if y <= p(x):\n",
    "            return x\n",
    "\n",
    "n = 5000\n",
    "data = np.zeros(n)\n",
    "for i in range(n):\n",
    "    data[i] = rejection_sampler(p,[0,3+2**0.5],0.3)\n",
    "data = data.reshape(1,n)\n",
    "plt.hist(data.T, normed=True, bins=50);"
   ]
  },
  {
   "cell_type": "code",
   "execution_count": null,
   "metadata": {},
   "outputs": [],
   "source": [
    "# likas example 3, 2d uniform [0,0.2]\n",
    "n = 5000\n",
    "data = np.random.uniform(0,0.2,(2,n/2))\n",
    "plt.figure(figsize=(5,5))\n",
    "plt.hist2d(data[0,:], data[1,:], bins=50, normed=True);"
   ]
  },
  {
   "cell_type": "markdown",
   "metadata": {},
   "source": [
    "## Training"
   ]
  },
  {
   "cell_type": "code",
   "execution_count": null,
   "metadata": {
    "collapsed": true
   },
   "outputs": [],
   "source": [
    "a = RTBM(1,2, init_max_param_bound=20)"
   ]
  },
  {
   "cell_type": "code",
   "execution_count": null,
   "metadata": {},
   "outputs": [],
   "source": [
    "minim = minimizer.CMA(False)\n",
    "solution = minim.train(logarithmic(), a, data, tolfun=1e-5)"
   ]
  },
  {
   "cell_type": "markdown",
   "metadata": {},
   "source": [
    "## Testing output"
   ]
  },
  {
   "cell_type": "code",
   "execution_count": null,
   "metadata": {},
   "outputs": [],
   "source": [
    "test_data = (np.linspace(-10,10, 100)).reshape(1, 100)\n",
    "plt.hist(data.T, bins=50, normed=True);\n",
    "plt.plot(test_data.flatten(), a(test_data).flatten(), 'o-')"
   ]
  },
  {
   "cell_type": "markdown",
   "metadata": {
    "collapsed": true
   },
   "source": [
    "# Testing model"
   ]
  },
  {
   "cell_type": "code",
   "execution_count": null,
   "metadata": {
    "collapsed": true
   },
   "outputs": [],
   "source": [
    "from rtbm.layers import ThetaUnitLayer, NormAddLayer\n",
    "from rtbm.model import Model"
   ]
  },
  {
   "cell_type": "code",
   "execution_count": null,
   "metadata": {
    "collapsed": true
   },
   "outputs": [],
   "source": [
    "mdl = Model()\n",
    "mdl.add(ThetaUnitLayer(1,2,Nhidden=2))\n",
    "mdl.add(NormAddLayer(2,1))"
   ]
  },
  {
   "cell_type": "code",
   "execution_count": null,
   "metadata": {
    "collapsed": true,
    "scrolled": false
   },
   "outputs": [],
   "source": [
    "minim = minimizer.CMA(False)\n",
    "solution = minim.train(logarithmic(), mdl, data, tolfun=1e-5)"
   ]
  },
  {
   "cell_type": "code",
   "execution_count": null,
   "metadata": {
    "collapsed": true
   },
   "outputs": [],
   "source": [
    "test_data = (np.linspace(-10,10, 100)).reshape(1, 100)\n",
    "plt.hist(data.T, bins=50, normed=True);\n",
    "plt.plot(test_data.flatten(), mdl(test_data).flatten(), 'o-')"
   ]
  },
  {
   "cell_type": "code",
   "execution_count": null,
   "metadata": {
    "collapsed": true
   },
   "outputs": [],
   "source": []
  }
 ],
 "metadata": {
  "kernelspec": {
   "display_name": "Python 2",
   "language": "python",
   "name": "python2"
  },
  "language_info": {
   "codemirror_mode": {
    "name": "ipython",
    "version": 2
   },
   "file_extension": ".py",
   "mimetype": "text/x-python",
   "name": "python",
   "nbconvert_exporter": "python",
   "pygments_lexer": "ipython2",
   "version": "2.7.13"
  }
 },
 "nbformat": 4,
 "nbformat_minor": 2
}
