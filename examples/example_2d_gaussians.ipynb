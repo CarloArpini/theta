{
 "cells": [
  {
   "cell_type": "code",
   "execution_count": null,
   "metadata": {},
   "outputs": [],
   "source": [
    "import numpy as np\n",
    "import matplotlib.pyplot as plt\n",
    "%matplotlib inline\n",
    "\n",
    "from rtbm import RTBM, minimizer\n",
    "from rtbm.costfunctions import logarithmic\n",
    "\n",
    "import warnings\n",
    "warnings.filterwarnings('ignore')"
   ]
  },
  {
   "cell_type": "markdown",
   "metadata": {},
   "source": [
    "# Example 1"
   ]
  },
  {
   "cell_type": "markdown",
   "metadata": {},
   "source": [
    "## Generate data"
   ]
  },
  {
   "cell_type": "code",
   "execution_count": null,
   "metadata": {},
   "outputs": [],
   "source": [
    "n = 5000\n",
    "data = np.random.multivariate_normal([0,0], [[1,0.8],[0.8,2]], n).T\n",
    "plt.figure(figsize=(5,5))\n",
    "plt.hist2d(data[0,:], data[1,:], bins=50, normed=True);"
   ]
  },
  {
   "cell_type": "markdown",
   "metadata": {},
   "source": [
    "## Training"
   ]
  },
  {
   "cell_type": "code",
   "execution_count": null,
   "metadata": {
    "collapsed": true
   },
   "outputs": [],
   "source": [
    "a = RTBM(2,1)"
   ]
  },
  {
   "cell_type": "code",
   "execution_count": null,
   "metadata": {},
   "outputs": [],
   "source": [
    "minim = minimizer.CMA(True)"
   ]
  },
  {
   "cell_type": "code",
   "execution_count": null,
   "metadata": {
    "scrolled": true
   },
   "outputs": [],
   "source": [
    "solution = minim.train(logarithmic(), a, data, tolfun=1e-1)"
   ]
  },
  {
   "cell_type": "markdown",
   "metadata": {},
   "source": [
    "## Testing output"
   ]
  },
  {
   "cell_type": "code",
   "execution_count": null,
   "metadata": {},
   "outputs": [],
   "source": [
    "x = np.linspace(np.min(data[0,:]), np.max(data[0,:]), 50)\n",
    "y = np.linspace(np.min(data[1,:]), np.max(data[1,:]), 50)\n",
    "\n",
    "w = np.zeros(shape=(len(x)*len(y)))\n",
    "s = np.zeros(shape=(2,len(x)*len(y)))\n",
    "for i in range(len(x)):\n",
    "    for j in range(len(y)):\n",
    "        w[i*len(y)+j] = np.real(a(np.array([ [x[i]], [y[j]]]))).flatten()\n",
    "        s[0, i*len(y)+j] = x[i]\n",
    "        s[1, i*len(y)+j] = y[j]        \n",
    "        \n",
    "plt.figure(figsize=(5,5))\n",
    "plt.hist2d(s[0],s[1],weights=w, bins=50, normed=True);"
   ]
  },
  {
   "cell_type": "markdown",
   "metadata": {},
   "source": [
    "# Example 2"
   ]
  },
  {
   "cell_type": "markdown",
   "metadata": {},
   "source": [
    "## Generate data"
   ]
  },
  {
   "cell_type": "code",
   "execution_count": null,
   "metadata": {},
   "outputs": [],
   "source": [
    "def gaussian_mixture(n):\n",
    "    v = np.zeros(shape=(2,n))\n",
    "    u1 = np.random.random_sample(n)\n",
    "    for i in range(n):\n",
    "        if u1[i] < 0.5:\n",
    "            r = np.random.multivariate_normal([1,1], [[1,0],[0,1]], 1).flatten()\n",
    "            v[0, i] = r[0]\n",
    "            v[1, i] = r[1]\n",
    "        else:\n",
    "            r = np.random.multivariate_normal([-1,-1], [[1,0.],[0.,1]], 1).flatten()\n",
    "            v[0, i] = r[0]\n",
    "            v[1, i] = r[1]            \n",
    "    return v\n",
    "\n",
    "n = 3000\n",
    "data = (gaussian_mixture(n))\n",
    "plt.figure(figsize=(5,5))\n",
    "plt.hist2d(data[0,:], data[1,:], bins=50, normed=True);"
   ]
  },
  {
   "cell_type": "markdown",
   "metadata": {},
   "source": [
    "## Training"
   ]
  },
  {
   "cell_type": "code",
   "execution_count": null,
   "metadata": {
    "collapsed": true
   },
   "outputs": [],
   "source": [
    "a = RTBM(2,1)"
   ]
  },
  {
   "cell_type": "code",
   "execution_count": null,
   "metadata": {},
   "outputs": [],
   "source": [
    "minim = minimizer.CMA(True)"
   ]
  },
  {
   "cell_type": "code",
   "execution_count": null,
   "metadata": {},
   "outputs": [],
   "source": [
    "solution = minim.train(logarithmic(), a, data, tolfun=1e-1)"
   ]
  },
  {
   "cell_type": "code",
   "execution_count": null,
   "metadata": {},
   "outputs": [],
   "source": [
    "x = np.linspace(np.min(data[0,:]), np.max(data[0,:]), 50)\n",
    "y = np.linspace(np.min(data[1,:]), np.max(data[1,:]), 50)\n",
    "\n",
    "w = np.zeros(shape=(len(x)*len(y)))\n",
    "s = np.zeros(shape=(2,len(x)*len(y)))\n",
    "for i in range(len(x)):\n",
    "    for j in range(len(y)):\n",
    "        w[i*len(y)+j] = np.real(a(np.array([ [x[i]], [y[j]]]))).flatten()\n",
    "        s[0, i*len(y)+j] = x[i]\n",
    "        s[1, i*len(y)+j] = y[j]        \n",
    "        \n",
    "plt.figure(figsize=(5,5))\n",
    "plt.hist2d(s[0],s[1],weights=w, bins=50, normed=True);"
   ]
  },
  {
   "cell_type": "code",
   "execution_count": null,
   "metadata": {
    "collapsed": true
   },
   "outputs": [],
   "source": []
  }
 ],
 "metadata": {
  "kernelspec": {
   "display_name": "Python 2",
   "language": "python",
   "name": "python2"
  },
  "language_info": {
   "codemirror_mode": {
    "name": "ipython",
    "version": 2
   },
   "file_extension": ".py",
   "mimetype": "text/x-python",
   "name": "python",
   "nbconvert_exporter": "python",
   "pygments_lexer": "ipython2",
   "version": "2.7.12"
  }
 },
 "nbformat": 4,
 "nbformat_minor": 1
}
