{
 "cells": [
  {
   "cell_type": "code",
   "execution_count": 1,
   "metadata": {},
   "outputs": [],
   "source": [
    "import sys\n",
    "sys.path.append('../')\n",
    "\n",
    "import numpy as np\n",
    "import matplotlib.pyplot as plt\n",
    "from matplotlib import rc\n",
    "\n",
    "%matplotlib inline\n",
    "\n",
    "import layers as layers\n",
    "import model as mdl\n",
    "\n",
    "import warnings\n",
    "warnings.filterwarnings('ignore')\n",
    "\n",
    "from costfunctions import mse\n",
    "import minimizer\n",
    "\n",
    "from mathtools import factorized_hidden_expectation, hidden_expectations\n",
    "from mathtools import gradient_log_theta, gradient_log_theta_phaseI #, gradient_log_theta_phaseI_NEW\n"
   ]
  },
  {
   "cell_type": "code",
   "execution_count": 2,
   "metadata": {
    "collapsed": true
   },
   "outputs": [],
   "source": [
    "# Generate input grid\n",
    "X = np.linspace(-10,10, 101)\n",
    "X = X.reshape((1,X.shape[0]))"
   ]
  },
  {
   "cell_type": "markdown",
   "metadata": {},
   "source": [
    "# E(h_i|v) diagonal Q"
   ]
  },
  {
   "cell_type": "markdown",
   "metadata": {},
   "source": [
    "# Linear periodicity relation tests"
   ]
  },
  {
   "cell_type": "code",
   "execution_count": 3,
   "metadata": {},
   "outputs": [
    {
     "name": "stdout",
     "output_type": "stream",
     "text": [
      "[ 76.99648264 +4.71467480e-15j  75.15419439 +4.60186718e-15j\n",
      "  73.98376841 +4.53019926e-15j  72.04280789 +4.41134970e-15j\n",
      "  70.93658202 +4.34361291e-15j  69.01067227 +4.22568495e-15j\n",
      "  67.78380464 +4.15056097e-15j  66.00185755 +4.04144818e-15j\n",
      "  64.47105279 +3.94771342e-15j  62.99726714 +3.85747008e-15j\n",
      "  61.17942736 +3.74615949e-15j  59.98647927 +3.67311249e-15j\n",
      "  58.05092650 +3.55459407e-15j  56.94657308 +3.48697192e-15j\n",
      "  55.01284718 +3.36856536e-15j  53.81302586 +3.29509749e-15j\n",
      "  52.00253184 +3.18423671e-15j  50.51646025 +3.09324107e-15j\n",
      "  48.99796216 +3.00025988e-15j  47.20777375 +2.89064245e-15j\n",
      "  45.98876059 +2.81599942e-15j  44.06048137 +2.69792637e-15j\n",
      "  42.95506986 +2.63023944e-15j  41.01543107 +2.51147082e-15j\n",
      "  39.83910985 +2.43944192e-15j  38.00328907 +2.32703032e-15j\n",
      "  36.56158427 +2.23875136e-15j  34.99859037 +2.14304558e-15j\n",
      "  33.23929106 +2.03531957e-15j  31.99068238 +1.95886434e-15j\n",
      "  30.07168848 +1.84135985e-15j  28.96227431 +1.77342783e-15j\n",
      "  27.01850236 +1.65440612e-15j  25.86217341 +1.58360139e-15j\n",
      "  24.00415385 +1.46983051e-15j  22.60571993 +1.38420113e-15j\n",
      "  20.99917232 +1.28582846e-15j  19.27393461 +1.18018812e-15j\n",
      "  17.99230440 +1.10171090e-15j  16.08478070 +9.84908760e-16j\n",
      "  14.96836797 +9.16548196e-16j  13.02215258 +7.97376874e-16j\n",
      "  11.88239581 +7.27586900e-16j  10.00515420 +6.12639003e-16j\n",
      "   8.64820089 +5.29549577e-16j   6.99972709 +4.28609669e-16j\n",
      "   5.31153776 +3.25237886e-16j   3.99367768 +2.44542229e-16j\n",
      "   2.10000291 +1.28588092e-16j   0.97351189 +5.96104108e-17j\n",
      "  -0.97351189 +5.96104108e-17j  -2.10000291 +1.28588092e-16j\n",
      "  -3.99367768 +2.44542229e-16j  -5.31153776 +3.25237886e-16j\n",
      "  -6.99972709 +4.28609669e-16j  -8.64820089 +5.29549577e-16j\n",
      " -10.00515420 +6.12639003e-16j -11.88239581 +7.27586900e-16j\n",
      " -13.02215258 +7.97376874e-16j -14.96836797 +9.16548196e-16j\n",
      " -16.08478070 +9.84908760e-16j -17.99230440 +1.10171090e-15j\n",
      " -19.27393461 +1.18018812e-15j -20.99917232 +1.28582846e-15j\n",
      " -22.60571993 +1.38420113e-15j -24.00415385 +1.46983051e-15j\n",
      " -25.86217341 +1.58360139e-15j -27.01850236 +1.65440612e-15j\n",
      " -28.96227431 +1.77342783e-15j -30.07168848 +1.84135985e-15j\n",
      " -31.99068238 +1.95886434e-15j -33.23929106 +2.03531957e-15j\n",
      " -34.99859037 +2.14304558e-15j -36.56158427 +2.23875136e-15j\n",
      " -38.00328907 +2.32703032e-15j -39.83910985 +2.43944192e-15j\n",
      " -41.01543107 +2.51147082e-15j -42.95506986 +2.63023944e-15j\n",
      " -44.06048137 +2.69792637e-15j -45.98876059 +2.81599942e-15j\n",
      " -47.20777375 +2.89064245e-15j -48.99796216 +3.00025988e-15j\n",
      " -50.51646025 +3.09324107e-15j -52.00253184 +3.18423671e-15j\n",
      " -53.81302586 +3.29509749e-15j -55.01284718 +3.36856536e-15j\n",
      " -56.94657308 +3.48697192e-15j -58.05092650 +3.55459407e-15j\n",
      " -59.98647927 +3.67311249e-15j -61.17942736 +3.74615949e-15j\n",
      " -62.99726714 +3.85747008e-15j -64.47105279 +3.94771342e-15j\n",
      " -66.00185755 +4.04144818e-15j -67.78380464 +4.15056097e-15j\n",
      " -69.01067227 +4.22568495e-15j -70.93658202 +4.34361291e-15j\n",
      " -72.04280789 +4.41134970e-15j -73.98376841 +4.53019926e-15j\n",
      " -75.15419439 +4.60186718e-15j -76.99648264 +4.71467480e-15j]\n",
      "[ 76.99648263 +2.15376616e-19j  75.15418956 +5.17909524e-17j\n",
      "  73.98376836 +9.93901165e-19j  72.04280757 +5.86111322e-17j\n",
      "  70.93658133 +3.88327330e-18j  69.01067226 +6.05788528e-17j\n",
      "  67.78379548 +1.32387089e-17j  66.00185755 +6.11185978e-17j\n",
      "  64.47099118 +3.23924480e-17j  62.99726713 +1.67339760e-19j\n",
      "  61.17942186 +5.02459198e-17j  59.98647925 +8.27907250e-19j\n",
      "  58.05092613 +5.81140138e-17j  56.94657269 +3.27147910e-18j\n",
      "  55.01284716 +6.04456785e-17j  53.81302061 +1.14491854e-17j\n",
      "  52.00253184 +6.10773093e-17j  50.51640805 +2.96114667e-17j\n",
      "  48.99796216 +1.24781933e-19j  47.20776784 +4.85102290e-17j\n",
      "  45.98876058 +6.88216115e-19j  44.06048098 +5.75289482e-17j\n",
      "  42.95506966 +2.75119014e-18j  41.01543105 +6.02874610e-17j\n",
      "  39.83910706 +9.85185090e-18j  38.00328907 +6.10309427e-17j\n",
      "  36.56155564 +2.68469739e-17j  34.99859037 +8.63150850e-20j\n",
      "  33.23928528 +4.65803424e-17j  31.99068237 +5.70540366e-19j\n",
      "  30.07168809 +5.68427104e-17j  28.96227422 +2.31003797e-18j\n",
      "  27.01850234 +6.00993984e-17j  25.86217211 +8.43952407e-18j\n",
      "  24.00415385 +6.09779900e-17j  22.60570659 +2.41435084e-17j\n",
      "  20.99917232 +5.06807690e-20j  19.27392993 +4.44589691e-17j\n",
      "  17.99230440 +4.71219852e-19j  16.08478040 +5.60410380e-17j\n",
      "  14.96836794 +1.93690514e-18j  13.02215256 +5.98758867e-17j\n",
      "  11.88239538 +7.20120577e-18j  10.00515420 +6.09167363e-17j\n",
      "   8.64819701 +2.15417205e-17j   6.99972709 +1.67106284e-20j\n",
      "   5.31153585 +4.21562710e-17j   3.99367767 +3.87130770e-19j\n",
      "   2.10000283 +5.51089325e-17j   0.97351188 +1.62192931e-18j\n",
      "  -0.97351189 +5.96104108e-17j  -2.10000286 +6.12340899e-18j\n",
      "  -3.99367767 +6.08452092e-17j  -5.31153617 +1.90760885e-17j\n",
      "  -6.99972709 +6.12156293e-17j  -8.64819744 +3.96906458e-17j\n",
      " -10.00515420 +3.15603641e-19j -11.88239542 +5.40311364e-17j\n",
      " -13.02215256 +1.35645329e-18j -14.96836794 +5.92954350e-17j\n",
      " -16.08478041 +5.19130307e-18j -17.99230440 +6.07611201e-17j\n",
      " -19.27393017 +1.67733851e-17j -20.99917232 +6.11816592e-17j\n",
      " -22.60570717 +3.70888671e-17j -24.00415385 +2.54349997e-19j\n",
      " -25.86217216 +5.27928189e-17j -27.01850234 +1.13294163e-18j\n",
      " -28.96227422 +5.89223022e-17j -30.07168810 +4.38963032e-18j\n",
      " -31.99068237 +6.06617996e-17j -33.23928545 +1.46520080e-17j\n",
      " -34.99859037 +6.11460249e-17j -36.56155642 +3.43854135e-17j\n",
      " -38.00328907 +2.01397213e-19j -39.83910713 +5.13804933e-17j\n",
      " -41.01543105 +9.44879031e-19j -42.95506966 +5.84811501e-17j\n",
      " -44.06048099 +3.70339228e-18j -45.98876058 +6.05441239e-17j\n",
      " -47.20776796 +1.27221185e-17j -48.99796216 +6.11075580e-17j\n",
      " -50.51640907 +3.16209359e-17j -52.00253184 +1.55030650e-19j\n",
      " -53.81302071 +4.97831605e-17j -55.01284716 +7.86661438e-19j\n",
      " -56.94657270 +5.79608613e-17j -58.05092614 +3.11832658e-18j\n",
      " -59.98647925 +6.04044327e-17j -61.17942195 +1.09864256e-17j\n",
      " -62.99726713 +6.10650002e-17j -64.47099213 +2.88399500e-17j\n",
      " -66.00185755 +1.13742144e-19j -67.78379561 +4.79936393e-17j\n",
      " -69.01067226 +6.53487193e-19j -70.93658134 +5.73490673e-17j\n",
      " -72.04280758 +2.62120805e-18j -73.98376836 +6.02384388e-17j\n",
      " -75.15418962 +9.44139143e-18j -76.99648263 +6.10169633e-17j]\n"
     ]
    }
   ],
   "source": [
    "Q = np.diag([13])\n",
    "\n",
    "X = np.linspace(-1000,1000, 100)\n",
    "X = X.reshape((1,X.shape[0]))\n",
    "\n",
    "#print(gradient_log_theta_phaseI(X.T -Q*60, Q, 0))\n",
    "\n",
    "#print(gradient_log_theta(X.T, Q, 0)+60)\n",
    "\n",
    "print(gradient_log_theta(X.T, Q, 0))\n",
    "\n",
    "print(gradient_log_theta_phaseI(X.T, Q, 0))\n"
   ]
  },
  {
   "cell_type": "code",
   "execution_count": 4,
   "metadata": {},
   "outputs": [
    {
     "name": "stdout",
     "output_type": "stream",
     "text": [
      "[ 3.99112555 +2.44385957e-16j  3.66962122 +2.24699494e-16j\n",
      "  3.34812326 +2.05013422e-16j  3.02659776 +1.85325663e-16j\n",
      "  2.70510610 +1.65639976e-16j  2.38359257 +1.45952950e-16j\n",
      "  2.06207713 +1.26265808e-16j  1.74058635 +1.06580175e-16j\n",
      "  1.41906147 +8.68924546e-17j  1.09756173 +6.72062730e-17j\n",
      "  0.77605938 +4.75199316e-17j  0.45453570 +2.78322847e-17j\n",
      "  0.13304577 +8.14670394e-18j -0.18847211 +1.15405883e-17j\n",
      " -0.50998292 +3.12274476e-17j -0.83147611 +5.09132276e-17j\n",
      " -1.15300210 +7.06010166e-17j -1.47449781 +9.02869512e-17j\n",
      " -1.79600493 +1.09973585e-16j -2.11752568 +1.29661052e-16j\n",
      " -2.43901512 +1.49346603e-16j]\n"
     ]
    }
   ],
   "source": [
    "Q = np.zeros((2,2))\n",
    "Q[0,0] = 1.5\n",
    "Q[1,0] = -1.4\n",
    "Q[0,1] = 1.4\n",
    "Q[1,1] = 1.7\n",
    "\n",
    "\n",
    "X1 = np.linspace(-60,60, 21)\n",
    "X2 = np.linspace(-60,65, 21)\n",
    "\n",
    "X=np.stack((X1,X2))\n",
    "\n",
    "print(gradient_log_theta(X.T, Q, 0))\n",
    "#gradient_log_theta_phaseI_NEW(X.T, Q, 0)"
   ]
  },
  {
   "cell_type": "code",
   "execution_count": 5,
   "metadata": {},
   "outputs": [
    {
     "name": "stdout",
     "output_type": "stream",
     "text": [
      "[ 43.39470874 +2.65715956e-15j  42.51826354 +2.60349277e-15j\n",
      "  41.64179863 +2.54982477e-15j  40.76520000 +2.49614858e-15j\n",
      "  39.88843009 +2.44246191e-15j  39.01154907 +2.38876843e-15j\n",
      "  38.13468055 +2.33507572e-15j  37.25794102 +2.28139091e-15j\n",
      "  36.38137334 +2.22771662e-15j  35.50492224 +2.17404947e-15j\n",
      "  34.62846578 +2.12038199e-15j  33.75188518 +2.06670691e-15j\n",
      "  32.87513252 +2.01302129e-15j  31.99825814 +1.95932822e-15j\n",
      "  31.12138188 +1.90563504e-15j  30.24462464 +1.85194914e-15j\n",
      "  29.36803939 +1.79827377e-15j  28.49158089 +1.74460617e-15j\n",
      "  27.61513144 +1.69093912e-15j  26.73856824 +1.63726510e-15j\n",
      "  25.86183343 +1.58358058e-15j  24.98496718 +1.52988800e-15j\n",
      "  24.10808467 +1.47619444e-15j  23.23131038 +1.42250749e-15j\n",
      "  22.35470700 +1.36883102e-15j  21.47823967 +1.31516287e-15j\n",
      "  20.60179573 +1.26149616e-15j  19.72524921 +1.20782317e-15j\n",
      "  18.84853274 +1.15413976e-15j  17.97167601 +1.10044778e-15j\n",
      "  17.09478878 +1.04675392e-15j  16.21799820 +9.93065979e-16j\n",
      "  15.34137629 +9.39388368e-16j  14.46489875 +8.85719598e-16j\n",
      "  13.58845876 +8.32053126e-16j  12.71192810 +7.78381103e-16j\n",
      "  11.83523034 +7.24698847e-16j  10.95838448 +6.71007524e-16j\n",
      "  10.08149407 +6.17313472e-16j   9.20468808 +5.63624590e-16j\n",
      "   8.32804732 +5.09945825e-16j   7.45155825 +4.56276348e-16j\n",
      "   6.57512066 +4.02610023e-16j   5.69860494 +3.48938915e-16j\n",
      "   4.82192612 +2.95257819e-16j   3.94509240 +2.41567239e-16j\n",
      "   3.06820040 +1.87873090e-16j   2.19138000 +1.34183325e-16j\n",
      "   1.31472023 +8.05033958e-17j   0.43821840 +2.68331378e-17j\n",
      "  -0.43821840 +2.68331378e-17j  -1.31472023 +8.05033958e-17j\n",
      "  -2.19138000 +1.34183325e-16j  -3.06820040 +1.87873090e-16j\n",
      "  -3.94509240 +2.41567239e-16j  -4.82192612 +2.95257819e-16j\n",
      "  -5.69860494 +3.48938915e-16j  -6.57512066 +4.02610023e-16j\n",
      "  -7.45155825 +4.56276348e-16j  -8.32804732 +5.09945825e-16j\n",
      "  -9.20468808 +5.63624590e-16j -10.08149407 +6.17313472e-16j\n",
      " -10.95838448 +6.71007524e-16j -11.83523034 +7.24698847e-16j\n",
      " -12.71192810 +7.78381103e-16j -13.58845876 +8.32053126e-16j\n",
      " -14.46489875 +8.85719598e-16j -15.34137629 +9.39388368e-16j\n",
      " -16.21799820 +9.93065979e-16j -17.09478878 +1.04675392e-15j\n",
      " -17.97167601 +1.10044778e-15j -18.84853274 +1.15413976e-15j\n",
      " -19.72524921 +1.20782317e-15j -20.60179573 +1.26149616e-15j\n",
      " -21.47823967 +1.31516287e-15j -22.35470700 +1.36883102e-15j\n",
      " -23.23131038 +1.42250749e-15j -24.10808467 +1.47619444e-15j\n",
      " -24.98496718 +1.52988800e-15j -25.86183343 +1.58358058e-15j\n",
      " -26.73856824 +1.63726510e-15j -27.61513144 +1.69093912e-15j\n",
      " -28.49158089 +1.74460617e-15j -29.36803939 +1.79827377e-15j\n",
      " -30.24462464 +1.85194914e-15j -31.12138188 +1.90563504e-15j\n",
      " -31.99825814 +1.95932822e-15j -32.87513252 +2.01302129e-15j\n",
      " -33.75188518 +2.06670691e-15j -34.62846578 +2.12038199e-15j\n",
      " -35.50492224 +2.17404947e-15j -36.38137334 +2.22771662e-15j\n",
      " -37.25794102 +2.28139091e-15j -38.13468055 +2.33507572e-15j\n",
      " -39.01154907 +2.38876843e-15j -39.88843009 +2.44246191e-15j\n",
      " -40.76520000 +2.49614858e-15j -41.64179863 +2.54982477e-15j\n",
      " -42.51826354 +2.60349277e-15j -43.39470874 +2.65715956e-15j]\n",
      "[ 43.39470874 +2.77962424e-15j  42.51826354 +2.72595745e-15j\n",
      "  41.64179863 +2.67228945e-15j  40.76520000 +2.61861326e-15j\n",
      "  39.88843009 +2.56492659e-15j  39.01154907 +2.51123311e-15j\n",
      "  38.13468055 +2.45754040e-15j  37.25794102 +2.40385559e-15j\n",
      "  36.38137334 +2.35018130e-15j  35.50492224 +2.29651415e-15j\n",
      "  34.62846578 +2.24284667e-15j  33.75188518 +2.18917159e-15j\n",
      "  32.87513252 +2.13548597e-15j  31.99825814 +2.08179290e-15j\n",
      "  31.12138188 +2.02809972e-15j  30.24462464 +1.97441382e-15j\n",
      "  29.36803939 +1.92073845e-15j  28.49158090 +1.86707085e-15j\n",
      "  27.61513145 +1.81340380e-15j  26.73856824 +1.75972978e-15j\n",
      "  25.86183343 +1.70604526e-15j  24.98496718 +1.65235268e-15j\n",
      "  24.10808468 +1.59865912e-15j  23.23131038 +1.54497217e-15j\n",
      "  22.35470701 +1.49129570e-15j  21.47823967 +1.43762755e-15j\n",
      "  20.60179573 +1.38396084e-15j  19.72524921 +1.33028785e-15j\n",
      "  18.84853274 +1.27660444e-15j  17.97167601 +1.22291246e-15j\n",
      "  17.09478878 +1.16921860e-15j  16.21799820 +1.11553066e-15j\n",
      "  15.34137629 +1.06185305e-15j  14.46489876 +1.00818428e-15j\n",
      "  13.58845877 +9.54517807e-16j  12.71192810 +9.00845783e-16j\n",
      "  11.83523034 +8.47163527e-16j  10.95838448 +7.93472204e-16j\n",
      "  10.08149407 +7.39778152e-16j   9.20468809 +6.86089270e-16j\n",
      "   8.32804732 +6.32410505e-16j   7.45155825 +5.78741028e-16j\n",
      "   6.57512066 +5.25074703e-16j   5.69860494 +4.71403595e-16j\n",
      "   4.82192612 +4.17722499e-16j   3.94509240 +3.64031919e-16j\n",
      "   3.06820040 +3.10337770e-16j   2.19138000 +2.56648005e-16j\n",
      "   1.31472023 +2.02968076e-16j   0.43821840 +1.49297818e-16j\n",
      "  -0.43821839 +9.56315422e-17j  -1.31472022 +4.19612842e-17j\n",
      "  -2.19138000 +1.17186451e-17j  -3.06820040 +6.54084098e-17j\n",
      "  -3.94509240 +1.19102559e-16j  -4.82192612 +1.72793139e-16j\n",
      "  -5.69860493 +2.26474235e-16j  -6.57512065 +2.80145343e-16j\n",
      "  -7.45155825 +3.33811668e-16j  -8.32804732 +3.87481145e-16j\n",
      "  -9.20468808 +4.41159910e-16j -10.08149407 +4.94848792e-16j\n",
      " -10.95838448 +5.48542844e-16j -11.83523033 +6.02234167e-16j\n",
      " -12.71192810 +6.55916423e-16j -13.58845876 +7.09588446e-16j\n",
      " -14.46489874 +7.63254917e-16j -15.34137628 +8.16923688e-16j\n",
      " -16.21799820 +8.70601299e-16j -17.09478878 +9.24289238e-16j\n",
      " -17.97167601 +9.77983095e-16j -18.84853274 +1.03167508e-15j\n",
      " -19.72524921 +1.08535849e-15j -20.60179572 +1.13903148e-15j\n",
      " -21.47823966 +1.19269819e-15j -22.35470700 +1.24636634e-15j\n",
      " -23.23131038 +1.30004281e-15j -24.10808467 +1.35372976e-15j\n",
      " -24.98496718 +1.40742332e-15j -25.86183343 +1.46111590e-15j\n",
      " -26.73856824 +1.51480042e-15j -27.61513144 +1.56847444e-15j\n",
      " -28.49158089 +1.62214149e-15j -29.36803939 +1.67580909e-15j\n",
      " -30.24462464 +1.72948446e-15j -31.12138188 +1.78317036e-15j\n",
      " -31.99825814 +1.83686354e-15j -32.87513252 +1.89055661e-15j\n",
      " -33.75188517 +1.94424223e-15j -34.62846578 +1.99791731e-15j\n",
      " -35.50492224 +2.05158479e-15j -36.38137333 +2.10525194e-15j\n",
      " -37.25794101 +2.15892623e-15j -38.13468055 +2.21261104e-15j\n",
      " -39.01154907 +2.26630376e-15j -39.88843009 +2.31999723e-15j\n",
      " -40.76520000 +2.37368390e-15j -41.64179862 +2.42736009e-15j\n",
      " -42.51826353 +2.48102809e-15j -43.39470874 +2.53469488e-15j]\n"
     ]
    }
   ],
   "source": [
    "Q = np.zeros((2,2))\n",
    "Q[0,0] = 2\n",
    "Q[1,0] = 0.13\n",
    "Q[0,1] = 0.14\n",
    "Q[1,1] = 1\n",
    "\n",
    "\n",
    "X1 = np.linspace(-100,100, 100)\n",
    "X2 = np.linspace(-100,100, 100)\n",
    "\n",
    "\n",
    "X=np.stack((X1,X2))\n",
    "\n",
    "n=np.zeros((2,1))\n",
    "n[0,0]=2\n",
    "n[1,0]=2\n",
    "\n",
    "R=np.repeat(Q.dot(n),X.shape[1],axis=1)\n",
    "\n",
    "R.shape\n",
    "print(gradient_log_theta(X.T, Q, 0))\n",
    "print(gradient_log_theta(X.T-R.T, Q, 0))-2\n"
   ]
  },
  {
   "cell_type": "markdown",
   "metadata": {},
   "source": [
    "# Phase I"
   ]
  },
  {
   "cell_type": "code",
   "execution_count": 6,
   "metadata": {},
   "outputs": [
    {
     "data": {
      "text/plain": [
       "[<matplotlib.lines.Line2D at 0x7efdbb972a50>]"
      ]
     },
     "execution_count": 6,
     "metadata": {},
     "output_type": "execute_result"
    },
    {
     "data": {
      "image/png": "[encoded data removed]",
      "text/plain": [
       "<matplotlib.figure.Figure at 0x7efe10d12750>"
      ]
     },
     "metadata": {},
     "output_type": "display_data"
    }
   ],
   "source": [
    "# Setup and plot expectation\n",
    "Q = np.diag([13])\n",
    "B = np.zeros((1,1))\n",
    "B[0,0] = 0\n",
    "W = np.zeros((1,1))\n",
    "W[0,0] = 2\n",
    "\n",
    "X = np.linspace(-3,3, 101)\n",
    "X = X.reshape((1,X.shape[0]))\n",
    "E=factorized_hidden_expectation(X, B, W, Q, True)\n",
    "\n",
    "#plt.rc('text', usetex=True)\n",
    "#plt.rc('font', family='serif')\n",
    "\n",
    "plt.xlabel(\"$v$\")\n",
    "plt.ylabel(\"$E$\")\n",
    "plt.plot(X.flatten(), E[0],\"-\", linewidth='3')\n",
    "\n",
    "#plt.savefig(\"EhvPhaseI-1.eps\", format=\"eps\")"
   ]
  },
  {
   "cell_type": "code",
   "execution_count": 7,
   "metadata": {},
   "outputs": [
    {
     "data": {
      "text/plain": [
       "array([[  3.77537991e-01 +3.81148053e-17j,\n",
       "          3.49778189e-01 +3.98146030e-17j,\n",
       "          3.23000249e-01 +4.14542789e-17j,\n",
       "          2.97334761e-01 +4.30258368e-17j,\n",
       "          2.72886441e-01 +4.45228646e-17j,\n",
       "          2.49733715e-01 +4.59405602e-17j,\n",
       "          2.27929344e-01 +4.72756929e-17j,\n",
       "          2.07501921e-01 +4.85265118e-17j,\n",
       "          1.88458037e-01 +4.96926134e-17j,\n",
       "          1.70784908e-01 +5.07747804e-17j,\n",
       "          1.54453251e-01 +5.17748060e-17j,\n",
       "          1.39420245e-01 +5.26953121e-17j,\n",
       "          1.25632417e-01 +5.35395731e-17j,\n",
       "          1.13028355e-01 +5.43113493e-17j,\n",
       "          1.01541165e-01 +5.50147368e-17j,\n",
       "          9.11006244e-02 +5.56540356e-17j,\n",
       "          8.16350226e-02 +5.62336365e-17j,\n",
       "          7.30726801e-02 +5.67579288e-17j,\n",
       "          6.53431685e-02 +5.72312248e-17j,\n",
       "          5.83782550e-02 +5.76577028e-17j,\n",
       "          5.21126033e-02 +5.80413633e-17j,\n",
       "          4.64842649e-02 +5.83859996e-17j,\n",
       "          4.14349935e-02 +5.86951783e-17j,\n",
       "          3.69104158e-02 +5.89722288e-17j,\n",
       "          3.28600859e-02 +5.92202400e-17j,\n",
       "          2.92374507e-02 +5.94420624e-17j,\n",
       "          2.59997459e-02 +5.96403147e-17j,\n",
       "          2.31078441e-02 +5.98173926e-17j,\n",
       "          2.05260678e-02 +5.99754808e-17j,\n",
       "          1.82219804e-02 +6.01165655e-17j,\n",
       "          1.61661656e-02 +6.02424478e-17j,\n",
       "          1.43320020e-02 +6.03547579e-17j,\n",
       "          1.26954386e-02 +6.04549685e-17j,\n",
       "          1.12347765e-02 +6.05444083e-17j,\n",
       "          9.93045725e-03 +6.06242748e-17j,\n",
       "          8.76486338e-03 +6.06956469e-17j,\n",
       "          7.72212882e-03 +6.07594959e-17j,\n",
       "          6.78796204e-03 +6.08166972e-17j,\n",
       "          5.94948109e-03 +6.08680393e-17j,\n",
       "          5.19506052e-03 +6.09142342e-17j,\n",
       "          4.51418963e-03 +6.09559256e-17j,\n",
       "          3.89734153e-03 +6.09936966e-17j,\n",
       "          3.33585208e-03 +6.10280779e-17j,\n",
       "          2.82180791e-03 +6.10595541e-17j,\n",
       "          2.34794265e-03 +6.10885699e-17j,\n",
       "          1.90754039e-03 +6.11155368e-17j,\n",
       "          1.49434544e-03 +6.11408377e-17j,\n",
       "          1.10247753e-03 +6.11648327e-17j,\n",
       "          7.26351385e-04 +6.11878638e-17j,\n",
       "          3.60599909e-04 +6.12102596e-17j,\n",
       "          9.14803954e-20 +5.60155867e-36j,\n",
       "         -3.60599920e-04 +2.20803769e-20j,\n",
       "         -7.26351397e-04 +4.44761957e-20j,\n",
       "         -1.10247754e-03 +6.75072797e-20j,\n",
       "         -1.49434545e-03 +9.15022689e-20j,\n",
       "         -1.90754040e-03 +1.16803162e-19j,\n",
       "         -2.34794267e-03 +1.43770024e-19j,\n",
       "         -2.82180794e-03 +1.72785903e-19j,\n",
       "         -3.33585212e-03 +2.04262031e-19j,\n",
       "         -3.89734158e-03 +2.38643344e-19j,\n",
       "         -4.51418969e-03 +2.76414397e-19j,\n",
       "         -5.19506059e-03 +3.18105716e-19j,\n",
       "         -5.94948119e-03 +3.64300655e-19j,\n",
       "         -6.78796216e-03 +4.15642806e-19j,\n",
       "         -7.72212897e-03 +4.72844026e-19j,\n",
       "         -8.76486357e-03 +5.36693106e-19j,\n",
       "         -9.93045749e-03 +6.08065149e-19j,\n",
       "         -1.12347768e-02 +6.87931671e-19j,\n",
       "         -1.26954390e-02 +7.77371438e-19j,\n",
       "         -1.43320024e-02 +8.77582046e-19j,\n",
       "         -1.61661662e-02 +9.89892185e-19j,\n",
       "         -1.82219812e-02 +1.11577455e-18j,\n",
       "         -2.05260688e-02 +1.25685922e-18j,\n",
       "         -2.31078454e-02 +1.41494744e-18j,\n",
       "         -2.59997475e-02 +1.59202537e-18j,\n",
       "         -2.92374527e-02 +1.79027764e-18j,\n",
       "         -3.28600885e-02 +2.01210011e-18j,\n",
       "         -3.69104190e-02 +2.26011132e-18j,\n",
       "         -4.14349976e-02 +2.53716186e-18j,\n",
       "         -4.64842700e-02 +2.84634063e-18j,\n",
       "         -5.21126098e-02 +3.19097704e-18j,\n",
       "         -5.83782632e-02 +3.57463766e-18j,\n",
       "         -6.53431789e-02 +4.00111574e-18j,\n",
       "         -7.30726932e-02 +4.47441199e-18j,\n",
       "         -8.16350390e-02 +4.99870446e-18j,\n",
       "         -9.11006450e-02 +5.57830567e-18j,\n",
       "         -1.01541191e-01 +6.21760472e-18j,\n",
       "         -1.13028388e-01 +6.92099266e-18j,\n",
       "         -1.25632458e-01 +7.69276935e-18j,\n",
       "         -1.39420296e-01 +8.53703096e-18j,\n",
       "         -1.54453315e-01 +9.45753790e-18j,\n",
       "         -1.70784987e-01 +1.04575644e-17j,\n",
       "         -1.88458136e-01 +1.15397326e-17j,\n",
       "         -2.07502044e-01 +1.27058357e-17j,\n",
       "         -2.27929496e-01 +1.39566564e-17j,\n",
       "         -2.49733903e-01 +1.52917913e-17j,\n",
       "         -2.72886673e-01 +1.67094895e-17j,\n",
       "         -2.97335045e-01 +1.82065206e-17j,\n",
       "         -3.23000597e-01 +1.97780824e-17j,\n",
       "         -3.49778614e-01 +2.14177630e-17j,\n",
       "         -3.77538509e-01 +2.31175663e-17j]])"
      ]
     },
     "execution_count": 7,
     "metadata": {},
     "output_type": "execute_result"
    }
   ],
   "source": [
    "E"
   ]
  },
  {
   "cell_type": "code",
   "execution_count": 8,
   "metadata": {},
   "outputs": [
    {
     "data": {
      "image/png": "[encoded data removed]",
      "text/plain": [
       "<matplotlib.figure.Figure at 0x7efdbdc0e490>"
      ]
     },
     "metadata": {},
     "output_type": "display_data"
    }
   ],
   "source": [
    "Q = np.diag([40])\n",
    "B = np.zeros((1,1))\n",
    "B[0,0] = 0.2\n",
    "W = np.zeros((1,1))\n",
    "W[0,0] = -0.18*130\n",
    "\n",
    "X = np.linspace(-2,2, 101)\n",
    "X = X.reshape((1,X.shape[0]))\n",
    "\n",
    "E=factorized_hidden_expectation(X, B, W, Q)\n",
    "\n",
    "plt.xlabel(\"$v$\")\n",
    "plt.ylabel(\"$E$\")\n",
    "plt.plot(X.flatten(), E[0],\"-\", linewidth='3')\n",
    "\n",
    "plt.savefig(\"EhvPhaseI-2.eps\", format=\"eps\")"
   ]
  },
  {
   "cell_type": "code",
   "execution_count": 9,
   "metadata": {},
   "outputs": [
    {
     "data": {
      "image/png": "[encoded data removed]",
      "text/plain": [
       "<matplotlib.figure.Figure at 0x7efdbdc18550>"
      ]
     },
     "metadata": {},
     "output_type": "display_data"
    }
   ],
   "source": [
    "Q = np.diag([10])\n",
    "B = np.zeros((1,1))\n",
    "B[0,0] = -0.75\n",
    "W = np.zeros((1,1))\n",
    "W[0,0] = -0.18*13\n",
    "\n",
    "X = np.linspace(-3,3, 101)\n",
    "X = X.reshape((1,X.shape[0]))\n",
    "\n",
    "E=factorized_hidden_expectation(X, B, W, Q)\n",
    "plt.xlabel(\"$v$\")\n",
    "plt.ylabel(\"$E$\")\n",
    "plt.plot(X.flatten(), E[0],\"-\", linewidth='3')\n",
    "\n",
    "plt.savefig(\"EhvPhaseI-3.eps\", format=\"eps\")"
   ]
  },
  {
   "cell_type": "code",
   "execution_count": 10,
   "metadata": {},
   "outputs": [
    {
     "data": {
      "text/plain": [
       "[<matplotlib.lines.Line2D at 0x7efdbb5d0b10>]"
      ]
     },
     "execution_count": 10,
     "metadata": {},
     "output_type": "execute_result"
    },
    {
     "data": {
      "image/png": "[encoded data removed]",
      "text/plain": [
       "<matplotlib.figure.Figure at 0x7efe10d0ae50>"
      ]
     },
     "metadata": {},
     "output_type": "display_data"
    }
   ],
   "source": [
    "# Non-diagonal\n",
    "\n",
    "Q = np.zeros((2,2))\n",
    "Q[0,0] = 30\n",
    "Q[1,0] = -7\n",
    "Q[0,1] = -1\n",
    "Q[1,1] = 38\n",
    "B = np.zeros((1,2))\n",
    "B[0,0] = 0\n",
    "B[0,1] = 0\n",
    "W = np.zeros((1,2))\n",
    "W[0,0] = -5.4\n",
    "W[0,1] = 8.2\n",
    "\n",
    "\n",
    "X = np.linspace(-5,5, 101)\n",
    "X = X.reshape((1,X.shape[0]))\n",
    "\n",
    "E=hidden_expectations(X, B, W, Q)\n",
    "\n",
    "\n",
    "plt.xlabel(\"$v$\")\n",
    "plt.ylabel(\"$E$\")\n",
    "plt.plot(X.flatten(), E[0],\"-\", linewidth='3')\n",
    "\n"
   ]
  },
  {
   "cell_type": "markdown",
   "metadata": {},
   "source": [
    "# Phase II"
   ]
  },
  {
   "cell_type": "code",
   "execution_count": 11,
   "metadata": {},
   "outputs": [
    {
     "data": {
      "text/plain": [
       "[<matplotlib.lines.Line2D at 0x7efdbb5fbf90>]"
      ]
     },
     "execution_count": 11,
     "metadata": {},
     "output_type": "execute_result"
    },
    {
     "data": {
      "image/png": "[encoded data removed]",
      "text/plain": [
       "<matplotlib.figure.Figure at 0x7efdbb5b5b10>"
      ]
     },
     "metadata": {},
     "output_type": "display_data"
    }
   ],
   "source": [
    "Q = np.diag([13])\n",
    "B = np.zeros((1,1), dtype=complex)\n",
    "B[0,0] = 0.1j\n",
    "W = np.zeros((1,1), dtype=complex)\n",
    "W[0,0] = 2j\n",
    "\n",
    "X = np.linspace(-2.5,2.5, 101)\n",
    "X = X.reshape((1,X.shape[0]))\n",
    "E=factorized_hidden_expectation(X, B, W, Q)\n",
    "\n",
    "plt.plot(X.flatten(), -1j*E[0],\"-\", linewidth='3')"
   ]
  },
  {
   "cell_type": "code",
   "execution_count": 12,
   "metadata": {},
   "outputs": [
    {
     "data": {
      "text/plain": [
       "[<matplotlib.lines.Line2D at 0x7efdbb917f50>]"
      ]
     },
     "execution_count": 12,
     "metadata": {},
     "output_type": "execute_result"
    },
    {
     "data": {
      "image/png": "[encoded data removed]",
      "text/plain": [
       "<matplotlib.figure.Figure at 0x7efe10d0a790>"
      ]
     },
     "metadata": {},
     "output_type": "display_data"
    }
   ],
   "source": [
    "Q = np.diag([1])\n",
    "B = np.zeros((1,1), dtype=complex)\n",
    "B[0,0] = 0j\n",
    "W = np.zeros((1,1), dtype=complex)\n",
    "W[0,0] = 0.8j\n",
    "\n",
    "X = np.linspace(-10,10, 101)\n",
    "X = X.reshape((1,X.shape[0]))\n",
    "E=factorized_hidden_expectation(X, B, W, Q)\n",
    "\n",
    "plt.plot(X.flatten(), -1j*E[0],\"-\", linewidth='3')"
   ]
  },
  {
   "cell_type": "code",
   "execution_count": 13,
   "metadata": {},
   "outputs": [
    {
     "data": {
      "text/plain": [
       "[<matplotlib.lines.Line2D at 0x7efdbb514590>]"
      ]
     },
     "execution_count": 13,
     "metadata": {},
     "output_type": "execute_result"
    },
    {
     "data": {
      "image/png": "[encoded data removed]",
      "text/plain": [
       "<matplotlib.figure.Figure at 0x7efdbb5d9810>"
      ]
     },
     "metadata": {},
     "output_type": "display_data"
    }
   ],
   "source": [
    "Q = np.diag([0.2])\n",
    "B = np.zeros((1,1), dtype=complex)\n",
    "B[0,0] = -0.3j\n",
    "W = np.zeros((1,1), dtype=complex)\n",
    "W[0,0] = -0.9j\n",
    "\n",
    "X = np.linspace(-10,10, 101)\n",
    "X = X.reshape((1,X.shape[0]))\n",
    "E=factorized_hidden_expectation(X, B, W, Q)\n",
    "\n",
    "plt.plot(X.flatten(), -1j*E[0],\"-\", linewidth='3')"
   ]
  },
  {
   "cell_type": "code",
   "execution_count": 16,
   "metadata": {},
   "outputs": [
    {
     "data": {
      "text/plain": [
       "[<matplotlib.lines.Line2D at 0x7efdbb39d210>]"
      ]
     },
     "execution_count": 16,
     "metadata": {},
     "output_type": "execute_result"
    },
    {
     "data": {
      "image/png": "[encoded data removed]",
      "text/plain": [
       "<matplotlib.figure.Figure at 0x7efdbdbfb950>"
      ]
     },
     "metadata": {},
     "output_type": "display_data"
    }
   ],
   "source": [
    "# Non-diagonal\n",
    "\n",
    "Q = np.zeros((2,2))\n",
    "Q[0,0] = 1.2\n",
    "Q[1,0] = -0.1\n",
    "Q[0,1] = -0.1\n",
    "Q[1,1] = 0.01\n",
    "B = np.zeros((1,2), dtype=complex)\n",
    "B[0,0] = 0\n",
    "B[0,1] = 0\n",
    "W = np.zeros((1,2), dtype=complex)\n",
    "W[0,0] = 0.7j\n",
    "W[0,1] = -1.3j\n",
    "\n",
    "\n",
    "X = np.linspace(-1,1, 101)\n",
    "X = X.reshape((1,X.shape[0]))\n",
    "\n",
    "E=hidden_expectations(X, B, W, Q)\n",
    "\n",
    "\n",
    "plt.xlabel(\"$v$\")\n",
    "plt.ylabel(\"$E$\")\n",
    "plt.plot(X.flatten(), -1j*E[0],\"-\", linewidth='3')\n"
   ]
  },
  {
   "cell_type": "code",
   "execution_count": 15,
   "metadata": {},
   "outputs": [],
   "source": [
    "# Note: Check non-vanishing real/im parts (ROUNDING ERROR ?)"
   ]
  },
  {
   "cell_type": "code",
   "execution_count": null,
   "metadata": {
    "collapsed": true
   },
   "outputs": [],
   "source": []
  },
  {
   "cell_type": "code",
   "execution_count": null,
   "metadata": {
    "collapsed": true
   },
   "outputs": [],
   "source": []
  }
 ],
 "metadata": {
  "kernelspec": {
   "display_name": "Python 2",
   "language": "python",
   "name": "python2"
  },
  "language_info": {
   "codemirror_mode": {
    "name": "ipython",
    "version": 2
   },
   "file_extension": ".py",
   "mimetype": "text/x-python",
   "name": "python",
   "nbconvert_exporter": "python",
   "pygments_lexer": "ipython2",
   "version": "2.7.12"
  }
 },
 "nbformat": 4,
 "nbformat_minor": 2
}
