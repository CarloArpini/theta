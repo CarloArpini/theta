{
 "cells": [
  {
   "cell_type": "code",
   "execution_count": 4,
   "metadata": {},
   "outputs": [],
   "source": [
    "import sys\n",
    "sys.path.append('../')\n",
    "\n",
    "import numpy as np\n",
    "import matplotlib.pyplot as plt\n",
    "from matplotlib import rc\n",
    "\n",
    "%matplotlib inline\n",
    "\n",
    "import layers as layers\n",
    "import model as mdl\n",
    "\n",
    "import warnings\n",
    "warnings.filterwarnings('ignore')\n",
    "\n",
    "from costfunctions import mse\n",
    "import minimizer\n",
    "\n",
    "from mathtools import factorized_hidden_expectation, hidden_expectations\n",
    "from mathtools import gradient_log_theta, gradient_log_theta_phaseI #, gradient_log_theta_phaseI_NEW\n"
   ]
  },
  {
   "cell_type": "code",
   "execution_count": 111,
   "metadata": {},
   "outputs": [],
   "source": [
    "# Generate input grid\n",
    "X = np.linspace(-10,10, 101)\n",
    "X = X.reshape((1,X.shape[0]))"
   ]
  },
  {
   "cell_type": "markdown",
   "metadata": {},
   "source": [
    "# E(h_i|v) diagonal Q"
   ]
  },
  {
   "cell_type": "markdown",
   "metadata": {},
   "source": [
    "# Linear periodicity relation tests"
   ]
  },
  {
   "cell_type": "code",
   "execution_count": null,
   "metadata": {
    "collapsed": false
   },
   "outputs": [],
   "source": [
    "Q = np.diag([13])\n",
    "\n",
    "X = np.linspace(-1000,1000, 100)\n",
    "X = X.reshape((1,X.shape[0]))\n",
    "\n",
    "#print(gradient_log_theta_phaseI(X.T -Q*60, Q, 0))\n",
    "\n",
    "#print(gradient_log_theta(X.T, Q, 0)+60)\n",
    "\n",
    "print(gradient_log_theta(X.T, Q, 0))\n",
    "\n",
    "print(gradient_log_theta_phaseI(X.T, Q, 0))\n"
   ]
  },
  {
   "cell_type": "code",
   "execution_count": null,
   "metadata": {
    "collapsed": false
   },
   "outputs": [],
   "source": [
    "Q = np.zeros((2,2))\n",
    "Q[0,0] = 1.5\n",
    "Q[1,0] = -1.4\n",
    "Q[0,1] = 1.4\n",
    "Q[1,1] = 1.7\n",
    "\n",
    "\n",
    "X1 = np.linspace(-60,60, 21)\n",
    "X2 = np.linspace(-60,65, 21)\n",
    "\n",
    "X=np.stack((X1,X2))\n",
    "\n",
    "print(gradient_log_theta(X.T, Q, 0))\n",
    "#gradient_log_theta_phaseI_NEW(X.T, Q, 0)"
   ]
  },
  {
   "cell_type": "code",
   "execution_count": null,
   "metadata": {
    "collapsed": false
   },
   "outputs": [],
   "source": [
    "Q = np.zeros((2,2))\n",
    "Q[0,0] = 2\n",
    "Q[1,0] = 0.13\n",
    "Q[0,1] = 0.14\n",
    "Q[1,1] = 1\n",
    "\n",
    "\n",
    "X1 = np.linspace(-100,100, 100)\n",
    "X2 = np.linspace(-100,100, 100)\n",
    "\n",
    "\n",
    "X=np.stack((X1,X2))\n",
    "\n",
    "n=np.zeros((2,1))\n",
    "n[0,0]=2\n",
    "n[1,0]=2\n",
    "\n",
    "R=np.repeat(Q.dot(n),X.shape[1],axis=1)\n",
    "\n",
    "R.shape\n",
    "print(gradient_log_theta(X.T, Q, 0))\n",
    "print(gradient_log_theta(X.T-R.T, Q, 0))-2\n"
   ]
  },
  {
   "cell_type": "markdown",
   "metadata": {},
   "source": [
    "# Phase I"
   ]
  },
  {
   "cell_type": "code",
   "execution_count": null,
   "metadata": {
    "collapsed": false
   },
   "outputs": [],
   "source": [
    "# Setup and plot expectation\n",
    "Q = np.diag([13])\n",
    "B = np.zeros((1,1))\n",
    "B[0,0] = 0\n",
    "W = np.zeros((1,1))\n",
    "W[0,0] = 2\n",
    "\n",
    "X = np.linspace(-50,50, 101)\n",
    "X = X.reshape((1,X.shape[0]))\n",
    "E=factorized_hidden_expectation(X, B, W, Q, True)\n",
    "\n",
    "#plt.rc('text', usetex=True)\n",
    "#plt.rc('font', family='serif')\n",
    "\n",
    "plt.xlabel(\"$v$\")\n",
    "plt.ylabel(\"$E$\")\n",
    "plt.plot(X.flatten(), E[0],\"b-\", linewidth='5')\n",
    "\n",
    "#plt.savefig(\"EhvPhaseI-1.eps\", format=\"eps\")"
   ]
  },
  {
   "cell_type": "code",
   "execution_count": null,
   "metadata": {
    "collapsed": false
   },
   "outputs": [],
   "source": [
    "E"
   ]
  },
  {
   "cell_type": "code",
   "execution_count": null,
   "metadata": {
    "collapsed": false
   },
   "outputs": [],
   "source": [
    "Q = np.diag([40])\n",
    "B = np.zeros((1,1))\n",
    "B[0,0] = 0.2\n",
    "W = np.zeros((1,1))\n",
    "W[0,0] = -0.18*130\n",
    "\n",
    "X = np.linspace(-2,2, 101)\n",
    "X = X.reshape((1,X.shape[0]))\n",
    "\n",
    "E=factorized_hidden_expectation(X, B, W, Q)\n",
    "\n",
    "plt.xlabel(\"$v$\")\n",
    "plt.ylabel(\"$E$\")\n",
    "plt.plot(X.flatten(), E[0],\"b-\", linewidth='5')\n",
    "\n",
    "plt.savefig(\"EhvPhaseI-2.eps\", format=\"eps\")"
   ]
  },
  {
   "cell_type": "code",
   "execution_count": null,
   "metadata": {
    "collapsed": false
   },
   "outputs": [],
   "source": [
    "Q = np.diag([10])\n",
    "B = np.zeros((1,1))\n",
    "B[0,0] = -0.75\n",
    "W = np.zeros((1,1))\n",
    "W[0,0] = -0.18*13\n",
    "\n",
    "X = np.linspace(-3,3, 101)\n",
    "X = X.reshape((1,X.shape[0]))\n",
    "\n",
    "E=factorized_hidden_expectation(X, B, W, Q)\n",
    "plt.xlabel(\"$v$\")\n",
    "plt.ylabel(\"$E$\")\n",
    "plt.plot(X.flatten(), E[0],\"b-\", linewidth='5')\n",
    "\n",
    "plt.savefig(\"EhvPhaseI-3.eps\", format=\"eps\")"
   ]
  },
  {
   "cell_type": "code",
   "execution_count": 134,
   "metadata": {
    "collapsed": false
   },
   "outputs": [
    {
     "data": {
      "text/plain": [
       "[<matplotlib.lines.Line2D object at 0x7efc58ac23d0>]"
      ]
     },
     "execution_count": 134,
     "metadata": {},
     "output_type": "execute_result"
    },
    {
     "data": {
      "image/png": "[encoded data removed]",
      "text/plain": [
       "<matplotlib.figure.Figure object at 0x7efc58ba2b90>"
      ]
     },
     "metadata": {},
     "output_type": "display_data"
    }
   ],
   "source": [
    "# Non-diagonal\n",
    "\n",
    "Q = np.zeros((2,2))\n",
    "Q[0,0] = 30\n",
    "Q[1,0] = -7\n",
    "Q[0,1] = -1\n",
    "Q[1,1] = 38\n",
    "B = np.zeros((1,2))\n",
    "B[0,0] = 0\n",
    "B[0,1] = 0\n",
    "W = np.zeros((1,2))\n",
    "W[0,0] = -5.4\n",
    "W[0,1] = 8.2\n",
    "\n",
    "\n",
    "X = np.linspace(-5,5, 101)\n",
    "X = X.reshape((1,X.shape[0]))\n",
    "\n",
    "E=hidden_expectations(X, B, W, Q)\n",
    "\n",
    "\n",
    "plt.xlabel(\"$v$\")\n",
    "plt.ylabel(\"$E$\")\n",
    "plt.plot(X.flatten(), E[0],\"b-\", linewidth='5')\n",
    "\n"
   ]
  },
  {
   "cell_type": "markdown",
   "metadata": {},
   "source": [
    "# Phase II"
   ]
  },
  {
   "cell_type": "code",
   "execution_count": null,
   "metadata": {
    "collapsed": false,
    "deletable": true,
    "editable": true
   },
   "outputs": [],
   "source": [
    "Q = np.diag([13])\n",
    "B = np.zeros((1,1), dtype=complex)\n",
    "B[0,0] = 0.1j\n",
    "W = np.zeros((1,1), dtype=complex)\n",
    "W[0,0] = 2j\n",
    "\n",
    "X = np.linspace(-3000,3000, 101)\n",
    "X = X.reshape((1,X.shape[0]))\n",
    "E=factorized_hidden_expectation(X, B, W, Q)\n",
    "\n",
    "plt.plot(X.flatten(), -1j*E[0],\"b-\", linewidth='5')"
   ]
  },
  {
   "cell_type": "code",
   "execution_count": null,
   "metadata": {
    "collapsed": false
   },
   "outputs": [],
   "source": [
    "Q = np.diag([1])\n",
    "B = np.zeros((1,1), dtype=complex)\n",
    "B[0,0] = 0j\n",
    "W = np.zeros((1,1), dtype=complex)\n",
    "W[0,0] = 0.8j\n",
    "\n",
    "X = np.linspace(-1000,1000, 101)\n",
    "X = X.reshape((1,X.shape[0]))\n",
    "E=factorized_hidden_expectation(X, B, W, Q)\n",
    "\n",
    "plt.plot(X.flatten(), -1j*E[0],\"b-\", linewidth='5')"
   ]
  },
  {
   "cell_type": "code",
   "execution_count": null,
   "metadata": {
    "collapsed": false
   },
   "outputs": [],
   "source": [
    "Q = np.diag([0.2])\n",
    "B = np.zeros((1,1), dtype=complex)\n",
    "B[0,0] = -0.3j\n",
    "W = np.zeros((1,1), dtype=complex)\n",
    "W[0,0] = -0.9j\n",
    "\n",
    "X = np.linspace(-1000,1000, 101)\n",
    "X = X.reshape((1,X.shape[0]))\n",
    "E=factorized_hidden_expectation(X, B, W, Q)\n",
    "\n",
    "plt.plot(X.flatten(), -1j*E[0],\"b-\", linewidth='5')"
   ]
  },
  {
   "cell_type": "code",
   "execution_count": null,
   "metadata": {
    "collapsed": false
   },
   "outputs": [],
   "source": [
    "# Note: Check non-vanishing real/im parts (ROUNDING ERROR ?)"
   ]
  },
  {
   "cell_type": "code",
   "execution_count": null,
   "metadata": {
    "collapsed": true
   },
   "outputs": [],
   "source": []
  },
  {
   "cell_type": "code",
   "execution_count": null,
   "metadata": {
    "collapsed": true
   },
   "outputs": [],
   "source": []
  }
 ],
 "metadata": {
  "kernelspec": {
   "display_name": "Python 2",
   "language": "python",
   "name": "python2"
  },
  "language_info": {
   "codemirror_mode": {
    "name": "ipython",
    "version": 2
   },
   "file_extension": ".py",
   "mimetype": "text/x-python",
   "name": "python",
   "nbconvert_exporter": "python",
   "pygments_lexer": "ipython2",
   "version": "2.7.13"
  }
 },
 "nbformat": 4,
 "nbformat_minor": 2
}
