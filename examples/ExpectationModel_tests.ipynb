{
 "cells": [
  {
   "cell_type": "code",
   "execution_count": 1,
   "metadata": {},
   "outputs": [
    {
     "name": "stdout",
     "output_type": "stream",
     "text": [
      "The history saving thread hit an unexpected error (DatabaseError('database disk image is malformed',)).History will not be written to the database.\n"
     ]
    }
   ],
   "source": [
    "import numpy as np\n",
    "import matplotlib.pyplot as plt\n",
    "import pandas as pd\n",
    "%matplotlib inline\n",
    "\n",
    "import rtbm.layers as layers\n",
    "import rtbm.model as mdl\n",
    "\n",
    "import warnings\n",
    "warnings.filterwarnings('ignore')\n",
    "\n",
    "from rtbm.costfunctions import mse, crossentropy\n",
    "from rtbm import minimizer\n",
    "\n",
    "from sklearn.metrics import confusion_matrix, classification_report\n",
    "from sklearn.preprocessing import LabelBinarizer\n",
    "\n",
    "from scipy import signal\n",
    "\n",
    "RTBM_precision= 1e-5"
   ]
  },
  {
   "cell_type": "markdown",
   "metadata": {},
   "source": [
    "# Example 1: Sine-Mixture with gaussian noise"
   ]
  },
  {
   "cell_type": "code",
   "execution_count": 2,
   "metadata": {},
   "outputs": [],
   "source": [
    "def func(x,n):\n",
    "    return 0.5*np.sin(1*x+0.1)+0.75*np.sin(0.25*x-0.3)+n*np.random.normal(0,0.2,x.shape[2])\n",
    "\n",
    "X = np.linspace(0, 100, 500)\n",
    "X = X.reshape((1,X.shape[0]))\n",
    "\n",
    "Y = func(X[:,None],1).reshape((1,X.shape[1]))"
   ]
  },
  {
   "cell_type": "code",
   "execution_count": 3,
   "metadata": {},
   "outputs": [
    {
     "data": {
      "text/plain": [
       "[<matplotlib.lines.Line2D at 0x7f5b3dada210>]"
      ]
     },
     "execution_count": 3,
     "metadata": {},
     "output_type": "execute_result"
    },
    {
     "data": {
      "image/png": "[encoded data removed]",
      "text/plain": [
       "<matplotlib.figure.Figure at 0x7f5b44ece350>"
      ]
     },
     "metadata": {},
     "output_type": "display_data"
    }
   ],
   "source": [
    "plt.plot(X.flatten(), Y.flatten(),\"ob-\")"
   ]
  },
  {
   "cell_type": "code",
   "execution_count": null,
   "metadata": {},
   "outputs": [],
   "source": [
    "M = mdl.Model()\n",
    "M.add(layers.DiagExpectationUnitLayer(1,3))\n",
    "M.add(layers.DiagExpectationUnitLayer(3,3))\n",
    "M.add(layers.DiagExpectationUnitLayer(3,1))"
   ]
  },
  {
   "cell_type": "code",
   "execution_count": null,
   "metadata": {
    "scrolled": true
   },
   "outputs": [],
   "source": [
    "minim = minimizer.CMA(parallel=True)\n",
    "minim.train(mse(), M, X, Y, tolfun=1e-4)"
   ]
  },
  {
   "cell_type": "code",
   "execution_count": null,
   "metadata": {},
   "outputs": [],
   "source": [
    "npoints = 500\n",
    "test_X = (np.linspace(0, 100, npoints)).reshape((1, npoints))\n",
    "\n",
    "plt.plot(X.flatten(), Y.flatten(),\"og-\", label='target')\n",
    "plt.plot(test_X.flatten(), np.real(M.predict(test_X)).flatten(),\"ob-\", label='fit')\n",
    "plt.legend()"
   ]
  },
  {
   "cell_type": "code",
   "execution_count": 4,
   "metadata": {},
   "outputs": [
    {
     "name": "stdout",
     "output_type": "stream",
     "text": [
      "Iteration 0 in 0.68(s), cost = 0.313613\n",
      "Iteration 100 in 67.77(s), cost = 0.266339\n",
      "Iteration 200 in 127.73(s), cost = 0.260136\n",
      "Iteration 300 in 193.90(s), cost = 0.254850\n",
      "Iteration 400 in 246.59(s), cost = 0.250326\n",
      "Iteration 500 in 299.56(s), cost = 0.246450\n",
      "Iteration 600 in 352.38(s), cost = 0.243127\n",
      "Iteration 700 in 404.78(s), cost = 0.240277\n",
      "Iteration 800 in 457.15(s), cost = 0.237831\n",
      "Iteration 900 in 509.51(s), cost = 0.235732\n",
      "('Cost: ', (0.23394539375562023+0j))\n",
      "('Sol: ', array([-0.20339460+0.j, 0.60020271+0.j, 0.08821406+0.j, -0.27032760+0.j,\n",
      "       -0.40761277+0.j, -0.21694567+0.j, 0.32154850+0.j, 8.82647226+0.j,\n",
      "       5.53877419+0.j, 0.77620339+0.j, -0.15980705+0.j, -0.75009918+0.j,\n",
      "       -0.31615718+0.j, 0.03742699+0.j, -0.20601842+0.j, -0.32583017+0.j,\n",
      "       -0.19068718+0.j, 0.41187846+0.j, -0.06321404+0.j, -0.44148849+0.j,\n",
      "       -0.02395468+0.j, 3.64760684+0.j, 1.39970039+0.j, 9.86812910+0.j,\n",
      "       0.16131601+0.j, -0.07200721+0.j, 0.03902749+0.j, 0.31429152+0.j,\n",
      "       1.83504695+0.j]))\n",
      "Time: 561 s\n"
     ]
    },
    {
     "data": {
      "text/plain": [
       "array([-0.20339460+0.j, 0.60020271+0.j, 0.08821406+0.j, -0.27032760+0.j,\n",
       "       -0.40761277+0.j, -0.21694567+0.j, 0.32154850+0.j, 8.82647226+0.j,\n",
       "       5.53877419+0.j, 0.77620339+0.j, -0.15980705+0.j, -0.75009918+0.j,\n",
       "       -0.31615718+0.j, 0.03742699+0.j, -0.20601842+0.j, -0.32583017+0.j,\n",
       "       -0.19068718+0.j, 0.41187846+0.j, -0.06321404+0.j, -0.44148849+0.j,\n",
       "       -0.02395468+0.j, 3.64760684+0.j, 1.39970039+0.j, 9.86812910+0.j,\n",
       "       0.16131601+0.j, -0.07200721+0.j, 0.03902749+0.j, 0.31429152+0.j,\n",
       "       1.83504695+0.j])"
      ]
     },
     "execution_count": 4,
     "metadata": {},
     "output_type": "execute_result"
    }
   ],
   "source": [
    "M = mdl.Model()\n",
    "\n",
    "M.add(layers.DiagExpectationUnitLayer(1,3, Wmax=0.5))\n",
    "M.add(layers.DiagExpectationUnitLayer(3,3, Wmax=0.5))\n",
    "M.add(layers.DiagExpectationUnitLayer(3,1, Wmax=0.5))\n",
    "\n",
    "minim = minimizer.SGD()\n",
    "minim.train(mse(), M, X, Y, lr=0.01, maxiter=1000)"
   ]
  },
  {
   "cell_type": "code",
   "execution_count": 5,
   "metadata": {},
   "outputs": [
    {
     "data": {
      "text/plain": [
       "<matplotlib.legend.Legend at 0x7f5b3da24590>"
      ]
     },
     "execution_count": 5,
     "metadata": {},
     "output_type": "execute_result"
    },
    {
     "data": {
      "image/png": "[encoded data removed]",
      "text/plain": [
       "<matplotlib.figure.Figure at 0x7f5b982ef690>"
      ]
     },
     "metadata": {},
     "output_type": "display_data"
    }
   ],
   "source": [
    "npoints = 500\n",
    "test_X = (np.linspace(0, 100, npoints)).reshape((1, npoints))\n",
    "\n",
    "plt.plot(X.flatten(), Y.flatten(),\"og-\", label='target')\n",
    "plt.plot(test_X.flatten(), np.real(M.predict(test_X)).flatten(),\"ob-\", label='fit')\n",
    "plt.legend()"
   ]
  },
  {
   "cell_type": "markdown",
   "metadata": {},
   "source": [
    "# Example 2: Sine-Cosine-Mixture with trend and gaussian noise"
   ]
  },
  {
   "cell_type": "code",
   "execution_count": null,
   "metadata": {},
   "outputs": [],
   "source": [
    "def func(x,n):\n",
    "    return 0.02*x+0.5*np.sin(1*x+0.1)+0.75*np.cos(0.25*x-0.3)+n*np.random.normal(0,0.2,x.shape[2])\n",
    "\n",
    "X = np.linspace(0, 100, 500)\n",
    "X = X.reshape((1,X.shape[0]))\n",
    "\n",
    "Y = func(X[:,None],1).reshape((1,X.shape[1]))"
   ]
  },
  {
   "cell_type": "code",
   "execution_count": null,
   "metadata": {},
   "outputs": [],
   "source": [
    "Y = func(X[:,None],0).reshape((1,X.shape[1]))\n",
    "\n",
    "plt.plot(X.flatten(), Y.flatten(),\"-\")\n",
    "plt.xlabel(\"t\")\n",
    "plt.ylabel(\"y\")\n",
    "plt.savefig(\"sincosmix.eps\", format=\"eps\")\n",
    "plt.show()\n"
   ]
  },
  {
   "cell_type": "code",
   "execution_count": null,
   "metadata": {},
   "outputs": [],
   "source": [
    "Y = func(X[:,None],1).reshape((1,X.shape[1]))\n",
    "\n",
    "plt.plot(X.flatten(), Y.flatten(),\"-\")\n",
    "plt.xlabel(\"t\")\n",
    "plt.ylabel(\"y\")\n",
    "plt.savefig(\"sincosmix_noise.eps\", format=\"eps\")\n",
    "\n",
    "plt.show()\n",
    "\n"
   ]
  },
  {
   "cell_type": "code",
   "execution_count": null,
   "metadata": {},
   "outputs": [],
   "source": [
    "M = mdl.Model()\n",
    "\n",
    "M.add(layers.DiagExpectationUnitLayer(1,3))\n",
    "M.add(layers.DiagExpectationUnitLayer(3,3))\n",
    "M.add(layers.DiagExpectationUnitLayer(3,2))\n",
    "M.add(layers.DiagExpectationUnitLayer(2,1))"
   ]
  },
  {
   "cell_type": "code",
   "execution_count": null,
   "metadata": {},
   "outputs": [],
   "source": [
    "minim = minimizer.CMA(parallel=True)\n",
    "minim.train(mse(), M, X, Y, tolfun=1e-4)"
   ]
  },
  {
   "cell_type": "code",
   "execution_count": null,
   "metadata": {},
   "outputs": [],
   "source": [
    "npoints = 500\n",
    "test_X = (np.linspace(0, 100, npoints)).reshape((1, npoints))\n",
    "\n",
    "plt.plot(X.flatten(), Y.flatten(),\"og\", label='train')\n",
    "plt.plot(test_X.flatten(), np.real(M.predict(test_X)).flatten(),\"b-\", label='fit', linewidth=5)\n",
    "plt.legend()\n",
    "plt.xlabel(\"t\")\n",
    "plt.ylabel(\"y\")\n",
    "plt.savefig(\"sincosmix_10-4.eps\", format=\"eps\")\n",
    "plt.show()"
   ]
  },
  {
   "cell_type": "markdown",
   "metadata": {},
   "source": [
    "# Example: Intrawave modulation"
   ]
  },
  {
   "cell_type": "code",
   "execution_count": null,
   "metadata": {},
   "outputs": [],
   "source": [
    "def func(x,n):\n",
    "    return np.cos(0.01*x+0.5*np.cos(0.05*x))/(2+np.sin(0.04*x))\n",
    "\n",
    "X = np.linspace(0, 1000, 1000)\n",
    "X = X.reshape((1,X.shape[0]))\n",
    "\n",
    "Y = func(X[:,None],1).reshape((1,X.shape[1]))\n",
    "\n",
    "plt.plot(X.flatten(), Y.flatten(),\"b-\")"
   ]
  },
  {
   "cell_type": "code",
   "execution_count": null,
   "metadata": {},
   "outputs": [],
   "source": [
    "M = mdl.Model()\n",
    "\n",
    "M.add(layers.DiagExpectationUnitLayer(1,5))\n",
    "M.add(layers.DiagExpectationUnitLayer(5,5))\n",
    "M.add(layers.DiagExpectationUnitLayer(5,3))\n",
    "M.add(layers.DiagExpectationUnitLayer(3,1))"
   ]
  },
  {
   "cell_type": "code",
   "execution_count": null,
   "metadata": {},
   "outputs": [],
   "source": [
    "minim = minimizer.CMA(parallel=True)\n",
    "minim.train(mse(), M, X, Y, tolfun=1e-4)"
   ]
  },
  {
   "cell_type": "code",
   "execution_count": null,
   "metadata": {},
   "outputs": [],
   "source": [
    "npoints = 1000\n",
    "test_X = (np.linspace(0, 1000, npoints)).reshape((1, npoints))\n",
    "\n",
    "plt.plot(X.flatten(), Y.flatten(),\"og\", label='train')\n",
    "plt.plot(test_X.flatten(), np.real(M.predict(test_X)).flatten(),\"b-\", label='fit', linewidth=5)\n",
    "plt.legend()\n",
    "plt.xlabel(\"t\")\n",
    "plt.ylabel(\"y\")"
   ]
  },
  {
   "cell_type": "markdown",
   "metadata": {},
   "source": [
    "# Example 3: Saw-tooth"
   ]
  },
  {
   "cell_type": "code",
   "execution_count": null,
   "metadata": {},
   "outputs": [],
   "source": [
    "def func(x,n):\n",
    "    return signal.sawtooth(x)\n",
    "\n",
    "X = np.linspace(0, 30, 500)\n",
    "X = X.reshape((1,X.shape[0]))\n",
    "\n",
    "Y = func(X[:,None],1).reshape((1,X.shape[1]))"
   ]
  },
  {
   "cell_type": "code",
   "execution_count": null,
   "metadata": {},
   "outputs": [],
   "source": [
    "plt.plot(X.flatten(), Y.flatten(),\"ob-\")"
   ]
  },
  {
   "cell_type": "code",
   "execution_count": null,
   "metadata": {},
   "outputs": [],
   "source": [
    "M = mdl.Model()\n",
    "\n",
    "M.add(layers.DiagExpectationUnitLayer(1,100))\n",
    "minim = minimizer.CMA(parallel=True)\n",
    "minim.train(mse(), M, X, Y, maxiter=100)"
   ]
  },
  {
   "cell_type": "code",
   "execution_count": null,
   "metadata": {},
   "outputs": [],
   "source": [
    "npoints = 500\n",
    "test_X = (np.linspace(0, 30, npoints)).reshape((1, npoints))\n",
    "\n",
    "plt.plot(X.flatten(), Y.flatten(),\"og-\", label='target')\n",
    "plt.plot(test_X.flatten(), np.real(M.predict(test_X)).flatten(),\"ob-\", label='fit')\n",
    "plt.xaxis(\"t\")\n",
    "plt.yaxis(\"y(t)\")\n",
    "plt.savefig(\"sawtooth_reg.eps\", format=\"eps\")\n",
    "plt.legend()"
   ]
  },
  {
   "cell_type": "markdown",
   "metadata": {
    "collapsed": true
   },
   "source": [
    "# Example 3: MNIST (work in progress...)"
   ]
  },
  {
   "cell_type": "code",
   "execution_count": null,
   "metadata": {},
   "outputs": [],
   "source": [
    "# Load MNIST dataset\n",
    "MNIST_train = pd.read_csv('~/data/mnist_train.csv', delimiter=\",\",header=None).values\n",
    "MNIST_test  = pd.read_csv('~/data/mnist_test.csv', delimiter=\",\",header=None).values\n",
    "\n",
    "# Prepare data (normalized onto [0,1])\n",
    "Y_train = MNIST_train[0:10000,0]\n",
    "X_train = MNIST_train[0:10000,1:]/255.0\n",
    "\n",
    "Y_test = MNIST_test[:,0]\n",
    "X_test = MNIST_test[:,1:]/255.0"
   ]
  },
  {
   "cell_type": "code",
   "execution_count": null,
   "metadata": {},
   "outputs": [],
   "source": [
    "M = mdl.Model()\n",
    "#M.add(layers.Linear(784,1,paramBound=100))\n",
    "M.add(layers.DiagExpectationUnitLayer(784,1,Qmax=5,paramBound=5))\n",
    "#M.add(layers.DiagExpectationUnitLayer(784,10,Qmax=3,paramBound=5))\n",
    "#M.add(layers.DiagExpectationUnitLayer(25,10,Qmax=3,paramBound=5))\n",
    "#M.add(layers.DiagExpectationUnitLayer(10,1))\n",
    "#M.add(layers.SoftMaxLayer(10))\n",
    "#M.add(layers.MaxPosLayer(10,1))\n",
    "\n",
    "#enc = LabelBinarizer()\n",
    "#enc.fit(np.diag([1,1,1,1,1,1,1,1,1,1]))\n",
    "#enc.classes_ = [0, 1, 2, 3, 4, 5, 6, 7, 8, 9]\n",
    "#T=enc.transform(Y_train)\n"
   ]
  },
  {
   "cell_type": "code",
   "execution_count": null,
   "metadata": {
    "scrolled": true
   },
   "outputs": [],
   "source": [
    "minim = minimizer.CMA(True)\n",
    "\n",
    "sol=minim.train(mse(), M, np.transpose(X_train), np.transpose(Y_train), maxiter=1000)"
   ]
  },
  {
   "cell_type": "code",
   "execution_count": null,
   "metadata": {},
   "outputs": [],
   "source": [
    "#P=np.argmax(np.real(M.predict(np.transpose(X_train))),axis=0)\n",
    "P=np.abs(np.round(np.real(M.predict(np.transpose(X_train)))))\n",
    "\n",
    "\n",
    "print(classification_report(Y_train,P.T))\n",
    "print(confusion_matrix(Y_train, P.T))"
   ]
  },
  {
   "cell_type": "code",
   "execution_count": null,
   "metadata": {},
   "outputs": [],
   "source": [
    "#P=np.argmax(np.real(M.predict(np.transpose(X_test))),axis=0)\n",
    "P=np.abs(np.round(np.real(M.predict(np.transpose(X_test)))))\n",
    "\n",
    "\n",
    "print(classification_report(Y_test,P.T))\n",
    "print(confusion_matrix(Y_test, P.T))"
   ]
  },
  {
   "cell_type": "code",
   "execution_count": null,
   "metadata": {},
   "outputs": [],
   "source": []
  }
 ],
 "metadata": {
  "kernelspec": {
   "display_name": "Python 2",
   "language": "python",
   "name": "python2"
  },
  "language_info": {
   "codemirror_mode": {
    "name": "ipython",
    "version": 2
   },
   "file_extension": ".py",
   "mimetype": "text/x-python",
   "name": "python",
   "nbconvert_exporter": "python",
   "pygments_lexer": "ipython2",
   "version": "2.7.12"
  }
 },
 "nbformat": 4,
 "nbformat_minor": 2
}
