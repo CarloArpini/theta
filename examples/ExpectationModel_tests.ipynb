{
 "cells": [
  {
   "cell_type": "code",
   "execution_count": 1,
   "metadata": {
    "collapsed": false,
    "deletable": true,
    "editable": true
   },
   "outputs": [
    {
     "name": "stderr",
     "output_type": "stream",
     "text": [
      "/usr/lib/sagemath/local/lib/python2.7/site-packages/traitlets/traitlets.py:770: DeprecationWarning: A parent of InlineBackend._config_changed has adopted the new @observe(change) API\n",
      "  clsname, change_or_name), DeprecationWarning)\n"
     ]
    }
   ],
   "source": [
    "import sys\n",
    "sys.path.append('../')\n",
    "\n",
    "import numpy as np\n",
    "import matplotlib.pyplot as plt\n",
    "import pandas as pd\n",
    "%matplotlib inline\n",
    "\n",
    "from abelfunctions import RiemannTheta\n",
    "\n",
    "import layers as layers\n",
    "import model as mdl\n",
    "\n",
    "import warnings\n",
    "warnings.filterwarnings('ignore')\n",
    "\n",
    "from costfunctions import mse, crossentropy\n",
    "import minimizer\n",
    "\n",
    "from sklearn.metrics import confusion_matrix, classification_report\n",
    "from sklearn.preprocessing import LabelBinarizer"
   ]
  },
  {
   "cell_type": "markdown",
   "metadata": {},
   "source": [
    "# Example 1: Sine-Mixture with gaussian noise"
   ]
  },
  {
   "cell_type": "code",
   "execution_count": 2,
   "metadata": {
    "collapsed": false,
    "deletable": true,
    "editable": true
   },
   "outputs": [],
   "source": [
    "def func(x,n):\n",
    "    return 0.5*np.sin(1*x+0.1)+0.75*np.sin(0.25*x-0.3)+n*np.random.normal(0,0.2,x.shape[2])\n",
    "\n",
    "X = np.linspace(0, 100, 500)\n",
    "X = X.reshape((1,X.shape[0]))\n",
    "\n",
    "Y = func(X[:,None],1).reshape((1,X.shape[1]))"
   ]
  },
  {
   "cell_type": "code",
   "execution_count": 3,
   "metadata": {
    "collapsed": false,
    "deletable": true,
    "editable": true
   },
   "outputs": [
    {
     "data": {
      "text/plain": [
       "[<matplotlib.lines.Line2D object at 0x7f9d23aa5e90>]"
      ]
     },
     "execution_count": 3,
     "metadata": {},
     "output_type": "execute_result"
    },
    {
     "data": {
      "image/png": "[encoded data removed]",
      "text/plain": [
       "<matplotlib.figure.Figure object at 0x7f9cbacf9ed0>"
      ]
     },
     "metadata": {},
     "output_type": "display_data"
    }
   ],
   "source": [
    "plt.plot(X.flatten(), Y.flatten(),\"ob-\")"
   ]
  },
  {
   "cell_type": "code",
   "execution_count": 10,
   "metadata": {
    "collapsed": false
   },
   "outputs": [],
   "source": [
    "M = mdl.Model()\n",
    "M.add(layers.ThetaUnitLayer(1,3,phase=1j))\n",
    "M.add(layers.ThetaUnitLayer(3,3,phase=1j))\n",
    "M.add(layers.ThetaUnitLayer(3,1,phase=1j))"
   ]
  },
  {
   "cell_type": "code",
   "execution_count": 11,
   "metadata": {
    "collapsed": false,
    "deletable": true,
    "editable": true
   },
   "outputs": [
    {
     "name": "stdout",
     "output_type": "stream",
     "text": [
      "CMA on 32 cpu(s) enabled\n",
      "(7_w,14)-aCMA-ES (mu_w=4.3,w_1=36%) in dimension 29 (seed=667906, Sat Oct 21 15:08:45 2017)\n",
      "Iterat #Fevals   function value  axis ratio  sigma  min&max std  t[m:s]\n",
      "    1     14 4.292972368105109e-01 1.0e+00 9.34e-01  9e-01  9e-01 0:01.4\n",
      "    2     28 4.292052322421823e-01 1.1e+00 9.04e-01  9e-01  9e-01 0:01.8\n",
      "    3     42 4.275860720192574e-01 1.1e+00 8.72e-01  9e-01  9e-01 0:02.1\n",
      "   15    210 4.280042949101752e-01 1.3e+00 8.42e-01  8e-01  9e-01 0:05.3\n",
      "   31    434 4.243559215775001e-01 1.5e+00 7.57e-01  7e-01  8e-01 0:09.5\n",
      "   50    700 4.292535545470235e-01 1.7e+00 5.76e-01  5e-01  6e-01 0:15.0\n",
      "   71    994 4.263544766288528e-01 1.7e+00 3.86e-01  3e-01  4e-01 0:21.1\n",
      "   95   1330 4.253208315024550e-01 1.9e+00 3.31e-01  3e-01  4e-01 0:28.3\n",
      "  100   1400 4.269066481990646e-01 1.9e+00 3.03e-01  3e-01  3e-01 0:29.7\n",
      "  126   1764 4.283654976926077e-01 2.1e+00 3.33e-01  3e-01  4e-01 0:39.1\n",
      "  155   2170 4.280008088734619e-01 2.4e+00 3.24e-01  3e-01  4e-01 0:49.2\n",
      "  192   2688 4.275927086851145e-01 2.5e+00 3.06e-01  3e-01  3e-01 1:00.4\n",
      "  200   2800 4.266312846708513e-01 2.5e+00 2.68e-01  2e-01  3e-01 1:03.2\n",
      "  242   3388 4.262076830443341e-01 2.9e+00 1.72e-01  1e-01  2e-01 1:16.4\n",
      "  297   4158 4.245751836050114e-01 3.5e+00 1.52e-01  1e-01  2e-01 1:30.6\n",
      "  300   4200 4.251687402068068e-01 3.5e+00 1.44e-01  1e-01  2e-01 1:31.4\n",
      "  363   5082 4.159732354891876e-01 4.0e+00 8.94e-02  5e-02  1e-01 1:47.5\n",
      "  400   5600 4.090320927340296e-01 4.7e+00 7.61e-02  3e-02  9e-02 1:57.0\n",
      "  470   6580 4.019553737815760e-01 7.2e+00 1.22e-01  4e-02  2e-01 2:15.1\n",
      "  500   7000 4.053824360038966e-01 8.6e+00 1.37e-01  3e-02  2e-01 2:23.2\n",
      "  578   8092 3.662513130756558e-01 1.5e+01 1.67e-01  2e-02  2e-01 2:43.4\n",
      "  600   8400 3.351695816879550e-01 1.7e+01 1.67e-01  2e-02  2e-01 2:49.0\n",
      "  685   9590 1.834409649572284e-01 3.4e+01 1.63e-01  9e-03  2e-01 3:11.1\n",
      "  700   9800 1.578245023718882e-01 3.7e+01 1.33e-01  7e-03  2e-01 3:15.1\n",
      "  794  11116 1.265162665609967e-01 6.6e+01 2.71e-02  8e-04  3e-02 3:39.3\n",
      "  800  11200 1.266632536686289e-01 6.8e+01 2.66e-02  8e-04  3e-02 3:40.8\n",
      "  900  12600 1.245986715362718e-01 1.1e+02 8.02e-03  2e-04  9e-03 4:06.5\n",
      " 1000  14000 1.218494909569706e-01 1.9e+02 7.40e-03  1e-04  1e-02 4:32.6\n",
      "Iterat #Fevals   function value  axis ratio  sigma  min&max std  t[m:s]\n",
      " 1100  15400 1.196346519581603e-01 4.8e+02 2.09e-02  3e-04  4e-02 4:58.7\n",
      " 1200  16800 1.167760094185230e-01 4.2e+02 1.56e-02  2e-04  2e-02 5:24.6\n",
      " 1300  18200 1.136219943504281e-01 4.7e+02 1.77e-02  2e-04  3e-02 5:50.6\n",
      " 1400  19600 1.127306679484984e-01 5.6e+02 6.27e-03  5e-05  1e-02 6:16.5\n",
      " 1500  21000 1.124343155221166e-01 7.7e+02 4.10e-03  3e-05  7e-03 6:42.9\n",
      " 1600  22400 1.122029037253534e-01 1.4e+03 5.75e-03  3e-05  1e-02 7:09.2\n",
      " 1700  23800 1.119833881992966e-01 1.7e+03 7.68e-03  4e-05  2e-02 7:35.1\n",
      " 1800  25200 1.118131795845366e-01 1.8e+03 9.45e-03  4e-05  2e-02 8:00.9\n",
      " 1900  26600 1.113870235579547e-01 3.3e+03 1.56e-02  5e-05  6e-02 8:27.0\n",
      " 2000  28000 1.108834442610212e-01 3.5e+03 1.33e-02  4e-05  4e-02 8:53.5\n",
      "Iterat #Fevals   function value  axis ratio  sigma  min&max std  t[m:s]\n",
      " 2100  29400 1.105736767831508e-01 3.2e+03 1.39e-02  4e-05  3e-02 9:19.9\n",
      " 2175  30450 1.104973821077775e-01 3.0e+03 5.86e-03  2e-05  1e-02 9:39.9\n",
      "CMAEvolutionStrategyResult(xbest=array([ 0.59548387,  0.99963853, -0.99935631, -0.2486419 , -0.98049813,\n",
      "        0.92900432,  1.05148156,  6.39645563,  3.69381755,  0.75736324,\n",
      "        0.98886854,  0.5880419 ,  0.99685515, -0.77440519, -0.99151148,\n",
      "       -0.6694313 , -0.27440006,  0.99996862,  0.05186036,  0.73265693,\n",
      "       -0.19511522,  1.03209911,  4.42384868,  1.47712335,  0.36860353,\n",
      "       -0.99965185,  0.99950909,  0.99997951,  2.17212281]), fbest=(0.11049738210777749-2.1472134602616473e-17j), evals_best=30448, evaluations=30450, iterations=2175, xfavorite=array([  4.99586031,   1.09062954,   3.28708337,  -0.24865569,\n",
      "        -1.01189807,  -3.13138064,   1.05068841,  14.695721  ,\n",
      "         3.69457999,  -3.64486948,  -3.23198885,   0.58560231,\n",
      "        -3.26508822,  -1.42587244,  -1.15800417,  -0.66838385,\n",
      "         2.47117103,  -3.29756693,   4.45172453,   5.1363614 ,\n",
      "        -0.19314613,  -1.13210039,   4.42302414,  -1.57981381,\n",
      "        -2.56851897,   3.28790596,   1.11352266,  -3.30490545,  18.92780754]), stds=array([  9.09964050e-04,   6.21231823e-03,   7.97230455e-03,\n",
      "         1.54853441e-05,   6.42890567e-04,   3.81276053e-04,\n",
      "         1.04508059e-03,   1.32435674e-02,   7.29186645e-03,\n",
      "         3.13269818e-03,   9.49258411e-03,   2.65153837e-03,\n",
      "         1.50884333e-03,   5.54508455e-03,   1.62619997e-03,\n",
      "         1.11256532e-02,   9.26359979e-03,   7.84189827e-03,\n",
      "         2.80254536e-03,   4.63453701e-03,   3.18087073e-03,\n",
      "         1.82324664e-03,   5.56402682e-03,   4.22046197e-03,\n",
      "         2.47119329e-03,   2.63198877e-03,   6.55149025e-03,\n",
      "         3.55992821e-03,   1.65398872e-03]))\n"
     ]
    },
    {
     "data": {
      "text/plain": [
       "array([ 0.59548387,  0.99963853, -0.99935631, -0.2486419 , -0.98049813,\n",
       "        0.92900432,  1.05148156,  6.39645563,  3.69381755,  0.75736324,\n",
       "        0.98886854,  0.5880419 ,  0.99685515, -0.77440519, -0.99151148,\n",
       "       -0.6694313 , -0.27440006,  0.99996862,  0.05186036,  0.73265693,\n",
       "       -0.19511522,  1.03209911,  4.42384868,  1.47712335,  0.36860353,\n",
       "       -0.99965185,  0.99950909,  0.99997951,  2.17212281])"
      ]
     },
     "execution_count": 11,
     "metadata": {},
     "output_type": "execute_result"
    }
   ],
   "source": [
    "minim = minimizer.CMA(parallel=True)\n",
    "minim.train(mse, M, X, Y, tolfun=1e-4)"
   ]
  },
  {
   "cell_type": "code",
   "execution_count": 12,
   "metadata": {
    "collapsed": false,
    "deletable": true,
    "editable": true
   },
   "outputs": [
    {
     "data": {
      "text/plain": [
       "<matplotlib.legend.Legend object at 0x7f9d1004e550>"
      ]
     },
     "execution_count": 12,
     "metadata": {},
     "output_type": "execute_result"
    },
    {
     "data": {
      "image/png": "[encoded data removed]",
      "text/plain": [
       "<matplotlib.figure.Figure object at 0x7f9cbad2af10>"
      ]
     },
     "metadata": {},
     "output_type": "display_data"
    }
   ],
   "source": [
    "npoints = 500\n",
    "test_X = (np.linspace(0, 100, npoints)).reshape((1, npoints))\n",
    "\n",
    "plt.plot(X.flatten(), Y.flatten(),\"og-\", label='target')\n",
    "plt.plot(test_X.flatten(), np.real(M.predict(test_X)).flatten(),\"ob-\", label='fit')\n",
    "plt.legend()"
   ]
  },
  {
   "cell_type": "markdown",
   "metadata": {},
   "source": [
    "# Example 2: Sine-Cosine-Mixture with trend and gaussian noise"
   ]
  },
  {
   "cell_type": "code",
   "execution_count": null,
   "metadata": {
    "collapsed": true
   },
   "outputs": [],
   "source": [
    "def func(x,n):\n",
    "    return 0.02*x+0.5*np.sin(1*x+0.1)+0.75*np.cos(0.25*x-0.3)+n*np.random.normal(0,0.2,x.shape[2])\n",
    "\n",
    "X = np.linspace(0, 100, 500)\n",
    "X = X.reshape((1,X.shape[0]))\n",
    "\n",
    "Y = func(X[:,None],1).reshape((1,X.shape[1]))"
   ]
  },
  {
   "cell_type": "code",
   "execution_count": null,
   "metadata": {
    "collapsed": false
   },
   "outputs": [],
   "source": [
    "plt.plot(X.flatten(), Y.flatten(),\"ob-\")"
   ]
  },
  {
   "cell_type": "code",
   "execution_count": null,
   "metadata": {
    "collapsed": true
   },
   "outputs": [],
   "source": [
    "M = mdl.Model()\n",
    "\n",
    "M.add(layers.ThetaUnitLayer(1,3))\n",
    "M.add(layers.ThetaUnitLayer(3,3))\n",
    "M.add(layers.ThetaUnitLayer(3,2))\n",
    "M.add(layers.ThetaUnitLayer(2,1))"
   ]
  },
  {
   "cell_type": "code",
   "execution_count": null,
   "metadata": {
    "collapsed": false
   },
   "outputs": [],
   "source": [
    "minim = minimizer.CMA(parallel=True)\n",
    "minim.train(mse, M, X, Y, tolfun=1e-5)"
   ]
  },
  {
   "cell_type": "code",
   "execution_count": null,
   "metadata": {
    "collapsed": false
   },
   "outputs": [],
   "source": [
    "npoints = 500\n",
    "test_X = (np.linspace(0, 100, npoints)).reshape((1, npoints))\n",
    "\n",
    "plt.plot(X.flatten(), Y.flatten(),\"og-\", label='target')\n",
    "plt.plot(test_X.flatten(), np.real(M.predict(test_X)).flatten(),\"ob-\", label='fit')\n",
    "plt.legend()"
   ]
  },
  {
   "cell_type": "markdown",
   "metadata": {
    "collapsed": true
   },
   "source": [
    "# Example 3: MNIST (work in progress...)"
   ]
  },
  {
   "cell_type": "code",
   "execution_count": null,
   "metadata": {
    "collapsed": false
   },
   "outputs": [],
   "source": [
    "# Load MNIST dataset\n",
    "MNIST_train = pd.read_csv('~/data/mnist_train.csv', delimiter=\",\",header=None).values\n",
    "MNIST_test  = pd.read_csv('~/data/mnist_test.csv', delimiter=\",\",header=None).values\n",
    "\n",
    "# Prepare data (normalized onto [0,1])\n",
    "Y_train = MNIST_train[0:100,0]\n",
    "X_train = MNIST_train[0:100,1:]/255.0\n",
    "\n",
    "Y_test = MNIST_test[:,0]\n",
    "X_test = MNIST_test[:,1:]/255.0"
   ]
  },
  {
   "cell_type": "code",
   "execution_count": null,
   "metadata": {
    "collapsed": false
   },
   "outputs": [],
   "source": [
    "M = mdl.Model()\n",
    "M.add(layers.ThetaUnitLayer(784,10))\n",
    "M.add(layers.SoftMaxLayer(10))\n",
    "M.add(layers.MaxPosLayer(10,1))\n",
    "\n",
    "#enc = LabelBinarizer()\n",
    "#enc.fit(np.diag([1,1,1,1,1,1,1,1,1,1]))\n",
    "#enc.classes_ = [1, 2, 3, 4, 5, 6, 7, 8, 9, 10]\n",
    "#T=enc.transform(Y_train)\n",
    "\n",
    "# ToDo: Use cross-entropy"
   ]
  },
  {
   "cell_type": "code",
   "execution_count": null,
   "metadata": {
    "collapsed": false
   },
   "outputs": [],
   "source": [
    "minim = minimizer.CMA(True)\n",
    "\n",
    "minim.train(crossentropy,M, np.transpose(X_train), np.transpose(Y_train), maxiter=5)"
   ]
  },
  {
   "cell_type": "code",
   "execution_count": null,
   "metadata": {
    "collapsed": false
   },
   "outputs": [],
   "source": [
    "W=M.predict(np.transpose(X_train))"
   ]
  },
  {
   "cell_type": "code",
   "execution_count": null,
   "metadata": {
    "collapsed": false
   },
   "outputs": [],
   "source": [
    "W"
   ]
  },
  {
   "cell_type": "code",
   "execution_count": null,
   "metadata": {
    "collapsed": false
   },
   "outputs": [],
   "source": [
    "crossentropy(W,np.transpose(T))"
   ]
  },
  {
   "cell_type": "code",
   "execution_count": null,
   "metadata": {
    "collapsed": false
   },
   "outputs": [],
   "source": [
    "P=np.real(M.predict(np.transpose(X_test)))\n",
    "\n",
    "#where_are_NaNs = np.isnan(P)\n",
    "#P[where_are_NaNs] = 0\n",
    "#P = np.abs(np.round(P))\n",
    "P=P.reshape(P.shape[0],)\n",
    "\n",
    "print(classification_report(Y_test,P))\n",
    "print(confusion_matrix(Y_test, P))"
   ]
  },
  {
   "cell_type": "code",
   "execution_count": null,
   "metadata": {
    "collapsed": false
   },
   "outputs": [],
   "source": []
  },
  {
   "cell_type": "code",
   "execution_count": null,
   "metadata": {
    "collapsed": false
   },
   "outputs": [],
   "source": []
  },
  {
   "cell_type": "code",
   "execution_count": null,
   "metadata": {
    "collapsed": true
   },
   "outputs": [],
   "source": []
  }
 ],
 "metadata": {
  "kernelspec": {
   "display_name": "SageMath 7.5.1",
   "language": "",
   "name": "sagemath"
  },
  "language_info": {
   "codemirror_mode": {
    "name": "ipython",
    "version": 2
   },
   "file_extension": ".py",
   "mimetype": "text/x-python",
   "name": "python",
   "nbconvert_exporter": "python",
   "pygments_lexer": "ipython2",
   "version": "2.7.13"
  }
 },
 "nbformat": 4,
 "nbformat_minor": 2
}
