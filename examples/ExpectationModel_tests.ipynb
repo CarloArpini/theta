{
 "cells": [
  {
   "cell_type": "code",
   "execution_count": null,
   "metadata": {
    "collapsed": false,
    "deletable": true,
    "editable": true
   },
   "outputs": [],
   "source": [
    "import sys\n",
    "sys.path.append('../')\n",
    "\n",
    "import numpy as np\n",
    "import matplotlib.pyplot as plt\n",
    "import pandas as pd\n",
    "%matplotlib inline\n",
    "\n",
    "from abelfunctions import RiemannTheta\n",
    "\n",
    "import layers as layers\n",
    "import model as mdl\n",
    "\n",
    "import warnings\n",
    "warnings.filterwarnings('ignore')\n",
    "\n",
    "from costfunctions import mse\n",
    "import minimizer"
   ]
  },
  {
   "cell_type": "markdown",
   "metadata": {},
   "source": [
    "# Example 1: Sine-Mixture with gaussian noise"
   ]
  },
  {
   "cell_type": "code",
   "execution_count": null,
   "metadata": {
    "collapsed": false,
    "deletable": true,
    "editable": true
   },
   "outputs": [],
   "source": [
    "def func(x,n):\n",
    "    return 0.5*np.sin(1*x+0.1)+0.75*np.sin(0.25*x-0.3)+n*np.random.normal(0,0.2,x.shape[2])\n",
    "\n",
    "X = np.linspace(0, 100, 500)\n",
    "X = X.reshape((1,X.shape[0]))\n",
    "\n",
    "Y = func(X[:,None],1).reshape((1,X.shape[1]))"
   ]
  },
  {
   "cell_type": "code",
   "execution_count": null,
   "metadata": {
    "collapsed": false,
    "deletable": true,
    "editable": true
   },
   "outputs": [],
   "source": [
    "plt.plot(X.flatten(), Y.flatten(),\"ob-\")"
   ]
  },
  {
   "cell_type": "code",
   "execution_count": null,
   "metadata": {
    "collapsed": true
   },
   "outputs": [],
   "source": [
    "M = mdl.Model()\n",
    "M.add(layers.ThetaUnitLayer(1,3))\n",
    "M.add(layers.ThetaUnitLayer(3,3))\n",
    "M.add(layers.ThetaUnitLayer(3,1))"
   ]
  },
  {
   "cell_type": "code",
   "execution_count": null,
   "metadata": {
    "collapsed": false,
    "deletable": true,
    "editable": true
   },
   "outputs": [],
   "source": [
    "minim = minimizer.CMA(parallel=True)\n",
    "minim.train(mse, M, X, Y, tolfun=1e-5)"
   ]
  },
  {
   "cell_type": "code",
   "execution_count": null,
   "metadata": {
    "collapsed": false,
    "deletable": true,
    "editable": true
   },
   "outputs": [],
   "source": [
    "npoints = 500\n",
    "test_X = (np.linspace(0, 100, npoints)).reshape((1, npoints))\n",
    "\n",
    "plt.plot(X.flatten(), Y.flatten(),\"og-\", label='target')\n",
    "plt.plot(test_X.flatten(), np.real(M.predict(test_X)).flatten(),\"ob-\", label='fit')\n",
    "plt.legend()"
   ]
  },
  {
   "cell_type": "markdown",
   "metadata": {},
   "source": [
    "# Example 2: Sine-Cosine-Mixture with trend and gaussian noise"
   ]
  },
  {
   "cell_type": "code",
   "execution_count": null,
   "metadata": {
    "collapsed": true
   },
   "outputs": [],
   "source": [
    "def func(x,n):\n",
    "    return 0.02*x+0.5*np.sin(1*x+0.1)+0.75*np.cos(0.25*x-0.3)+n*np.random.normal(0,0.2,x.shape[2])\n",
    "\n",
    "X = np.linspace(0, 100, 500)\n",
    "X = X.reshape((1,X.shape[0]))\n",
    "\n",
    "Y = func(X[:,None],1).reshape((1,X.shape[1]))"
   ]
  },
  {
   "cell_type": "code",
   "execution_count": null,
   "metadata": {
    "collapsed": false
   },
   "outputs": [],
   "source": [
    "plt.plot(X.flatten(), Y.flatten(),\"ob-\")"
   ]
  },
  {
   "cell_type": "code",
   "execution_count": null,
   "metadata": {
    "collapsed": true
   },
   "outputs": [],
   "source": [
    "M = mdl.Model()\n",
    "\n",
    "M.add(layers.ThetaUnitLayer(1,3, param_bound=10))\n",
    "M.add(layers.ThetaUnitLayer(3,3, param_bound=10))\n",
    "M.add(layers.ThetaUnitLayer(3,2, param_bound=10))\n",
    "M.add(layers.ThetaUnitLayer(2,1, param_bound=10))"
   ]
  },
  {
   "cell_type": "code",
   "execution_count": null,
   "metadata": {
    "collapsed": false
   },
   "outputs": [],
   "source": [
    "minim = minimizer.CMA(parallel=True)\n",
    "minim.train(mse, M, X, Y, tolfun=1e-5)"
   ]
  },
  {
   "cell_type": "code",
   "execution_count": null,
   "metadata": {
    "collapsed": false
   },
   "outputs": [],
   "source": [
    "npoints = 500\n",
    "test_X = (np.linspace(0, 100, npoints)).reshape((1, npoints))\n",
    "\n",
    "plt.plot(X.flatten(), Y.flatten(),\"og-\", label='target')\n",
    "plt.plot(test_X.flatten(), np.real(M.predict(test_X)).flatten(),\"ob-\", label='fit')\n",
    "plt.legend()"
   ]
  },
  {
   "cell_type": "markdown",
   "metadata": {
    "collapsed": true
   },
   "source": [
    "# Example 3: MNIST"
   ]
  },
  {
   "cell_type": "code",
   "execution_count": 2,
   "metadata": {
    "collapsed": false
   },
   "outputs": [],
   "source": [
    "# Load MNIST dataset\n",
    "MNIST_train = pd.read_csv('~/data/mnist_train.csv', delimiter=\",\",header=None).values\n",
    "MNIST_test  = pd.read_csv('~/data/mnist_test.csv', delimiter=\",\",header=None).values\n",
    "\n",
    "# Prepare data (normalized onto [0,1])\n",
    "Y_train = MNIST_train[0:100,0]\n",
    "X_train = MNIST_train[0:100,1:]/255.0\n",
    "\n",
    "Y_test = MNIST_test[:,0]\n",
    "X_test = MNIST_test[:,1:]/255.0"
   ]
  },
  {
   "cell_type": "code",
   "execution_count": 3,
   "metadata": {
    "collapsed": true
   },
   "outputs": [],
   "source": [
    "M = mdl.Model()\n",
    "M.add(layers.ThetaUnitLayer(784,10))\n",
    "M.add(layers.ThetaUnitLayer(10,1))\n",
    "\n"
   ]
  },
  {
   "cell_type": "code",
   "execution_count": null,
   "metadata": {
    "collapsed": false
   },
   "outputs": [
    {
     "name": "stdout",
     "output_type": "stream",
     "text": [
      "CMA on 16 cpu(s) enabled\n",
      "(15_w,30)-aCMA-ES (mu_w=8.6,w_1=20%) in dimension 7872 (seed=266724, Mon Oct 16 16:52:29 2017)\n",
      "Iterat #Fevals   function value  axis ratio  sigma  min&max std  t[m:s]\n",
      "    1     30 1.379030483804791e+01 1.0e+00 9.99e-01  1e+00  1e+00 0:02.6\n",
      "    2     60 1.228871841881150e+01 1.0e+00 9.97e-01  1e+00  1e+00 0:05.0\n",
      "    3     90 1.367826027754914e+01 1.0e+00 9.96e-01  1e+00  1e+00 0:07.5\n",
      "    5    150 9.551029459186095e+00 1.0e+00 9.94e-01  1e+00  1e+00 0:12.4\n",
      "    7    210 7.538809439544775e+00 1.0e+00 9.92e-01  1e+00  1e+00 0:17.3\n",
      "   10    300 5.474190035568929e+00 1.0e+00 9.88e-01  1e+00  1e+00 0:24.7\n",
      "   13    390 6.865447146524842e+00 1.0e+00 9.85e-01  1e+00  1e+00 0:32.2\n",
      "   16    480 6.119037069966669e+00 1.0e+00 9.82e-01  1e+00  1e+00 0:39.7\n",
      "   20    600 5.221360972225561e+00 1.0e+00 9.78e-01  1e+00  1e+00 0:49.6\n",
      "   24    720 5.432798089907346e+00 1.0e+00 9.74e-01  1e+00  1e+00 0:59.5\n",
      "   29    870 4.497418201755291e+00 1.0e+00 9.69e-01  1e+00  1e+00 1:11.7\n",
      "   34   1020 4.214501416695627e+00 1.0e+00 9.64e-01  1e+00  1e+00 1:24.1\n",
      "   39   1170 3.761549087779779e+00 1.0e+00 9.60e-01  1e+00  1e+00 1:36.3\n",
      "   45   1350 3.465037730521683e+00 1.0e+00 9.55e-01  1e+00  1e+00 1:51.0\n",
      "   51   1530 3.531139076880496e+00 1.0e+00 9.50e-01  9e-01  9e-01 4:42.3\n",
      "   58   1740 3.146236589119509e+00 1.0e+00 9.44e-01  9e-01  9e-01 4:59.5\n",
      "   65   1950 3.108237713531911e+00 1.0e+00 9.39e-01  9e-01  9e-01 5:16.8\n",
      "   72   2160 3.046615263313656e+00 1.0e+00 9.33e-01  9e-01  9e-01 5:33.9\n",
      "   80   2400 2.941265279114254e+00 1.0e+00 9.28e-01  9e-01  9e-01 5:53.4\n",
      "   88   2640 2.810724305617368e+00 1.0e+00 9.22e-01  9e-01  9e-01 6:13.1\n",
      "   97   2910 2.747459637489635e+00 1.0e+00 9.16e-01  9e-01  9e-01 6:35.1\n",
      "  100   3000 2.724656081025643e+00 1.0e+00 9.14e-01  9e-01  9e-01 6:42.3\n",
      "  101   3030 3.218872746962550e+00 1.0e+00 9.14e-01  9e-01  9e-01 9:21.1\n",
      "  111   3330 2.902088923426984e+00 1.0e+00 9.08e-01  9e-01  9e-01 9:45.5\n",
      "  121   3630 2.659920730941610e+00 1.0e+00 9.02e-01  9e-01  9e-01 10:10.1\n",
      "  132   3960 2.654049479389219e+00 1.0e+00 8.96e-01  9e-01  9e-01 10:37.0\n",
      "  143   4290 2.890401894176190e+00 1.0e+00 8.90e-01  9e-01  9e-01 11:03.9\n",
      "  151   4530 2.958572637350166e+00 1.0e+00 8.86e-01  9e-01  9e-01 13:57.3\n",
      "  163   4890 2.746087221010973e+00 1.0e+00 8.80e-01  9e-01  9e-01 14:26.6\n",
      "  175   5250 2.997767948437724e+00 1.0e+00 8.74e-01  9e-01  9e-01 14:56.1\n",
      "  188   5640 2.786048535000278e+00 1.0e+00 8.68e-01  9e-01  9e-01 15:27.9\n",
      "  200   6000 2.619190316400632e+00 1.0e+00 8.63e-01  9e-01  9e-01 15:57.2\n",
      "  201   6030 2.335472883953096e+00 1.0e+00 8.63e-01  9e-01  9e-01 18:34.7\n",
      "  215   6450 2.365490110662305e+00 1.0e+00 8.57e-01  9e-01  9e-01 19:08.8\n",
      "  229   6870 2.532739231514832e+00 1.0e+00 8.52e-01  9e-01  9e-01 19:43.2\n",
      "  244   7320 2.065539484321853e+00 1.0e+00 8.47e-01  8e-01  8e-01 20:20.0\n",
      "  251   7530 2.534018293114531e+00 1.0e+00 8.44e-01  8e-01  8e-01 23:12.2\n",
      "  267   8010 2.452031919816994e+00 1.0e+00 8.39e-01  8e-01  8e-01 23:50.3\n",
      "  283   8490 2.263212949516606e+00 1.0e+00 8.34e-01  8e-01  8e-01 24:29.2\n",
      "  300   9000 2.470105742219989e+00 1.0e+00 8.29e-01  8e-01  8e-01 25:10.6\n",
      "  301   9030 2.683140303851246e+00 1.0e+00 8.29e-01  8e-01  8e-01 27:48.3\n",
      "  319   9570 2.586346023213040e+00 1.0e+00 8.24e-01  8e-01  8e-01 28:29.9\n",
      "  337  10110 2.362379190283776e+00 1.0e+00 8.19e-01  8e-01  8e-01 29:12.0\n",
      "  351  10530 2.015555091342514e+00 1.0e+00 8.15e-01  8e-01  8e-01 32:18.3\n",
      "  370  11100 1.897549057821000e+00 1.0e+00 8.11e-01  8e-01  8e-01 33:02.7\n",
      "  390  11700 2.106109278877290e+00 1.0e+00 8.06e-01  8e-01  8e-01 33:49.6\n",
      "  400  12000 2.108047332517763e+00 1.0e+00 8.04e-01  8e-01  8e-01 34:13.0\n",
      "  401  12030 2.056755076631821e+00 1.0e+00 8.04e-01  8e-01  8e-01 36:49.0\n",
      "  422  12660 2.335644042987248e+00 1.0e+00 8.00e-01  8e-01  8e-01 37:38.1\n",
      "  444  13320 2.183213082826585e+00 1.0e+00 7.96e-01  8e-01  8e-01 38:29.1\n"
     ]
    }
   ],
   "source": [
    "minim = minimizer.CMA(True)\n",
    "\n",
    "minim.train(mse,M, np.transpose(X_train), np.transpose(Y_train),tolfun=1e-1)"
   ]
  },
  {
   "cell_type": "code",
   "execution_count": null,
   "metadata": {
    "collapsed": true
   },
   "outputs": [],
   "source": [
    "P=np.real(M.predict(np.transpose(X_test)))\n",
    "\n",
    "where_are_NaNs = np.isnan(P)\n",
    "P[where_are_NaNs] = 0\n",
    "P = np.abs(np.round(P))\n",
    "P=P.reshape(10000,)\n",
    "\n",
    "print(classification_report(Y_test,P))\n",
    "print(confusion_matrix(Y_test, P))"
   ]
  },
  {
   "cell_type": "code",
   "execution_count": null,
   "metadata": {
    "collapsed": true
   },
   "outputs": [],
   "source": []
  }
 ],
 "metadata": {
  "kernelspec": {
   "display_name": "SageMath 7.5.1",
   "language": "",
   "name": "sagemath"
  },
  "language_info": {
   "codemirror_mode": {
    "name": "ipython",
    "version": 2
   },
   "file_extension": ".py",
   "mimetype": "text/x-python",
   "name": "python",
   "nbconvert_exporter": "python",
   "pygments_lexer": "ipython2",
   "version": "2.7.13"
  }
 },
 "nbformat": 4,
 "nbformat_minor": 2
}
