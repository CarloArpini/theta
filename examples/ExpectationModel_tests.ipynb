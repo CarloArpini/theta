{
 "cells": [
  {
   "cell_type": "code",
   "execution_count": 1,
   "metadata": {},
   "outputs": [],
   "source": [
    "import numpy as np\n",
    "import matplotlib.pyplot as plt\n",
    "import pandas as pd\n",
    "%matplotlib inline\n",
    "\n",
    "import rtbm.layers as layers\n",
    "import rtbm.model as mdl\n",
    "\n",
    "import warnings\n",
    "warnings.filterwarnings('ignore')\n",
    "\n",
    "from rtbm.costfunctions import mse, crossentropy\n",
    "from rtbm import minimizer\n",
    "\n",
    "from sklearn.metrics import confusion_matrix, classification_report\n",
    "from sklearn.preprocessing import LabelBinarizer\n",
    "\n",
    "from scipy import signal\n",
    "\n",
    "RTBM_precision= 1e-5"
   ]
  },
  {
   "cell_type": "markdown",
   "metadata": {},
   "source": [
    "# Example 1: Sine-Mixture with gaussian noise"
   ]
  },
  {
   "cell_type": "code",
   "execution_count": null,
   "metadata": {},
   "outputs": [],
   "source": [
    "def func(x,n):\n",
    "    return 0.5*np.sin(1*x+0.1)+0.75*np.sin(0.25*x-0.3)+n*np.random.normal(0,0.2,x.shape[2])\n",
    "\n",
    "X = np.linspace(0, 100, 500)\n",
    "X = X.reshape((1,X.shape[0]))\n",
    "\n",
    "Y = func(X[:,None],1).reshape((1,X.shape[1]))"
   ]
  },
  {
   "cell_type": "code",
   "execution_count": null,
   "metadata": {},
   "outputs": [],
   "source": [
    "plt.plot(X.flatten(), Y.flatten(),\"ob-\")"
   ]
  },
  {
   "cell_type": "code",
   "execution_count": null,
   "metadata": {},
   "outputs": [],
   "source": [
    "M = mdl.Model()\n",
    "M.add(layers.DiagExpectationUnitLayer(1,3))\n",
    "M.add(layers.DiagExpectationUnitLayer(3,3))\n",
    "M.add(layers.DiagExpectationUnitLayer(3,1))"
   ]
  },
  {
   "cell_type": "code",
   "execution_count": null,
   "metadata": {
    "scrolled": true
   },
   "outputs": [],
   "source": [
    "minim = minimizer.CMA(parallel=True)\n",
    "minim.train(mse(), M, X, Y, tolfun=1e-4)"
   ]
  },
  {
   "cell_type": "code",
   "execution_count": null,
   "metadata": {},
   "outputs": [],
   "source": [
    "npoints = 500\n",
    "test_X = (np.linspace(0, 100, npoints)).reshape((1, npoints))\n",
    "\n",
    "plt.plot(X.flatten(), Y.flatten(),\"og-\", label='target')\n",
    "plt.plot(test_X.flatten(), np.real(M.predict(test_X)).flatten(),\"ob-\", label='fit')\n",
    "plt.legend()"
   ]
  },
  {
   "cell_type": "markdown",
   "metadata": {},
   "source": [
    "# Example 2: Sine-Cosine-Mixture with trend and gaussian noise"
   ]
  },
  {
   "cell_type": "code",
   "execution_count": null,
   "metadata": {},
   "outputs": [],
   "source": [
    "def func(x,n):\n",
    "    return 0.02*x+0.5*np.sin(1*x+0.1)+0.75*np.cos(0.25*x-0.3)+n*np.random.normal(0,0.2,x.shape[2])\n",
    "\n",
    "X = np.linspace(0, 100, 500)\n",
    "X = X.reshape((1,X.shape[0]))\n",
    "\n",
    "Y = func(X[:,None],1).reshape((1,X.shape[1]))"
   ]
  },
  {
   "cell_type": "code",
   "execution_count": null,
   "metadata": {},
   "outputs": [],
   "source": [
    "Y = func(X[:,None],0).reshape((1,X.shape[1]))\n",
    "\n",
    "plt.plot(X.flatten(), Y.flatten(),\"-\")\n",
    "plt.xlabel(\"t\")\n",
    "plt.ylabel(\"y\")\n",
    "plt.savefig(\"sincosmix.eps\", format=\"eps\")\n",
    "plt.show()\n"
   ]
  },
  {
   "cell_type": "code",
   "execution_count": null,
   "metadata": {},
   "outputs": [],
   "source": [
    "Y = func(X[:,None],1).reshape((1,X.shape[1]))\n",
    "\n",
    "plt.plot(X.flatten(), Y.flatten(),\"-\")\n",
    "plt.xlabel(\"t\")\n",
    "plt.ylabel(\"y\")\n",
    "plt.savefig(\"sincosmix_noise.eps\", format=\"eps\")\n",
    "\n",
    "plt.show()\n",
    "\n"
   ]
  },
  {
   "cell_type": "code",
   "execution_count": null,
   "metadata": {},
   "outputs": [],
   "source": [
    "M = mdl.Model()\n",
    "\n",
    "M.add(layers.DiagExpectationUnitLayer(1,3))\n",
    "M.add(layers.DiagExpectationUnitLayer(3,3))\n",
    "M.add(layers.DiagExpectationUnitLayer(3,2))\n",
    "M.add(layers.DiagExpectationUnitLayer(2,1))"
   ]
  },
  {
   "cell_type": "code",
   "execution_count": null,
   "metadata": {},
   "outputs": [],
   "source": [
    "minim = minimizer.CMA(parallel=True)\n",
    "minim.train(mse(), M, X, Y, tolfun=1e-4)"
   ]
  },
  {
   "cell_type": "code",
   "execution_count": null,
   "metadata": {},
   "outputs": [],
   "source": [
    "npoints = 500\n",
    "test_X = (np.linspace(0, 100, npoints)).reshape((1, npoints))\n",
    "\n",
    "plt.plot(X.flatten(), Y.flatten(),\"og\", label='train')\n",
    "plt.plot(test_X.flatten(), np.real(M.predict(test_X)).flatten(),\"b-\", label='fit', linewidth=5)\n",
    "plt.legend()\n",
    "plt.xlabel(\"t\")\n",
    "plt.ylabel(\"y\")\n",
    "plt.savefig(\"sincosmix_10-4.eps\", format=\"eps\")\n",
    "plt.show()"
   ]
  },
  {
   "cell_type": "markdown",
   "metadata": {},
   "source": [
    "# Example: Intrawave modulation"
   ]
  },
  {
   "cell_type": "code",
   "execution_count": 2,
   "metadata": {},
   "outputs": [
    {
     "data": {
      "text/plain": [
       "[<matplotlib.lines.Line2D at 0x7fe6fc017210>]"
      ]
     },
     "execution_count": 2,
     "metadata": {},
     "output_type": "execute_result"
    },
    {
     "data": {
      "image/png": "[encoded data removed]",
      "text/plain": [
       "<matplotlib.figure.Figure at 0x7fe750d71410>"
      ]
     },
     "metadata": {},
     "output_type": "display_data"
    }
   ],
   "source": [
    "def func(x,n):\n",
    "    return np.cos(0.01*x+0.5*np.cos(0.05*x))/(2+np.sin(0.04*x))\n",
    "\n",
    "X = np.linspace(0, 1000, 1000)\n",
    "X = X.reshape((1,X.shape[0]))\n",
    "\n",
    "Y = func(X[:,None],1).reshape((1,X.shape[1]))\n",
    "\n",
    "plt.plot(X.flatten(), Y.flatten(),\"b-\")"
   ]
  },
  {
   "cell_type": "code",
   "execution_count": 3,
   "metadata": {},
   "outputs": [],
   "source": [
    "M = mdl.Model()\n",
    "\n",
    "M.add(layers.DiagExpectationUnitLayer(1,5))\n",
    "M.add(layers.DiagExpectationUnitLayer(5,5))\n",
    "M.add(layers.DiagExpectationUnitLayer(5,3))\n",
    "M.add(layers.DiagExpectationUnitLayer(3,1))"
   ]
  },
  {
   "cell_type": "code",
   "execution_count": null,
   "metadata": {},
   "outputs": [
    {
     "name": "stdout",
     "output_type": "stream",
     "text": [
      "CMA on 16 cpu(s) enabled\n",
      "(8_w,16)-aCMA-ES (mu_w=4.8,w_1=32%) in dimension 76 (seed=494485, Mon Oct 30 16:09:38 2017)\n",
      "Iterat #Fevals   function value  axis ratio  sigma  min&max std  t[m:s]\n",
      "    1     16 2.292623385208407e+00 1.0e+00 9.54e-01  1e+00  1e+00 0:01.3\n",
      "    2     32 2.466817024483731e-01 1.0e+00 9.19e-01  9e-01  9e-01 0:02.6\n",
      "    3     48 7.728568143278564e+00 1.0e+00 8.95e-01  9e-01  9e-01 0:03.9\n",
      "    6     96 9.278872278610700e-01 1.0e+00 8.41e-01  8e-01  8e-01 0:07.8\n",
      "   10    160 1.463247922109253e+00 1.1e+00 8.24e-01  8e-01  8e-01 0:12.9\n",
      "   14    224 1.073375408179782e+00 1.1e+00 8.01e-01  8e-01  8e-01 0:18.1\n",
      "   19    304 5.543537930429302e-01 1.1e+00 7.51e-01  7e-01  8e-01 0:24.6\n",
      "   25    400 8.668674283329691e+00 1.2e+00 7.24e-01  7e-01  7e-01 0:32.3\n",
      "   32    512 9.687095161985010e-02 1.2e+00 7.26e-01  7e-01  7e-01 0:41.4\n",
      "   40    640 1.026254186507572e+01 1.3e+00 7.60e-01  7e-01  8e-01 0:51.6\n",
      "   48    768 9.452487833284408e-02 1.3e+00 7.10e-01  7e-01  7e-01 1:02.0\n",
      "   57    912 9.253937870820775e-02 1.3e+00 6.41e-01  6e-01  7e-01 1:13.5\n",
      "   67   1072 1.078614093322648e-01 1.3e+00 5.97e-01  6e-01  6e-01 1:26.4\n",
      "   78   1248 2.814189253904377e-01 1.3e+00 6.08e-01  6e-01  6e-01 1:40.6\n",
      "   89   1424 9.365607405787676e-02 1.4e+00 5.74e-01  5e-01  6e-01 1:54.9\n",
      "  100   1600 1.050762754374000e-01 1.4e+00 5.93e-01  6e-01  6e-01 2:08.9\n",
      "  113   1808 1.945751027949740e-01 1.4e+00 5.43e-01  5e-01  6e-01 2:25.7\n",
      "  127   2032 2.794510611256341e-01 1.4e+00 4.69e-01  4e-01  5e-01 2:43.7\n",
      "  141   2256 2.617470921564211e-01 1.4e+00 4.39e-01  4e-01  4e-01 3:01.8\n",
      "  156   2496 8.734812229374782e-02 1.4e+00 4.17e-01  4e-01  4e-01 3:21.1\n",
      "  172   2752 9.463101059076634e-02 1.5e+00 3.79e-01  3e-01  4e-01 3:41.8\n",
      "  189   3024 1.524197799364361e-01 1.5e+00 3.83e-01  3e-01  4e-01 4:03.7\n",
      "  200   3200 1.702863696204657e-01 1.6e+00 3.46e-01  3e-01  4e-01 4:17.9\n",
      "  218   3488 9.009949154840366e-02 1.6e+00 2.98e-01  3e-01  3e-01 4:41.1\n",
      "  237   3792 9.732915934102924e-02 1.6e+00 2.74e-01  2e-01  3e-01 5:05.6\n",
      "  257   4112 9.665489145528355e-02 1.7e+00 2.99e-01  2e-01  3e-01 5:31.4\n",
      "  278   4448 9.272563478624742e-02 1.8e+00 2.90e-01  2e-01  3e-01 5:58.4\n",
      "  299   4784 1.081139899946458e-01 1.8e+00 2.55e-01  2e-01  3e-01 6:25.6\n",
      "  300   4800 9.173027013423088e-02 1.8e+00 2.56e-01  2e-01  3e-01 6:26.9\n",
      "  323   5168 8.938550227890303e-02 1.9e+00 2.38e-01  2e-01  2e-01 6:56.5\n",
      "  347   5552 8.909978509272005e-02 1.9e+00 2.20e-01  2e-01  2e-01 7:27.5\n",
      "  372   5952 1.087296504615974e-01 1.9e+00 2.06e-01  2e-01  2e-01 7:59.5\n",
      "  397   6352 9.956138181151265e-02 1.9e+00 1.98e-01  1e-01  2e-01 8:31.7\n",
      "  400   6400 8.941234903201170e-02 1.9e+00 1.98e-01  1e-01  2e-01 8:35.6\n",
      "  427   6832 8.827703227232570e-02 2.0e+00 1.76e-01  1e-01  2e-01 9:10.4\n",
      "  455   7280 8.560591949390967e-02 2.0e+00 1.44e-01  1e-01  2e-01 9:46.5\n",
      "  484   7744 8.878760970504121e-02 2.0e+00 1.65e-01  1e-01  2e-01 10:23.5\n",
      "  500   8000 9.342233717839517e-02 2.1e+00 1.60e-01  1e-01  2e-01 10:44.1\n",
      "  530   8480 8.514755050038329e-02 2.1e+00 1.33e-01  9e-02  1e-01 11:22.6\n",
      "  561   8976 8.582052146858808e-02 2.2e+00 1.29e-01  9e-02  1e-01 12:02.5\n",
      "  593   9488 8.456093485019267e-02 2.2e+00 1.23e-01  8e-02  1e-01 12:43.8\n",
      "  600   9600 8.480442970367415e-02 2.2e+00 1.17e-01  8e-02  1e-01 12:52.9\n",
      "  633  10128 9.467089981001336e-02 2.2e+00 1.23e-01  8e-02  1e-01 13:35.3\n",
      "  667  10672 8.472899231084918e-02 2.3e+00 1.02e-01  7e-02  1e-01 14:19.0\n",
      "  700  11200 8.626912841859857e-02 2.3e+00 8.61e-02  6e-02  9e-02 15:01.5\n",
      "  735  11760 8.485081427087426e-02 2.4e+00 6.64e-02  4e-02  7e-02 15:46.7\n",
      "  771  12336 8.536147397552792e-02 2.5e+00 6.77e-02  4e-02  7e-02 16:33.1\n",
      "  800  12800 8.310655137225668e-02 2.5e+00 6.01e-02  4e-02  6e-02 17:10.5\n",
      "  838  13408 8.264298027374480e-02 2.5e+00 5.53e-02  4e-02  6e-02 17:59.4\n",
      "  876  14016 8.214962708216343e-02 2.6e+00 4.34e-02  3e-02  5e-02 18:48.6\n",
      "  900  14400 8.260599227778573e-02 2.6e+00 4.36e-02  3e-02  5e-02 19:19.4\n",
      "  940  15040 8.209140102240164e-02 2.7e+00 4.53e-02  3e-02  5e-02 20:10.9\n",
      "  981  15696 8.168968423546047e-02 2.7e+00 3.86e-02  2e-02  4e-02 21:03.7\n",
      " 1000  16000 8.189466230881189e-02 2.7e+00 3.31e-02  2e-02  4e-02 21:28.1\n",
      "Iterat #Fevals   function value  axis ratio  sigma  min&max std  t[m:s]\n",
      " 1042  16672 8.123947629522686e-02 2.8e+00 2.80e-02  2e-02  3e-02 22:22.2\n",
      " 1085  17360 8.097399860457648e-02 2.9e+00 3.08e-02  2e-02  3e-02 23:17.7\n",
      " 1100  17600 8.091128677792191e-02 2.9e+00 3.47e-02  2e-02  4e-02 23:37.0\n",
      " 1145  18320 8.118273039668003e-02 3.0e+00 3.66e-02  2e-02  4e-02 24:34.9\n",
      " 1190  19040 8.107889861200521e-02 3.2e+00 3.72e-02  2e-02  4e-02 25:32.9\n",
      " 1200  19200 8.097978304539837e-02 3.3e+00 4.03e-02  2e-02  4e-02 25:45.8\n",
      " 1247  19952 8.120217525538502e-02 3.5e+00 4.03e-02  2e-02  4e-02 26:46.2\n",
      " 1295  20720 8.125025061468182e-02 3.6e+00 4.30e-02  2e-02  5e-02 27:47.9\n",
      " 1300  20800 8.153185789120891e-02 3.6e+00 4.49e-02  3e-02  5e-02 27:54.3\n",
      " 1350  21600 8.107063091535437e-02 3.7e+00 4.23e-02  2e-02  5e-02 28:58.6\n",
      " 1400  22400 8.207950807704083e-02 3.8e+00 4.65e-02  3e-02  5e-02 30:03.1\n",
      " 1451  23216 8.122231987952748e-02 4.0e+00 4.08e-02  2e-02  4e-02 31:08.7\n",
      " 1500  24000 8.097547214586093e-02 4.3e+00 4.46e-02  2e-02  5e-02 32:11.6\n",
      " 1553  24848 8.113084525258658e-02 4.4e+00 4.56e-02  2e-02  5e-02 33:19.8\n",
      " 1600  25600 8.100268806477269e-02 4.6e+00 5.55e-02  3e-02  6e-02 34:20.2\n",
      " 1654  26464 8.461042411187751e-02 4.6e+00 8.00e-02  4e-02  9e-02 35:29.7\n",
      " 1700  27200 8.129976990087624e-02 4.7e+00 9.30e-02  5e-02  1e-01 36:28.9\n",
      " 1756  28096 8.163042418454686e-02 4.8e+00 8.99e-02  5e-02  1e-01 37:41.1\n",
      " 1800  28800 8.127122555446498e-02 4.9e+00 7.65e-02  4e-02  9e-02 38:37.7\n",
      " 1857  29712 8.114528149305725e-02 5.0e+00 8.61e-02  4e-02  1e-01 39:51.2\n",
      " 1900  30400 8.129927573995219e-02 5.1e+00 8.44e-02  4e-02  1e-01 40:46.6\n",
      " 1959  31344 8.110391661352381e-02 5.1e+00 7.98e-02  4e-02  9e-02 42:02.2\n",
      " 2000  32000 8.108922841237202e-02 5.2e+00 6.15e-02  3e-02  7e-02 42:55.2\n",
      "Iterat #Fevals   function value  axis ratio  sigma  min&max std  t[m:s]\n",
      " 2060  32960 8.097619272715796e-02 5.3e+00 5.06e-02  2e-02  6e-02 44:12.4\n",
      " 2100  33600 8.088876425826109e-02 5.3e+00 4.90e-02  2e-02  6e-02 45:04.1\n",
      " 2162  34592 8.113238372625085e-02 5.7e+00 4.78e-02  2e-02  6e-02 46:23.7\n",
      " 2200  35200 8.127091869661361e-02 5.8e+00 3.57e-02  2e-02  4e-02 47:12.6\n",
      " 2263  36208 8.114100233230576e-02 6.1e+00 3.77e-02  2e-02  4e-02 48:33.8\n",
      " 2300  36800 8.161656232253836e-02 6.1e+00 4.40e-02  2e-02  5e-02 49:21.5\n",
      " 2365  37840 8.111288704349988e-02 6.5e+00 5.38e-02  2e-02  6e-02 50:45.2\n",
      " 2400  38400 8.111306961339952e-02 6.4e+00 4.89e-02  2e-02  6e-02 51:30.5\n",
      " 2467  39472 8.096017239725170e-02 6.5e+00 4.80e-02  2e-02  6e-02 52:56.8\n",
      " 2500  40000 8.104120540696044e-02 6.5e+00 4.24e-02  2e-02  5e-02 53:39.5\n",
      " 2568  41088 8.102561886849241e-02 6.8e+00 4.15e-02  2e-02  5e-02 55:07.6\n",
      " 2600  41600 8.109156275477797e-02 6.9e+00 3.81e-02  2e-02  4e-02 55:49.1\n",
      " 2670  42720 8.107679284104048e-02 6.9e+00 4.27e-02  2e-02  5e-02 57:19.5\n",
      " 2700  43200 8.093467478463927e-02 7.0e+00 3.71e-02  1e-02  4e-02 57:58.2\n",
      " 2771  44336 8.102292965223583e-02 7.3e+00 2.90e-02  1e-02  3e-02 59:29.5\n",
      " 2800  44800 8.102914172387117e-02 7.4e+00 2.93e-02  1e-02  3e-02 60:07.0\n",
      " 2873  45968 8.106646328322652e-02 7.6e+00 3.14e-02  1e-02  4e-02 61:41.1\n",
      " 2900  46400 8.106276559966479e-02 7.8e+00 3.65e-02  1e-02  4e-02 62:15.8\n",
      " 2974  47584 8.100415474148458e-02 8.3e+00 3.01e-02  1e-02  4e-02 63:51.5\n",
      " 3000  48000 8.097242894733600e-02 8.5e+00 2.83e-02  1e-02  3e-02 64:25.0\n",
      "Iterat #Fevals   function value  axis ratio  sigma  min&max std  t[m:s]\n",
      " 3076  49216 8.095261797104070e-02 8.6e+00 2.80e-02  1e-02  3e-02 66:03.0\n",
      " 3100  49600 8.093280730677262e-02 8.9e+00 3.11e-02  1e-02  4e-02 66:34.0\n",
      " 3177  50832 8.100035361658482e-02 9.6e+00 3.08e-02  1e-02  4e-02 68:13.8\n",
      " 3200  51200 8.097419042011751e-02 9.7e+00 2.83e-02  1e-02  4e-02 68:43.4\n",
      " 3279  52464 8.111339268548654e-02 1.0e+01 3.37e-02  1e-02  4e-02 70:25.2\n",
      " 3300  52800 8.088406096145066e-02 1.0e+01 3.75e-02  1e-02  5e-02 70:52.2\n",
      " 3380  54080 8.080319530902838e-02 1.0e+01 3.21e-02  1e-02  4e-02 72:35.4\n",
      " 3400  54400 8.073915615249805e-02 1.0e+01 2.83e-02  1e-02  3e-02 73:01.1\n",
      " 3482  55712 8.089845169146394e-02 1.1e+01 2.30e-02  8e-03  3e-02 74:46.8\n"
     ]
    },
    {
     "name": "stdout",
     "output_type": "stream",
     "text": [
      " 3500  56000 8.083028947951562e-02 1.1e+01 2.13e-02  7e-03  3e-02 75:10.0\n",
      " 3584  57344 8.085625194347287e-02 1.1e+01 2.15e-02  7e-03  3e-02 76:57.8\n",
      " 3600  57600 8.101366012461372e-02 1.1e+01 2.04e-02  7e-03  2e-02 77:18.5\n",
      " 3685  58960 8.077801812031084e-02 1.1e+01 1.52e-02  5e-03  2e-02 79:07.9\n",
      " 3700  59200 8.078421287894157e-02 1.2e+01 1.50e-02  5e-03  2e-02 79:27.3\n",
      " 3787  60592 8.081225382921940e-02 1.3e+01 1.60e-02  5e-03  2e-02 81:19.4\n",
      " 3800  60800 8.081158011742624e-02 1.3e+01 1.70e-02  5e-03  2e-02 81:36.2\n",
      " 3888  62208 8.082478764569188e-02 1.3e+01 1.74e-02  5e-03  2e-02 83:29.4\n",
      " 3900  62400 8.081655756052095e-02 1.3e+01 1.70e-02  5e-03  2e-02 83:44.8\n",
      " 3990  63840 8.080608725052686e-02 1.4e+01 1.76e-02  5e-03  2e-02 85:40.6\n",
      " 4000  64000 8.088855889391929e-02 1.4e+01 1.84e-02  5e-03  2e-02 85:53.5\n",
      "Iterat #Fevals   function value  axis ratio  sigma  min&max std  t[m:s]\n",
      " 4091  65456 8.090065772494472e-02 1.5e+01 2.01e-02  6e-03  3e-02 87:50.8\n",
      " 4100  65600 8.084386331699443e-02 1.5e+01 2.03e-02  6e-03  3e-02 88:02.4\n",
      " 4193  67088 8.082441124192528e-02 1.6e+01 1.75e-02  5e-03  2e-02 90:02.1\n",
      " 4200  67200 8.086356373483332e-02 1.6e+01 1.66e-02  5e-03  2e-02 90:11.1\n",
      " 4295  68720 8.084120882282403e-02 1.7e+01 1.54e-02  4e-03  2e-02 92:13.2\n",
      " 4300  68800 8.087950279510674e-02 1.7e+01 1.57e-02  4e-03  2e-02 92:19.6\n",
      " 4396  70336 8.078980240745054e-02 1.8e+01 1.38e-02  4e-03  2e-02 94:23.3\n",
      " 4400  70400 8.079314052074668e-02 1.8e+01 1.38e-02  4e-03  2e-02 94:28.5\n",
      " 4479  71664 8.077874031724532e-02 1.9e+01 1.09e-02  3e-03  1e-02 96:34.2\n",
      " 4500  72000 8.079663006597204e-02 1.9e+01 9.85e-03  3e-03  1e-02 97:01.2\n",
      " 4599  73584 8.072957434285774e-02 2.0e+01 7.67e-03  2e-03  1e-02 99:08.7\n",
      " 4600  73600 8.072190843682930e-02 2.0e+01 7.61e-03  2e-03  1e-02 99:10.0\n",
      " 4700  75200 8.068140098010217e-02 2.0e+01 5.04e-03  1e-03  6e-03 101:18.6\n",
      " 4800  76800 8.066815777006121e-02 2.1e+01 3.56e-03  1e-03  5e-03 103:27.0\n",
      " 4900  78400 8.064931119298681e-02 2.2e+01 2.42e-03  6e-04  3e-03 105:35.4\n",
      " 5000  80000 8.063054893307832e-02 2.3e+01 2.16e-03  6e-04  3e-03 107:44.2\n",
      "Iterat #Fevals   function value  axis ratio  sigma  min&max std  t[m:s]\n",
      " 5100  81600 8.061767781062557e-02 2.3e+01 1.65e-03  4e-04  2e-03 109:53.1\n",
      " 5200  83200 8.060621239068272e-02 2.3e+01 1.45e-03  4e-04  2e-03 112:01.8\n",
      " 5300  84800 8.059462576069329e-02 2.4e+01 1.41e-03  4e-04  2e-03 114:10.6\n",
      " 5400  86400 8.058077322780827e-02 2.5e+01 1.01e-03  3e-04  1e-03 116:19.6\n",
      " 5500  88000 8.056739210821945e-02 2.8e+01 1.01e-03  3e-04  1e-03 118:28.1\n",
      " 5600  89600 8.054561899549866e-02 3.1e+01 1.04e-03  3e-04  1e-03 120:36.4\n",
      " 5700  91200 8.050890017428700e-02 3.8e+01 1.54e-03  4e-04  2e-03 122:44.6\n",
      " 5800  92800 8.039021891205854e-02 6.1e+01 3.05e-03  1e-03  6e-03 124:53.3\n",
      " 5900  94400 7.974733537015348e-02 1.1e+02 8.96e-03  3e-03  3e-02 127:01.9\n",
      " 6000  96000 7.931144329212328e-02 1.3e+02 9.79e-03  4e-03  4e-02 129:10.7\n",
      "Iterat #Fevals   function value  axis ratio  sigma  min&max std  t[m:s]\n",
      " 6100  97600 7.895063112340958e-02 1.3e+02 8.12e-03  3e-03  3e-02 131:19.2\n",
      " 6200  99200 7.856402775243276e-02 1.4e+02 8.06e-03  3e-03  3e-02 133:28.1\n",
      " 6300 100800 7.824334831099942e-02 1.4e+02 7.61e-03  3e-03  3e-02 135:36.8\n",
      " 6400 102400 7.797810526337812e-02 1.4e+02 5.79e-03  2e-03  2e-02 137:45.4\n",
      " 6500 104000 7.759366182633368e-02 1.5e+02 4.05e-03  2e-03  2e-02 139:54.2\n",
      " 6600 105600 7.721268561466474e-02 1.5e+02 4.57e-03  2e-03  2e-02 142:02.8\n",
      " 6700 107200 7.683659720115006e-02 1.8e+02 6.36e-03  2e-03  3e-02 144:11.5\n",
      " 6800 108800 7.645761103347436e-02 2.0e+02 5.30e-03  2e-03  3e-02 146:20.1\n",
      " 6900 110400 7.606175828149697e-02 2.2e+02 5.78e-03  2e-03  3e-02 148:27.8\n",
      " 7000 112000 7.596712966487280e-02 2.4e+02 4.45e-03  2e-03  2e-02 150:36.6\n",
      "Iterat #Fevals   function value  axis ratio  sigma  min&max std  t[m:s]\n"
     ]
    }
   ],
   "source": [
    "minim = minimizer.CMA(parallel=True)\n",
    "minim.train(mse(), M, X, Y, tolfun=1e-5)"
   ]
  },
  {
   "cell_type": "code",
   "execution_count": null,
   "metadata": {},
   "outputs": [],
   "source": [
    "npoints = 1000\n",
    "test_X = (np.linspace(0, 1000, npoints)).reshape((1, npoints))\n",
    "\n",
    "plt.plot(X.flatten(), Y.flatten(),\"og\", label='train')\n",
    "plt.plot(test_X.flatten(), np.real(M.predict(test_X)).flatten(),\"b-\", label='fit', linewidth=5)\n",
    "plt.legend()\n",
    "plt.xlabel(\"t\")\n",
    "plt.ylabel(\"y\")"
   ]
  },
  {
   "cell_type": "markdown",
   "metadata": {},
   "source": [
    "# Example 3: Saw-tooth"
   ]
  },
  {
   "cell_type": "code",
   "execution_count": null,
   "metadata": {},
   "outputs": [],
   "source": [
    "def func(x,n):\n",
    "    return signal.sawtooth(x)\n",
    "\n",
    "X = np.linspace(0, 30, 500)\n",
    "X = X.reshape((1,X.shape[0]))\n",
    "\n",
    "Y = func(X[:,None],1).reshape((1,X.shape[1]))"
   ]
  },
  {
   "cell_type": "code",
   "execution_count": null,
   "metadata": {},
   "outputs": [],
   "source": [
    "plt.plot(X.flatten(), Y.flatten(),\"ob-\")"
   ]
  },
  {
   "cell_type": "code",
   "execution_count": null,
   "metadata": {},
   "outputs": [],
   "source": [
    "M = mdl.Model()\n",
    "\n",
    "M.add(layers.DiagExpectationUnitLayer(1,100))\n",
    "minim = minimizer.CMA(parallel=True)\n",
    "minim.train(mse(), M, X, Y, maxiter=100)"
   ]
  },
  {
   "cell_type": "code",
   "execution_count": null,
   "metadata": {},
   "outputs": [],
   "source": [
    "npoints = 500\n",
    "test_X = (np.linspace(0, 30, npoints)).reshape((1, npoints))\n",
    "\n",
    "plt.plot(X.flatten(), Y.flatten(),\"og-\", label='target')\n",
    "plt.plot(test_X.flatten(), np.real(M.predict(test_X)).flatten(),\"ob-\", label='fit')\n",
    "plt.xaxis(\"t\")\n",
    "plt.yaxis(\"y(t)\")\n",
    "plt.savefig(\"sawtooth_reg.eps\", format=\"eps\")\n",
    "plt.legend()"
   ]
  },
  {
   "cell_type": "markdown",
   "metadata": {
    "collapsed": true
   },
   "source": [
    "# Example 3: MNIST (work in progress...)"
   ]
  },
  {
   "cell_type": "code",
   "execution_count": null,
   "metadata": {},
   "outputs": [],
   "source": [
    "# Load MNIST dataset\n",
    "MNIST_train = pd.read_csv('~/data/mnist_train.csv', delimiter=\",\",header=None).values\n",
    "MNIST_test  = pd.read_csv('~/data/mnist_test.csv', delimiter=\",\",header=None).values\n",
    "\n",
    "# Prepare data (normalized onto [0,1])\n",
    "Y_train = MNIST_train[0:10000,0]\n",
    "X_train = MNIST_train[0:10000,1:]/255.0\n",
    "\n",
    "Y_test = MNIST_test[:,0]\n",
    "X_test = MNIST_test[:,1:]/255.0"
   ]
  },
  {
   "cell_type": "code",
   "execution_count": null,
   "metadata": {},
   "outputs": [],
   "source": [
    "M = mdl.Model()\n",
    "#M.add(layers.Linear(784,1,paramBound=100))\n",
    "M.add(layers.DiagExpectationUnitLayer(784,1,Qmax=5,paramBound=5))\n",
    "#M.add(layers.DiagExpectationUnitLayer(784,10,Qmax=3,paramBound=5))\n",
    "#M.add(layers.DiagExpectationUnitLayer(25,10,Qmax=3,paramBound=5))\n",
    "#M.add(layers.DiagExpectationUnitLayer(10,1))\n",
    "#M.add(layers.SoftMaxLayer(10))\n",
    "#M.add(layers.MaxPosLayer(10,1))\n",
    "\n",
    "#enc = LabelBinarizer()\n",
    "#enc.fit(np.diag([1,1,1,1,1,1,1,1,1,1]))\n",
    "#enc.classes_ = [0, 1, 2, 3, 4, 5, 6, 7, 8, 9]\n",
    "#T=enc.transform(Y_train)\n"
   ]
  },
  {
   "cell_type": "code",
   "execution_count": null,
   "metadata": {
    "scrolled": true
   },
   "outputs": [],
   "source": [
    "minim = minimizer.CMA(True)\n",
    "\n",
    "sol=minim.train(mse(), M, np.transpose(X_train), np.transpose(Y_train), maxiter=1000)"
   ]
  },
  {
   "cell_type": "code",
   "execution_count": null,
   "metadata": {},
   "outputs": [],
   "source": [
    "#P=np.argmax(np.real(M.predict(np.transpose(X_train))),axis=0)\n",
    "P=np.abs(np.round(np.real(M.predict(np.transpose(X_train)))))\n",
    "\n",
    "\n",
    "print(classification_report(Y_train,P.T))\n",
    "print(confusion_matrix(Y_train, P.T))"
   ]
  },
  {
   "cell_type": "code",
   "execution_count": null,
   "metadata": {},
   "outputs": [],
   "source": [
    "#P=np.argmax(np.real(M.predict(np.transpose(X_test))),axis=0)\n",
    "P=np.abs(np.round(np.real(M.predict(np.transpose(X_test)))))\n",
    "\n",
    "\n",
    "print(classification_report(Y_test,P.T))\n",
    "print(confusion_matrix(Y_test, P.T))"
   ]
  },
  {
   "cell_type": "code",
   "execution_count": null,
   "metadata": {},
   "outputs": [],
   "source": []
  }
 ],
 "metadata": {
  "kernelspec": {
   "display_name": "Python 2",
   "language": "python",
   "name": "python2"
  },
  "language_info": {
   "codemirror_mode": {
    "name": "ipython",
    "version": 2
   },
   "file_extension": ".py",
   "mimetype": "text/x-python",
   "name": "python",
   "nbconvert_exporter": "python",
   "pygments_lexer": "ipython2",
   "version": "2.7.12"
  }
 },
 "nbformat": 4,
 "nbformat_minor": 2
}
