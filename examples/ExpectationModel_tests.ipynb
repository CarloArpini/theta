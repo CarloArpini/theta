{
 "cells": [
  {
   "cell_type": "code",
   "execution_count": 1,
   "metadata": {
    "collapsed": false,
    "deletable": true,
    "editable": true
   },
   "outputs": [
    {
     "name": "stderr",
     "output_type": "stream",
     "text": [
      "/usr/lib/sagemath/local/lib/python2.7/site-packages/traitlets/traitlets.py:770: DeprecationWarning: A parent of InlineBackend._config_changed has adopted the new @observe(change) API\n",
      "  clsname, change_or_name), DeprecationWarning)\n"
     ]
    }
   ],
   "source": [
    "import sys\n",
    "sys.path.append('../')\n",
    "\n",
    "import numpy as np\n",
    "import matplotlib.pyplot as plt\n",
    "import pandas as pd\n",
    "%matplotlib inline\n",
    "\n",
    "from abelfunctions import RiemannTheta\n",
    "\n",
    "import layers as layers\n",
    "import model as mdl\n",
    "\n",
    "import warnings\n",
    "warnings.filterwarnings('ignore')\n",
    "\n",
    "from costfunctions import mse, crossentropy\n",
    "import minimizer\n",
    "\n",
    "from sklearn.metrics import confusion_matrix, classification_report\n",
    "from sklearn.preprocessing import LabelBinarizer\n",
    "\n",
    "from scipy import signal"
   ]
  },
  {
   "cell_type": "markdown",
   "metadata": {},
   "source": [
    "# Example 1: Sine-Mixture with gaussian noise"
   ]
  },
  {
   "cell_type": "code",
   "execution_count": 2,
   "metadata": {
    "collapsed": false,
    "deletable": true,
    "editable": true
   },
   "outputs": [],
   "source": [
    "def func(x,n):\n",
    "    return 0.5*np.sin(1*x+0.1)+0.75*np.sin(0.25*x-0.3)+n*np.random.normal(0,0.2,x.shape[2])\n",
    "\n",
    "X = np.linspace(0, 100, 500)\n",
    "X = X.reshape((1,X.shape[0]))\n",
    "\n",
    "Y = func(X[:,None],1).reshape((1,X.shape[1]))"
   ]
  },
  {
   "cell_type": "code",
   "execution_count": 3,
   "metadata": {
    "collapsed": false,
    "deletable": true,
    "editable": true
   },
   "outputs": [
    {
     "data": {
      "text/plain": [
       "[<matplotlib.lines.Line2D object at 0x7f6221a0a110>]"
      ]
     },
     "execution_count": 3,
     "metadata": {},
     "output_type": "execute_result"
    },
    {
     "data": {
      "image/png": "[encoded data removed]",
      "text/plain": [
       "<matplotlib.figure.Figure object at 0x7f6261ffcc10>"
      ]
     },
     "metadata": {},
     "output_type": "display_data"
    }
   ],
   "source": [
    "plt.plot(X.flatten(), Y.flatten(),\"ob-\")"
   ]
  },
  {
   "cell_type": "code",
   "execution_count": 4,
   "metadata": {
    "collapsed": false
   },
   "outputs": [],
   "source": [
    "M = mdl.Model()\n",
    "M.add(layers.ThetaUnitLayer(1,3))\n",
    "M.add(layers.ThetaUnitLayer(3,3))\n",
    "M.add(layers.ThetaUnitLayer(3,1))"
   ]
  },
  {
   "cell_type": "code",
   "execution_count": 5,
   "metadata": {
    "collapsed": false,
    "deletable": true,
    "editable": true,
    "scrolled": true
   },
   "outputs": [
    {
     "name": "stdout",
     "output_type": "stream",
     "text": [
      "CMA on 16 cpu(s) enabled\n",
      "(7_w,14)-aCMA-ES (mu_w=4.3,w_1=36%) in dimension 29 (seed=802727, Sun Oct 22 22:05:23 2017)\n",
      "Iterat #Fevals   function value  axis ratio  sigma  min&max std  t[m:s]\n",
      "    1     14 1.205252360713227e+00 1.0e+00 9.19e-01  9e-01  9e-01 0:00.6\n",
      "    2     28 5.792448671495414e-01 1.1e+00 8.76e-01  9e-01  9e-01 0:01.0\n",
      "    3     42 4.957966039470896e-01 1.1e+00 8.38e-01  8e-01  8e-01 0:01.5\n",
      "   10    140 4.381507072821800e-01 1.2e+00 6.95e-01  7e-01  7e-01 0:04.5\n",
      "   20    280 4.374523373127130e-01 1.4e+00 6.98e-01  7e-01  7e-01 0:08.7\n",
      "   32    448 4.300450849800693e-01 1.5e+00 6.59e-01  6e-01  7e-01 0:13.7\n",
      "   47    658 4.338044049312197e-01 1.7e+00 6.41e-01  6e-01  7e-01 0:20.0\n",
      "   64    896 4.369410189281716e-01 1.8e+00 5.72e-01  5e-01  6e-01 0:27.1\n",
      "   84   1176 4.350241112306309e-01 1.9e+00 4.44e-01  4e-01  5e-01 0:35.5\n",
      "  100   1400 4.306198827550057e-01 1.9e+00 3.95e-01  3e-01  4e-01 0:42.1\n",
      "  125   1750 4.321737041758505e-01 1.9e+00 2.70e-01  2e-01  3e-01 0:52.5\n",
      "  152   2128 4.297406348473078e-01 2.2e+00 3.04e-01  2e-01  3e-01 1:03.6\n",
      "  181   2534 4.303996526847942e-01 2.7e+00 2.57e-01  2e-01  3e-01 1:15.7\n",
      "  200   2800 4.272174691873575e-01 2.9e+00 2.38e-01  2e-01  3e-01 1:23.6\n",
      "  234   3276 4.296947610776317e-01 3.0e+00 2.33e-01  2e-01  3e-01 1:37.7\n",
      "  271   3794 4.271873057108765e-01 3.3e+00 2.04e-01  1e-01  3e-01 1:53.0\n",
      "  300   4200 4.287696506835907e-01 3.3e+00 1.68e-01  1e-01  2e-01 2:05.1\n",
      "  341   4774 4.256428942969754e-01 3.6e+00 1.67e-01  1e-01  2e-01 2:22.1\n",
      "  385   5390 4.215817517852292e-01 4.3e+00 1.18e-01  7e-02  2e-01 2:40.4\n",
      "  400   5600 4.229647959136836e-01 4.6e+00 1.01e-01  5e-02  1e-01 2:46.6\n",
      "  448   6272 4.180174264956673e-01 5.7e+00 8.29e-02  3e-02  1e-01 3:06.6\n",
      "  499   6986 4.136904960212422e-01 7.8e+00 6.32e-02  2e-02  8e-02 3:27.7\n",
      "  500   7000 4.126965460157820e-01 7.9e+00 6.45e-02  2e-02  8e-02 3:28.1\n",
      "  556   7784 4.070544626803008e-01 1.1e+01 4.06e-02  7e-03  5e-02 3:51.3\n",
      "  600   8400 3.871367649016081e-01 1.9e+01 8.80e-02  1e-02  2e-01 4:09.7\n",
      "  661   9254 3.070706674680019e-01 2.6e+01 1.04e-01  1e-02  2e-01 4:34.8\n",
      "  700   9800 2.474438792219547e-01 2.8e+01 5.64e-02  6e-03  1e-01 4:51.2\n",
      "  765  10710 1.919212016697606e-01 2.8e+01 2.12e-02  2e-03  3e-02 5:18.6\n",
      "  800  11200 1.852754215920068e-01 2.7e+01 1.12e-02  1e-03  2e-02 5:33.1\n",
      "  870  12180 1.750538139124725e-01 4.6e+01 1.55e-02  1e-03  3e-02 6:02.5\n",
      "  900  12600 1.715770365008053e-01 6.0e+01 1.27e-02  1e-03  2e-02 6:15.1\n",
      "  975  13650 1.652675820796949e-01 9.0e+01 1.19e-02  9e-04  2e-02 6:46.4\n",
      " 1000  14000 1.641683005951135e-01 9.9e+01 1.12e-02  8e-04  2e-02 6:56.9\n",
      "Iterat #Fevals   function value  axis ratio  sigma  min&max std  t[m:s]\n",
      " 1079  15106 1.608575345629580e-01 1.2e+02 1.01e-02  7e-04  2e-02 7:30.1\n",
      " 1100  15400 1.603303267338399e-01 1.2e+02 1.21e-02  8e-04  2e-02 7:38.9\n",
      " 1183  16562 1.549227208452933e-01 1.5e+02 1.09e-02  8e-04  2e-02 8:13.9\n",
      " 1200  16800 1.548690184391012e-01 1.9e+02 1.41e-02  1e-03  4e-02 8:21.1\n",
      " 1289  18046 1.482748097770068e-01 2.2e+02 9.55e-03  6e-04  2e-02 8:58.5\n",
      " 1300  18200 1.477919039365524e-01 2.2e+02 1.03e-02  7e-04  3e-02 9:03.1\n",
      " 1394  19516 1.452210480878662e-01 2.2e+02 7.04e-03  4e-04  1e-02 9:42.5\n",
      " 1400  19600 1.448118957417778e-01 2.2e+02 7.09e-03  4e-04  1e-02 9:45.0\n",
      " 1498  20972 1.411441784155123e-01 3.0e+02 1.36e-02  1e-03  3e-02 10:26.4\n",
      " 1500  21000 1.410122477434405e-01 3.0e+02 1.33e-02  1e-03  3e-02 10:27.2\n",
      " 1600  22400 1.341844518690320e-01 4.2e+02 1.43e-02  2e-03  4e-02 11:09.5\n",
      " 1700  23800 1.262725924764110e-01 5.1e+02 8.28e-03  1e-03  3e-02 11:51.9\n",
      " 1800  25200 1.240780537199092e-01 5.0e+02 3.62e-03  4e-04  1e-02 12:34.5\n",
      " 1900  26600 1.234694281956422e-01 5.8e+02 2.61e-03  2e-04  8e-03 13:16.9\n",
      " 2000  28000 1.227198618384809e-01 8.0e+02 5.90e-03  5e-04  2e-02 13:59.5\n",
      "Iterat #Fevals   function value  axis ratio  sigma  min&max std  t[m:s]\n",
      " 2100  29400 1.206579181608228e-01 9.4e+02 5.81e-03  6e-04  2e-02 14:42.3\n",
      " 2200  30800 1.187955840069785e-01 1.5e+03 9.07e-03  9e-04  4e-02 15:24.9\n",
      " 2300  32200 1.166937935058307e-01 2.0e+03 6.42e-03  6e-04  3e-02 16:07.6\n",
      " 2400  33600 1.155075163615060e-01 1.8e+03 8.13e-03  7e-04  3e-02 16:50.4\n",
      " 2500  35000 1.137990559632847e-01 1.9e+03 8.24e-03  7e-04  3e-02 17:33.4\n",
      " 2600  36400 1.098611764830659e-01 2.0e+03 1.10e-02  9e-04  4e-02 18:16.5\n",
      " 2700  37800 1.063619958029362e-01 2.7e+03 9.86e-03  6e-04  4e-02 19:01.0\n",
      " 2800  39200 1.017632962149334e-01 3.4e+03 6.80e-03  5e-04  3e-02 19:45.7\n",
      " 2900  40600 9.760074063433941e-02 3.8e+03 7.54e-03  5e-04  4e-02 20:30.8\n",
      " 3000  42000 9.405568814243563e-02 4.7e+03 4.24e-03  2e-04  2e-02 21:16.5\n",
      "Iterat #Fevals   function value  axis ratio  sigma  min&max std  t[m:s]\n",
      " 3100  43400 9.138984152123297e-02 5.0e+03 4.37e-03  3e-04  2e-02 22:02.9\n",
      " 3200  44800 8.880627042047606e-02 5.9e+03 3.47e-03  2e-04  1e-02 22:50.0\n",
      " 3300  46200 8.756445288137141e-02 6.5e+03 2.13e-03  1e-04  8e-03 23:37.8\n",
      " 3400  47600 8.655585052038334e-02 6.9e+03 1.71e-03  1e-04  5e-03 24:26.7\n",
      " 3500  49000 8.453755218805434e-02 8.2e+03 1.63e-03  9e-05  4e-03 25:16.1\n",
      " 3600  50400 8.268737303602854e-02 8.2e+03 1.43e-03  7e-05  3e-03 26:06.7\n",
      " 3700  51800 8.121330838241315e-02 1.0e+04 1.87e-03  8e-05  4e-03 26:58.1\n",
      " 3800  53200 7.975862647092347e-02 1.7e+04 1.54e-03  6e-05  4e-03 27:50.1\n",
      " 3900  54600 7.829177571634144e-02 2.3e+04 2.18e-03  7e-05  7e-03 28:43.4\n",
      " 4000  56000 7.660537388867954e-02 3.2e+04 2.36e-03  7e-05  9e-03 29:38.2\n",
      "Iterat #Fevals   function value  axis ratio  sigma  min&max std  t[m:s]\n",
      " 4100  57400 7.494042598213978e-02 3.6e+04 2.94e-03  8e-05  1e-02 30:34.5\n",
      " 4200  58800 7.176297930296281e-02 3.7e+04 1.50e-03  3e-05  5e-03 31:32.2\n",
      " 4300  60200 6.971251455735339e-02 4.7e+04 1.13e-03  2e-05  4e-03 32:31.4\n",
      " 4400  61600 6.779017308798421e-02 7.1e+04 1.22e-03  2e-05  7e-03 33:32.7\n",
      " 4500  63000 6.563553307878167e-02 9.1e+04 8.37e-04  1e-05  6e-03 34:35.6\n",
      " 4600  64400 6.392391660549383e-02 1.2e+05 6.29e-04  8e-06  5e-03 35:40.5\n",
      " 4700  65800 6.209924851555563e-02 1.3e+05 9.16e-04  1e-05  7e-03 36:47.0\n",
      " 4800  67200 6.049196250005639e-02 1.1e+05 5.60e-04  6e-06  4e-03 37:55.4\n",
      " 4900  68600 5.927540948109045e-02 1.2e+05 6.62e-04  6e-06  4e-03 39:05.2\n",
      " 5000  70000 5.852447399898583e-02 1.4e+05 5.12e-04  4e-06  3e-03 40:16.8\n",
      "Iterat #Fevals   function value  axis ratio  sigma  min&max std  t[m:s]\n",
      " 5100  71400 5.774275312229931e-02 1.5e+05 1.12e-03  8e-06  6e-03 41:29.3\n",
      " 5200  72800 5.594957017335781e-02 1.9e+05 1.30e-03  8e-06  7e-03 42:44.3\n",
      " 5300  74200 5.390275848172013e-02 2.3e+05 1.33e-03  7e-06  7e-03 44:02.1\n",
      " 5400  75600 5.317052008365483e-02 1.6e+05 4.81e-04  2e-06  2e-03 45:20.8\n",
      " 5500  77000 5.232164107558184e-02 1.3e+05 7.83e-04  3e-06  2e-03 46:39.1\n",
      " 5600  78400 5.201018810981428e-02 9.9e+04 1.20e-03  4e-06  2e-03 47:56.9\n",
      " 5700  79800 5.153900190805839e-02 8.0e+04 8.76e-04  3e-06  1e-03 49:14.8\n",
      " 5800  81200 5.130195046470645e-02 8.4e+04 4.47e-04  1e-06  8e-04 50:32.8\n",
      " 5900  82600 5.053376543130520e-02 1.6e+05 1.11e-03  3e-06  3e-03 51:51.1\n",
      " 6000  84000 4.919638573131285e-02 1.9e+05 1.92e-03  4e-06  6e-03 53:10.3\n",
      "Iterat #Fevals   function value  axis ratio  sigma  min&max std  t[m:s]\n",
      " 6100  85400 4.761403241858324e-02 2.8e+05 9.03e-04  2e-06  4e-03 54:30.4\n",
      " 6200  86800 4.488234056541884e-02 4.2e+05 1.50e-03  3e-06  9e-03 55:52.9\n",
      " 6300  88200 4.244486136416839e-02 6.1e+05 1.43e-03  3e-06  1e-02 57:21.6\n",
      " 6397  89558 4.142812137567328e-02 6.2e+05 1.34e-03  3e-06  1e-02 58:53.0\n",
      " 6400  89600 4.111724779428225e-02 6.2e+05 1.33e-03  3e-06  1e-02 58:55.8\n",
      " 6497  90958 4.074980482203472e-02 4.8e+05 2.80e-04  6e-07  2e-03 60:29.0\n",
      " 6500  91000 4.074639892137901e-02 4.7e+05 2.69e-04  6e-07  1e-03 60:31.9\n",
      " 6542  91588 4.070816238843206e-02 3.6e+05 1.50e-04  3e-07  6e-04 61:12.8\n",
      "CMAEvolutionStrategyResult(xbest=array([  9.01545893e-01,   3.23924052e-01,   9.99120764e-01,\n",
      "        -2.48563843e-02,  -2.31950931e-01,  -3.67586647e-01,\n",
      "         3.76226134e-01,   5.83614160e+00,   2.32221915e+00,\n",
      "        -2.14805009e-01,   6.64060411e-01,  -9.86101309e-01,\n",
      "         7.53244342e-02,   7.54222742e-01,  -9.60873971e-01,\n",
      "         1.76707177e-01,  -8.52910785e-01,  -6.18418342e-01,\n",
      "        -1.93305533e-01,   9.11276975e-02,   9.63501093e-01,\n",
      "         5.40936156e-01,   7.29381172e+00,   1.56562470e+00,\n",
      "        -1.12734287e-02,   1.17716599e-01,   5.09683080e-05,\n",
      "         9.83147295e-02,   3.90066569e-05]), fbest=(0.040705674942476705+0j), evals_best=91572, evaluations=91588, iterations=6542, xfavorite=array([ -7.89857335e+00,   1.87607767e+00,   5.51885075e+00,\n",
      "         2.22485438e+00,  -2.31953892e-01,  -3.67615310e-01,\n",
      "         2.07238011e+01,   5.83621631e+00,   2.32242062e+00,\n",
      "        -2.14764282e-01,  -2.86400697e+00,   7.62541389e+00,\n",
      "         2.12466640e+00,  -3.64547359e+00,   3.42507293e+00,\n",
      "         4.57669877e+00,   7.45306190e+00,  -1.58155014e+00,\n",
      "         6.79330095e+00,   2.10876442e+00,   1.22080549e+00,\n",
      "         5.40930586e-01,   7.29417619e+00,  -1.66568442e+00,\n",
      "        -2.18872369e+00,   2.08227942e+00,   5.06895251e-05,\n",
      "         4.49831912e+00,  -4.75786502e-02]), stds=array([  2.45044950e-04,   9.21689658e-05,   9.94709125e-05,\n",
      "         7.36145535e-06,   5.00269347e-06,   4.38311576e-05,\n",
      "         1.31531659e-04,   1.10159519e-04,   2.90277983e-04,\n",
      "         6.89251587e-05,   1.13091010e-04,   8.04858473e-05,\n",
      "         4.48650589e-05,   4.67110287e-04,   4.41603495e-05,\n",
      "         1.58607334e-05,   2.12737690e-04,   4.08282147e-05,\n",
      "         1.03994102e-05,   1.72659960e-04,   2.73122232e-05,\n",
      "         5.28438249e-05,   5.71839591e-04,   1.37957294e-04,\n",
      "         9.42845910e-06,   1.15540391e-05,   3.18413248e-07,\n",
      "         1.05990013e-05,   2.00843518e-06]))\n"
     ]
    },
    {
     "data": {
      "text/plain": [
       "array([  9.01545893e-01,   3.23924052e-01,   9.99120764e-01,\n",
       "        -2.48563843e-02,  -2.31950931e-01,  -3.67586647e-01,\n",
       "         3.76226134e-01,   5.83614160e+00,   2.32221915e+00,\n",
       "        -2.14805009e-01,   6.64060411e-01,  -9.86101309e-01,\n",
       "         7.53244342e-02,   7.54222742e-01,  -9.60873971e-01,\n",
       "         1.76707177e-01,  -8.52910785e-01,  -6.18418342e-01,\n",
       "        -1.93305533e-01,   9.11276975e-02,   9.63501093e-01,\n",
       "         5.40936156e-01,   7.29381172e+00,   1.56562470e+00,\n",
       "        -1.12734287e-02,   1.17716599e-01,   5.09683080e-05,\n",
       "         9.83147295e-02,   3.90066569e-05])"
      ]
     },
     "execution_count": 5,
     "metadata": {},
     "output_type": "execute_result"
    }
   ],
   "source": [
    "minim = minimizer.CMA(parallel=True)\n",
    "minim.train(mse, M, X, Y, tolfun=1e-4)"
   ]
  },
  {
   "cell_type": "code",
   "execution_count": 6,
   "metadata": {
    "collapsed": false,
    "deletable": true,
    "editable": true
   },
   "outputs": [
    {
     "data": {
      "text/plain": [
       "<matplotlib.legend.Legend object at 0x7f6221648310>"
      ]
     },
     "execution_count": 6,
     "metadata": {},
     "output_type": "execute_result"
    },
    {
     "data": {
      "image/png": "[encoded data removed]",
      "text/plain": [
       "<matplotlib.figure.Figure object at 0x7f62219519d0>"
      ]
     },
     "metadata": {},
     "output_type": "display_data"
    }
   ],
   "source": [
    "npoints = 500\n",
    "test_X = (np.linspace(0, 100, npoints)).reshape((1, npoints))\n",
    "\n",
    "plt.plot(X.flatten(), Y.flatten(),\"og-\", label='target')\n",
    "plt.plot(test_X.flatten(), np.real(M.predict(test_X)).flatten(),\"ob-\", label='fit')\n",
    "plt.legend()"
   ]
  },
  {
   "cell_type": "markdown",
   "metadata": {},
   "source": [
    "# Example 2: Sine-Cosine-Mixture with trend and gaussian noise"
   ]
  },
  {
   "cell_type": "code",
   "execution_count": null,
   "metadata": {
    "collapsed": false
   },
   "outputs": [],
   "source": [
    "def func(x,n):\n",
    "    return 0.02*x+0.5*np.sin(1*x+0.1)+0.75*np.cos(0.25*x-0.3)+n*np.random.normal(0,0.2,x.shape[2])\n",
    "\n",
    "X = np.linspace(0, 100, 500)\n",
    "X = X.reshape((1,X.shape[0]))\n",
    "\n",
    "Y = func(X[:,None],1).reshape((1,X.shape[1]))"
   ]
  },
  {
   "cell_type": "code",
   "execution_count": null,
   "metadata": {
    "collapsed": false
   },
   "outputs": [],
   "source": [
    "Y = func(X[:,None],0).reshape((1,X.shape[1]))\n",
    "\n",
    "plt.plot(X.flatten(), Y.flatten(),\"-\")\n",
    "plt.xlabel(\"t\")\n",
    "plt.ylabel(\"y\")\n",
    "plt.savefig(\"sincosmix.eps\", format=\"eps\")\n",
    "plt.show()\n"
   ]
  },
  {
   "cell_type": "code",
   "execution_count": null,
   "metadata": {
    "collapsed": false
   },
   "outputs": [],
   "source": [
    "Y = func(X[:,None],1).reshape((1,X.shape[1]))\n",
    "\n",
    "plt.plot(X.flatten(), Y.flatten(),\"-\")\n",
    "plt.xlabel(\"t\")\n",
    "plt.ylabel(\"y\")\n",
    "plt.savefig(\"sincosmix_noise.eps\", format=\"eps\")\n",
    "\n",
    "plt.show()\n",
    "\n"
   ]
  },
  {
   "cell_type": "code",
   "execution_count": null,
   "metadata": {
    "collapsed": true
   },
   "outputs": [],
   "source": [
    "M = mdl.Model()\n",
    "\n",
    "M.add(layers.ThetaUnitLayer(1,3))\n",
    "M.add(layers.ThetaUnitLayer(3,3))\n",
    "M.add(layers.ThetaUnitLayer(3,2))\n",
    "M.add(layers.ThetaUnitLayer(2,1))"
   ]
  },
  {
   "cell_type": "code",
   "execution_count": null,
   "metadata": {
    "collapsed": false
   },
   "outputs": [],
   "source": [
    "minim = minimizer.CMA(parallel=True)\n",
    "minim.train(mse, M, X, Y, tolfun=1e-4)"
   ]
  },
  {
   "cell_type": "code",
   "execution_count": null,
   "metadata": {
    "collapsed": false
   },
   "outputs": [],
   "source": [
    "npoints = 500\n",
    "test_X = (np.linspace(0, 100, npoints)).reshape((1, npoints))\n",
    "\n",
    "plt.plot(X.flatten(), Y.flatten(),\"og\", label='train')\n",
    "plt.plot(test_X.flatten(), np.real(M.predict(test_X)).flatten(),\"b-\", label='fit', linewidth=5)\n",
    "plt.legend()\n",
    "plt.xlabel(\"t\")\n",
    "plt.ylabel(\"y\")\n",
    "plt.savefig(\"sincosmix_10-4.eps\", format=\"eps\")\n",
    "plt.show()"
   ]
  },
  {
   "cell_type": "markdown",
   "metadata": {},
   "source": [
    "# Example 3: Saw-tooth"
   ]
  },
  {
   "cell_type": "code",
   "execution_count": null,
   "metadata": {
    "collapsed": true
   },
   "outputs": [],
   "source": [
    "def func(x,n):\n",
    "    return signal.sawtooth(x)\n",
    "\n",
    "X = np.linspace(0, 30, 500)\n",
    "X = X.reshape((1,X.shape[0]))\n",
    "\n",
    "Y = func(X[:,None],1).reshape((1,X.shape[1]))"
   ]
  },
  {
   "cell_type": "code",
   "execution_count": null,
   "metadata": {
    "collapsed": false
   },
   "outputs": [],
   "source": [
    "plt.plot(X.flatten(), Y.flatten(),\"ob-\")"
   ]
  },
  {
   "cell_type": "code",
   "execution_count": null,
   "metadata": {
    "collapsed": false
   },
   "outputs": [],
   "source": [
    "M = mdl.Model()\n",
    "\n",
    "M.add(layers.ThetaUnitLayer(1,100))\n",
    "#M.add(layers.ThetaUnitLayer(3,3))\n",
    "#M.add(layers.ThetaUnitLayer(3,2))\n",
    "#M.add(layers.ThetaUnitLayer(2,1))\n",
    "\n",
    "minim = minimizer.CMA(parallel=True)\n",
    "minim.train(mse, M, X, Y, maxiter=100)"
   ]
  },
  {
   "cell_type": "code",
   "execution_count": null,
   "metadata": {
    "collapsed": false
   },
   "outputs": [],
   "source": [
    "npoints = 500\n",
    "test_X = (np.linspace(0, 30, npoints)).reshape((1, npoints))\n",
    "\n",
    "plt.plot(X.flatten(), Y.flatten(),\"og-\", label='target')\n",
    "plt.plot(test_X.flatten(), np.real(M.predict(test_X)).flatten(),\"ob-\", label='fit')\n",
    "plt.xaxis(\"t\")\n",
    "plt.yaxis(\"y(t)\")\n",
    "plt.savefig(\"sawtooth_reg.eps\", format=\"eps\")\n",
    "plt.legend()"
   ]
  },
  {
   "cell_type": "markdown",
   "metadata": {
    "collapsed": true
   },
   "source": [
    "# Example 3: MNIST (work in progress...)"
   ]
  },
  {
   "cell_type": "code",
   "execution_count": 24,
   "metadata": {
    "collapsed": false
   },
   "outputs": [],
   "source": [
    "# Load MNIST dataset\n",
    "MNIST_train = pd.read_csv('~/data/mnist_train.csv', delimiter=\",\",header=None).values\n",
    "MNIST_test  = pd.read_csv('~/data/mnist_test.csv', delimiter=\",\",header=None).values\n",
    "\n",
    "# Prepare data (normalized onto [0,1])\n",
    "Y_train = MNIST_train[0:1000,0]\n",
    "X_train = MNIST_train[0:1000,1:]/255.0\n",
    "\n",
    "Y_test = MNIST_test[:,0]\n",
    "X_test = MNIST_test[:,1:]/255.0"
   ]
  },
  {
   "cell_type": "code",
   "execution_count": 44,
   "metadata": {
    "collapsed": false
   },
   "outputs": [],
   "source": [
    "M = mdl.Model()\n",
    "M.add(layers.ThetaUnitLayer(784,10))\n",
    "M.add(layers.ThetaUnitLayer(10,1))\n",
    "\n",
    "\n",
    "#M.add(layers.SoftMaxLayer(10))\n",
    "#M.add(layers.MaxPosLayer(10,1))\n",
    "\n",
    "#enc = LabelBinarizer()\n",
    "#enc.fit(np.diag([1,1,1,1,1,1,1,1,1,1]))\n",
    "#enc.classes_ = [1, 2, 3, 4, 5, 6, 7, 8, 9, 10]\n",
    "#T=enc.transform(Y_train)\n",
    "\n",
    "# ToDo: Use cross-entropy"
   ]
  },
  {
   "cell_type": "code",
   "execution_count": null,
   "metadata": {
    "collapsed": false
   },
   "outputs": [
    {
     "name": "stdout",
     "output_type": "stream",
     "text": [
      "CMA on 16 cpu(s) enabled\n",
      "(15_w,30)-aCMA-ES (mu_w=8.6,w_1=20%) in dimension 7872 (seed=798359, Sun Oct 22 23:36:36 2017)\n",
      "Iterat #Fevals   function value  axis ratio  sigma  min&max std  t[m:s]\n",
      "    1     30 1.456299343796274e+01 1.0e+00 9.99e-01  1e+00  1e+00 0:05.5\n",
      "    2     60 1.842609353320590e+01 1.0e+00 9.97e-01  1e+00  1e+00 0:11.0\n",
      "    3     90 1.165484415550777e+01 1.0e+00 9.96e-01  1e+00  1e+00 0:16.3\n",
      "    4    120 1.102737817262295e+01 1.0e+00 9.95e-01  1e+00  1e+00 0:21.6\n",
      "    5    150 1.038251601500165e+01 1.0e+00 9.94e-01  1e+00  1e+00 0:27.1\n",
      "    6    180 1.027421310044553e+01 1.0e+00 9.93e-01  1e+00  1e+00 0:32.7\n"
     ]
    }
   ],
   "source": [
    "minim = minimizer.CMA(True)\n",
    "\n",
    "minim.train(mse,M, np.transpose(X_train), np.transpose(Y_train), maxiter=100)"
   ]
  },
  {
   "cell_type": "code",
   "execution_count": null,
   "metadata": {
    "collapsed": false
   },
   "outputs": [],
   "source": [
    "P=np.real(M.predict(np.transpose(X_test)))\n",
    "\n",
    "#where_are_NaNs = np.isnan(P)\n",
    "#P[where_are_NaNs] = 0\n",
    "P = np.abs(np.round(P))\n",
    "#P=P.reshape(P.shape[0],)\n",
    "\n",
    "print(classification_report(Y_test,P.T))\n",
    "print(confusion_matrix(Y_test, P.T))"
   ]
  },
  {
   "cell_type": "code",
   "execution_count": null,
   "metadata": {
    "collapsed": false
   },
   "outputs": [],
   "source": []
  },
  {
   "cell_type": "code",
   "execution_count": null,
   "metadata": {
    "collapsed": false
   },
   "outputs": [],
   "source": []
  },
  {
   "cell_type": "code",
   "execution_count": null,
   "metadata": {
    "collapsed": true
   },
   "outputs": [],
   "source": []
  }
 ],
 "metadata": {
  "kernelspec": {
   "display_name": "SageMath 7.5.1",
   "language": "",
   "name": "sagemath"
  },
  "language_info": {
   "codemirror_mode": {
    "name": "ipython",
    "version": 2
   },
   "file_extension": ".py",
   "mimetype": "text/x-python",
   "name": "python",
   "nbconvert_exporter": "python",
   "pygments_lexer": "ipython2",
   "version": "2.7.13"
  }
 },
 "nbformat": 4,
 "nbformat_minor": 2
}
