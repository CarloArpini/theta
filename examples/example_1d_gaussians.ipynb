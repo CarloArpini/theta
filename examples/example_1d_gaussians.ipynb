{
 "cells": [
  {
   "cell_type": "code",
   "execution_count": 1,
   "metadata": {},
   "outputs": [],
   "source": [
    "import numpy as np\n",
    "import matplotlib.pyplot as plt\n",
    "%matplotlib inline\n",
    "\n",
    "from rtbm import RTBM, minimizer\n",
    "from rtbm.costfunctions import logarithmic\n",
    "\n",
    "import warnings\n",
    "warnings.filterwarnings('ignore')"
   ]
  },
  {
   "cell_type": "markdown",
   "metadata": {},
   "source": [
    "# Example 1"
   ]
  },
  {
   "cell_type": "markdown",
   "metadata": {},
   "source": [
    "## Generate data"
   ]
  },
  {
   "cell_type": "code",
   "execution_count": 2,
   "metadata": {},
   "outputs": [
    {
     "data": {
      "image/png": "[encoded data removed]",
      "text/plain": [
       "<matplotlib.figure.Figure at 0x7fa188bc3450>"
      ]
     },
     "metadata": {},
     "output_type": "display_data"
    }
   ],
   "source": [
    "# simple gaussian\n",
    "n = 1000\n",
    "data = (np.random.normal(5,10,n)).reshape(1,n)\n",
    "plt.hist(data.T, bins=50, normed=True);"
   ]
  },
  {
   "cell_type": "markdown",
   "metadata": {},
   "source": [
    "## Training"
   ]
  },
  {
   "cell_type": "code",
   "execution_count": 3,
   "metadata": {},
   "outputs": [],
   "source": [
    "a = RTBM(1,1)"
   ]
  },
  {
   "cell_type": "code",
   "execution_count": 4,
   "metadata": {},
   "outputs": [
    {
     "name": "stdout",
     "output_type": "stream",
     "text": [
      "CMA on 1 cpu(s) enabled\n"
     ]
    }
   ],
   "source": [
    "minim = minimizer.CMA(False)"
   ]
  },
  {
   "cell_type": "code",
   "execution_count": 5,
   "metadata": {
    "scrolled": true
   },
   "outputs": [
    {
     "name": "stdout",
     "output_type": "stream",
     "text": [
      "(4_w,8)-aCMA-ES (mu_w=2.6,w_1=52%) in dimension 5 (seed=403062, Fri Nov 10 13:52:22 2017)\n",
      "Iterat #Fevals   function value  axis ratio  sigma  min&max std  t[m:s]\n",
      "    1      8 2.606177919566536e+04 1.0e+00 2.29e-01  2e-01  2e-01 0:00.0\n",
      "    2     16 1.372745645523456e+04 1.2e+00 2.49e-01  2e-01  3e-01 0:00.1\n",
      "    3     24 8.210786373559955e+03 1.3e+00 2.55e-01  2e-01  3e-01 0:00.1\n",
      "   64    512 3.727249654370466e+03 4.2e+01 2.97e-02  6e-03  3e-02 0:03.1\n",
      "  100    800 3.723870273659668e+03 1.8e+02 1.76e-03  2e-04  1e-03 0:05.2\n",
      "  130   1040 3.723870142016443e+03 7.9e+02 2.02e-04  5e-06  1e-04 0:07.5\n",
      "CMAEvolutionStrategyResult(xbest=array([-1.29396194e-06,  2.12913293e-01,  2.82281661e-01,  8.13522601e-02,\n",
      "        1.11602064e+00]), fbest=3723.870141969667, evals_best=1008, evaluations=1040, iterations=130, xfavorite=array([3.14331857e-08, 2.12999181e-01, 2.82125144e-01, 8.12856960e-02,\n",
      "       1.11582548e+00]), stds=array([5.19239681e-06, 6.75479359e-05, 9.83085582e-05, 4.83356498e-05,\n",
      "       8.80497021e-05]))\n"
     ]
    }
   ],
   "source": [
    "solution = minim.train(logarithmic, a, data, tolfun=1e-4)"
   ]
  },
  {
   "cell_type": "markdown",
   "metadata": {},
   "source": [
    "## Testing output"
   ]
  },
  {
   "cell_type": "code",
   "execution_count": 6,
   "metadata": {},
   "outputs": [
    {
     "data": {
      "text/plain": [
       "[<matplotlib.lines.Line2D at 0x7fa188bc30d0>]"
      ]
     },
     "execution_count": 6,
     "metadata": {},
     "output_type": "execute_result"
    },
    {
     "data": {
      "image/png": "[encoded data removed]",
      "text/plain": [
       "<matplotlib.figure.Figure at 0x7fa188bc3090>"
      ]
     },
     "metadata": {},
     "output_type": "display_data"
    }
   ],
   "source": [
    "test_data = (np.linspace(-40,40, 100)).reshape(1, 100)\n",
    "plt.hist(data.T, bins=50, normed=True)\n",
    "plt.plot(test_data.flatten(), a(test_data).flatten(), 'o-')"
   ]
  },
  {
   "cell_type": "markdown",
   "metadata": {},
   "source": [
    "# Example 2"
   ]
  },
  {
   "cell_type": "markdown",
   "metadata": {},
   "source": [
    "## Generate data"
   ]
  },
  {
   "cell_type": "code",
   "execution_count": 11,
   "metadata": {},
   "outputs": [
    {
     "data": {
      "image/png": "[encoded data removed]",
      "text/plain": [
       "<matplotlib.figure.Figure at 0x7fa181309bd0>"
      ]
     },
     "metadata": {},
     "output_type": "display_data"
    }
   ],
   "source": [
    "def gaussian_mixture(n):\n",
    "    v = np.zeros(n)\n",
    "    u = np.random.random_sample(n)\n",
    "    for i in range(n):\n",
    "        if u[i] < 0.6:\n",
    "            v[i] = np.random.normal(-5, 3)\n",
    "        elif u[i] < 0.7:\n",
    "            v[i] = np.random.normal(2, 1)\n",
    "        else:\n",
    "            v[i] = np.random.normal(5, 5)\n",
    "    return v\n",
    "\n",
    "n = 1000\n",
    "data = (gaussian_mixture(n)).reshape(1,n)\n",
    "plt.hist(data.T, normed=True, bins=50);"
   ]
  },
  {
   "cell_type": "markdown",
   "metadata": {},
   "source": [
    "## Training"
   ]
  },
  {
   "cell_type": "code",
   "execution_count": 12,
   "metadata": {},
   "outputs": [],
   "source": [
    "a = RTBM(1,2)"
   ]
  },
  {
   "cell_type": "code",
   "execution_count": 13,
   "metadata": {},
   "outputs": [
    {
     "name": "stdout",
     "output_type": "stream",
     "text": [
      "CMA on 1 cpu(s) enabled\n"
     ]
    }
   ],
   "source": [
    "minim = minimizer.CMA(False)"
   ]
  },
  {
   "cell_type": "code",
   "execution_count": 14,
   "metadata": {},
   "outputs": [
    {
     "name": "stdout",
     "output_type": "stream",
     "text": [
      "(5_w,10)-aCMA-ES (mu_w=3.2,w_1=45%) in dimension 9 (seed=449959, Fri Nov 10 13:52:54 2017)\n",
      "Iterat #Fevals   function value  axis ratio  sigma  min&max std  t[m:s]\n",
      "    1     10 6.961298669996663e+03 1.0e+00 1.95e-01  2e-01  2e-01 0:00.0\n",
      "    2     20 6.321729327172820e+03 1.2e+00 1.91e-01  2e-01  2e-01 0:00.2\n",
      "    3     30 4.329727658149191e+03 1.2e+00 1.87e-01  2e-01  2e-01 0:00.3\n",
      "   27    270 3.306007346363269e+03 3.9e+00 1.17e-01  9e-02  1e-01 0:03.4\n",
      "   57    570 3.206440737563642e+03 1.6e+01 4.26e-02  2e-02  7e-02 0:07.4\n",
      "   96    960 3.194785437593045e+03 4.4e+01 1.21e-02  3e-03  2e-02 0:12.5\n",
      "  100   1000 3.194822691500997e+03 5.3e+01 9.79e-03  2e-03  1e-02 0:13.0\n",
      "  154   1540 3.194758207910975e+03 3.2e+02 2.75e-03  2e-04  5e-03 0:20.2\n",
      "  200   2000 3.194758171744606e+03 1.5e+03 6.43e-04  1e-05  1e-03 0:26.4\n",
      "  220   2200 3.194758167393544e+03 2.4e+03 1.04e-03  2e-05  3e-03 0:29.5\n",
      "CMAEvolutionStrategyResult(xbest=array([-4.42231235e-06,  2.70050836e-01,  2.19648265e-01, -3.17380517e-01,\n",
      "        3.34577004e-01,  1.20626048e-01,  1.18433048e+00, -8.98896954e-01,\n",
      "        1.95527431e+00]), fbest=3194.75816571858, evals_best=2172, evaluations=2200, iterations=220, xfavorite=array([ 1.16398775e-05,  2.68876381e-01,  2.17029696e-01, -3.17796287e-01,\n",
      "        3.35212649e-01,  1.20931454e-01,  1.18367602e+00, -8.98754657e-01,\n",
      "        1.98540308e+00]), stds=array([1.50578938e-05, 1.77197374e-03, 2.31736312e-03, 1.15124518e-03,\n",
      "       7.06591170e-04, 4.06829725e-04, 2.89606378e-03, 2.30181084e-03,\n",
      "       7.51694112e-04]))\n"
     ]
    }
   ],
   "source": [
    "solution = minim.train(logarithmic, a, data, tolfun=1e-5)"
   ]
  },
  {
   "cell_type": "markdown",
   "metadata": {},
   "source": [
    "## Testing output"
   ]
  },
  {
   "cell_type": "code",
   "execution_count": 15,
   "metadata": {},
   "outputs": [
    {
     "data": {
      "text/plain": [
       "[<matplotlib.lines.Line2D at 0x7fa18135ebd0>]"
      ]
     },
     "execution_count": 15,
     "metadata": {},
     "output_type": "execute_result"
    },
    {
     "data": {
      "image/png": "[encoded data removed]",
      "text/plain": [
       "<matplotlib.figure.Figure at 0x7fa18135ea10>"
      ]
     },
     "metadata": {},
     "output_type": "display_data"
    }
   ],
   "source": [
    "test_data = (np.linspace(-50,50, 100)).reshape(1, 100)\n",
    "plt.hist(data.T, bins=50, normed=True);\n",
    "plt.plot(test_data.flatten(), a(test_data).flatten(), 'o-')"
   ]
  },
  {
   "cell_type": "code",
   "execution_count": null,
   "metadata": {},
   "outputs": [],
   "source": []
  }
 ],
 "metadata": {
  "kernelspec": {
   "display_name": "Python 2",
   "language": "python",
   "name": "python2"
  },
  "language_info": {
   "codemirror_mode": {
    "name": "ipython",
    "version": 2
   },
   "file_extension": ".py",
   "mimetype": "text/x-python",
   "name": "python",
   "nbconvert_exporter": "python",
   "pygments_lexer": "ipython2",
   "version": "2.7.6"
  }
 },
 "nbformat": 4,
 "nbformat_minor": 1
}
