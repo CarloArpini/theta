{
 "cells": [
  {
   "cell_type": "code",
   "execution_count": 1,
   "metadata": {},
   "outputs": [],
   "source": [
    "import numpy as np\n",
    "import matplotlib.pyplot as plt\n",
    "%matplotlib inline\n",
    "\n",
    "from rtbm import RTBM, minimizer\n",
    "from rtbm.costfunctions import logarithmic\n",
    "\n",
    "import warnings\n",
    "warnings.filterwarnings('ignore')"
   ]
  },
  {
   "cell_type": "markdown",
   "metadata": {},
   "source": [
    "# Example 1"
   ]
  },
  {
   "cell_type": "markdown",
   "metadata": {},
   "source": [
    "## Generate data"
   ]
  },
  {
   "cell_type": "code",
   "execution_count": 2,
   "metadata": {},
   "outputs": [
    {
     "data": {
      "image/png": "[encoded data removed]",
      "text/plain": [
       "<matplotlib.figure.Figure at 0x7f04e99d6cd0>"
      ]
     },
     "metadata": {},
     "output_type": "display_data"
    }
   ],
   "source": [
    "# simple gaussian\n",
    "n = 1000\n",
    "data = (np.random.normal(5,10,n)).reshape(1,n)\n",
    "plt.hist(data.T, bins=50, normed=True);"
   ]
  },
  {
   "cell_type": "markdown",
   "metadata": {},
   "source": [
    "## Training"
   ]
  },
  {
   "cell_type": "code",
   "execution_count": 3,
   "metadata": {},
   "outputs": [],
   "source": [
    "a = RTBM(1,1)"
   ]
  },
  {
   "cell_type": "code",
   "execution_count": 4,
   "metadata": {},
   "outputs": [
    {
     "name": "stdout",
     "output_type": "stream",
     "text": [
      "CMA on 16 cpu(s) enabled\n"
     ]
    }
   ],
   "source": [
    "minim = minimizer.CMA(True)"
   ]
  },
  {
   "cell_type": "code",
   "execution_count": 5,
   "metadata": {
    "scrolled": true
   },
   "outputs": [
    {
     "name": "stdout",
     "output_type": "stream",
     "text": [
      "(4_w,9)-aCMA-ES (mu_w=2.8,w_1=49%) in dimension 6 (seed=502216, Mon Oct 30 17:44:35 2017)\n",
      "Iterat #Fevals   function value  axis ratio  sigma  min&max std  t[m:s]\n",
      "    1      9 4.505490715258866e+03 1.0e+00 9.56e-02  8e-02  1e-01 0:00.4\n",
      "    2     18 6.343105972005156e+03 1.3e+00 1.01e-01  9e-02  1e-01 0:01.0\n",
      "    3     27 4.685533296863540e+03 1.5e+00 1.03e-01  9e-02  1e-01 0:01.8\n",
      "   10     90 4.085994450782456e+03 2.9e+00 1.27e-01  9e-02  2e-01 0:05.2\n",
      "   19    171 3.842233745091477e+03 3.8e+00 1.14e-01  8e-02  1e-01 0:09.2\n",
      "   30    270 3.734321610878264e+03 5.1e+00 6.19e-02  4e-02  6e-02 0:14.3\n",
      "   44    396 3.725688240857466e+03 7.5e+00 4.21e-02  2e-02  4e-02 0:20.4\n",
      "   61    549 3.724972386604427e+03 1.2e+01 2.61e-02  7e-03  2e-02 0:27.6\n",
      "   81    729 3.722807346371771e+03 3.3e+01 8.65e-03  1e-03  1e-02 0:35.8\n",
      "  100    900 3.722783266120781e+03 8.2e+01 4.65e-03  3e-04  7e-03 0:44.0\n",
      "  123   1107 3.722783243883657e+03 3.4e+02 1.10e-03  3e-05  2e-03 0:54.2\n",
      "  144   1296 3.722783229117794e+03 9.3e+02 2.22e-04  2e-06  5e-04 1:03.3\n",
      "CMAEvolutionStrategyResult(xbest=array([ -5.38333495e-01,  -4.20662974e-02,  -5.00792273e-01,\n",
      "        -1.75540375e-01,  -9.09948983e-07,   2.54582613e-01]), fbest=(3722.7832291177938-0j), evals_best=1289, evaluations=1296, iterations=144, xfavorite=array([ -5.38396509e-01,  -4.21011173e-02,  -5.00717136e-01,\n",
      "        -1.75545348e-01,  -1.59254981e-07,   2.54560917e-01]), stds=array([  2.97913863e-04,   1.12748886e-04,   5.20097310e-04,\n",
      "         1.58657052e-04,   2.42621115e-06,   2.02111221e-04]))\n"
     ]
    }
   ],
   "source": [
    "solution = minim.train(logarithmic(), a, data, tolfun=1e-4)"
   ]
  },
  {
   "cell_type": "markdown",
   "metadata": {},
   "source": [
    "## Testing output"
   ]
  },
  {
   "cell_type": "code",
   "execution_count": 6,
   "metadata": {},
   "outputs": [
    {
     "data": {
      "text/plain": [
       "[<matplotlib.lines.Line2D at 0x7fb0d80ab990>]"
      ]
     },
     "execution_count": 6,
     "metadata": {},
     "output_type": "execute_result"
    },
    {
     "data": {
      "image/png": "[encoded data removed]",
      "text/plain": [
       "<matplotlib.figure.Figure at 0x7fb0d803ecd0>"
      ]
     },
     "metadata": {},
     "output_type": "display_data"
    }
   ],
   "source": [
    "test_data = (np.linspace(-40,40, 100)).reshape(1, 100)\n",
    "plt.hist(data.T, bins=50, normed=True)\n",
    "plt.plot(test_data.flatten(), a(test_data).flatten(), 'o-')"
   ]
  },
  {
   "cell_type": "markdown",
   "metadata": {},
   "source": [
    "# Example 2"
   ]
  },
  {
   "cell_type": "markdown",
   "metadata": {},
   "source": [
    "## Generate data"
   ]
  },
  {
   "cell_type": "code",
   "execution_count": null,
   "metadata": {},
   "outputs": [],
   "source": [
    "def gaussian_mixture(n):\n",
    "    v = np.zeros(n)\n",
    "    u = np.random.random_sample(n)\n",
    "    for i in range(n):\n",
    "        if u[i] < 0.6:\n",
    "            v[i] = np.random.normal(-5, 3)\n",
    "        elif u[i] < 0.7:\n",
    "            v[i] = np.random.normal(2, 1)\n",
    "        else:\n",
    "            v[i] = np.random.normal(5, 5)\n",
    "    return v\n",
    "\n",
    "n = 1000\n",
    "data = (gaussian_mixture(n)).reshape(1,n)\n",
    "plt.hist(data.T, normed=True, bins=50);"
   ]
  },
  {
   "cell_type": "markdown",
   "metadata": {},
   "source": [
    "## Training"
   ]
  },
  {
   "cell_type": "code",
   "execution_count": null,
   "metadata": {},
   "outputs": [],
   "source": [
    "a = RTBM(1,2)"
   ]
  },
  {
   "cell_type": "code",
   "execution_count": null,
   "metadata": {},
   "outputs": [],
   "source": [
    "minim = minimizer.CMA(True)"
   ]
  },
  {
   "cell_type": "code",
   "execution_count": null,
   "metadata": {},
   "outputs": [],
   "source": [
    "solution = minim.train(logarithmic(), a, data, tolfun=1e-5)"
   ]
  },
  {
   "cell_type": "markdown",
   "metadata": {},
   "source": [
    "## Testing output"
   ]
  },
  {
   "cell_type": "code",
   "execution_count": null,
   "metadata": {},
   "outputs": [],
   "source": [
    "test_data = (np.linspace(-50,50, 100)).reshape(1, 100)\n",
    "plt.hist(data.T, bins=50, normed=True);\n",
    "plt.plot(test_data.flatten(), a(test_data).flatten(), 'o-')"
   ]
  },
  {
   "cell_type": "code",
   "execution_count": null,
   "metadata": {},
   "outputs": [],
   "source": []
  }
 ],
 "metadata": {
  "kernelspec": {
   "display_name": "Python 2",
   "language": "python",
   "name": "python2"
  },
  "language_info": {
   "codemirror_mode": {
    "name": "ipython",
    "version": 2
   },
   "file_extension": ".py",
   "mimetype": "text/x-python",
   "name": "python",
   "nbconvert_exporter": "python",
   "pygments_lexer": "ipython2",
   "version": "2.7.12"
  }
 },
 "nbformat": 4,
 "nbformat_minor": 1
}
