{
 "cells": [
  {
   "cell_type": "code",
   "execution_count": 1,
   "metadata": {
    "collapsed": false
   },
   "outputs": [],
   "source": [
    "import sys\n",
    "sys.path.append('../')\n",
    "\n",
    "import numpy as np\n",
    "import matplotlib.pyplot as plt\n",
    "%matplotlib inline\n",
    "\n",
    "from rtbm import RTBM\n",
    "import minimizer\n",
    "%load_ext autoreload"
   ]
  },
  {
   "cell_type": "code",
   "execution_count": 2,
   "metadata": {
    "collapsed": false
   },
   "outputs": [],
   "source": [
    "%autoreload"
   ]
  },
  {
   "cell_type": "markdown",
   "metadata": {},
   "source": [
    "# Example 1"
   ]
  },
  {
   "cell_type": "markdown",
   "metadata": {},
   "source": [
    "## Generate data"
   ]
  },
  {
   "cell_type": "code",
   "execution_count": 2,
   "metadata": {
    "collapsed": false
   },
   "outputs": [
    {
     "data": {
      "image/png": "[encoded data removed]",
      "text/plain": [
       "<matplotlib.figure.Figure at 0x7f3109733150>"
      ]
     },
     "metadata": {},
     "output_type": "display_data"
    }
   ],
   "source": [
    "# simple gaussian\n",
    "n = 1000\n",
    "data = (np.random.normal(5,10,n)).reshape(1,n)\n",
    "plt.hist(data.T, bins=50, normed=True);"
   ]
  },
  {
   "cell_type": "markdown",
   "metadata": {},
   "source": [
    "## Training"
   ]
  },
  {
   "cell_type": "code",
   "execution_count": 3,
   "metadata": {
    "collapsed": false
   },
   "outputs": [],
   "source": [
    "a = RTBM(1,1)\n",
    "#a.random_init()"
   ]
  },
  {
   "cell_type": "code",
   "execution_count": 4,
   "metadata": {
    "collapsed": false
   },
   "outputs": [
    {
     "name": "stdout",
     "output_type": "stream",
     "text": [
      "CMA on 1 cpu(s) enabled\n"
     ]
    }
   ],
   "source": [
    "minim = minimizer.CMA(multi_thread=False)"
   ]
  },
  {
   "cell_type": "code",
   "execution_count": 5,
   "metadata": {
    "collapsed": false,
    "scrolled": true
   },
   "outputs": [
    {
     "name": "stderr",
     "output_type": "stream",
     "text": [
      "../rtbm.py:173: RuntimeWarning: overflow encountered in exp\n",
      "  R1 = RiemannTheta((vT.dot(w) + BhT) / (2.0j * np.pi), -q / (2.0j * np.pi), prec=RTBM_precision)\n",
      "../rtbm.py:173: RuntimeWarning: invalid value encountered in multiply\n",
      "  R1 = RiemannTheta((vT.dot(w) + BhT) / (2.0j * np.pi), -q / (2.0j * np.pi), prec=RTBM_precision)\n",
      "../minimizer.py:27: RuntimeWarning: divide by zero encountered in log\n",
      "  res = -np.sum(np.log(func(self._data)))\n",
      "../rtbm.py:176: RuntimeWarning: invalid value encountered in multiply\n",
      "  return np.sqrt(detT / (2.0 * np.pi) ** (v.shape[0])) * ExpF * R1/R2\n"
     ]
    },
    {
     "name": "stdout",
     "output_type": "stream",
     "text": [
      "(4_w,8)-aCMA-ES (mu_w=2.6,w_1=52%) in dimension 5 (seed=780797, Wed Oct 11 19:13:55 2017)\n",
      "Iterat #Fevals   function value  axis ratio  sigma  min&max std  t[m:s]\n",
      "WARNING (module=cma.utilities.utils, iteration=1):  flat fitness (sigma=9.09e-01).\n",
      "                    For small sigma, this could indicate numerical convergence.\n",
      "                    Otherwise, please (re)consider how to compute the fitness more elaborately.\n",
      "    1      8 inf 1.0e+00 9.09e-01  9e-01  1e+00 0:00.2\n"
     ]
    },
    {
     "name": "stderr",
     "output_type": "stream",
     "text": [
      "/usr/lib/sagemath/local/lib/python2.7/site-packages/cma/evolution_strategy.py:1628: ComplexWarning: Casting complex values to real discards the imaginary part\n",
      "  self.x0 = array(x0, dtype=float, copy=True)  # should not have column or row, is just 1-D\n",
      "/usr/lib/sagemath/local/lib/python2.7/site-packages/cma/evolution_strategy.py:4336: ComplexWarning: Casting complex values to real discards the imaginary part\n",
      "  + '\\n')\n",
      "/usr/lib/sagemath/local/lib/python2.7/site-packages/cma/evolution_strategy.py:3195: RuntimeWarning: invalid value encountered in cdouble_scalars\n",
      "  es.fit.fit[-1] - es.fit.fit[0] < opts['tolfun'] and\n",
      "/usr/lib/sagemath/local/lib/python2.7/site-packages/cma/evolution_strategy.py:3049: ComplexWarning: Casting complex values to real discards the imaginary part\n",
      "  '%.15e' % (min(self.fit.fit)),\n"
     ]
    },
    {
     "name": "stdout",
     "output_type": "stream",
     "text": [
      "WARNING (module=cma.utilities.utils, iteration=1):  flat fitness (sigma=9.09e-01).\n",
      "                    For small sigma, this could indicate numerical convergence.\n",
      "                    Otherwise, please (re)consider how to compute the fitness more elaborately.\n"
     ]
    },
    {
     "name": "stderr",
     "output_type": "stream",
     "text": [
      "../rtbm.py:173: RuntimeWarning: overflow encountered in multiply\n",
      "  R1 = RiemannTheta((vT.dot(w) + BhT) / (2.0j * np.pi), -q / (2.0j * np.pi), prec=RTBM_precision)\n"
     ]
    },
    {
     "name": "stdout",
     "output_type": "stream",
     "text": [
      "    2     16 1.996703563326818e+04 1.4e+00 1.07e+00  9e-01  1e+00 0:00.3\n",
      "    3     24 1.716918046826185e+04 1.8e+00 9.99e-01  8e-01  1e+00 0:00.5\n"
     ]
    },
    {
     "name": "stderr",
     "output_type": "stream",
     "text": [
      "/usr/lib/sagemath/local/lib/python2.7/site-packages/numpy/core/_methods.py:70: RuntimeWarning: invalid value encountered in cdouble_scalars\n",
      "  ret = ret.dtype.type(ret / rcount)\n"
     ]
    },
    {
     "name": "stdout",
     "output_type": "stream",
     "text": [
      "   25    200 4.324003367146327e+03 3.6e+00 3.58e-01  2e-01  4e-01 0:03.6\n",
      "   54    432 4.949545797258683e+03 7.4e+00 1.60e-01  5e-02  1e-01 0:07.6\n",
      "   91    728 3.732783766926687e+03 1.9e+01 6.71e-02  5e-03  5e-02 0:12.6\n",
      "  100    800 3.726342024287925e+03 3.2e+01 2.31e-02  1e-03  2e-02 0:13.9\n",
      "  149   1192 3.726288021306099e+03 5.2e+02 3.38e-03  1e-05  4e-03 0:20.9\n",
      "  200   1600 3.726259848555937e+03 1.8e+03 3.93e-02  7e-05  6e-02 0:28.2\n",
      "  268   2144 3.726244972174929e+03 3.8e+04 1.10e-01  6e-05  4e-01 0:37.2\n",
      "  300   2400 3.726241092225443e+03 2.7e+04 1.93e-01  3e-05  2e-01 0:41.2\n",
      "  390   3120 3.726240483328276e+03 1.8e+04 1.34e-01  3e-06  3e-02 0:52.3\n",
      "  400   3200 3.726240475043117e+03 1.3e+04 9.32e-02  2e-06  1e-02 0:53.6\n",
      "  496   3968 3.726240417825243e+03 2.5e+04 2.70e-01  1e-06  1e-02 1:06.8\n",
      "  500   4000 3.726240417543258e+03 2.2e+04 4.25e-01  2e-06  1e-02 1:07.3\n",
      "  600   4800 3.726240408172649e+03 6.8e+04 1.32e-01  5e-08  1e-03 1:20.0\n",
      "  649   5192 3.726240408170808e+03 7.6e+04 3.02e-03  3e-10  1e-05 1:26.0\n",
      "CMAEvolutionStrategyResult(xbest=array([  1.18692435e-05,   1.01495930e-02,   1.00000000e+01,\n",
      "         3.96185509e-02,   7.77087309e+00]), fbest=(3726.2404081708073-0j), evals_best=5041, evaluations=5192, iterations=649, xfavorite=array([  1.18702972e-05,  -4.95785598e-03,   1.05500424e+01,\n",
      "         3.96185092e-02,   7.77086697e+00]), stds=array([  6.85757139e-10,   3.34307324e-10,   1.36428939e-05,\n",
      "         5.83499693e-09,   8.34068214e-07]))\n"
     ]
    }
   ],
   "source": [
    "solution = minim.train(a, data, initial_solution=a.get_params())"
   ]
  },
  {
   "cell_type": "markdown",
   "metadata": {},
   "source": [
    "## Testing output"
   ]
  },
  {
   "cell_type": "code",
   "execution_count": 6,
   "metadata": {
    "collapsed": false
   },
   "outputs": [
    {
     "name": "stderr",
     "output_type": "stream",
     "text": [
      "/usr/lib/sagemath/local/lib/python2.7/site-packages/numpy/core/numeric.py:482: ComplexWarning: Casting complex values to real discards the imaginary part\n",
      "  return array(a, dtype, copy=False, order=order)\n"
     ]
    },
    {
     "data": {
      "text/plain": [
       "[<matplotlib.lines.Line2D at 0x7f3105b836d0>]"
      ]
     },
     "execution_count": 6,
     "metadata": {},
     "output_type": "execute_result"
    },
    {
     "data": {
      "image/png": "[encoded data removed]",
      "text/plain": [
       "<matplotlib.figure.Figure at 0x7f310745c890>"
      ]
     },
     "metadata": {},
     "output_type": "display_data"
    }
   ],
   "source": [
    "test_data = (np.linspace(-40,40, 100)).reshape(1, 100)\n",
    "plt.hist(data.T, bins=50, normed=True);\n",
    "plt.plot(test_data.flatten(), a(test_data).flatten(), 'o-')"
   ]
  },
  {
   "cell_type": "markdown",
   "metadata": {},
   "source": [
    "# Example 2"
   ]
  },
  {
   "cell_type": "markdown",
   "metadata": {},
   "source": [
    "## Generate data"
   ]
  },
  {
   "cell_type": "code",
   "execution_count": 11,
   "metadata": {
    "collapsed": false
   },
   "outputs": [
    {
     "data": {
      "image/png": "[encoded data removed]",
      "text/plain": [
       "<matplotlib.figure.Figure at 0x7f21648dd910>"
      ]
     },
     "metadata": {},
     "output_type": "display_data"
    }
   ],
   "source": [
    "def gaussian_mixture(n):\n",
    "    v = np.zeros(n)\n",
    "    u = np.random.random_sample(n)\n",
    "    for i in range(n):\n",
    "        if u[i] < 0.6:\n",
    "            v[i] = np.random.normal(-5, 3)\n",
    "        elif u[i] < 0.7:\n",
    "            v[i] = np.random.normal(2, 1)\n",
    "        else:\n",
    "            v[i] = np.random.normal(5, 5)\n",
    "    return v\n",
    "\n",
    "n = 1000\n",
    "data = (gaussian_mixture(n)).reshape(1,n)\n",
    "plt.hist(data.T, normed=True, bins=50);"
   ]
  },
  {
   "cell_type": "markdown",
   "metadata": {},
   "source": [
    "## Training"
   ]
  },
  {
   "cell_type": "code",
   "execution_count": 21,
   "metadata": {
    "collapsed": false
   },
   "outputs": [],
   "source": [
    "a = RTBM(1,2)\n",
    "#a.random_init()"
   ]
  },
  {
   "cell_type": "code",
   "execution_count": 22,
   "metadata": {
    "collapsed": false
   },
   "outputs": [
    {
     "name": "stdout",
     "output_type": "stream",
     "text": [
      "CMA on 4 cpu(s) enabled\n"
     ]
    }
   ],
   "source": [
    "minim = minimizer.CMA(multi_thread=True)"
   ]
  },
  {
   "cell_type": "code",
   "execution_count": 23,
   "metadata": {
    "collapsed": false
   },
   "outputs": [
    {
     "name": "stderr",
     "output_type": "stream",
     "text": [
      "../rtbm.py:173: RuntimeWarning: overflow encountered in exp\n",
      "  R1 = RiemannTheta((vT.dot(w) + BhT) / (2.0j * np.pi), -q / (2.0j * np.pi), prec=RTBM_precision)\n",
      "../rtbm.py:173: RuntimeWarning: overflow encountered in multiply\n",
      "  R1 = RiemannTheta((vT.dot(w) + BhT) / (2.0j * np.pi), -q / (2.0j * np.pi), prec=RTBM_precision)\n",
      "../rtbm.py:173: RuntimeWarning: invalid value encountered in multiply\n",
      "  R1 = RiemannTheta((vT.dot(w) + BhT) / (2.0j * np.pi), -q / (2.0j * np.pi), prec=RTBM_precision)\n"
     ]
    },
    {
     "name": "stdout",
     "output_type": "stream",
     "text": [
      "(5_w,10)-aCMA-ES (mu_w=3.2,w_1=45%) in dimension 8 (seed=850828, Wed Oct 11 18:36:03 2017)\n"
     ]
    },
    {
     "name": "stderr",
     "output_type": "stream",
     "text": [
      "../rtbm.py:173: RuntimeWarning: overflow encountered in exp\n",
      "  R1 = RiemannTheta((vT.dot(w) + BhT) / (2.0j * np.pi), -q / (2.0j * np.pi), prec=RTBM_precision)\n",
      "../rtbm.py:173: RuntimeWarning: overflow encountered in multiply\n",
      "  R1 = RiemannTheta((vT.dot(w) + BhT) / (2.0j * np.pi), -q / (2.0j * np.pi), prec=RTBM_precision)\n",
      "../rtbm.py:173: RuntimeWarning: invalid value encountered in multiply\n",
      "  R1 = RiemannTheta((vT.dot(w) + BhT) / (2.0j * np.pi), -q / (2.0j * np.pi), prec=RTBM_precision)\n"
     ]
    },
    {
     "name": "stdout",
     "output_type": "stream",
     "text": [
      "Iterat #Fevals   function value  axis ratio  sigma  min&max std  t[m:s]\n",
      "    1     10 2.159144019812492e+04 1.0e+00 8.70e-01  8e-01  9e-01 0:00.8\n"
     ]
    },
    {
     "name": "stderr",
     "output_type": "stream",
     "text": [
      "../rtbm.py:173: RuntimeWarning: overflow encountered in exp\n",
      "  R1 = RiemannTheta((vT.dot(w) + BhT) / (2.0j * np.pi), -q / (2.0j * np.pi), prec=RTBM_precision)\n",
      "../rtbm.py:173: RuntimeWarning: invalid value encountered in multiply\n",
      "  R1 = RiemannTheta((vT.dot(w) + BhT) / (2.0j * np.pi), -q / (2.0j * np.pi), prec=RTBM_precision)\n",
      "../rtbm.py:173: RuntimeWarning: overflow encountered in exp\n",
      "  R1 = RiemannTheta((vT.dot(w) + BhT) / (2.0j * np.pi), -q / (2.0j * np.pi), prec=RTBM_precision)\n",
      "../rtbm.py:173: RuntimeWarning: overflow encountered in multiply\n",
      "  R1 = RiemannTheta((vT.dot(w) + BhT) / (2.0j * np.pi), -q / (2.0j * np.pi), prec=RTBM_precision)\n",
      "../rtbm.py:173: RuntimeWarning: invalid value encountered in multiply\n",
      "  R1 = RiemannTheta((vT.dot(w) + BhT) / (2.0j * np.pi), -q / (2.0j * np.pi), prec=RTBM_precision)\n",
      "../rtbm.py:173: RuntimeWarning: overflow encountered in multiply\n",
      "  R1 = RiemannTheta((vT.dot(w) + BhT) / (2.0j * np.pi), -q / (2.0j * np.pi), prec=RTBM_precision)\n"
     ]
    },
    {
     "name": "stdout",
     "output_type": "stream",
     "text": [
      "    2     20 1.478987122685836e+04 1.3e+00 9.35e-01  9e-01  1e+00 0:01.7\n",
      "WARNING (module=cma.utilities.utils, iteration=3):  flat fitness (sigma=9.74e-01).\n",
      "                    For small sigma, this could indicate numerical convergence.\n",
      "                    Otherwise, please (re)consider how to compute the fitness more elaborately.\n",
      "    3     30 inf 1.5e+00 9.74e-01  9e-01  1e+00 0:02.0\n"
     ]
    },
    {
     "name": "stderr",
     "output_type": "stream",
     "text": [
      "/usr/lib/sagemath/local/lib/python2.7/site-packages/cma/evolution_strategy.py:3195: RuntimeWarning: invalid value encountered in double_scalars\n",
      "  es.fit.fit[-1] - es.fit.fit[0] < opts['tolfun'] and\n"
     ]
    },
    {
     "name": "stdout",
     "output_type": "stream",
     "text": [
      "WARNING (module=cma.utilities.utils, iteration=3):  flat fitness (sigma=9.74e-01).\n",
      "                    For small sigma, this could indicate numerical convergence.\n",
      "                    Otherwise, please (re)consider how to compute the fitness more elaborately.\n",
      "   25    250 7.399891115191802e+03 2.9e+00 9.72e-01  7e-01  1e+00 0:05.1\n",
      "   61    610 3.576202759792881e+03 4.1e+00 1.78e-01  7e-02  2e-01 0:09.2\n",
      "  100   1000 3.210926434467888e+03 2.4e+01 8.65e-02  1e-02  1e-01 0:13.7\n",
      "  148   1480 3.202312339108123e+03 9.2e+01 1.68e-02  4e-04  3e-02 0:19.8\n",
      "  200   2000 3.201547539137124e+03 6.4e+02 1.16e-01  1e-03  3e-01 0:26.5\n",
      "  271   2710 3.151958745199564e+03 4.2e+02 1.94e-01  2e-03  2e-01 0:34.6\n",
      "  300   3000 3.149731519191555e+03 7.5e+02 1.61e-01  1e-03  2e-01 0:38.1\n",
      "  384   3840 3.149464081351869e+03 1.1e+03 1.92e-02  5e-05  1e-02 0:48.2\n",
      "  400   4000 3.149463967597640e+03 1.0e+03 5.81e-03  1e-05  3e-03 0:50.3\n",
      "  496   4960 3.149463961770979e+03 1.1e+03 4.04e-06  2e-09  5e-07 1:02.3\n",
      "  500   5000 3.149463961770979e+03 1.0e+03 3.28e-06  2e-09  4e-07 1:02.8\n",
      "  503   5030 3.149463961770979e+03 9.4e+02 2.91e-06  2e-09  3e-07 1:03.2\n",
      "CMAEvolutionStrategyResult(xbest=array([ -4.99712226e-03,   7.69296605e-02,  -3.96889977e+00,\n",
      "         6.81655370e+00,  -5.71717261e-01,  -3.38401106e-01,\n",
      "         1.00000000e+01,   1.00000000e+01]), fbest=(3149.4639617709786-0j), evals_best=4920, evaluations=5030, iterations=503, xfavorite=array([ -4.99711994e-03,   7.69296612e-02,  -3.96889973e+00,\n",
      "         6.81655356e+00,  -5.71717261e-01,  -3.38401105e-01,\n",
      "        -1.06499809e+01,   1.05500003e+01]), stds=array([  2.27551840e-09,   1.75961803e-09,   1.14671963e-07,\n",
      "         1.63178345e-07,   1.25163690e-08,   1.00594247e-08,\n",
      "         1.68428038e-07,   3.20658211e-07]))\n"
     ]
    }
   ],
   "source": [
    "solution = minim.train(a, data, initial_solution=a.get_params())"
   ]
  },
  {
   "cell_type": "markdown",
   "metadata": {},
   "source": [
    "## Testing output"
   ]
  },
  {
   "cell_type": "code",
   "execution_count": 24,
   "metadata": {
    "collapsed": false
   },
   "outputs": [
    {
     "data": {
      "text/plain": [
       "[<matplotlib.lines.Line2D at 0x7f213de04dd0>]"
      ]
     },
     "execution_count": 24,
     "metadata": {},
     "output_type": "execute_result"
    },
    {
     "data": {
      "image/png": "[encoded data removed]",
      "text/plain": [
       "<matplotlib.figure.Figure at 0x7f213de04d90>"
      ]
     },
     "metadata": {},
     "output_type": "display_data"
    }
   ],
   "source": [
    "test_data = (np.linspace(-40,40, 100)).reshape(1, 100)\n",
    "plt.hist(data.T, bins=50, normed=True);\n",
    "plt.plot(test_data.flatten(), a(test_data).flatten(), 'o-')"
   ]
  },
  {
   "cell_type": "code",
   "execution_count": null,
   "metadata": {
    "collapsed": true
   },
   "outputs": [],
   "source": []
  }
 ],
 "metadata": {
  "kernelspec": {
   "display_name": "Python 2",
   "language": "python",
   "name": "python2"
  },
  "language_info": {
   "codemirror_mode": {
    "name": "ipython",
    "version": 2
   },
   "file_extension": ".py",
   "mimetype": "text/x-python",
   "name": "python",
   "nbconvert_exporter": "python",
   "pygments_lexer": "ipython2",
   "version": "2.7.13"
  }
 },
 "nbformat": 4,
 "nbformat_minor": 0
}
