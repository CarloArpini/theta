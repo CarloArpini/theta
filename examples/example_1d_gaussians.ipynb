{
 "cells": [
  {
   "cell_type": "code",
   "execution_count": 1,
   "metadata": {
    "collapsed": false
   },
   "outputs": [],
   "source": [
    "import sys\n",
    "sys.path.append('../')\n",
    "\n",
    "import numpy as np\n",
    "import matplotlib.pyplot as plt\n",
    "%matplotlib inline\n",
    "\n",
    "from rtbm import RTBM\n",
    "import minimizer\n",
    "\n",
    "from costfunctions import logarithmic\n",
    "\n",
    "import warnings\n",
    "warnings.filterwarnings('ignore')\n",
    "\n",
    "%load_ext autoreload"
   ]
  },
  {
   "cell_type": "code",
   "execution_count": 2,
   "metadata": {
    "collapsed": true
   },
   "outputs": [],
   "source": [
    "%autoreload"
   ]
  },
  {
   "cell_type": "markdown",
   "metadata": {},
   "source": [
    "# Example 1"
   ]
  },
  {
   "cell_type": "markdown",
   "metadata": {},
   "source": [
    "## Generate data"
   ]
  },
  {
   "cell_type": "code",
   "execution_count": 2,
   "metadata": {
    "collapsed": false
   },
   "outputs": [
    {
     "data": {
      "image/png": "[encoded data removed]",
      "text/plain": [
       "<matplotlib.figure.Figure at 0x7fc46228bd50>"
      ]
     },
     "metadata": {},
     "output_type": "display_data"
    }
   ],
   "source": [
    "# simple gaussian\n",
    "n = 1000\n",
    "data = (np.random.normal(5,10,n)).reshape(1,n)\n",
    "plt.hist(data.T, bins=50, normed=True);"
   ]
  },
  {
   "cell_type": "markdown",
   "metadata": {},
   "source": [
    "## Training"
   ]
  },
  {
   "cell_type": "code",
   "execution_count": 3,
   "metadata": {
    "collapsed": true
   },
   "outputs": [],
   "source": [
    "a = RTBM(1,1)"
   ]
  },
  {
   "cell_type": "code",
   "execution_count": 4,
   "metadata": {
    "collapsed": false,
    "deletable": true,
    "editable": true
   },
   "outputs": [
    {
     "name": "stdout",
     "output_type": "stream",
     "text": [
      "CMA on 4 cpu(s) enabled\n"
     ]
    }
   ],
   "source": [
    "minim = minimizer.CMA(multi_thread=True)"
   ]
  },
  {
   "cell_type": "code",
   "execution_count": 5,
   "metadata": {
    "collapsed": false,
    "scrolled": true
   },
   "outputs": [
    {
     "name": "stdout",
     "output_type": "stream",
     "text": [
      "(4_w,8)-aCMA-ES (mu_w=2.6,w_1=52%) in dimension 5 (seed=1006131, Fri Oct 13 17:15:39 2017)\n",
      "Iterat #Fevals   function value  axis ratio  sigma  min&max std  t[m:s]\n",
      "    1      8 3.429561090267675e+04 1.0e+00 1.06e+00  1e+00  1e+00 0:00.0\n",
      "    2     16 2.101125479605441e+04 1.4e+00 1.22e+00  1e+00  1e+00 0:00.1\n",
      "    3     24 4.662111553312968e+04 1.7e+00 1.30e+00  1e+00  2e+00 0:00.1\n",
      "   65    520 4.019440661794868e+03 7.6e+00 2.30e-01  5e-02  2e-01 0:03.1\n",
      "  100    800 3.717528263218044e+03 6.0e+01 4.45e-02  2e-03  6e-02 0:05.1\n",
      "  188   1504 3.716387858758480e+03 4.7e+03 4.07e-03  1e-05  1e-02 0:10.1\n",
      "  200   1600 3.716387690067509e+03 6.8e+03 6.45e-03  1e-05  2e-02 0:10.8\n",
      "  300   2400 3.716377463154327e+03 3.0e+04 2.02e-01  1e-04  5e-01 0:16.5\n",
      "  400   3200 3.716358121714260e+03 8.6e+03 1.84e-01  5e-06  2e-02 0:22.0\n",
      "  500   4000 3.716357828760548e+03 1.5e+04 2.90e-01  1e-06  8e-03 0:27.6\n",
      "  510   4080 3.716357826712229e+03 1.7e+04 1.86e-01  5e-07  4e-03 0:28.1\n",
      "CMAEvolutionStrategyResult(xbest=array([  1.70871227e-05,   1.02618670e-02,  -9.99820925e+00,\n",
      "        -2.82795454e-02,   6.03825228e+00]), fbest=(3716.3578267122293-0j), evals_best=4074, evaluations=4080, iterations=510, xfavorite=array([  1.72220324e-05,  -4.70923306e-03,  -1.04862633e+01,\n",
      "        -2.82803984e-02,  -6.13843554e+00]), stds=array([  1.07073585e-06,   5.41220915e-07,   4.16514830e-03,\n",
      "         6.25790589e-06,   1.28810467e-03]))\n"
     ]
    }
   ],
   "source": [
    "solution = minim.train(logarithmic, a, data, tolfun=1e-5)"
   ]
  },
  {
   "cell_type": "markdown",
   "metadata": {},
   "source": [
    "## Testing output"
   ]
  },
  {
   "cell_type": "code",
   "execution_count": 7,
   "metadata": {
    "collapsed": false
   },
   "outputs": [
    {
     "data": {
      "text/plain": [
       "[<matplotlib.lines.Line2D at 0x7fc45ff14a10>]"
      ]
     },
     "execution_count": 7,
     "metadata": {},
     "output_type": "execute_result"
    },
    {
     "data": {
      "image/png": "[encoded data removed]",
      "text/plain": [
       "<matplotlib.figure.Figure at 0x7fc45ff14e90>"
      ]
     },
     "metadata": {},
     "output_type": "display_data"
    }
   ],
   "source": [
    "test_data = (np.linspace(-40,40, 100)).reshape(1, 100)\n",
    "plt.hist(data.T, bins=50, normed=True)\n",
    "plt.plot(test_data.flatten(), a(test_data).flatten(), 'o-')"
   ]
  },
  {
   "cell_type": "markdown",
   "metadata": {},
   "source": [
    "# Example 2"
   ]
  },
  {
   "cell_type": "markdown",
   "metadata": {},
   "source": [
    "## Generate data"
   ]
  },
  {
   "cell_type": "code",
   "execution_count": 8,
   "metadata": {
    "collapsed": false
   },
   "outputs": [
    {
     "data": {
      "image/png": "[encoded data removed]",
      "text/plain": [
       "<matplotlib.figure.Figure at 0x7fc45e592710>"
      ]
     },
     "metadata": {},
     "output_type": "display_data"
    }
   ],
   "source": [
    "def gaussian_mixture(n):\n",
    "    v = np.zeros(n)\n",
    "    u = np.random.random_sample(n)\n",
    "    for i in range(n):\n",
    "        if u[i] < 0.6:\n",
    "            v[i] = np.random.normal(-5, 3)\n",
    "        elif u[i] < 0.7:\n",
    "            v[i] = np.random.normal(2, 1)\n",
    "        else:\n",
    "            v[i] = np.random.normal(5, 5)\n",
    "    return v\n",
    "\n",
    "n = 1000\n",
    "data = (gaussian_mixture(n)).reshape(1,n)\n",
    "plt.hist(data.T, normed=True, bins=50);"
   ]
  },
  {
   "cell_type": "markdown",
   "metadata": {},
   "source": [
    "## Training"
   ]
  },
  {
   "cell_type": "code",
   "execution_count": 9,
   "metadata": {
    "collapsed": true
   },
   "outputs": [],
   "source": [
    "a = RTBM(1,2)"
   ]
  },
  {
   "cell_type": "code",
   "execution_count": 10,
   "metadata": {
    "collapsed": false
   },
   "outputs": [
    {
     "name": "stdout",
     "output_type": "stream",
     "text": [
      "CMA on 4 cpu(s) enabled\n"
     ]
    }
   ],
   "source": [
    "minim = minimizer.CMA(multi_thread=True)"
   ]
  },
  {
   "cell_type": "code",
   "execution_count": 11,
   "metadata": {
    "collapsed": false
   },
   "outputs": [
    {
     "name": "stdout",
     "output_type": "stream",
     "text": [
      "(5_w,10)-aCMA-ES (mu_w=3.2,w_1=45%) in dimension 8 (seed=964701, Fri Oct 13 17:17:15 2017)\n",
      "Iterat #Fevals   function value  axis ratio  sigma  min&max std  t[m:s]\n",
      "    1     10 2.619141454767938e+04 1.0e+00 8.73e-01  8e-01  9e-01 0:00.1\n",
      "    2     20 5.918710814429442e+03 1.2e+00 8.10e-01  8e-01  8e-01 0:00.2\n",
      "    3     30 1.351154535358359e+04 1.4e+00 7.34e-01  7e-01  8e-01 0:00.3\n",
      "   42    420 4.203024464599541e+03 3.7e+00 4.25e-01  2e-01  5e-01 0:03.3\n",
      "   95    950 3.359633991087548e+03 4.5e+00 1.62e-01  5e-02  2e-01 0:07.3\n",
      "  100   1000 3.236335592664546e+03 4.7e+00 1.33e-01  3e-02  1e-01 0:07.8\n",
      "  161   1610 3.198791486800875e+03 5.3e+01 3.92e-02  3e-03  5e-02 0:13.8\n",
      "  200   2000 3.193395959475251e+03 1.1e+02 4.04e-02  2e-03  4e-02 0:17.6\n",
      "  290   2900 3.158191362034751e+03 3.5e+02 1.99e-01  3e-03  1e-01 0:25.7\n",
      "  300   3000 3.156712511085727e+03 4.8e+02 2.66e-01  3e-03  2e-01 0:26.5\n",
      "  400   4000 3.150219760760679e+03 6.8e+02 2.09e-02  8e-05  7e-03 0:34.9\n",
      "  457   4570 3.150219183179689e+03 8.1e+02 2.33e-04  4e-07  5e-05 0:40.1\n",
      "CMAEvolutionStrategyResult(xbest=array([  1.91614105e-03,   8.00910487e-02,  -1.00000000e+01,\n",
      "        -5.93906214e+00,  -2.96708923e-01,   6.36112681e-01,\n",
      "         8.10242717e+00,   1.00000000e+01]), fbest=(3150.2191831771497-0j), evals_best=4550, evaluations=4570, iterations=457, xfavorite=array([  1.91618357e-03,   8.00906451e-02,  -1.05499985e+01,\n",
      "        -5.93905865e+00,  -2.96706779e-01,   6.36110244e-01,\n",
      "         8.10240761e+00,   1.05500023e+01]), stds=array([  4.69304949e-07,   3.58995769e-07,   4.93694938e-05,\n",
      "         1.21409733e-05,   1.32625238e-06,   2.47572452e-06,\n",
      "         1.91798458e-05,   2.83728148e-05]))\n"
     ]
    }
   ],
   "source": [
    "solution = minim.train(logarithmic, a, data, tolfun=1e-5)"
   ]
  },
  {
   "cell_type": "markdown",
   "metadata": {},
   "source": [
    "## Testing output"
   ]
  },
  {
   "cell_type": "code",
   "execution_count": 12,
   "metadata": {
    "collapsed": false
   },
   "outputs": [
    {
     "data": {
      "text/plain": [
       "[<matplotlib.lines.Line2D at 0x7fc45fea3fd0>]"
      ]
     },
     "execution_count": 12,
     "metadata": {},
     "output_type": "execute_result"
    },
    {
     "data": {
      "image/png": "[encoded data removed]",
      "text/plain": [
       "<matplotlib.figure.Figure at 0x7fc45fea3b50>"
      ]
     },
     "metadata": {},
     "output_type": "display_data"
    }
   ],
   "source": [
    "test_data = (np.linspace(-50,50, 100)).reshape(1, 100)\n",
    "plt.hist(data.T, bins=50, normed=True);\n",
    "plt.plot(test_data.flatten(), a(test_data).flatten(), 'o-')"
   ]
  }
 ],
 "metadata": {
  "kernelspec": {
   "display_name": "Python 2",
   "language": "python",
   "name": "python2"
  },
  "language_info": {
   "codemirror_mode": {
    "name": "ipython",
    "version": 2
   },
   "file_extension": ".py",
   "mimetype": "text/x-python",
   "name": "python",
   "nbconvert_exporter": "python",
   "pygments_lexer": "ipython2",
   "version": "2.7.13"
  }
 },
 "nbformat": 4,
 "nbformat_minor": 0
}
