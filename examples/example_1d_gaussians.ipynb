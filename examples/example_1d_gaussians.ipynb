{
 "cells": [
  {
   "cell_type": "code",
   "execution_count": 1,
   "metadata": {
    "collapsed": false,
    "deletable": true,
    "editable": true
   },
   "outputs": [],
   "source": [
    "import sys\n",
    "sys.path.append('../')\n",
    "\n",
    "import numpy as np\n",
    "import matplotlib.pyplot as plt\n",
    "%matplotlib inline\n",
    "\n",
    "from rtbm import RTBM\n",
    "import minimizer\n",
    "\n",
    "from costfunctions import Logarithmic\n",
    "\n",
    "%load_ext autoreload"
   ]
  },
  {
   "cell_type": "code",
   "execution_count": 2,
   "metadata": {
    "collapsed": true,
    "deletable": true,
    "editable": true
   },
   "outputs": [],
   "source": [
    "%autoreload"
   ]
  },
  {
   "cell_type": "code",
   "execution_count": null,
   "metadata": {
    "collapsed": false
   },
   "outputs": [],
   "source": []
  },
  {
   "cell_type": "markdown",
   "metadata": {
    "deletable": true,
    "editable": true
   },
   "source": [
    "# Example 1"
   ]
  },
  {
   "cell_type": "markdown",
   "metadata": {
    "deletable": true,
    "editable": true
   },
   "source": [
    "## Generate data"
   ]
  },
  {
   "cell_type": "code",
   "execution_count": 3,
   "metadata": {
    "collapsed": false,
    "deletable": true,
    "editable": true
   },
   "outputs": [
    {
     "data": {
      "image/png": "[encoded data removed]",
      "text/plain": [
       "<matplotlib.figure.Figure at 0x7f4cbd7d56d0>"
      ]
     },
     "metadata": {},
     "output_type": "display_data"
    }
   ],
   "source": [
    "# simple gaussian\n",
    "n = 1000\n",
    "data = (np.random.normal(5,10,n)).reshape(1,n)\n",
    "plt.hist(data.T, bins=50, normed=True);"
   ]
  },
  {
   "cell_type": "markdown",
   "metadata": {
    "deletable": true,
    "editable": true
   },
   "source": [
    "## Training"
   ]
  },
  {
   "cell_type": "code",
   "execution_count": 4,
   "metadata": {
    "collapsed": false,
    "deletable": true,
    "editable": true
   },
   "outputs": [],
   "source": [
    "a = RTBM(1,1)\n",
    "a.random_init()\n"
   ]
  },
  {
   "cell_type": "code",
   "execution_count": 5,
   "metadata": {
    "collapsed": false,
    "deletable": true,
    "editable": true
   },
   "outputs": [],
   "source": [
    "minim = minimizer.CMA()\n",
    "minim.set_costfunction(Logarithmic)"
   ]
  },
  {
   "cell_type": "code",
   "execution_count": 6,
   "metadata": {
    "collapsed": false,
    "deletable": true,
    "editable": true
   },
   "outputs": [
    {
     "name": "stdout",
     "output_type": "stream",
     "text": [
      "(4_w,8)-aCMA-ES (mu_w=2.6,w_1=52%) in dimension 5 (seed=795193, Wed Oct 11 14:05:24 2017)\n",
      "Iterat #Fevals   function value  axis ratio  sigma  min&max std  t[m:s]\n",
      "    1      8 1.044297816483947e+04 1.0e+00 9.58e-01  9e-01  1e+00 0:00.1\n",
      "    2     16 8.083828867349561e+03 1.2e+00 9.70e-01  9e-01  1e+00 0:00.2\n"
     ]
    },
    {
     "name": "stderr",
     "output_type": "stream",
     "text": [
      "../costfunctions.py:6: RuntimeWarning: divide by zero encountered in log\n",
      "  res = -np.sum(np.log(X))\n",
      "/opt/SageMath/local/lib/python2.7/site-packages/cma/evolution_strategy.py:3049: ComplexWarning: Casting complex values to real discards the imaginary part\n",
      "  '%.15e' % (min(self.fit.fit)),\n",
      "/opt/SageMath/local/lib/python2.7/site-packages/cma/evolution_strategy.py:4336: ComplexWarning: Casting complex values to real discards the imaginary part\n",
      "  + '\\n')\n"
     ]
    },
    {
     "name": "stdout",
     "output_type": "stream",
     "text": [
      "    3     24 2.884595775662504e+04 1.2e+00 8.87e-01  8e-01  9e-01 0:00.3\n"
     ]
    },
    {
     "name": "stderr",
     "output_type": "stream",
     "text": [
      "../rtbm.py:168: RuntimeWarning: overflow encountered in exp\n",
      "  R1 = RiemannTheta((vT.dot(w) + BhT) / (2.0j * np.pi), -q / (2.0j * np.pi), prec=RTBM_precision)\n",
      "../rtbm.py:168: RuntimeWarning: invalid value encountered in multiply\n",
      "  R1 = RiemannTheta((vT.dot(w) + BhT) / (2.0j * np.pi), -q / (2.0j * np.pi), prec=RTBM_precision)\n",
      "../rtbm.py:171: RuntimeWarning: invalid value encountered in multiply\n",
      "  return np.sqrt(detT / (2.0 * np.pi) ** (v.shape[0])) * ExpF * R1/R2\n"
     ]
    },
    {
     "name": "stdout",
     "output_type": "stream",
     "text": [
      "   35    280 7.377045829138463e+03 7.4e+00 7.13e-01  3e-01  1e+00 0:03.3\n",
      "   81    648 4.332634145823631e+03 2.2e+01 2.51e-01  4e-02  5e-01 0:07.4\n",
      "  100    800 3.712740993647396e+03 3.8e+01 8.00e-02  4e-03  1e-01 0:09.1\n",
      "  168   1344 3.700550610877571e+03 2.1e+03 9.60e-02  8e-04  4e-01 0:15.2\n",
      "  200   1600 3.700337207797428e+03 2.9e+03 3.10e-02  1e-04  7e-02 0:18.0\n",
      "  291   2328 3.700233101314060e+03 1.9e+04 3.50e-02  1e-05  5e-02 0:26.1\n",
      "  300   2400 3.700233027346457e+03 1.6e+04 3.39e-02  1e-05  3e-02 0:26.9\n",
      "  400   3200 3.700232799203667e+03 1.3e+04 1.22e-01  5e-06  2e-02 0:35.7\n",
      "  500   4000 3.700232746111898e+03 2.7e+04 4.16e-01  2e-06  2e-02 0:44.6\n",
      "  600   4800 3.700232742806823e+03 3.7e+04 3.41e-03  2e-09  2e-05 0:53.4\n",
      "  617   4936 3.700232742806823e+03 4.1e+04 2.44e-03  8e-10  1e-05 0:54.9\n",
      "termination on tolfun=1e-11 (Wed Oct 11 14:06:19 2017)\n",
      "final/bestever f-value = 3.700233e+03 3.700233e+03\n",
      "incumbent solution: [0.00010852509608819869, 0.011339111510238434, 5.9532932665079761, 0.073921787863721375, 9.9999999998173443]\n",
      "std deviation: [1.1970290501634228e-09, 8.410480270953646e-10, 4.7550606109567185e-07, 9.0252347850020212e-09, 1.3318201130115901e-05]\n"
     ]
    },
    {
     "name": "stderr",
     "output_type": "stream",
     "text": [
      "/opt/SageMath/local/lib/python2.7/site-packages/cma/evolution_strategy.py:2728: ComplexWarning: Casting complex values to real discards the imaginary part\n",
      "  fbestever))\n"
     ]
    }
   ],
   "source": [
    "solution = minim.train(a, data, 0)"
   ]
  },
  {
   "cell_type": "markdown",
   "metadata": {
    "deletable": true,
    "editable": true
   },
   "source": [
    "## Testing output"
   ]
  },
  {
   "cell_type": "code",
   "execution_count": 7,
   "metadata": {
    "collapsed": false,
    "deletable": true,
    "editable": true
   },
   "outputs": [
    {
     "name": "stderr",
     "output_type": "stream",
     "text": [
      "/opt/SageMath/local/lib/python2.7/site-packages/numpy/core/numeric.py:482: ComplexWarning: Casting complex values to real discards the imaginary part\n",
      "  return array(a, dtype, copy=False, order=order)\n"
     ]
    },
    {
     "data": {
      "text/plain": [
       "[<matplotlib.lines.Line2D at 0x7f4f139ea750>]"
      ]
     },
     "execution_count": 7,
     "metadata": {},
     "output_type": "execute_result"
    },
    {
     "data": {
      "image/png": "[encoded data removed]",
      "text/plain": [
       "<matplotlib.figure.Figure at 0x7f4f139eaa10>"
      ]
     },
     "metadata": {},
     "output_type": "display_data"
    }
   ],
   "source": [
    "test_data = (np.linspace(-40,40, 100)).reshape(1, 100)\n",
    "plt.hist(data.T, bins=50, normed=True);\n",
    "plt.plot(test_data.flatten(), a(test_data).flatten(), 'o-')"
   ]
  },
  {
   "cell_type": "markdown",
   "metadata": {
    "deletable": true,
    "editable": true
   },
   "source": [
    "# Example 2"
   ]
  },
  {
   "cell_type": "markdown",
   "metadata": {
    "deletable": true,
    "editable": true
   },
   "source": [
    "## Generate data"
   ]
  },
  {
   "cell_type": "code",
   "execution_count": 8,
   "metadata": {
    "collapsed": false,
    "deletable": true,
    "editable": true
   },
   "outputs": [
    {
     "data": {
      "image/png": "[encoded data removed]",
      "text/plain": [
       "<matplotlib.figure.Figure at 0x7f4cbd7b8ad0>"
      ]
     },
     "metadata": {},
     "output_type": "display_data"
    }
   ],
   "source": [
    "def gaussian_mixture(n):\n",
    "    v = np.zeros(n)\n",
    "    u = np.random.random_sample(n)\n",
    "    for i in range(n):\n",
    "        if u[i] < 0.6:\n",
    "            v[i] = np.random.normal(-5, 3)\n",
    "        elif u[i] < 0.7:\n",
    "            v[i] = np.random.normal(2, 1)\n",
    "        else:\n",
    "            v[i] = np.random.normal(5, 5)\n",
    "    return v\n",
    "\n",
    "n = 1000\n",
    "data = (gaussian_mixture(n)).reshape(1,n)\n",
    "plt.hist(data.T, normed=True, bins=50);"
   ]
  },
  {
   "cell_type": "markdown",
   "metadata": {
    "deletable": true,
    "editable": true
   },
   "source": [
    "## Training"
   ]
  },
  {
   "cell_type": "code",
   "execution_count": 17,
   "metadata": {
    "collapsed": true,
    "deletable": true,
    "editable": true
   },
   "outputs": [],
   "source": [
    "a = RTBM(1,2)\n",
    "a.random_init()"
   ]
  },
  {
   "cell_type": "code",
   "execution_count": 18,
   "metadata": {
    "collapsed": true,
    "deletable": true,
    "editable": true
   },
   "outputs": [],
   "source": [
    "minim = minimizer.CMA()\n",
    "minim.set_costfunction(Logarithmic)"
   ]
  },
  {
   "cell_type": "code",
   "execution_count": 19,
   "metadata": {
    "collapsed": false,
    "deletable": true,
    "editable": true
   },
   "outputs": [
    {
     "name": "stdout",
     "output_type": "stream",
     "text": [
      "(5_w,10)-aCMA-ES (mu_w=3.2,w_1=45%) in dimension 8 (seed=880444, Wed Oct 11 14:07:42 2017)\n",
      "Iterat #Fevals   function value  axis ratio  sigma  min&max std  t[m:s]\n",
      "    1     10 9.506823960838068e+03 1.0e+00 9.54e-01  9e-01  1e+00 0:00.4\n",
      "    2     20 1.106839356851669e+04 1.3e+00 8.70e-01  8e-01  9e-01 0:00.8\n",
      "    3     30 2.318935280891840e+04 1.3e+00 7.79e-01  7e-01  8e-01 0:01.6\n"
     ]
    },
    {
     "name": "stderr",
     "output_type": "stream",
     "text": [
      "/opt/SageMath/local/lib/python2.7/site-packages/numpy/core/_methods.py:70: RuntimeWarning: invalid value encountered in cdouble_scalars\n",
      "  ret = ret.dtype.type(ret / rcount)\n"
     ]
    },
    {
     "name": "stdout",
     "output_type": "stream",
     "text": [
      "   18    180 7.466060765472964e+03 2.5e+00 1.39e+00  1e+00  2e+00 0:04.7\n"
     ]
    },
    {
     "name": "stderr",
     "output_type": "stream",
     "text": [
      "../rtbm.py:169: RuntimeWarning: overflow encountered in exp\n",
      "  R2 = RiemannTheta((BhT - BtiTW) / (2.0j * np.pi), (-q + WtiTW) / (2.0j * np.pi), prec=RTBM_precision)\n",
      "../rtbm.py:169: RuntimeWarning: invalid value encountered in multiply\n",
      "  R2 = RiemannTheta((BhT - BtiTW) / (2.0j * np.pi), (-q + WtiTW) / (2.0j * np.pi), prec=RTBM_precision)\n"
     ]
    },
    {
     "name": "stdout",
     "output_type": "stream",
     "text": [
      "   43    430 1.827731260704202e+04 4.6e+00 8.51e-01  5e-01  1e+00 0:08.7\n",
      "   77    770 3.559938713172390e+03 1.0e+01 5.29e-01  2e-01  8e-01 0:13.8\n",
      "WARNING (module=cma.utilities.utils, iteration=83):  flat fitness (sigma=4.90e-01).\n",
      "                    For small sigma, this could indicate numerical convergence.\n",
      "                    Otherwise, please (re)consider how to compute the fitness more elaborately.\n",
      "WARNING (module=cma.utilities.utils, iteration=83):  flat fitness (sigma=4.90e-01).\n",
      "                    For small sigma, this could indicate numerical convergence.\n",
      "                    Otherwise, please (re)consider how to compute the fitness more elaborately.\n",
      "WARNING (module=cma.utilities.utils, iteration=83):  flat fitness (sigma=4.90e-01).\n",
      "                    For small sigma, this could indicate numerical convergence.\n",
      "                    Otherwise, please (re)consider how to compute the fitness more elaborately.\n",
      "WARNING (module=cma.utilities.utils, iteration=88):  flat fitness (sigma=3.19e-01).\n",
      "                    For small sigma, this could indicate numerical convergence.\n",
      "                    Otherwise, please (re)consider how to compute the fitness more elaborately.\n",
      "WARNING (module=cma.utilities.utils, iteration=88):  flat fitness (sigma=3.19e-01).\n",
      "                    For small sigma, this could indicate numerical convergence.\n",
      "                    Otherwise, please (re)consider how to compute the fitness more elaborately.\n",
      "WARNING (module=cma.utilities.utils, iteration=88):  flat fitness (sigma=3.19e-01).\n",
      "                    For small sigma, this could indicate numerical convergence.\n",
      "                    Otherwise, please (re)consider how to compute the fitness more elaborately.\n",
      "  100   1000 3.500909418545395e+03 1.4e+01 3.37e-01  1e-01  5e-01 0:17.2\n",
      "  146   1460 3.231256928373604e+03 3.3e+01 9.28e-02  3e-02  1e-01 0:24.3\n",
      "  199   1990 3.218458617328898e+03 1.1e+02 3.66e-02  9e-03  4e-02 0:32.4\n",
      "  200   2000 3.218286021105265e+03 1.1e+02 3.58e-02  9e-03  3e-02 0:32.5\n",
      "  267   2670 3.216934316031304e+03 4.2e+02 5.25e-02  3e-03  6e-02 0:42.5\n",
      "  300   3000 3.216904175030549e+03 8.2e+02 1.28e-02  4e-04  1e-02 0:47.5\n",
      "  380   3800 3.216855954027249e+03 1.2e+03 7.68e-02  9e-04  5e-02 0:59.5\n",
      "  400   4000 3.216801119927475e+03 7.4e+02 1.15e-01  1e-03  5e-02 1:02.5\n",
      "  500   5000 3.212120109413981e+03 1.4e+03 9.98e-01  5e-03  2e-01 1:16.6\n",
      "  600   6000 3.204231716860595e+03 9.7e+02 5.63e-01  9e-04  5e-02 1:30.3\n",
      "  700   7000 3.204059686097013e+03 6.0e+02 1.61e-02  7e-06  3e-04 1:43.9\n",
      "  792   7920 3.204059685688344e+03 6.9e+02 4.65e-05  6e-09  3e-07 1:56.5\n",
      "termination on tolfun=1e-11 (Wed Oct 11 14:09:39 2017)\n",
      "final/bestever f-value = 3.204060e+03 3.204060e+03\n",
      "incumbent solution: [-0.00067872486353614874, 0.35644473244232916, -9.9999999999999449, -2.9048817909506859, 0.39693667922454851, -1.47565072692536, 6.3741262208160911, 7.1662405229928154]\n",
      "std deviation: [5.5614618837509246e-09, 1.8064914863277979e-08, 2.3377988298906011e-07, 1.987651550653649e-07, 2.8633896037791976e-08, 6.4724650064978895e-08, 9.6766196132726652e-08, 3.1471368760866472e-07]\n"
     ]
    }
   ],
   "source": [
    "solution = minim.train(a, data, 0)"
   ]
  },
  {
   "cell_type": "markdown",
   "metadata": {
    "deletable": true,
    "editable": true
   },
   "source": [
    "## Testing output"
   ]
  },
  {
   "cell_type": "code",
   "execution_count": 20,
   "metadata": {
    "collapsed": false,
    "deletable": true,
    "editable": true
   },
   "outputs": [
    {
     "data": {
      "text/plain": [
       "[<matplotlib.lines.Line2D at 0x7f4cbad18090>]"
      ]
     },
     "execution_count": 20,
     "metadata": {},
     "output_type": "execute_result"
    },
    {
     "data": {
      "image/png": "[encoded data removed]",
      "text/plain": [
       "<matplotlib.figure.Figure at 0x7f4cbad0a3d0>"
      ]
     },
     "metadata": {},
     "output_type": "display_data"
    }
   ],
   "source": [
    "test_data = (np.linspace(-40,40, 100)).reshape(1, 100)\n",
    "plt.hist(data.T, bins=50, normed=True);\n",
    "plt.plot(test_data.flatten(), a(test_data).flatten(), 'o-')"
   ]
  },
  {
   "cell_type": "code",
   "execution_count": null,
   "metadata": {
    "collapsed": true,
    "deletable": true,
    "editable": true
   },
   "outputs": [],
   "source": []
  }
 ],
 "metadata": {
  "kernelspec": {
   "display_name": "Python 2",
   "language": "python",
   "name": "python2"
  },
  "language_info": {
   "codemirror_mode": {
    "name": "ipython",
    "version": 2
   },
   "file_extension": ".py",
   "mimetype": "text/x-python",
   "name": "python",
   "nbconvert_exporter": "python",
   "pygments_lexer": "ipython2",
   "version": "2.7.13"
  }
 },
 "nbformat": 4,
 "nbformat_minor": 0
}
