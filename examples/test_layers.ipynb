{
 "cells": [
  {
   "cell_type": "code",
   "execution_count": 1,
   "metadata": {},
   "outputs": [],
   "source": [
    "import numpy as np\n",
    "import matplotlib.pyplot as plt\n",
    "%matplotlib inline\n",
    "\n",
    "import rtbm.layers as layers\n",
    "import rtbm.model as mdl\n",
    "\n",
    "import warnings\n",
    "warnings.filterwarnings('ignore')\n",
    "\n",
    "from rtbm.costfunctions import mse, logarithmic\n",
    "from rtbm import minimizer\n",
    "\n",
    "from rtbm.activations import tanh, linear, sigmoid\n",
    "from rtbm.mathtools import theta_1d, logtheta_1d_phaseI\n",
    "from rtbm.riemann_theta.riemann_theta import RiemannTheta\n",
    "from rtbm.gradientschemes import RMSprop, adam, adadelta, adagrad\n",
    "\n",
    "from rtbm.initializers import uniform\n",
    "\n",
    "import rtbm.layers as layers\n",
    "import rtbm.model as mdl\n",
    "\n",
    "from rtbm import RTBM\n",
    "\n",
    "from numpy import frompyfunc"
   ]
  },
  {
   "cell_type": "markdown",
   "metadata": {},
   "source": [
    "## NormAddLayer grad test"
   ]
  },
  {
   "cell_type": "code",
   "execution_count": 2,
   "metadata": {},
   "outputs": [],
   "source": [
    "M = mdl.Model()\n",
    "M.add(layers.NormAddLayer(2,1))"
   ]
  },
  {
   "cell_type": "code",
   "execution_count": 3,
   "metadata": {},
   "outputs": [
    {
     "name": "stdout",
     "output_type": "stream",
     "text": [
      "[[ 3.40379259]\n",
      " [ 9.03737996]]\n",
      "('W:', array([[ 0.86718076, -0.94216025]]))\n",
      "('S:', array([-0.07497949]))\n",
      "('O:', array([[-5.56295672]]))\n"
     ]
    },
    {
     "data": {
      "text/plain": [
       "array([[ 74.19304504]])"
      ]
     },
     "execution_count": 3,
     "metadata": {},
     "output_type": "execute_result"
    }
   ],
   "source": [
    "n=1\n",
    "data = (np.random.normal((2,10),n)).reshape(2,n)\n",
    "print(data)\n",
    "\n",
    "print(\"W:\",M.get_layer(1)._w)\n",
    "M.feed_through(data)"
   ]
  },
  {
   "cell_type": "markdown",
   "metadata": {},
   "source": [
    "## RTBM grad descent test"
   ]
  },
  {
   "cell_type": "code",
   "execution_count": null,
   "metadata": {},
   "outputs": [],
   "source": [
    "# simple gaussian\n",
    "n = 1000\n",
    "data = (np.random.normal(5,10,n)).reshape(1,n)\n",
    "plt.hist(data.T, bins=50, normed=True);\n",
    "\n",
    "M = mdl.Model()\n",
    "M.add(layers.ThetaUnitLayer(1,1,1,diagonal_T=True))\n",
    "\n"
   ]
  },
  {
   "cell_type": "code",
   "execution_count": null,
   "metadata": {},
   "outputs": [],
   "source": [
    "# Flow to a non-trivial W\n",
    "minim = minimizer.SGD()\n",
    "solution = minim.train(logarithmic, M, data,scheme=adagrad(), lr=0.000001, maxiter=500)"
   ]
  },
  {
   "cell_type": "code",
   "execution_count": null,
   "metadata": {},
   "outputs": [],
   "source": [
    "print(M.get_layer(1).get_unit(1)._q)\n",
    "print(M.get_layer(1).get_unit(1)._w)\n",
    "#M.get_layer(1).get_unit(1)._bv[0,0] = 0\n",
    "\n",
    "print(M.get_layer(1).get_unit(1)._bv)\n",
    "\n",
    "M.get_parameters()\n",
    "M.gradient_check(3,data[:,0:10].reshape((1,10)),0.0001)\n"
   ]
  },
  {
   "cell_type": "markdown",
   "metadata": {},
   "source": [
    "### Derivatives test"
   ]
  },
  {
   "cell_type": "code",
   "execution_count": null,
   "metadata": {},
   "outputs": [],
   "source": [
    "Q=np.zeros((1,1), dtype=complex)\n",
    "V=np.zeros((1,1), dtype=complex)\n",
    "V[0,0]=0.1*2j*np.pi\n",
    "Q[0,0]=0.01*2*np.pi\n",
    "\n",
    "#print(theta_1d(V,Q,0))\n",
    "\n",
    "\n",
    "print(RiemannTheta(V/(2j*np.pi),1j*Q/(2*np.pi), derivs=[[1],[1]]))\n",
    "\n",
    "#print(RiemannTheta(V/(2j*np.pi),1j*Q/(2*np.pi), derivs=[[1],[1]]))\n",
    "\n",
    "#mpmath.jtheta(3,V[0,0],Q[0,0])"
   ]
  },
  {
   "cell_type": "code",
   "execution_count": null,
   "metadata": {},
   "outputs": [],
   "source": [
    "X=np.random.uniform(-50, 50,(1000,1))"
   ]
  },
  {
   "cell_type": "code",
   "execution_count": null,
   "metadata": {},
   "outputs": [],
   "source": [
    "%%time\n",
    "t = RiemannTheta(X/(2j*np.pi),1j*Q/(2*np.pi))"
   ]
  },
  {
   "cell_type": "code",
   "execution_count": null,
   "metadata": {},
   "outputs": [],
   "source": [
    "Q=np.zeros((1,1), dtype=float)\n",
    "V=np.zeros((1,1), dtype=float)\n",
    "V[0,0]=0.1\n",
    "Q[0,0]=0.01\n",
    "\n",
    "\n",
    "print(theta_1d(V,Q,0))\n",
    "print(np.exp(logtheta_1d_phaseI(V,Q,0)))\n",
    "\n",
    "print(RiemannTheta(V/(2j*np.pi),-1*Q/(2j*np.pi)))"
   ]
  },
  {
   "cell_type": "markdown",
   "metadata": {},
   "source": [
    "# Linear layer test"
   ]
  },
  {
   "cell_type": "code",
   "execution_count": null,
   "metadata": {},
   "outputs": [],
   "source": [
    "def funcA(x):\n",
    "    return 0.6-0.3*x\n",
    "\n",
    "def funcB(x):\n",
    "    return -0.5+0.8*x\n",
    "\n",
    "\n",
    "def func(x1,x2):\n",
    "    return 0.6-0.3*x1+1.2*x2\n",
    "\n",
    "X1 = np.linspace(-5.3, 5, 997)\n",
    "X2 = np.linspace(-5.5, 5, 997)\n",
    "\n",
    "X = np.stack((X1,X2))\n",
    "\n",
    "#Y = func(X1,X2).reshape((1,X.shape[1]))\n",
    "Y = np.stack((funcA(X1),funcB(X2)))\n",
    "\n",
    "M = mdl.Model()\n",
    "M.add(layers.Linear(2,2))\n",
    "\n",
    "#minim = minimizer.CMA(True)\n",
    "#minim.train(mse(), M, X, Y, tolfun=1e-3)\n",
    "\n",
    "M = mdl.Model()\n",
    "M.add(layers.Linear(2,1))\n",
    "M.add(layers.Linear(1,2))\n",
    "\n",
    "\n",
    "minim = minimizer.SGD()\n",
    "minim.train(mse(), M, X, Y, maxiter=300,batch_size=98)"
   ]
  },
  {
   "cell_type": "markdown",
   "metadata": {},
   "source": [
    "# E(h|v) SGD test"
   ]
  },
  {
   "cell_type": "markdown",
   "metadata": {},
   "source": [
    "## Phase I"
   ]
  },
  {
   "cell_type": "code",
   "execution_count": null,
   "metadata": {},
   "outputs": [],
   "source": [
    "def func(x):\n",
    "    return np.sin(x)+x\n",
    "\n",
    "X = np.linspace(-3.5, 5, 998)\n",
    "X = X.reshape((1,X.shape[0]))\n",
    "\n",
    "Y = func(X[:,None]).reshape((1,X.shape[1]))\n",
    "\n",
    "M = mdl.Model()\n",
    "\n",
    "M.add(layers.DiagExpectationUnitLayer(1,3, phase=1j, Q_init=uniform(2,3+1e-5)))\n",
    "M.add(layers.DiagExpectationUnitLayer(3,1, phase=1j, Q_init=uniform(2,3+1e-5)))\n",
    "\n",
    "#M.add(layers.DiagExpectationUnitLayer(3,1, phase=1))\n"
   ]
  },
  {
   "cell_type": "code",
   "execution_count": null,
   "metadata": {},
   "outputs": [],
   "source": [
    "\n",
    "#print(M.get_parameters())\n",
    "M.gradient_check(13,X,0.01)"
   ]
  },
  {
   "cell_type": "code",
   "execution_count": null,
   "metadata": {},
   "outputs": [],
   "source": []
  },
  {
   "cell_type": "code",
   "execution_count": null,
   "metadata": {},
   "outputs": [],
   "source": [
    "minim = minimizer.SGD()\n",
    "\n",
    "minim.train(mse(), M, X, Y, lr=0.01,maxiter=1000)\n",
    "\n",
    "plt.plot(X.flatten(), Y.flatten(),\"og-\", label='fit')\n",
    "plt.plot(X.flatten(), np.real(M.predict(X)).flatten(),\"ob-\", label='fit')"
   ]
  },
  {
   "cell_type": "markdown",
   "metadata": {},
   "source": [
    "## Phase II"
   ]
  },
  {
   "cell_type": "code",
   "execution_count": null,
   "metadata": {},
   "outputs": [],
   "source": [
    "def func(x):\n",
    "    return np.sin(x)\n",
    "\n",
    "X = np.linspace(-5, 5, 997)\n",
    "X = X.reshape((1,X.shape[0]))\n",
    "\n",
    "Y = func(X[:,None]).reshape((1,X.shape[1]))\n",
    "\n",
    "M = mdl.Model()\n",
    "M.add(layers.DiagExpectationUnitLayer(1,3, phase=1j, Q_init=uniform(2,3+1e-5)))\n",
    "M.add(layers.DiagExpectationUnitLayer(3,1, phase=1j, Q_init=uniform(2,3+1e-5)))\n",
    "\n",
    "print(\"*** init ***\")\n",
    "print(M.get_layer(1)._q)\n",
    "print(M.get_layer(2)._q)\n",
    "\n",
    "minim = minimizer.SGD()\n",
    "\n",
    "minim.train(mse(), M, X, Y, lr=0.1, scheme=RMSprop(), maxiter=500)\n",
    "\n",
    "plt.plot(X.flatten(), Y.flatten(),\"og-\", label='fit')\n",
    "plt.plot(X.flatten(), np.real(M.predict(X)).flatten(),\"ob-\", label='fit')"
   ]
  },
  {
   "cell_type": "code",
   "execution_count": null,
   "metadata": {},
   "outputs": [],
   "source": [
    "print(M.get_layer(1)._q)\n",
    "print(M.get_layer(2)._q)\n"
   ]
  },
  {
   "cell_type": "markdown",
   "metadata": {},
   "source": [
    "## CMA"
   ]
  },
  {
   "cell_type": "code",
   "execution_count": null,
   "metadata": {},
   "outputs": [],
   "source": [
    "M = mdl.Model()\n",
    "M.add(layers.DiagExpectationUnitLayer(1,3,phase=1))\n",
    "M.add(layers.DiagExpectationUnitLayer(3,1,phase=1))\n",
    "\n",
    "minim = minimizer.CMA()\n",
    "\n",
    "minim.train(mse(), M, X, Y, maxiter=500)\n",
    "plt.plot(X.flatten(), Y.flatten(),\"og-\", label='fit')\n",
    "plt.plot(X.flatten(), np.real(M.predict(X)).flatten(),\"ob-\", label='fit')"
   ]
  },
  {
   "cell_type": "code",
   "execution_count": null,
   "metadata": {},
   "outputs": [],
   "source": [
    "def func(x1,x2):\n",
    "    return 0.2*x1+0.4*x2+0.8\n",
    "\n",
    "X1 = np.linspace(-5.3, 5, 1000)\n",
    "X2 = np.linspace(-5.5, 5, 1000)\n",
    "\n",
    "X = np.stack((X1,X2))\n",
    "\n",
    "Y = func(X1[:,None],X2[:,None]).reshape((1,X1.shape[0]))\n",
    "\n",
    "M = mdl.Model()\n",
    "M.add(layers.DiagExpectationUnitLayer(2,1))\n",
    "M.add(layers.DiagExpectationUnitLayer(1,1))\n",
    "\n",
    "\n",
    "minim = minimizer.SGD()\n",
    "minim.train(mse(), M, X, Y, lr=0.1,maxiter=400)\n",
    "\n",
    "#plt.plot(X.flatten(), Y.flatten(),\"og-\", label='fit')\n",
    "#plt.plot(X.flatten(), np.real(M.predict(X)).flatten(),\"ob-\", label='fit')"
   ]
  },
  {
   "cell_type": "markdown",
   "metadata": {},
   "source": [
    "# Layer test"
   ]
  },
  {
   "cell_type": "code",
   "execution_count": null,
   "metadata": {},
   "outputs": [],
   "source": [
    "M = mdl.Model()\n",
    "M.add(layers.DiagExpectationUnitLayer(1,3))\n",
    "M.add(layers.DiagExpectationUnitLayer(3,1))"
   ]
  },
  {
   "cell_type": "code",
   "execution_count": null,
   "metadata": {},
   "outputs": [],
   "source": [
    "def func(x):\n",
    "    return np.sin(x)\n",
    "\n",
    "X = np.linspace(0, 10, 5)\n",
    "X = X.reshape((1,X.shape[0]))\n",
    "\n",
    "Y = func(X[:,None]).reshape((1,X.shape[1]))"
   ]
  },
  {
   "cell_type": "code",
   "execution_count": null,
   "metadata": {},
   "outputs": [],
   "source": [
    "plt.plot(X.flatten(), Y.flatten(),\"ob-\")"
   ]
  },
  {
   "cell_type": "code",
   "execution_count": null,
   "metadata": {},
   "outputs": [],
   "source": [
    "minim = minimizer.CMA(True)\n",
    "minim.train(mse(), M, X, Y, tolfun=1e-3)"
   ]
  },
  {
   "cell_type": "code",
   "execution_count": null,
   "metadata": {},
   "outputs": [],
   "source": [
    "npoints = 5\n",
    "test_X = (np.linspace(0, 10, npoints)).reshape((1, npoints))\n",
    "\n",
    "plt.plot(X.flatten(), Y.flatten(),\"og-\", label='target')\n",
    "plt.plot(test_X.flatten(), np.real(M.predict(test_X)).flatten(),\"ob-\", label='fit')\n",
    "plt.legend()"
   ]
  },
  {
   "cell_type": "markdown",
   "metadata": {},
   "source": [
    "# Misc tests"
   ]
  },
  {
   "cell_type": "code",
   "execution_count": null,
   "metadata": {},
   "outputs": [],
   "source": [
    "L = layers.MaxPosLayer(3,1)"
   ]
  },
  {
   "cell_type": "code",
   "execution_count": null,
   "metadata": {},
   "outputs": [],
   "source": [
    "L.feedin(np.array([Y,2*Y,1*Y]).reshape(3,5))"
   ]
  },
  {
   "cell_type": "code",
   "execution_count": null,
   "metadata": {},
   "outputs": [],
   "source": [
    "np.array([Y,2*Y,Y]).reshape(3,5)"
   ]
  },
  {
   "cell_type": "code",
   "execution_count": null,
   "metadata": {},
   "outputs": [],
   "source": [
    "np.empty(0)"
   ]
  },
  {
   "cell_type": "code",
   "execution_count": null,
   "metadata": {},
   "outputs": [],
   "source": [
    "derivative_1d_theta_phaseI([0.1],[1j],0)"
   ]
  },
  {
   "cell_type": "code",
   "execution_count": null,
   "metadata": {},
   "outputs": [],
   "source": []
  },
  {
   "cell_type": "code",
   "execution_count": null,
   "metadata": {},
   "outputs": [],
   "source": []
  }
 ],
 "metadata": {
  "kernelspec": {
   "display_name": "Python 2",
   "language": "python",
   "name": "python2"
  },
  "language_info": {
   "codemirror_mode": {
    "name": "ipython",
    "version": 2
   },
   "file_extension": ".py",
   "mimetype": "text/x-python",
   "name": "python",
   "nbconvert_exporter": "python",
   "pygments_lexer": "ipython2",
   "version": "2.7.10"
  }
 },
 "nbformat": 4,
 "nbformat_minor": 2
}
