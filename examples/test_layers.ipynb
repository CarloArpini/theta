{
 "cells": [
  {
   "cell_type": "code",
   "execution_count": 1,
   "metadata": {
    "collapsed": false
   },
   "outputs": [],
   "source": [
    "import sys\n",
    "sys.path.append('../')\n",
    "\n",
    "import numpy as np\n",
    "import matplotlib.pyplot as plt\n",
    "%matplotlib inline\n",
    "\n",
    "from abelfunctions import RiemannTheta\n",
    "\n",
    "import layers as layers\n",
    "import model as mdl"
   ]
  },
  {
   "cell_type": "code",
   "execution_count": 28,
   "metadata": {
    "collapsed": false
   },
   "outputs": [],
   "source": [
    "M = mdl.Model()\n",
    "M.add(layers.ThetaUnitLayer(1,3))\n",
    "M.add(layers.ThetaUnitLayer(3,10))"
   ]
  },
  {
   "cell_type": "code",
   "execution_count": 29,
   "metadata": {
    "collapsed": false
   },
   "outputs": [
    {
     "name": "stdout",
     "output_type": "stream",
     "text": [
      "[[ 0.67525517  0.90732468  0.67229129  0.21744     0.15544265]]\n"
     ]
    }
   ],
   "source": [
    "R=np.random.rand(5).reshape((1,5))\n",
    "R.shape\n",
    "print(R)"
   ]
  },
  {
   "cell_type": "code",
   "execution_count": 30,
   "metadata": {
    "collapsed": false
   },
   "outputs": [],
   "source": [
    "O = M.feedthrough(R)\n"
   ]
  },
  {
   "cell_type": "code",
   "execution_count": 31,
   "metadata": {
    "collapsed": false,
    "scrolled": true
   },
   "outputs": [
    {
     "data": {
      "text/plain": [
       "(10, 5)"
      ]
     },
     "execution_count": 31,
     "metadata": {},
     "output_type": "execute_result"
    }
   ],
   "source": [
    "O.shape"
   ]
  },
  {
   "cell_type": "code",
   "execution_count": 32,
   "metadata": {
    "collapsed": false
   },
   "outputs": [
    {
     "data": {
      "text/plain": [
       "array([[  1.35119111e+00+0.j,   1.81556411e+00+0.j,   1.34526037e+00+0.j,\n",
       "          4.35099221e-01+0.j,   3.11042005e-01+0.j],\n",
       "       [ -4.88404902e+00+0.j,  -6.56258324e+00+0.j,  -4.86261159e+00+0.j,\n",
       "         -1.57272047e+00+0.j,  -1.12430017e+00+0.j],\n",
       "       [ -2.10370185e+00+0.j,  -2.82669531e+00+0.j,  -2.09446812e+00+0.j,\n",
       "         -6.77416410e-01+0.j,  -4.84268758e-01+0.j],\n",
       "       [  1.47810242e+00+0.j,   1.98609188e+00+0.j,   1.47161463e+00+0.j,\n",
       "          4.75966135e-01+0.j,   3.40256781e-01+0.j],\n",
       "       [ -1.05694635e+00+0.j,  -1.42019427e+00+0.j,  -1.05230712e+00+0.j,\n",
       "         -3.40348992e-01+0.j,  -2.43307337e-01+0.j],\n",
       "       [ -2.82007482e-01+0.j,  -3.78926901e-01+0.j,  -2.80769674e-01+0.j,\n",
       "         -9.08096817e-02+0.j,  -6.49176653e-02+0.j],\n",
       "       [  2.29724601e+02+0.j,   3.08675611e+02+0.j,   2.28716277e+02+0.j,\n",
       "          7.39739878e+01+0.j,   5.28822310e+01+0.j],\n",
       "       [ -1.39560368e-01+0.j,  -1.87524026e-01+0.j,  -1.38947800e-01+0.j,\n",
       "         -4.49400584e-02+0.j,  -3.21265707e-02+0.j],\n",
       "       [  2.03996347e+00+0.j,   2.74105153e+00+0.j,   2.03100951e+00+0.j,\n",
       "          6.56891914e-01+0.j,   4.69596286e-01+0.j],\n",
       "       [  2.13938980e+01+0.j,   2.87464838e+01+0.j,   2.12999943e+01+0.j,\n",
       "          6.88908345e+00+0.j,   4.92484065e+00+0.j]])"
      ]
     },
     "execution_count": 32,
     "metadata": {},
     "output_type": "execute_result"
    }
   ],
   "source": [
    "O"
   ]
  },
  {
   "cell_type": "code",
   "execution_count": null,
   "metadata": {
    "collapsed": true
   },
   "outputs": [],
   "source": []
  },
  {
   "cell_type": "code",
   "execution_count": null,
   "metadata": {
    "collapsed": true
   },
   "outputs": [],
   "source": []
  }
 ],
 "metadata": {
  "kernelspec": {
   "display_name": "SageMath 7.6",
   "language": "",
   "name": "sagemath"
  },
  "language_info": {
   "codemirror_mode": {
    "name": "ipython",
    "version": 2
   },
   "file_extension": ".py",
   "mimetype": "text/x-python",
   "name": "python",
   "nbconvert_exporter": "python",
   "pygments_lexer": "ipython2",
   "version": "2.7.13"
  }
 },
 "nbformat": 4,
 "nbformat_minor": 2
}
