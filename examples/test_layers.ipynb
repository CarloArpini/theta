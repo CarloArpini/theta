{
 "cells": [
  {
   "cell_type": "code",
   "execution_count": 1,
   "metadata": {},
   "outputs": [
    {
     "name": "stdout",
     "output_type": "stream",
     "text": [
      "The history saving thread hit an unexpected error (DatabaseError('database disk image is malformed',)).History will not be written to the database.\n"
     ]
    }
   ],
   "source": [
    "import numpy as np\n",
    "import matplotlib.pyplot as plt\n",
    "%matplotlib inline\n",
    "\n",
    "import rtbm.layers as layers\n",
    "import rtbm.model as mdl\n",
    "\n",
    "import warnings\n",
    "warnings.filterwarnings('ignore')\n",
    "\n",
    "from rtbm.costfunctions import mse\n",
    "from rtbm import minimizer\n",
    "\n",
    "from rtbm.mathtools import theta_1d, theta_1d_phaseI\n",
    "from riemann_theta.riemann_theta import RiemannTheta\n",
    "\n",
    "import rtbm.layers as layers\n",
    "import rtbm.model as mdl"
   ]
  },
  {
   "cell_type": "markdown",
   "metadata": {},
   "source": [
    "# Derivatives test"
   ]
  },
  {
   "cell_type": "code",
   "execution_count": 2,
   "metadata": {},
   "outputs": [
    {
     "name": "stdout",
     "output_type": "stream",
     "text": [
      "(0.432139189595-1.9772421444e-16j)\n",
      "(1434.49605524+5.69872548808e-14j)\n",
      "(1434.49605524+5.69872548808e-14j)\n"
     ]
    }
   ],
   "source": [
    "Q=np.zeros((1,1), dtype=complex)\n",
    "V=np.zeros((1,1), dtype=complex)\n",
    "V[0,0]=0.1*2j*np.pi\n",
    "Q[0,0]=0.01*2*np.pi\n",
    "\n",
    "print(theta_1d(V,Q,0))\n",
    "\n",
    "\n",
    "print(RiemannTheta(V/(2j*np.pi),1j*Q/(2*np.pi), derivs=[1,1]))\n",
    "\n",
    "print(RiemannTheta(V/(2j*np.pi),1j*Q/(2*np.pi), derivs=[[1],[1]]))"
   ]
  },
  {
   "cell_type": "code",
   "execution_count": 3,
   "metadata": {},
   "outputs": [
    {
     "name": "stdout",
     "output_type": "stream",
     "text": [
      "(41.3273135097+0j)\n",
      "[[41.32731351+0.j]]\n",
      "(41.3273135097+0j)\n"
     ]
    }
   ],
   "source": [
    "Q=np.zeros((1,1), dtype=float)\n",
    "V=np.zeros((1,1), dtype=float)\n",
    "V[0,0]=0.1\n",
    "Q[0,0]=0.01\n",
    "\n",
    "\n",
    "print(theta_1d(V,Q,0))\n",
    "print(theta_1d_phaseI(V,Q,0))\n",
    "\n",
    "print(RiemannTheta(V/(2j*np.pi),-1*Q/(2j*np.pi)))"
   ]
  },
  {
   "cell_type": "code",
   "execution_count": null,
   "metadata": {},
   "outputs": [],
   "source": [
    "41.0/25.0"
   ]
  },
  {
   "cell_type": "markdown",
   "metadata": {},
   "source": [
    "# Linear layer test"
   ]
  },
  {
   "cell_type": "code",
   "execution_count": null,
   "metadata": {},
   "outputs": [],
   "source": [
    "def funcA(x):\n",
    "    return 0.6-0.3*x\n",
    "\n",
    "def funcB(x):\n",
    "    return -0.5+0.8*x\n",
    "\n",
    "\n",
    "def func(x1,x2):\n",
    "    return 0.6-0.3*x1+1.2*x2\n",
    "\n",
    "X1 = np.linspace(-5.3, 5, 1000)\n",
    "X2 = np.linspace(-5.5, 5, 1000)\n",
    "\n",
    "X = np.stack((X1,X2))\n",
    "\n",
    "#Y = func(X1,X2).reshape((1,X.shape[1]))\n",
    "Y = np.stack((funcA(X1),funcB(X2)))\n",
    "\n",
    "M = mdl.Model()\n",
    "M.add(layers.Linear(2,2))\n",
    "\n",
    "#minim = minimizer.CMA(True)\n",
    "#minim.train(mse(), M, X, Y, tolfun=1e-3)\n",
    "\n",
    "M = mdl.Model()\n",
    "M.add(layers.Linear(2,1))\n",
    "M.add(layers.Linear(1,2))\n",
    "\n",
    "\n",
    "minim = minimizer.SGD()\n",
    "minim.train(mse(), M, X, Y, lr=0.0001,maxiter=1000)"
   ]
  },
  {
   "cell_type": "markdown",
   "metadata": {},
   "source": [
    "# E(h|v) SGD test"
   ]
  },
  {
   "cell_type": "code",
   "execution_count": 4,
   "metadata": {},
   "outputs": [
    {
     "name": "stdout",
     "output_type": "stream",
     "text": [
      "(0, ' cost: ', (3.3787023838359915+0j))\n",
      "(100, ' cost: ', (2.3849628259282305+0j))\n",
      "(200, ' cost: ', (1.8949450494990328+0j))\n",
      "(300, ' cost: ', (1.4444664513224197+0j))\n",
      "(400, ' cost: ', (1.1850970701267585+0j))\n",
      "(500, ' cost: ', (0.95001231060182845+0j))\n",
      "(600, ' cost: ', (0.76726161640471102+0j))\n",
      "(700, ' cost: ', (0.64869573874321262+0j))\n",
      "(800, ' cost: ', (0.5604777675914816+0j))\n",
      "(900, ' cost: ', (0.48799635323765017+0j))\n",
      "(1000, ' cost: ', (0.4307230457422811+0j))\n",
      "(1100, ' cost: ', (0.3886728204486864+0j))\n",
      "(1200, ' cost: ', (0.35831541397845068+0j))\n",
      "(1300, ' cost: ', (0.33576569817945523+0j))\n",
      "(1400, ' cost: ', (0.31842807225000119+0j))\n",
      "(1500, ' cost: ', (0.3047491945323535+0j))\n",
      "(1600, ' cost: ', (0.29380838406547244+0j))\n",
      "(1700, ' cost: ', (0.28504833837791194+0j))\n",
      "(1800, ' cost: ', (0.27810248776194413+0j))\n",
      "(1900, ' cost: ', (0.27268449133902301+0j))\n",
      "('Cost: ', (0.2685688877088579+0j))\n",
      "('Sol: ', array([-0.67225882+0.j, -6.92878260+0.j,  7.79877714+0.j]))\n"
     ]
    },
    {
     "data": {
      "text/plain": [
       "[<matplotlib.lines.Line2D at 0x7fa8d3f6ed50>]"
      ]
     },
     "execution_count": 4,
     "metadata": {},
     "output_type": "execute_result"
    },
    {
     "data": {
      "image/png": "[encoded data removed]",
      "text/plain": [
       "<matplotlib.figure.Figure at 0x7fa8d3f6ecd0>"
      ]
     },
     "metadata": {},
     "output_type": "display_data"
    }
   ],
   "source": [
    "def func(x):\n",
    "    return np.sin(x)+x\n",
    "\n",
    "X = np.linspace(-5, 5, 1000)\n",
    "X = X.reshape((1,X.shape[0]))\n",
    "\n",
    "Y = func(X[:,None]).reshape((1,X.shape[1]))\n",
    "\n",
    "M = mdl.Model()\n",
    "M.add(layers.DiagExpectationUnitLayer(1,1))\n",
    "\n",
    "minim = minimizer.SGD()\n",
    "minim.train(mse(), M, X, Y, lr=0.01,maxiter=2000)\n",
    "\n",
    "plt.plot(X.flatten(), Y.flatten(),\"og-\", label='fit')\n",
    "plt.plot(X.flatten(), np.real(M.predict(X)).flatten(),\"ob-\", label='fit')"
   ]
  },
  {
   "cell_type": "code",
   "execution_count": null,
   "metadata": {},
   "outputs": [],
   "source": [
    "def func(x1,x2):\n",
    "    return 0.2*x1+0.4*x2+0.8\n",
    "\n",
    "X1 = np.linspace(-5.3, 5, 1000)\n",
    "X2 = np.linspace(-5.5, 5, 1000)\n",
    "\n",
    "X = np.stack((X1,X2))\n",
    "\n",
    "Y = func(X1[:,None],X2[:,None]).reshape((1,X1.shape[0]))\n",
    "\n",
    "M = mdl.Model()\n",
    "M.add(layers.DiagExpectationUnitLayer(2,1))\n",
    "M.add(layers.DiagExpectationUnitLayer(1,1))\n",
    "\n",
    "\n",
    "minim = minimizer.SGD()\n",
    "minim.train(mse(), M, X, Y, lr=0.1,maxiter=400)\n",
    "\n",
    "#plt.plot(X.flatten(), Y.flatten(),\"og-\", label='fit')\n",
    "#plt.plot(X.flatten(), np.real(M.predict(X)).flatten(),\"ob-\", label='fit')"
   ]
  },
  {
   "cell_type": "markdown",
   "metadata": {},
   "source": [
    "# Layer test"
   ]
  },
  {
   "cell_type": "code",
   "execution_count": null,
   "metadata": {},
   "outputs": [],
   "source": [
    "M = mdl.Model()\n",
    "M.add(layers.DiagExpectationUnitLayer(1,3))\n",
    "M.add(layers.DiagExpectationUnitLayer(3,1))"
   ]
  },
  {
   "cell_type": "code",
   "execution_count": null,
   "metadata": {},
   "outputs": [],
   "source": [
    "def func(x):\n",
    "    return np.sin(x)\n",
    "\n",
    "X = np.linspace(0, 10, 5)\n",
    "X = X.reshape((1,X.shape[0]))\n",
    "\n",
    "Y = func(X[:,None]).reshape((1,X.shape[1]))"
   ]
  },
  {
   "cell_type": "code",
   "execution_count": null,
   "metadata": {},
   "outputs": [],
   "source": [
    "plt.plot(X.flatten(), Y.flatten(),\"ob-\")"
   ]
  },
  {
   "cell_type": "code",
   "execution_count": null,
   "metadata": {},
   "outputs": [],
   "source": [
    "minim = minimizer.CMA(True)\n",
    "minim.train(mse(), M, X, Y, tolfun=1e-3)"
   ]
  },
  {
   "cell_type": "code",
   "execution_count": null,
   "metadata": {},
   "outputs": [],
   "source": [
    "npoints = 5\n",
    "test_X = (np.linspace(0, 10, npoints)).reshape((1, npoints))\n",
    "\n",
    "plt.plot(X.flatten(), Y.flatten(),\"og-\", label='target')\n",
    "plt.plot(test_X.flatten(), np.real(M.predict(test_X)).flatten(),\"ob-\", label='fit')\n",
    "plt.legend()"
   ]
  },
  {
   "cell_type": "markdown",
   "metadata": {},
   "source": [
    "# Misc tests"
   ]
  },
  {
   "cell_type": "code",
   "execution_count": null,
   "metadata": {},
   "outputs": [],
   "source": [
    "L = layers.MaxPosLayer(3,1)"
   ]
  },
  {
   "cell_type": "code",
   "execution_count": null,
   "metadata": {},
   "outputs": [],
   "source": [
    "L.feedin(np.array([Y,2*Y,1*Y]).reshape(3,5))"
   ]
  },
  {
   "cell_type": "code",
   "execution_count": null,
   "metadata": {},
   "outputs": [],
   "source": [
    "np.array([Y,2*Y,Y]).reshape(3,5)"
   ]
  },
  {
   "cell_type": "code",
   "execution_count": null,
   "metadata": {},
   "outputs": [],
   "source": [
    "np.empty(0)"
   ]
  },
  {
   "cell_type": "code",
   "execution_count": null,
   "metadata": {},
   "outputs": [],
   "source": [
    "derivative_1d_theta_phaseI([0.1],[1j],0)"
   ]
  },
  {
   "cell_type": "code",
   "execution_count": null,
   "metadata": {},
   "outputs": [],
   "source": []
  },
  {
   "cell_type": "code",
   "execution_count": null,
   "metadata": {},
   "outputs": [],
   "source": []
  }
 ],
 "metadata": {
  "kernelspec": {
   "display_name": "Python 2",
   "language": "python",
   "name": "python2"
  },
  "language_info": {
   "codemirror_mode": {
    "name": "ipython",
    "version": 2
   },
   "file_extension": ".py",
   "mimetype": "text/x-python",
   "name": "python",
   "nbconvert_exporter": "python",
   "pygments_lexer": "ipython2",
   "version": "2.7.12"
  }
 },
 "nbformat": 4,
 "nbformat_minor": 2
}
