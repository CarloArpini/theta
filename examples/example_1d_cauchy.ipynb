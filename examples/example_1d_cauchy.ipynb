{
 "cells": [
  {
   "cell_type": "code",
   "execution_count": 1,
   "metadata": {
    "collapsed": true
   },
   "outputs": [],
   "source": [
    "import numpy as np\n",
    "import matplotlib.pyplot as plt\n",
    "%matplotlib inline\n",
    "\n",
    "from theta import rtbm, minimizer, model, layers, gradientschemes, stopping\n",
    "from theta.costfunctions import logarithmic\n",
    "\n",
    "import warnings\n",
    "warnings.filterwarnings('ignore')\n",
    "\n",
    "from scipy.stats import cauchy,levy\n",
    "\n",
    "from theta.layers import ThetaUnitLayer, NormAddLayer\n",
    "from theta.model import Model"
   ]
  },
  {
   "cell_type": "markdown",
   "metadata": {},
   "source": [
    "# Example 1"
   ]
  },
  {
   "cell_type": "markdown",
   "metadata": {},
   "source": [
    "## Generate data"
   ]
  },
  {
   "cell_type": "code",
   "execution_count": 50,
   "metadata": {},
   "outputs": [
    {
     "data": {
      "text/plain": [
       "[<matplotlib.lines.Line2D at 0x7f4f215c0110>]"
      ]
     },
     "execution_count": 50,
     "metadata": {},
     "output_type": "execute_result"
    },
    {
     "data": {
      "image/png": "[encoded data removed]",
      "text/plain": [
       "<matplotlib.figure.Figure at 0x7f4f23017490>"
      ]
     },
     "metadata": {},
     "output_type": "display_data"
    }
   ],
   "source": [
    "# simple gaussian\n",
    "n = 1000\n",
    "data = cauchy.rvs(loc=0, scale=1,size=n).reshape(1,n)\n",
    "data = np.select([np.abs(data) < 20], data)\n",
    "\n",
    "data = data.reshape(1,data.shape[1])\n",
    "\n",
    "plt.hist(data.T, bins=50,range=(-10,10), normed=True);\n",
    "\n",
    "x = np.linspace(-10,10, 100)\n",
    "plt.plot(x, cauchy.pdf(x),\"r-\")"
   ]
  },
  {
   "cell_type": "markdown",
   "metadata": {},
   "source": [
    "## Training with CMA"
   ]
  },
  {
   "cell_type": "code",
   "execution_count": 55,
   "metadata": {
    "collapsed": true
   },
   "outputs": [],
   "source": [
    "M = rtbm.RTBM(1,3, init_max_param_bound=30)"
   ]
  },
  {
   "cell_type": "code",
   "execution_count": 56,
   "metadata": {},
   "outputs": [
    {
     "name": "stdout",
     "output_type": "stream",
     "text": [
      "CMA on 1 cpu(s) enabled\n",
      "(5_w,11)-aCMA-ES (mu_w=3.4,w_1=42%) in dimension 14 (seed=248015, Fri Dec  1 12:35:06 2017)\n",
      "Iterat #Fevals   function value  axis ratio  sigma  min&max std  t[m:s]\n",
      "    1     11 1.497820094085033e+04 1.0e+00 2.81e+00  3e+00  3e+00 0:00.0\n",
      "    2     22 6.216511971619694e+03 1.1e+00 2.73e+00  3e+00  3e+00 0:00.4\n",
      "    3     33 5.234791491408925e+03 1.2e+00 2.67e+00  3e+00  3e+00 0:00.7\n",
      "   27    297 7.912325046198008e+03 2.8e+00 2.45e+00  2e+00  3e+00 0:03.7\n",
      "   64    704 2.867042285806792e+03 4.9e+00 8.46e-01  4e-01  1e+00 0:07.8\n",
      "  100   1100 2.392282663804282e+03 8.8e+00 2.47e-01  9e-02  3e-01 0:11.6\n",
      "  154   1694 2.317199537958926e+03 2.0e+01 1.02e-01  3e-02  1e-01 0:17.6\n",
      "  200   2200 2.309924274133476e+03 4.3e+01 4.22e-02  8e-03  5e-02 0:22.6\n",
      "  272   2992 2.290426759148761e+03 1.5e+02 8.58e-02  1e-02  1e-01 0:30.7\n",
      "  300   3300 2.284127446280677e+03 4.1e+02 1.09e-01  1e-02  3e-01 0:33.9\n",
      "  390   4290 2.277489502029510e+03 8.5e+02 9.36e-02  5e-03  3e-01 0:43.9\n",
      "  400   4400 2.277247551890727e+03 8.9e+02 1.23e-01  6e-03  4e-01 0:45.0\n",
      "  500   5500 2.271833178744014e+03 1.0e+03 1.22e-01  4e-03  2e-01 0:56.5\n",
      "  600   6600 2.262048941245336e+03 8.0e+02 1.05e-01  3e-03  2e-01 1:08.3\n",
      "  700   7700 2.261734078718674e+03 7.9e+02 2.82e-02  6e-04  3e-02 1:20.1\n",
      "  800   8800 2.261718396573386e+03 1.2e+03 1.40e-03  2e-05  1e-03 1:31.9\n",
      "  839   9229 2.261718394136907e+03 1.3e+03 2.34e-04  2e-06  2e-04 1:36.5\n",
      "CMAEvolutionStrategyResult(xbest=array([-5.03023172e-03,  5.33549096e-02,  6.29415235e-02, -8.22143234e-02,\n",
      "       -4.67017136e+00, -3.22633369e+00,  2.82253494e+00,  9.59230932e-01,\n",
      "        3.00000000e+01,  7.80849897e+00, -1.16693573e+01,  3.00000000e+01,\n",
      "       -7.74754396e+00,  1.32003137e+01]), fbest=2261.718394132787, evals_best=9207, evaluations=9229, iterations=839, xfavorite=array([-5.02833499e-03,  5.33488781e-02,  6.29421594e-02, -8.22099884e-02,\n",
      "       -4.67016500e+00, -3.22635520e+00,  2.82251862e+00,  9.59229108e-01,\n",
      "        3.15500190e+01,  7.80862307e+00, -1.16692712e+01,  3.15503447e+01,\n",
      "       -7.74763634e+00,  1.32002196e+01]), stds=array([2.43879621e-06, 1.88706282e-05, 2.53416371e-05, 1.57721833e-05,\n",
      "       1.13388814e-05, 1.94902272e-05, 1.74524316e-05, 3.84790336e-06,\n",
      "       1.81080610e-04, 1.24246816e-04, 7.45518906e-05, 1.48299900e-04,\n",
      "       1.09852386e-04, 9.43005670e-05]))\n"
     ]
    }
   ],
   "source": [
    "minim = minimizer.CMA(False)\n",
    "solution = minim.train(logarithmic, M, data, tolfun=1e-5)"
   ]
  },
  {
   "cell_type": "code",
   "execution_count": 58,
   "metadata": {},
   "outputs": [
    {
     "data": {
      "text/plain": [
       "array([-5.03023172e-03,  5.33549096e-02,  6.29415235e-02, -8.22143234e-02,\n",
       "       -4.67017136e+00, -3.22633369e+00,  2.82253494e+00,  9.59230932e-01,\n",
       "        3.00000000e+01,  7.80849897e+00, -1.16693573e+01,  3.00000000e+01,\n",
       "       -7.74754396e+00,  1.32003137e+01])"
      ]
     },
     "execution_count": 58,
     "metadata": {},
     "output_type": "execute_result"
    }
   ],
   "source": [
    "solution"
   ]
  },
  {
   "cell_type": "markdown",
   "metadata": {
    "scrolled": true
   },
   "source": [
    "## Training with SGD"
   ]
  },
  {
   "cell_type": "code",
   "execution_count": null,
   "metadata": {
    "collapsed": true
   },
   "outputs": [],
   "source": [
    "M = model.Model()\n",
    "M.add(layers.ThetaUnitLayer(1,1,Nhidden=3,diagonal_T=True,  init_max_param_bound=20))"
   ]
  },
  {
   "cell_type": "code",
   "execution_count": null,
   "metadata": {
    "collapsed": true
   },
   "outputs": [],
   "source": [
    "minim = minimizer.SGD()\n",
    "solution = minim.train(logarithmic, M, data, lr=0.0001,\n",
    "                       scheme=gradientschemes.adam(),  maxiter=1000)"
   ]
  },
  {
   "cell_type": "markdown",
   "metadata": {},
   "source": [
    "## Testing output"
   ]
  },
  {
   "cell_type": "code",
   "execution_count": 57,
   "metadata": {},
   "outputs": [
    {
     "data": {
      "text/plain": [
       "[<matplotlib.lines.Line2D at 0x7f4f22215190>]"
      ]
     },
     "execution_count": 57,
     "metadata": {},
     "output_type": "execute_result"
    },
    {
     "data": {
      "image/png": "[encoded data removed]",
      "text/plain": [
       "<matplotlib.figure.Figure at 0x7f4f1cb5e6d0>"
      ]
     },
     "metadata": {},
     "output_type": "display_data"
    }
   ],
   "source": [
    "test_data = (np.linspace(-5,5, 100)).reshape(1, 100)\n",
    "plt.hist(data.T, bins=50,range=(-5,5), normed=True, color=\"lightgray\")\n",
    "plt.plot(test_data.flatten(), M(test_data).flatten(), 'r-')\n",
    "x = np.linspace(-5,5, 100)\n",
    "plt.plot(x, cauchy.pdf(x),\"b-\")"
   ]
  },
  {
   "cell_type": "markdown",
   "metadata": {},
   "source": [
    "# Example 2"
   ]
  },
  {
   "cell_type": "code",
   "execution_count": 49,
   "metadata": {},
   "outputs": [
    {
     "data": {
      "image/png": "[encoded data removed]",
      "text/plain": [
       "<matplotlib.figure.Figure at 0x7f4f1d4daf10>"
      ]
     },
     "metadata": {},
     "output_type": "display_data"
    }
   ],
   "source": [
    "def cauchy_mixture(n):\n",
    "    v = np.zeros(n)\n",
    "    u = np.random.random_sample(n)\n",
    "    for i in range(n):\n",
    "        if u[i] < 0.6:\n",
    "            v[i] = cauchy.rvs(loc=0, scale=1,size=1)\n",
    "        elif u[i] < 0.7:\n",
    "            v[i] = cauchy.rvs(loc=5, scale=5,size=1)\n",
    "        else:\n",
    "            v[i] = cauchy.rvs(loc=10, scale=1,size=1)\n",
    "    return v\n",
    "\n",
    "\n",
    "n = 1000\n",
    "data = (cauchy_mixture(n)).reshape(1,n)\n",
    "data = np.select([np.abs(data) < 20], data)\n",
    "\n",
    "data = data.reshape(1,data.shape[1])\n",
    "\n",
    "plt.hist(data.T, normed=True, bins=50);\n",
    "x = np.linspace(-20,20, 100)\n",
    "\n",
    "def p(x):\n",
    "    return 0.6*cauchy.pdf(x) + 0.1*cauchy.pdf(x, loc=5, scale=5) + 0.3*cauchy.pdf(x, loc=10)\n",
    "\n",
    "plt.plot(x, p(x),\"r-\")"
   ]
  },
  {
   "cell_type": "code",
   "execution_count": 37,
   "metadata": {
    "collapsed": true
   },
   "outputs": [],
   "source": [
    "mdl = Model()\n",
    "mdl.add(ThetaUnitLayer(1,2,2, init_max_param_bound=50))\n",
    "mdl.add(NormAddLayer(2,1))"
   ]
  },
  {
   "cell_type": "code",
   "execution_count": 38,
   "metadata": {},
   "outputs": [
    {
     "name": "stdout",
     "output_type": "stream",
     "text": [
      "CMA on 1 cpu(s) enabled\n",
      "(6_w,12)-aCMA-ES (mu_w=3.7,w_1=40%) in dimension 20 (seed=253641, Fri Dec  1 12:20:02 2017)\n",
      "Iterat #Fevals   function value  axis ratio  sigma  min&max std  t[m:s]\n",
      "    1     12 1.270977125996247e+04 1.0e+00 4.81e+00  5e+00  5e+00 0:00.0\n",
      "    2     24 1.406181875735856e+04 1.1e+00 4.79e+00  5e+00  5e+00 0:01.2\n",
      "    3     36 2.418681883010465e+04 1.1e+00 4.72e+00  4e+00  5e+00 0:01.8\n",
      "    9    108 4.899305585731751e+04 1.3e+00 4.87e+00  5e+00  5e+00 0:05.0\n",
      "   18    216 5.503137840126107e+04 1.5e+00 4.35e+00  4e+00  5e+00 0:09.4\n",
      "   33    396 1.285995901269376e+04 1.6e+00 2.06e+00  2e+00  2e+00 0:14.4\n",
      "   56    672 9.491309070295547e+03 2.1e+00 1.48e+00  1e+00  2e+00 0:20.5\n",
      "   82    984 5.883300417404977e+03 3.2e+00 1.00e+00  5e-01  1e+00 0:27.5\n",
      "  100   1200 4.609499982004584e+03 3.6e+00 5.99e-01  3e-01  7e-01 0:32.2\n",
      "  135   1620 3.761352696313731e+03 5.4e+00 3.65e-01  1e-01  4e-01 0:41.3\n",
      "  174   2088 3.217646964535361e+03 8.1e+00 2.22e-01  6e-02  3e-01 0:51.4\n",
      "  200   2400 3.080666829977680e+03 1.2e+01 1.69e-01  4e-02  2e-01 0:58.1\n",
      "  247   2964 2.985620560075218e+03 2.1e+01 1.19e-01  3e-02  1e-01 1:10.2\n",
      "  298   3576 2.924580225448444e+03 4.5e+01 8.73e-02  2e-02  1e-01 1:23.3\n",
      "  300   3600 2.923901673743446e+03 4.6e+01 8.86e-02  2e-02  1e-01 1:23.8\n",
      "  359   4308 2.919953106232983e+03 9.8e+01 9.98e-02  1e-02  2e-01 1:39.0\n",
      "  400   4800 2.916859573871898e+03 1.7e+02 6.29e-02  8e-03  1e-01 1:49.6\n",
      "  465   5580 2.870396162710314e+03 7.3e+02 2.59e-01  2e-02  9e-01 2:06.6\n",
      "  500   6000 2.852335334449596e+03 7.3e+02 1.85e-01  1e-02  5e-01 2:16.0\n",
      "  572   6864 2.843676538857824e+03 8.8e+02 6.67e-02  4e-03  2e-01 2:35.1\n",
      "  600   7200 2.842135012340950e+03 1.1e+03 1.04e-01  6e-03  3e-01 2:42.5\n",
      "  680   8160 2.841383688529715e+03 1.8e+03 1.53e-02  7e-04  4e-02 3:03.7\n",
      "  700   8400 2.841383051209416e+03 1.8e+03 7.32e-03  3e-04  2e-02 3:08.9\n",
      "  788   9456 2.841381464605537e+03 2.6e+03 2.96e-03  8e-05  7e-03 3:32.2\n",
      "  800   9600 2.841381322205434e+03 3.5e+03 3.54e-03  9e-05  1e-02 3:35.3\n",
      "  895  10740 2.841379732887185e+03 2.1e+04 5.40e-03  8e-05  7e-02 4:00.4\n",
      "  900  10800 2.841379691276249e+03 2.2e+04 4.39e-03  6e-05  6e-02 4:01.7\n",
      " 1000  12000 2.841379618769094e+03 1.1e+05 2.18e-03  2e-05  8e-02 4:28.2\n",
      "Iterat #Fevals   function value  axis ratio  sigma  min&max std  t[m:s]\n",
      " 1035  12420 2.841379615632432e+03 1.6e+05 1.29e-03  9e-06  6e-02 4:37.5\n",
      "CMAEvolutionStrategyResult(xbest=array([-9.52265174e+00,  7.59255202e+00, -1.22850381e+01,  3.90832824e+00,\n",
      "        1.58761030e+00,  7.27340380e+00,  6.91850450e+00,  2.17334815e+00,\n",
      "        1.63180622e+01,  3.32419114e-03,  1.10841327e+00,  1.18185864e-01,\n",
      "        2.79769970e+00,  3.00235019e+00,  5.90867379e-01,  2.22231089e+01,\n",
      "        9.00123918e+00,  2.02721838e+01, -9.42265349e+00,  9.89798389e+00]), fbest=2841.3796155279506, evals_best=12403, evaluations=12420, iterations=1035, xfavorite=array([-9.52482512e+00,  7.59260156e+00, -1.22784110e+01,  3.90489579e+00,\n",
      "        1.58183225e+00,  7.27450349e+00,  6.92366536e+00,  2.17540688e+00,\n",
      "        1.63187179e+01,  3.32252513e-03,  1.10846727e+00,  1.18115113e-01,\n",
      "        2.79752664e+00,  3.00232616e+00,  5.90847494e-01,  2.22218461e+01,\n",
      "        9.00076463e+00,  2.02724604e+01, -9.40509481e+00, -3.21140828e+01]), stds=array([5.10022898e-03, 1.10590441e-03, 1.85574683e-02, 1.04552485e-02,\n",
      "       1.85514015e-02, 3.95685121e-03, 1.78487480e-02, 9.92973793e-03,\n",
      "       6.58543900e-03, 9.11333135e-06, 9.63363188e-05, 9.24833653e-05,\n",
      "       1.20329234e-04, 9.41171293e-05, 1.70939494e-05, 8.44101253e-04,\n",
      "       4.60160073e-04, 7.62891537e-04, 5.50575337e-02, 2.82924225e-02]))\n"
     ]
    }
   ],
   "source": [
    "minim = minimizer.CMA()\n",
    "solution = minim.train(logarithmic(), mdl, data,  tolfun=1e-5)"
   ]
  },
  {
   "cell_type": "code",
   "execution_count": 39,
   "metadata": {},
   "outputs": [
    {
     "data": {
      "text/plain": [
       "[<matplotlib.lines.Line2D at 0x7f4f1c8a7e90>]"
      ]
     },
     "execution_count": 39,
     "metadata": {},
     "output_type": "execute_result"
    },
    {
     "data": {
      "image/png": "[encoded data removed]",
      "text/plain": [
       "<matplotlib.figure.Figure at 0x7f4f1c8a7e50>"
      ]
     },
     "metadata": {},
     "output_type": "display_data"
    }
   ],
   "source": [
    "test_data = (np.linspace(-20,20, 1000)).reshape(1, 1000)\n",
    "plt.hist(data.T, bins=50, normed=True, color=\"lightgray\");\n",
    "plt.plot(test_data.flatten(), mdl(test_data).flatten(), 'r-')\n",
    "plt.plot(test_data.flatten(), p(test_data.flatten()),\"b-\")"
   ]
  },
  {
   "cell_type": "code",
   "execution_count": 40,
   "metadata": {},
   "outputs": [
    {
     "data": {
      "text/plain": [
       "array([[ 6.9185045 ,  2.17334815],\n",
       "       [ 2.17334815, 16.31806222]])"
      ]
     },
     "execution_count": 40,
     "metadata": {},
     "output_type": "execute_result"
    }
   ],
   "source": [
    "mdl.get_layer(1).get_unit(1)._q"
   ]
  },
  {
   "cell_type": "code",
   "execution_count": 41,
   "metadata": {},
   "outputs": [
    {
     "data": {
      "text/plain": [
       "array([-9.52265174e+00,  7.59255202e+00, -1.22850381e+01,  3.90832824e+00,\n",
       "        1.58761030e+00,  7.27340380e+00,  6.91850450e+00,  2.17334815e+00,\n",
       "        1.63180622e+01,  3.32419114e-03,  1.10841327e+00,  1.18185864e-01,\n",
       "        2.79769970e+00,  3.00235019e+00,  5.90867379e-01,  2.22231089e+01,\n",
       "        9.00123918e+00,  2.02721838e+01, -9.42265349e+00,  9.89798389e+00])"
      ]
     },
     "execution_count": 41,
     "metadata": {},
     "output_type": "execute_result"
    }
   ],
   "source": [
    "solution"
   ]
  },
  {
   "cell_type": "code",
   "execution_count": null,
   "metadata": {
    "collapsed": true
   },
   "outputs": [],
   "source": []
  }
 ],
 "metadata": {
  "kernelspec": {
   "display_name": "Python 2",
   "language": "python",
   "name": "python2"
  },
  "language_info": {
   "codemirror_mode": {
    "name": "ipython",
    "version": 2
   },
   "file_extension": ".py",
   "mimetype": "text/x-python",
   "name": "python",
   "nbconvert_exporter": "python",
   "pygments_lexer": "ipython2",
   "version": "2.7.13"
  }
 },
 "nbformat": 4,
 "nbformat_minor": 1
}
