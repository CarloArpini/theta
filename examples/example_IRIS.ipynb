{
 "cells": [
  {
   "cell_type": "code",
   "execution_count": 24,
   "metadata": {},
   "outputs": [],
   "source": [
    "import numpy as np\n",
    "import matplotlib.pyplot as plt\n",
    "import pandas as pd\n",
    "%matplotlib inline\n",
    "\n",
    "import rtbm.layers as layers\n",
    "import rtbm.model as mdl\n",
    "\n",
    "import warnings\n",
    "warnings.filterwarnings('ignore')\n",
    "\n",
    "from rtbm.costfunctions import mse, crossentropy\n",
    "from rtbm.activations import tanh, sigmoid\n",
    "from rtbm.initializers import uniform, normal\n",
    "from rtbm.gradientschemes import adam, RMSprop, adagrad, adadelta\n",
    "from rtbm import minimizer\n",
    "\n",
    "from sklearn.metrics import confusion_matrix, classification_report\n",
    "from sklearn.preprocessing import LabelBinarizer\n",
    "\n",
    "from scipy import signal\n",
    "\n",
    "from sklearn import datasets\n",
    "from sklearn.model_selection import train_test_split"
   ]
  },
  {
   "cell_type": "markdown",
   "metadata": {
    "collapsed": true
   },
   "source": [
    "# Example 3: IRIS (via CMA)"
   ]
  },
  {
   "cell_type": "code",
   "execution_count": 25,
   "metadata": {},
   "outputs": [],
   "source": [
    "# Load MNIST dataset\n",
    "iris = datasets.load_iris()\n",
    "\n",
    "\n",
    "X_train, X_test, Y_train, Y_test = train_test_split(iris.data, iris.target, test_size=0.4, random_state=0)\n",
    "\n",
    "\n",
    "enc = LabelBinarizer()\n",
    "enc.fit(np.diag([1,1,1]))\n",
    "enc.classes_ = [0, 1, 2]\n",
    "\n",
    "T=enc.transform(Y_train).T"
   ]
  },
  {
   "cell_type": "code",
   "execution_count": 191,
   "metadata": {},
   "outputs": [],
   "source": [
    "M = mdl.Model()\n",
    "M.add(layers.DiagExpectationUnitLayer(4,3, param_bound=20))\n",
    "M.add(layers.NonLinear(3,3))"
   ]
  },
  {
   "cell_type": "code",
   "execution_count": 31,
   "metadata": {
    "scrolled": true
   },
   "outputs": [
    {
     "name": "stdout",
     "output_type": "stream",
     "text": [
      "CMA on 1 cpu(s) enabled\n",
      "(7_w,14)-aCMA-ES (mu_w=4.3,w_1=36%) in dimension 30 (seed=464686, Mon Dec  4 10:56:24 2017)\n",
      "Iterat #Fevals   function value  axis ratio  sigma  min&max std  t[m:s]\n",
      "    1     14 1.516037997454532e+00 1.0e+00 1.89e+00  2e+00  2e+00 0:00.0\n",
      "    2     28 1.641732212617864e+00 1.1e+00 1.85e+00  2e+00  2e+00 0:00.1\n",
      "    3     42 1.693121385357492e+00 1.1e+00 1.86e+00  2e+00  2e+00 0:00.2\n",
      "   42    588 1.519697530742598e+00 1.7e+00 1.18e+00  1e+00  1e+00 0:03.2\n",
      "   95   1330 1.011556835155225e+00 2.4e+00 5.80e-01  5e-01  7e-01 0:07.2\n",
      "  100   1400 1.177030084924074e+00 2.4e+00 5.33e-01  4e-01  6e-01 0:07.6\n",
      "  184   2576 3.398811107501550e-01 3.6e+00 2.90e-01  2e-01  3e-01 0:13.7\n",
      "  200   2800 3.361501182564704e-01 3.9e+00 2.79e-01  2e-01  3e-01 0:14.8\n",
      "  300   4200 9.167088142514501e-02 6.3e+00 1.02e-01  6e-02  1e-01 0:22.0\n",
      "  400   5600 6.014728151637073e-02 9.8e+00 7.99e-02  4e-02  1e-01 0:29.2\n",
      "  500   7000 4.615312613812557e-02 2.5e+01 6.03e-02  3e-02  1e-01 0:36.4\n",
      "CMAEvolutionStrategyResult(xbest=array([ 2.39551191, -2.58834109, -2.01268621, -4.81202963, -1.55359683,\n",
      "       -1.10190107,  5.75318843, -1.44250203, -0.2080288 , -0.32167287,\n",
      "        3.35109695,  2.27454247,  8.44671351, -0.46139928,  4.26757716,\n",
      "       19.09683022, 12.53728108, 15.9236302 , -0.09112833,  3.71323094,\n",
      "       -0.22898444, -0.0335099 ,  2.31338924, -0.08323758, -0.26073071,\n",
      "       -3.87787296,  3.92055581, -2.18643614,  0.27769775, -1.53879025]), fbest=0.04583339139199891, evals_best=6975, evaluations=7000, iterations=500, xfavorite=array([ 2.28560575, -2.5830061 , -1.98536488, -4.74835939, -1.56863699,\n",
      "       -1.09007967,  5.78243441, -1.40155203, -0.20983946, -0.39875   ,\n",
      "        3.30811218,  2.24365544,  8.4938951 , -0.46950126,  4.25173616,\n",
      "       19.10215529, 12.51777085, 15.85202576, -0.10610812,  3.74446769,\n",
      "       -0.23208298, -0.06272324,  2.28940179, -0.10012947, -0.28484825,\n",
      "       -3.91682005,  3.92876301, -2.16653095,  0.28457667, -1.56736428]), stds=array([0.06833209, 0.05910872, 0.07149116, 0.05828262, 0.05549932,\n",
      "       0.05184456, 0.06939585, 0.06509193, 0.06681203, 0.07496013,\n",
      "       0.04365406, 0.05041137, 0.06867372, 0.09796061, 0.1002478 ,\n",
      "       0.09133075, 0.07405379, 0.09152915, 0.03200161, 0.06481346,\n",
      "       0.0269225 , 0.070687  , 0.05781327, 0.0402975 , 0.07438948,\n",
      "       0.06855225, 0.06758135, 0.06414127, 0.03367416, 0.04263076]))\n"
     ]
    }
   ],
   "source": [
    "minim = minimizer.CMA(False)\n",
    "\n",
    "sol=minim.train(mse(), M, np.transpose(X_train), T, maxiter=500)"
   ]
  },
  {
   "cell_type": "code",
   "execution_count": 32,
   "metadata": {},
   "outputs": [
    {
     "name": "stdout",
     "output_type": "stream",
     "text": [
      "             precision    recall  f1-score   support\n",
      "\n",
      "          0       1.00      1.00      1.00        34\n",
      "          1       1.00      0.96      0.98        27\n",
      "          2       0.97      1.00      0.98        29\n",
      "\n",
      "avg / total       0.99      0.99      0.99        90\n",
      "\n",
      "[[34  0  0]\n",
      " [ 0 26  1]\n",
      " [ 0  0 29]]\n"
     ]
    }
   ],
   "source": [
    "P=np.argmax(M.predict(np.transpose(X_train)),axis=0)\n",
    "\n",
    "print(classification_report(Y_train,P.T))\n",
    "print(confusion_matrix(Y_train, P.T))"
   ]
  },
  {
   "cell_type": "code",
   "execution_count": 33,
   "metadata": {
    "scrolled": true
   },
   "outputs": [
    {
     "name": "stdout",
     "output_type": "stream",
     "text": [
      "             precision    recall  f1-score   support\n",
      "\n",
      "          0       1.00      1.00      1.00        16\n",
      "          1       0.92      0.96      0.94        23\n",
      "          2       0.95      0.90      0.93        21\n",
      "\n",
      "avg / total       0.95      0.95      0.95        60\n",
      "\n",
      "[[16  0  0]\n",
      " [ 0 22  1]\n",
      " [ 0  2 19]]\n"
     ]
    }
   ],
   "source": [
    "P=np.argmax(M.predict(np.transpose(X_test)),axis=0)\n",
    "\n",
    "\n",
    "print(classification_report(Y_test,P.T))\n",
    "print(confusion_matrix(Y_test, P.T))"
   ]
  },
  {
   "cell_type": "markdown",
   "metadata": {},
   "source": [
    "# Example 4: IRIS (via SGD)"
   ]
  },
  {
   "cell_type": "code",
   "execution_count": 207,
   "metadata": {},
   "outputs": [],
   "source": [
    "M = mdl.Model()\n",
    "#M.add(layers.NonLinear(4,3,tanh))\n",
    "M.add(layers.DiagExpectationUnitLayer(4,3, param_bound=20))\n",
    "#M.add(layers.NonLinear(2,3))"
   ]
  },
  {
   "cell_type": "code",
   "execution_count": null,
   "metadata": {},
   "outputs": [
    {
     "name": "stdout",
     "output_type": "stream",
     "text": [
      "Progress: |--------------------| 3.1% | iteration 309 in 2.97(s) | cost = 0.779620 | val = 0.000000\r"
     ]
    }
   ],
   "source": [
    "minim = minimizer.SGD()\n",
    "\n",
    "sol =minim.train(mse, M, np.transpose(X_train), T,scheme=adam(), lr=0.001, maxiter=10000)"
   ]
  },
  {
   "cell_type": "code",
   "execution_count": null,
   "metadata": {},
   "outputs": [],
   "source": [
    "P=np.argmax(M.predict(np.transpose(X_train)),axis=0)\n",
    "\n",
    "print(classification_report(Y_train,P.T))\n",
    "print(confusion_matrix(Y_train, P.T))"
   ]
  },
  {
   "cell_type": "code",
   "execution_count": null,
   "metadata": {},
   "outputs": [],
   "source": [
    "P=np.argmax(M.predict(np.transpose(X_test)),axis=0)\n",
    "\n",
    "\n",
    "print(classification_report(Y_test,P.T))\n",
    "print(confusion_matrix(Y_test, P.T))"
   ]
  },
  {
   "cell_type": "code",
   "execution_count": null,
   "metadata": {},
   "outputs": [],
   "source": [
    "M.get_layer(1).show_activation(1,1)\n",
    "M.get_layer(1).show_activation(2,1)\n",
    "M.get_layer(1).show_activation(3,1)\n"
   ]
  },
  {
   "cell_type": "code",
   "execution_count": null,
   "metadata": {},
   "outputs": [],
   "source": []
  },
  {
   "cell_type": "code",
   "execution_count": null,
   "metadata": {},
   "outputs": [],
   "source": []
  }
 ],
 "metadata": {
  "kernelspec": {
   "display_name": "Python 2",
   "language": "python",
   "name": "python2"
  },
  "language_info": {
   "codemirror_mode": {
    "name": "ipython",
    "version": 2
   },
   "file_extension": ".py",
   "mimetype": "text/x-python",
   "name": "python",
   "nbconvert_exporter": "python",
   "pygments_lexer": "ipython2",
   "version": "2.7.6"
  }
 },
 "nbformat": 4,
 "nbformat_minor": 2
}
