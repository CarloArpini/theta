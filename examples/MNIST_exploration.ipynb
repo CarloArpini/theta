{
 "cells": [
  {
   "cell_type": "code",
   "execution_count": 1,
   "metadata": {},
   "outputs": [],
   "source": [
    "import numpy as np\n",
    "import pandas as pd\n",
    "from matplotlib import pyplot as plt\n",
    "from sklearn import linear_model\n",
    "from sklearn.metrics import confusion_matrix, classification_report\n",
    "\n",
    "from rtbm import RTBM, minimizer\n",
    "\n",
    "import rtbm.layers as layers\n",
    "import rtbm.model as mdl\n",
    "\n",
    "import warnings\n",
    "warnings.filterwarnings('ignore')\n",
    "\n",
    "from rtbm.costfunctions import mse, crossentropy\n"
   ]
  },
  {
   "cell_type": "code",
   "execution_count": 2,
   "metadata": {},
   "outputs": [],
   "source": [
    "# Load MNIST dataset\n",
    "MNIST_train = pd.read_csv('~/data/mnist_train.csv', delimiter=\",\",header=None).values\n",
    "MNIST_test  = pd.read_csv('~/data/mnist_test.csv', delimiter=\",\",header=None).values\n",
    "\n",
    "# Prepare data (normalized onto [0,1])\n",
    "Y_train = MNIST_train[0:10000,0]\n",
    "X_train = MNIST_train[0:10000,1:]/255.0\n",
    "\n",
    "Y_test = MNIST_test[:,0]\n",
    "X_test = MNIST_test[:,1:]/255.0"
   ]
  },
  {
   "cell_type": "code",
   "execution_count": null,
   "metadata": {
    "scrolled": true
   },
   "outputs": [],
   "source": [
    "# Visualize individual pics\n",
    "i=10\n",
    "print(Y_train[i])\n",
    "I=np.reshape(X_train[i], (28,28))\n",
    "plt.imshow(I, interpolation='nearest',  cmap='gray_r')\n",
    "plt.show()"
   ]
  },
  {
   "cell_type": "markdown",
   "metadata": {},
   "source": [
    "# Logistic regression baseline"
   ]
  },
  {
   "cell_type": "code",
   "execution_count": null,
   "metadata": {},
   "outputs": [],
   "source": [
    "# Logistic regression baseline\n",
    "logreg = linear_model.LogisticRegression(multi_class='multinomial',solver='lbfgs')\n",
    "\n",
    "logreg.fit(X_train,Y_train)\n"
   ]
  },
  {
   "cell_type": "code",
   "execution_count": null,
   "metadata": {},
   "outputs": [],
   "source": [
    "# On train set\n",
    "\n",
    "P=logreg.predict(X_train)\n",
    "\n",
    "print(classification_report(Y_train,P))\n",
    "print(confusion_matrix(Y_train, P))\n"
   ]
  },
  {
   "cell_type": "code",
   "execution_count": null,
   "metadata": {},
   "outputs": [],
   "source": [
    "# On test set\n",
    "P=logreg.predict(X_test)\n",
    "\n",
    "print(classification_report(Y_test,P))\n",
    "print(confusion_matrix(Y_test, P))\n"
   ]
  },
  {
   "cell_type": "markdown",
   "metadata": {},
   "source": [
    "# Linear regression base line"
   ]
  },
  {
   "cell_type": "code",
   "execution_count": null,
   "metadata": {},
   "outputs": [],
   "source": [
    "linreg = linear_model.LogisticRegression()\n",
    "\n",
    "linreg.fit(X_train,Y_train)\n"
   ]
  },
  {
   "cell_type": "code",
   "execution_count": null,
   "metadata": {},
   "outputs": [],
   "source": [
    "# On train set\n",
    "\n",
    "P=linreg.predict(X_train)\n",
    "\n",
    "print(classification_report(Y_train,P))\n",
    "print(confusion_matrix(Y_train, P))"
   ]
  },
  {
   "cell_type": "code",
   "execution_count": null,
   "metadata": {},
   "outputs": [],
   "source": [
    "# On test set\n",
    "P=linreg.predict(X_test)\n",
    "\n",
    "print(classification_report(Y_test,P))\n",
    "print(confusion_matrix(Y_test, P))\n"
   ]
  },
  {
   "cell_type": "markdown",
   "metadata": {},
   "source": [
    "# Linear regression via CMA"
   ]
  },
  {
   "cell_type": "code",
   "execution_count": null,
   "metadata": {},
   "outputs": [
    {
     "name": "stdout",
     "output_type": "stream",
     "text": [
      "CMA on 16 cpu(s) enabled\n",
      "(11_w,23)-aCMA-ES (mu_w=6.7,w_1=25%) in dimension 784 (seed=488251, Mon Oct 30 13:24:32 2017)\n",
      "Iterat #Fevals   function value  axis ratio  sigma  min&max std  t[m:s]\n",
      "    1     23 2.239779279757751e+01 1.0e+00 1.98e-01  2e-01  2e-01 0:00.4\n",
      "    2     46 2.135834748308743e+01 1.0e+00 1.96e-01  2e-01  2e-01 0:00.7\n",
      "    3     69 2.011767739095039e+01 1.0e+00 1.95e-01  2e-01  2e-01 0:01.0\n",
      "   12    276 1.456774125575670e+01 1.0e+00 1.84e-01  2e-01  2e-01 0:04.2\n",
      "   23    529 1.242252437231577e+01 1.0e+00 1.75e-01  2e-01  2e-01 0:08.4\n",
      "   37    851 1.074902783894894e+01 1.0e+00 1.67e-01  2e-01  2e-01 0:13.5\n",
      "   54   1242 9.486044885817837e+00 1.0e+00 1.60e-01  2e-01  2e-01 0:19.7\n",
      "   73   1679 9.414536357447872e+00 1.0e+00 1.55e-01  2e-01  2e-01 0:26.9\n",
      "   95   2185 8.667962252367108e+00 1.0e+00 1.50e-01  2e-01  2e-01 0:35.1\n",
      "  100   2300 8.882040138217512e+00 1.0e+00 1.49e-01  1e-01  1e-01 0:37.0\n",
      "  127   2921 8.469702697840805e+00 1.0e+00 1.44e-01  1e-01  1e-01 0:47.1\n",
      "  157   3611 8.495042631691769e+00 1.1e+00 1.39e-01  1e-01  1e-01 0:58.2\n",
      "  190   4370 7.860679484235970e+00 1.1e+00 1.36e-01  1e-01  1e-01 1:10.6\n",
      "  200   4600 7.816286155815926e+00 1.1e+00 1.35e-01  1e-01  1e-01 1:14.3\n",
      "  238   5474 7.847046495274848e+00 1.1e+00 1.32e-01  1e-01  1e-01 1:28.3\n",
      "  278   6394 7.635029351274269e+00 1.1e+00 1.28e-01  1e-01  1e-01 1:43.3\n",
      "  300   6900 7.767315059274720e+00 1.1e+00 1.26e-01  1e-01  1e-01 1:51.4\n",
      "  345   7935 7.385756272761876e+00 1.2e+00 1.23e-01  1e-01  1e-01 2:08.8\n",
      "  393   9039 7.464575604766894e+00 1.2e+00 1.23e-01  1e-01  1e-01 2:27.4\n",
      "  400   9200 7.294111588847498e+00 1.2e+00 1.22e-01  1e-01  1e-01 2:30.3\n",
      "  455  10465 7.258226759565676e+00 1.2e+00 1.19e-01  1e-01  1e-01 2:50.4\n",
      "  500  11500 7.407404355148770e+00 1.2e+00 1.16e-01  1e-01  1e-01 3:07.5\n",
      "  558  12834 7.260313898666301e+00 1.2e+00 1.12e-01  1e-01  1e-01 3:29.5\n",
      "  600  13800 7.376715763523577e+00 1.2e+00 1.07e-01  1e-01  1e-01 3:45.6\n",
      "  663  15249 7.080562585907869e+00 1.2e+00 1.03e-01  1e-01  1e-01 4:09.7\n",
      "  700  16100 6.773634884555285e+00 1.2e+00 1.01e-01  1e-01  1e-01 4:23.7\n",
      "  769  17687 6.559355448072273e+00 1.3e+00 9.45e-02  9e-02  9e-02 4:49.7\n",
      "  800  18400 6.393275448710671e+00 1.3e+00 9.30e-02  9e-02  9e-02 5:01.4\n",
      "  875  20125 6.406399612431285e+00 1.3e+00 9.04e-02  9e-02  9e-02 5:29.6\n",
      "  900  20700 6.434403638324946e+00 1.3e+00 8.93e-02  9e-02  9e-02 5:39.2\n",
      "  981  22563 6.091525149749537e+00 1.3e+00 8.35e-02  8e-02  8e-02 6:09.6\n",
      " 1000  23000 6.232998080436141e+00 1.3e+00 8.24e-02  8e-02  8e-02 6:16.8\n",
      "Iterat #Fevals   function value  axis ratio  sigma  min&max std  t[m:s]\n",
      " 1085  24955 5.987748527453338e+00 1.3e+00 7.54e-02  8e-02  8e-02 6:48.8\n",
      " 1100  25300 5.890542829963178e+00 1.3e+00 7.44e-02  7e-02  7e-02 6:54.8\n",
      " 1191  27393 5.730957253154127e+00 1.3e+00 6.76e-02  7e-02  7e-02 7:29.3\n",
      " 1200  27600 5.729763045904846e+00 1.3e+00 6.73e-02  7e-02  7e-02 7:32.5\n",
      " 1296  29808 5.600223142800148e+00 1.3e+00 6.23e-02  6e-02  6e-02 8:08.9\n",
      " 1300  29900 5.620689581465945e+00 1.3e+00 6.22e-02  6e-02  6e-02 8:10.2\n",
      " 1400  32200 5.454436582913940e+00 1.3e+00 5.90e-02  6e-02  6e-02 8:47.2\n",
      " 1500  34500 5.181248039832441e+00 1.3e+00 5.65e-02  6e-02  6e-02 9:25.3\n",
      " 1600  36800 5.158409743584023e+00 1.3e+00 5.43e-02  5e-02  5e-02 10:02.7\n",
      " 1700  39100 4.924656009369855e+00 1.3e+00 5.15e-02  5e-02  5e-02 10:40.2\n",
      " 1800  41400 4.897415854800834e+00 1.3e+00 4.85e-02  5e-02  5e-02 11:17.8\n",
      " 1900  43700 4.773131851030564e+00 1.3e+00 4.55e-02  5e-02  5e-02 11:55.2\n",
      " 2000  46000 4.644924105212410e+00 1.3e+00 4.34e-02  4e-02  4e-02 12:32.7\n",
      "Iterat #Fevals   function value  axis ratio  sigma  min&max std  t[m:s]\n",
      " 2100  48300 4.509356361867020e+00 1.4e+00 4.13e-02  4e-02  4e-02 13:10.3\n",
      " 2200  50600 4.490312793126903e+00 1.4e+00 3.94e-02  4e-02  4e-02 13:48.8\n",
      " 2300  52900 4.379031972631674e+00 1.4e+00 3.77e-02  4e-02  4e-02 14:26.4\n"
     ]
    }
   ],
   "source": [
    "M = mdl.Model()\n",
    "M.add(layers.Linear(784,1,paramBound=2))\n",
    "\n",
    "minim = minimizer.CMA(True)\n",
    "sol=minim.train(mse(), M, np.transpose(X_train), np.transpose(Y_train), maxiter=10000)"
   ]
  },
  {
   "cell_type": "code",
   "execution_count": null,
   "metadata": {},
   "outputs": [],
   "source": [
    "# On train set\n",
    "P=np.abs(np.round(np.real(M.predict(np.transpose(X_train)))))\n",
    "\n",
    "\n",
    "print(classification_report(Y_train,P.T))\n",
    "print(confusion_matrix(Y_train, P.T))"
   ]
  },
  {
   "cell_type": "code",
   "execution_count": null,
   "metadata": {},
   "outputs": [],
   "source": [
    "# On test set\n",
    "P=np.abs(np.round(np.real(M.predict(np.transpose(X_test)))))\n",
    "\n",
    "print(classification_report(Y_test,P.T))\n",
    "print(confusion_matrix(Y_test, P.T))"
   ]
  },
  {
   "cell_type": "code",
   "execution_count": null,
   "metadata": {},
   "outputs": [],
   "source": []
  }
 ],
 "metadata": {
  "kernelspec": {
   "display_name": "Python 2",
   "language": "python",
   "name": "python2"
  },
  "language_info": {
   "codemirror_mode": {
    "name": "ipython",
    "version": 2
   },
   "file_extension": ".py",
   "mimetype": "text/x-python",
   "name": "python",
   "nbconvert_exporter": "python",
   "pygments_lexer": "ipython2",
   "version": "2.7.12"
  }
 },
 "nbformat": 4,
 "nbformat_minor": 1
}
